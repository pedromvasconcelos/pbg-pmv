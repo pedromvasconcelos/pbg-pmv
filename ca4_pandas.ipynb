{
 "cells": [
  {
   "cell_type": "markdown",
   "metadata": {},
   "source": [
    "# This notebook was created for CA4 of B8IT105\n",
    "\n",
    "Both csv used for this CA were downloaded from Kaggle's \"Uncover Covid-19 Challange\"\n",
    "https://www.kaggle.com/roche-data-science-coalition/uncover/metadata\n",
    "\n",
    "I'm going to use pandas library to do an analysis of covid data in Ireland and Portugal, aiming to compare number of cases with mobility data.\n",
    "\n",
    "The two csv files I'm going to use are:\n",
    "-johns-hopkins-covid-19-daily-dashboard-cases-over-time.csv (contains covid19 data over time)\n",
    "-regional-mobility.csv (mobility data provided from google)"
   ]
  },
  {
   "cell_type": "code",
   "execution_count": 1,
   "metadata": {},
   "outputs": [
    {
     "name": "stdout",
     "output_type": "stream",
     "text": [
      "Requirement already satisfied: plotly_express in c:\\users\\pmesquit\\anaconda3\\lib\\site-packages (0.4.1)\n",
      "Requirement already satisfied: scipy>=0.18 in c:\\users\\pmesquit\\anaconda3\\lib\\site-packages (from plotly_express) (1.4.1)\n",
      "Requirement already satisfied: numpy>=1.11 in c:\\users\\pmesquit\\anaconda3\\lib\\site-packages (from plotly_express) (1.18.1)\n",
      "Requirement already satisfied: statsmodels>=0.9.0 in c:\\users\\pmesquit\\anaconda3\\lib\\site-packages (from plotly_express) (0.11.0)\n",
      "Requirement already satisfied: pandas>=0.20.0 in c:\\users\\pmesquit\\anaconda3\\lib\\site-packages (from plotly_express) (1.0.1)\n",
      "Requirement already satisfied: plotly>=4.1.0 in c:\\users\\pmesquit\\anaconda3\\lib\\site-packages (from plotly_express) (4.7.1)\n",
      "Requirement already satisfied: patsy>=0.5 in c:\\users\\pmesquit\\anaconda3\\lib\\site-packages (from plotly_express) (0.5.1)\n",
      "Requirement already satisfied: pytz>=2017.2 in c:\\users\\pmesquit\\anaconda3\\lib\\site-packages (from pandas>=0.20.0->plotly_express) (2019.3)\n",
      "Requirement already satisfied: python-dateutil>=2.6.1 in c:\\users\\pmesquit\\anaconda3\\lib\\site-packages (from pandas>=0.20.0->plotly_express) (2.8.1)\n",
      "Requirement already satisfied: retrying>=1.3.3 in c:\\users\\pmesquit\\anaconda3\\lib\\site-packages (from plotly>=4.1.0->plotly_express) (1.3.3)\n",
      "Requirement already satisfied: six in c:\\users\\pmesquit\\anaconda3\\lib\\site-packages (from plotly>=4.1.0->plotly_express) (1.14.0)\n"
     ]
    }
   ],
   "source": [
    "!pip install plotly_express"
   ]
  },
  {
   "cell_type": "markdown",
   "metadata": {},
   "source": [
    "First I'm going to start by importing the necessary libraries"
   ]
  },
  {
   "cell_type": "code",
   "execution_count": 2,
   "metadata": {},
   "outputs": [],
   "source": [
    "import matplotlib.pyplot as plt\n",
    "import numpy as np\n",
    "import pandas as pd\n",
    "import plotly.express as px"
   ]
  },
  {
   "cell_type": "code",
   "execution_count": 3,
   "metadata": {},
   "outputs": [],
   "source": [
    "#To strat I'm importing the csv files into data frames\n",
    "cases = pd.read_csv('johns-hopkins-covid-19-daily-dashboard-cases-over-time.csv')\n",
    "mobility = pd.read_csv('regional-mobility.csv')"
   ]
  },
  {
   "cell_type": "code",
   "execution_count": 4,
   "metadata": {},
   "outputs": [
    {
     "name": "stdout",
     "output_type": "stream",
     "text": [
      "country_region          object\n",
      "last_update             object\n",
      "confirmed                int64\n",
      "deaths                   int64\n",
      "recovered              float64\n",
      "active                 float64\n",
      "delta_confirmed          int64\n",
      "delta_recovered        float64\n",
      "incident_rate          float64\n",
      "people_tested          float64\n",
      "people_hospitalized    float64\n",
      "province_state          object\n",
      "fips                   float64\n",
      "uid                      int64\n",
      "iso3                    object\n",
      "report_date_string      object\n",
      "dtype: object\n",
      "country                  object\n",
      "region                   object\n",
      "date                     object\n",
      "retail                  float64\n",
      "grocery_and_pharmacy    float64\n",
      "parks                   float64\n",
      "transit_stations        float64\n",
      "workplaces              float64\n",
      "residential             float64\n",
      "dtype: object\n"
     ]
    }
   ],
   "source": [
    "#Next functions were used to analyse the data tables\n",
    "print(cases.dtypes)\n",
    "print(mobility.dtypes)"
   ]
  },
  {
   "cell_type": "markdown",
   "metadata": {},
   "source": [
    "Let«s look first at the Cases dataset"
   ]
  },
  {
   "cell_type": "code",
   "execution_count": 5,
   "metadata": {},
   "outputs": [
    {
     "data": {
      "text/plain": [
       "Index(['country_region', 'last_update', 'confirmed', 'deaths', 'recovered',\n",
       "       'active', 'delta_confirmed', 'delta_recovered', 'incident_rate',\n",
       "       'people_tested', 'people_hospitalized', 'province_state', 'fips', 'uid',\n",
       "       'iso3', 'report_date_string'],\n",
       "      dtype='object')"
      ]
     },
     "execution_count": 5,
     "metadata": {},
     "output_type": "execute_result"
    }
   ],
   "source": [
    "cases.columns"
   ]
  },
  {
   "cell_type": "code",
   "execution_count": 6,
   "metadata": {},
   "outputs": [
    {
     "data": {
      "text/html": [
       "<div>\n",
       "<style scoped>\n",
       "    .dataframe tbody tr th:only-of-type {\n",
       "        vertical-align: middle;\n",
       "    }\n",
       "\n",
       "    .dataframe tbody tr th {\n",
       "        vertical-align: top;\n",
       "    }\n",
       "\n",
       "    .dataframe thead th {\n",
       "        text-align: right;\n",
       "    }\n",
       "</style>\n",
       "<table border=\"1\" class=\"dataframe\">\n",
       "  <thead>\n",
       "    <tr style=\"text-align: right;\">\n",
       "      <th></th>\n",
       "      <th>country_region</th>\n",
       "      <th>last_update</th>\n",
       "      <th>confirmed</th>\n",
       "      <th>deaths</th>\n",
       "      <th>recovered</th>\n",
       "      <th>active</th>\n",
       "      <th>delta_confirmed</th>\n",
       "      <th>delta_recovered</th>\n",
       "      <th>incident_rate</th>\n",
       "      <th>people_tested</th>\n",
       "      <th>people_hospitalized</th>\n",
       "      <th>province_state</th>\n",
       "      <th>fips</th>\n",
       "      <th>uid</th>\n",
       "      <th>iso3</th>\n",
       "      <th>report_date_string</th>\n",
       "    </tr>\n",
       "  </thead>\n",
       "  <tbody>\n",
       "    <tr>\n",
       "      <th>0</th>\n",
       "      <td>Afghanistan</td>\n",
       "      <td>2020-01-22</td>\n",
       "      <td>0</td>\n",
       "      <td>0</td>\n",
       "      <td>NaN</td>\n",
       "      <td>NaN</td>\n",
       "      <td>0</td>\n",
       "      <td>NaN</td>\n",
       "      <td>0.0</td>\n",
       "      <td>NaN</td>\n",
       "      <td>NaN</td>\n",
       "      <td>NaN</td>\n",
       "      <td>NaN</td>\n",
       "      <td>4</td>\n",
       "      <td>AFG</td>\n",
       "      <td>2020-01-22</td>\n",
       "    </tr>\n",
       "    <tr>\n",
       "      <th>1</th>\n",
       "      <td>Afghanistan</td>\n",
       "      <td>2020-01-23</td>\n",
       "      <td>0</td>\n",
       "      <td>0</td>\n",
       "      <td>NaN</td>\n",
       "      <td>NaN</td>\n",
       "      <td>0</td>\n",
       "      <td>NaN</td>\n",
       "      <td>0.0</td>\n",
       "      <td>NaN</td>\n",
       "      <td>NaN</td>\n",
       "      <td>NaN</td>\n",
       "      <td>NaN</td>\n",
       "      <td>4</td>\n",
       "      <td>AFG</td>\n",
       "      <td>2020-01-23</td>\n",
       "    </tr>\n",
       "    <tr>\n",
       "      <th>2</th>\n",
       "      <td>Afghanistan</td>\n",
       "      <td>2020-01-24</td>\n",
       "      <td>0</td>\n",
       "      <td>0</td>\n",
       "      <td>NaN</td>\n",
       "      <td>NaN</td>\n",
       "      <td>0</td>\n",
       "      <td>NaN</td>\n",
       "      <td>0.0</td>\n",
       "      <td>NaN</td>\n",
       "      <td>NaN</td>\n",
       "      <td>NaN</td>\n",
       "      <td>NaN</td>\n",
       "      <td>4</td>\n",
       "      <td>AFG</td>\n",
       "      <td>2020-01-24</td>\n",
       "    </tr>\n",
       "    <tr>\n",
       "      <th>3</th>\n",
       "      <td>Afghanistan</td>\n",
       "      <td>2020-01-25</td>\n",
       "      <td>0</td>\n",
       "      <td>0</td>\n",
       "      <td>NaN</td>\n",
       "      <td>NaN</td>\n",
       "      <td>0</td>\n",
       "      <td>NaN</td>\n",
       "      <td>0.0</td>\n",
       "      <td>NaN</td>\n",
       "      <td>NaN</td>\n",
       "      <td>NaN</td>\n",
       "      <td>NaN</td>\n",
       "      <td>4</td>\n",
       "      <td>AFG</td>\n",
       "      <td>2020-01-25</td>\n",
       "    </tr>\n",
       "    <tr>\n",
       "      <th>4</th>\n",
       "      <td>Afghanistan</td>\n",
       "      <td>2020-01-26</td>\n",
       "      <td>0</td>\n",
       "      <td>0</td>\n",
       "      <td>NaN</td>\n",
       "      <td>NaN</td>\n",
       "      <td>0</td>\n",
       "      <td>NaN</td>\n",
       "      <td>0.0</td>\n",
       "      <td>NaN</td>\n",
       "      <td>NaN</td>\n",
       "      <td>NaN</td>\n",
       "      <td>NaN</td>\n",
       "      <td>4</td>\n",
       "      <td>AFG</td>\n",
       "      <td>2020-01-26</td>\n",
       "    </tr>\n",
       "  </tbody>\n",
       "</table>\n",
       "</div>"
      ],
      "text/plain": [
       "  country_region last_update  confirmed  deaths  recovered  active  \\\n",
       "0    Afghanistan  2020-01-22          0       0        NaN     NaN   \n",
       "1    Afghanistan  2020-01-23          0       0        NaN     NaN   \n",
       "2    Afghanistan  2020-01-24          0       0        NaN     NaN   \n",
       "3    Afghanistan  2020-01-25          0       0        NaN     NaN   \n",
       "4    Afghanistan  2020-01-26          0       0        NaN     NaN   \n",
       "\n",
       "   delta_confirmed  delta_recovered  incident_rate  people_tested  \\\n",
       "0                0              NaN            0.0            NaN   \n",
       "1                0              NaN            0.0            NaN   \n",
       "2                0              NaN            0.0            NaN   \n",
       "3                0              NaN            0.0            NaN   \n",
       "4                0              NaN            0.0            NaN   \n",
       "\n",
       "   people_hospitalized province_state  fips  uid iso3 report_date_string  \n",
       "0                  NaN            NaN   NaN    4  AFG         2020-01-22  \n",
       "1                  NaN            NaN   NaN    4  AFG         2020-01-23  \n",
       "2                  NaN            NaN   NaN    4  AFG         2020-01-24  \n",
       "3                  NaN            NaN   NaN    4  AFG         2020-01-25  \n",
       "4                  NaN            NaN   NaN    4  AFG         2020-01-26  "
      ]
     },
     "execution_count": 6,
     "metadata": {},
     "output_type": "execute_result"
    }
   ],
   "source": [
    "cases.head()"
   ]
  },
  {
   "cell_type": "code",
   "execution_count": 7,
   "metadata": {},
   "outputs": [
    {
     "data": {
      "text/plain": [
       "'2020-04-28'"
      ]
     },
     "execution_count": 7,
     "metadata": {},
     "output_type": "execute_result"
    }
   ],
   "source": [
    "#Let's first have a look at the most recent values\n",
    "#dropping columns with no values\n",
    "cases = cases.dropna(axis='columns')\n",
    "#Obtaining the max date from our data frame\n",
    "max_date = cases['last_update'].max()\n",
    "max_date"
   ]
  },
  {
   "cell_type": "code",
   "execution_count": 8,
   "metadata": {},
   "outputs": [
    {
     "data": {
      "text/plain": [
       "0        False\n",
       "1        False\n",
       "2        False\n",
       "3        False\n",
       "4        False\n",
       "         ...  \n",
       "23809    False\n",
       "23810    False\n",
       "23811    False\n",
       "23812    False\n",
       "23813     True\n",
       "Name: last_update, Length: 23814, dtype: bool"
      ]
     },
     "execution_count": 8,
     "metadata": {},
     "output_type": "execute_result"
    }
   ],
   "source": [
    "#creating a boolean variable to return the rows with the max date\n",
    "is_latest_case = cases['last_update'] == cases['last_update'].max()\n",
    "is_latest_case"
   ]
  },
  {
   "cell_type": "code",
   "execution_count": 9,
   "metadata": {},
   "outputs": [
    {
     "data": {
      "text/html": [
       "<div>\n",
       "<style scoped>\n",
       "    .dataframe tbody tr th:only-of-type {\n",
       "        vertical-align: middle;\n",
       "    }\n",
       "\n",
       "    .dataframe tbody tr th {\n",
       "        vertical-align: top;\n",
       "    }\n",
       "\n",
       "    .dataframe thead th {\n",
       "        text-align: right;\n",
       "    }\n",
       "</style>\n",
       "<table border=\"1\" class=\"dataframe\">\n",
       "  <thead>\n",
       "    <tr style=\"text-align: right;\">\n",
       "      <th></th>\n",
       "      <th>country_region</th>\n",
       "      <th>last_update</th>\n",
       "      <th>confirmed</th>\n",
       "      <th>deaths</th>\n",
       "      <th>delta_confirmed</th>\n",
       "    </tr>\n",
       "  </thead>\n",
       "  <tbody>\n",
       "    <tr>\n",
       "      <th>97</th>\n",
       "      <td>Afghanistan</td>\n",
       "      <td>2020-04-28</td>\n",
       "      <td>1828</td>\n",
       "      <td>58</td>\n",
       "      <td>125</td>\n",
       "    </tr>\n",
       "    <tr>\n",
       "      <th>195</th>\n",
       "      <td>Albania</td>\n",
       "      <td>2020-04-28</td>\n",
       "      <td>750</td>\n",
       "      <td>30</td>\n",
       "      <td>14</td>\n",
       "    </tr>\n",
       "    <tr>\n",
       "      <th>293</th>\n",
       "      <td>Algeria</td>\n",
       "      <td>2020-04-28</td>\n",
       "      <td>3649</td>\n",
       "      <td>437</td>\n",
       "      <td>132</td>\n",
       "    </tr>\n",
       "    <tr>\n",
       "      <th>391</th>\n",
       "      <td>Andorra</td>\n",
       "      <td>2020-04-28</td>\n",
       "      <td>743</td>\n",
       "      <td>41</td>\n",
       "      <td>0</td>\n",
       "    </tr>\n",
       "    <tr>\n",
       "      <th>489</th>\n",
       "      <td>Angola</td>\n",
       "      <td>2020-04-28</td>\n",
       "      <td>27</td>\n",
       "      <td>2</td>\n",
       "      <td>0</td>\n",
       "    </tr>\n",
       "    <tr>\n",
       "      <th>...</th>\n",
       "      <td>...</td>\n",
       "      <td>...</td>\n",
       "      <td>...</td>\n",
       "      <td>...</td>\n",
       "      <td>...</td>\n",
       "    </tr>\n",
       "    <tr>\n",
       "      <th>23421</th>\n",
       "      <td>US</td>\n",
       "      <td>2020-04-28</td>\n",
       "      <td>14339</td>\n",
       "      <td>492</td>\n",
       "      <td>801</td>\n",
       "    </tr>\n",
       "    <tr>\n",
       "      <th>23519</th>\n",
       "      <td>US</td>\n",
       "      <td>2020-04-28</td>\n",
       "      <td>13842</td>\n",
       "      <td>786</td>\n",
       "      <td>156</td>\n",
       "    </tr>\n",
       "    <tr>\n",
       "      <th>23617</th>\n",
       "      <td>US</td>\n",
       "      <td>2020-04-28</td>\n",
       "      <td>1095</td>\n",
       "      <td>38</td>\n",
       "      <td>32</td>\n",
       "    </tr>\n",
       "    <tr>\n",
       "      <th>23715</th>\n",
       "      <td>US</td>\n",
       "      <td>2020-04-28</td>\n",
       "      <td>6289</td>\n",
       "      <td>300</td>\n",
       "      <td>208</td>\n",
       "    </tr>\n",
       "    <tr>\n",
       "      <th>23813</th>\n",
       "      <td>US</td>\n",
       "      <td>2020-04-28</td>\n",
       "      <td>536</td>\n",
       "      <td>7</td>\n",
       "      <td>16</td>\n",
       "    </tr>\n",
       "  </tbody>\n",
       "</table>\n",
       "<p>243 rows × 5 columns</p>\n",
       "</div>"
      ],
      "text/plain": [
       "      country_region last_update  confirmed  deaths  delta_confirmed\n",
       "97       Afghanistan  2020-04-28       1828      58              125\n",
       "195          Albania  2020-04-28        750      30               14\n",
       "293          Algeria  2020-04-28       3649     437              132\n",
       "391          Andorra  2020-04-28        743      41                0\n",
       "489           Angola  2020-04-28         27       2                0\n",
       "...              ...         ...        ...     ...              ...\n",
       "23421             US  2020-04-28      14339     492              801\n",
       "23519             US  2020-04-28      13842     786              156\n",
       "23617             US  2020-04-28       1095      38               32\n",
       "23715             US  2020-04-28       6289     300              208\n",
       "23813             US  2020-04-28        536       7               16\n",
       "\n",
       "[243 rows x 5 columns]"
      ]
     },
     "execution_count": 9,
     "metadata": {},
     "output_type": "execute_result"
    }
   ],
   "source": [
    "#filtering our dataframe with the most recent data\n",
    "latest_cases = cases[is_latest_case]\n",
    "#there are contries with more than a single uid for different regions, in order to present data by country we will sum data grouping by country name\n",
    "latest_cases = latest_cases.drop(['report_date_string','uid'],axis=1)\n",
    "latest_cases"
   ]
  },
  {
   "cell_type": "code",
   "execution_count": 10,
   "metadata": {},
   "outputs": [
    {
     "data": {
      "text/html": [
       "<div>\n",
       "<style scoped>\n",
       "    .dataframe tbody tr th:only-of-type {\n",
       "        vertical-align: middle;\n",
       "    }\n",
       "\n",
       "    .dataframe tbody tr th {\n",
       "        vertical-align: top;\n",
       "    }\n",
       "\n",
       "    .dataframe thead th {\n",
       "        text-align: right;\n",
       "    }\n",
       "</style>\n",
       "<table border=\"1\" class=\"dataframe\">\n",
       "  <thead>\n",
       "    <tr style=\"text-align: right;\">\n",
       "      <th></th>\n",
       "      <th>confirmed</th>\n",
       "      <th>deaths</th>\n",
       "      <th>delta_confirmed</th>\n",
       "      <th>latest_date</th>\n",
       "    </tr>\n",
       "    <tr>\n",
       "      <th>country</th>\n",
       "      <th></th>\n",
       "      <th></th>\n",
       "      <th></th>\n",
       "      <th></th>\n",
       "    </tr>\n",
       "  </thead>\n",
       "  <tbody>\n",
       "    <tr>\n",
       "      <th>Afghanistan</th>\n",
       "      <td>1828</td>\n",
       "      <td>58</td>\n",
       "      <td>125</td>\n",
       "      <td>2020-04-28</td>\n",
       "    </tr>\n",
       "    <tr>\n",
       "      <th>Albania</th>\n",
       "      <td>750</td>\n",
       "      <td>30</td>\n",
       "      <td>14</td>\n",
       "      <td>2020-04-28</td>\n",
       "    </tr>\n",
       "    <tr>\n",
       "      <th>Algeria</th>\n",
       "      <td>3649</td>\n",
       "      <td>437</td>\n",
       "      <td>132</td>\n",
       "      <td>2020-04-28</td>\n",
       "    </tr>\n",
       "    <tr>\n",
       "      <th>Andorra</th>\n",
       "      <td>743</td>\n",
       "      <td>41</td>\n",
       "      <td>0</td>\n",
       "      <td>2020-04-28</td>\n",
       "    </tr>\n",
       "    <tr>\n",
       "      <th>Angola</th>\n",
       "      <td>27</td>\n",
       "      <td>2</td>\n",
       "      <td>0</td>\n",
       "      <td>2020-04-28</td>\n",
       "    </tr>\n",
       "    <tr>\n",
       "      <th>...</th>\n",
       "      <td>...</td>\n",
       "      <td>...</td>\n",
       "      <td>...</td>\n",
       "      <td>...</td>\n",
       "    </tr>\n",
       "    <tr>\n",
       "      <th>West Bank and Gaza</th>\n",
       "      <td>343</td>\n",
       "      <td>2</td>\n",
       "      <td>1</td>\n",
       "      <td>2020-04-28</td>\n",
       "    </tr>\n",
       "    <tr>\n",
       "      <th>Western Sahara</th>\n",
       "      <td>6</td>\n",
       "      <td>0</td>\n",
       "      <td>0</td>\n",
       "      <td>2020-04-28</td>\n",
       "    </tr>\n",
       "    <tr>\n",
       "      <th>Yemen</th>\n",
       "      <td>1</td>\n",
       "      <td>0</td>\n",
       "      <td>0</td>\n",
       "      <td>2020-04-28</td>\n",
       "    </tr>\n",
       "    <tr>\n",
       "      <th>Zambia</th>\n",
       "      <td>95</td>\n",
       "      <td>3</td>\n",
       "      <td>7</td>\n",
       "      <td>2020-04-28</td>\n",
       "    </tr>\n",
       "    <tr>\n",
       "      <th>Zimbabwe</th>\n",
       "      <td>32</td>\n",
       "      <td>4</td>\n",
       "      <td>0</td>\n",
       "      <td>2020-04-28</td>\n",
       "    </tr>\n",
       "  </tbody>\n",
       "</table>\n",
       "<p>185 rows × 4 columns</p>\n",
       "</div>"
      ],
      "text/plain": [
       "                    confirmed  deaths  delta_confirmed latest_date\n",
       "country                                                           \n",
       "Afghanistan              1828      58              125  2020-04-28\n",
       "Albania                   750      30               14  2020-04-28\n",
       "Algeria                  3649     437              132  2020-04-28\n",
       "Andorra                   743      41                0  2020-04-28\n",
       "Angola                     27       2                0  2020-04-28\n",
       "...                       ...     ...              ...         ...\n",
       "West Bank and Gaza        343       2                1  2020-04-28\n",
       "Western Sahara              6       0                0  2020-04-28\n",
       "Yemen                       1       0                0  2020-04-28\n",
       "Zambia                     95       3                7  2020-04-28\n",
       "Zimbabwe                   32       4                0  2020-04-28\n",
       "\n",
       "[185 rows x 4 columns]"
      ]
     },
     "execution_count": 10,
     "metadata": {},
     "output_type": "execute_result"
    }
   ],
   "source": [
    "latest_cases.rename(columns={'country_region': 'country'}, inplace = True)\n",
    "latest_cases.loc[latest_cases['country'] == \"US\", \"country\"] = \"USA\"\n",
    "latest_cases = latest_cases.groupby('country').sum()\n",
    "latest_cases['latest_date'] = max_date\n",
    "latest_cases #the groupby function transforms as well the column country_region as the index of the data frame"
   ]
  },
  {
   "cell_type": "code",
   "execution_count": 11,
   "metadata": {},
   "outputs": [
    {
     "data": {
      "text/html": [
       "<style  type=\"text/css\" >\n",
       "    #T_836ceaf4_9dd5_11ea_a6cf_0050b66a8127row0_col0 {\n",
       "            background-color:  #08306b;\n",
       "            color:  #f1f1f1;\n",
       "        }    #T_836ceaf4_9dd5_11ea_a6cf_0050b66a8127row0_col1 {\n",
       "            background-color:  #67000d;\n",
       "            color:  #f1f1f1;\n",
       "        }    #T_836ceaf4_9dd5_11ea_a6cf_0050b66a8127row0_col2 {\n",
       "            background-color:  #3f007d;\n",
       "            color:  #f1f1f1;\n",
       "        }    #T_836ceaf4_9dd5_11ea_a6cf_0050b66a8127row0_col4 {\n",
       "            background-color:  #fee392;\n",
       "            color:  #000000;\n",
       "        }    #T_836ceaf4_9dd5_11ea_a6cf_0050b66a8127row1_col0 {\n",
       "            background-color:  #e0ecf8;\n",
       "            color:  #000000;\n",
       "        }    #T_836ceaf4_9dd5_11ea_a6cf_0050b66a8127row1_col1 {\n",
       "            background-color:  #fdc9b3;\n",
       "            color:  #000000;\n",
       "        }    #T_836ceaf4_9dd5_11ea_a6cf_0050b66a8127row1_col2 {\n",
       "            background-color:  #f5f4f9;\n",
       "            color:  #000000;\n",
       "        }    #T_836ceaf4_9dd5_11ea_a6cf_0050b66a8127row1_col4 {\n",
       "            background-color:  #fead3a;\n",
       "            color:  #000000;\n",
       "        }    #T_836ceaf4_9dd5_11ea_a6cf_0050b66a8127row2_col0 {\n",
       "            background-color:  #e3eef9;\n",
       "            color:  #000000;\n",
       "        }    #T_836ceaf4_9dd5_11ea_a6cf_0050b66a8127row2_col1 {\n",
       "            background-color:  #fcbfa7;\n",
       "            color:  #000000;\n",
       "        }    #T_836ceaf4_9dd5_11ea_a6cf_0050b66a8127row2_col2 {\n",
       "            background-color:  #f7f5fa;\n",
       "            color:  #000000;\n",
       "        }    #T_836ceaf4_9dd5_11ea_a6cf_0050b66a8127row2_col4 {\n",
       "            background-color:  #f17c1a;\n",
       "            color:  #000000;\n",
       "        }    #T_836ceaf4_9dd5_11ea_a6cf_0050b66a8127row3_col0 {\n",
       "            background-color:  #e7f0fa;\n",
       "            color:  #000000;\n",
       "        }    #T_836ceaf4_9dd5_11ea_a6cf_0050b66a8127row3_col1 {\n",
       "            background-color:  #fdcab5;\n",
       "            color:  #000000;\n",
       "        }    #T_836ceaf4_9dd5_11ea_a6cf_0050b66a8127row3_col2 {\n",
       "            background-color:  #f5f3f8;\n",
       "            color:  #000000;\n",
       "        }    #T_836ceaf4_9dd5_11ea_a6cf_0050b66a8127row3_col4 {\n",
       "            background-color:  #ee7617;\n",
       "            color:  #000000;\n",
       "        }    #T_836ceaf4_9dd5_11ea_a6cf_0050b66a8127row4_col0 {\n",
       "            background-color:  #e7f1fa;\n",
       "            color:  #000000;\n",
       "        }    #T_836ceaf4_9dd5_11ea_a6cf_0050b66a8127row4_col1 {\n",
       "            background-color:  #fdcebb;\n",
       "            color:  #000000;\n",
       "        }    #T_836ceaf4_9dd5_11ea_a6cf_0050b66a8127row4_col2 {\n",
       "            background-color:  #f3f1f7;\n",
       "            color:  #000000;\n",
       "        }    #T_836ceaf4_9dd5_11ea_a6cf_0050b66a8127row4_col4 {\n",
       "            background-color:  #f27f1b;\n",
       "            color:  #000000;\n",
       "        }    #T_836ceaf4_9dd5_11ea_a6cf_0050b66a8127row5_col0 {\n",
       "            background-color:  #e7f1fa;\n",
       "            color:  #000000;\n",
       "        }    #T_836ceaf4_9dd5_11ea_a6cf_0050b66a8127row5_col1 {\n",
       "            background-color:  #ffece4;\n",
       "            color:  #000000;\n",
       "        }    #T_836ceaf4_9dd5_11ea_a6cf_0050b66a8127row5_col2 {\n",
       "            background-color:  #f9f7fb;\n",
       "            color:  #000000;\n",
       "        }    #T_836ceaf4_9dd5_11ea_a6cf_0050b66a8127row5_col4 {\n",
       "            background-color:  #fff0ad;\n",
       "            color:  #000000;\n",
       "        }    #T_836ceaf4_9dd5_11ea_a6cf_0050b66a8127row6_col0 {\n",
       "            background-color:  #ecf4fb;\n",
       "            color:  #000000;\n",
       "        }    #T_836ceaf4_9dd5_11ea_a6cf_0050b66a8127row6_col1 {\n",
       "            background-color:  #fff1ea;\n",
       "            color:  #000000;\n",
       "        }    #T_836ceaf4_9dd5_11ea_a6cf_0050b66a8127row6_col2 {\n",
       "            background-color:  #f6f5f9;\n",
       "            color:  #000000;\n",
       "        }    #T_836ceaf4_9dd5_11ea_a6cf_0050b66a8127row6_col4 {\n",
       "            background-color:  #fff8c1;\n",
       "            color:  #000000;\n",
       "        }    #T_836ceaf4_9dd5_11ea_a6cf_0050b66a8127row7_col0 {\n",
       "            background-color:  #eef5fc;\n",
       "            color:  #000000;\n",
       "        }    #T_836ceaf4_9dd5_11ea_a6cf_0050b66a8127row7_col1 {\n",
       "            background-color:  #fff4ef;\n",
       "            color:  #000000;\n",
       "        }    #T_836ceaf4_9dd5_11ea_a6cf_0050b66a8127row7_col2 {\n",
       "            background-color:  #edebf4;\n",
       "            color:  #000000;\n",
       "        }    #T_836ceaf4_9dd5_11ea_a6cf_0050b66a8127row7_col4 {\n",
       "            background-color:  #fffcd8;\n",
       "            color:  #000000;\n",
       "        }    #T_836ceaf4_9dd5_11ea_a6cf_0050b66a8127row8_col0 {\n",
       "            background-color:  #eef5fc;\n",
       "            color:  #000000;\n",
       "        }    #T_836ceaf4_9dd5_11ea_a6cf_0050b66a8127row8_col1 {\n",
       "            background-color:  #ffede5;\n",
       "            color:  #000000;\n",
       "        }    #T_836ceaf4_9dd5_11ea_a6cf_0050b66a8127row8_col2 {\n",
       "            background-color:  #f9f8fb;\n",
       "            color:  #000000;\n",
       "        }    #T_836ceaf4_9dd5_11ea_a6cf_0050b66a8127row8_col4 {\n",
       "            background-color:  #fedd84;\n",
       "            color:  #000000;\n",
       "        }    #T_836ceaf4_9dd5_11ea_a6cf_0050b66a8127row9_col0 {\n",
       "            background-color:  #eff6fc;\n",
       "            color:  #000000;\n",
       "        }    #T_836ceaf4_9dd5_11ea_a6cf_0050b66a8127row9_col1 {\n",
       "            background-color:  #ffeee7;\n",
       "            color:  #000000;\n",
       "        }    #T_836ceaf4_9dd5_11ea_a6cf_0050b66a8127row9_col2 {\n",
       "            background-color:  #fbfafc;\n",
       "            color:  #000000;\n",
       "        }    #T_836ceaf4_9dd5_11ea_a6cf_0050b66a8127row9_col4 {\n",
       "            background-color:  #fee595;\n",
       "            color:  #000000;\n",
       "        }    #T_836ceaf4_9dd5_11ea_a6cf_0050b66a8127row10_col0 {\n",
       "            background-color:  #f0f6fd;\n",
       "            color:  #000000;\n",
       "        }    #T_836ceaf4_9dd5_11ea_a6cf_0050b66a8127row10_col1 {\n",
       "            background-color:  #ffeee6;\n",
       "            color:  #000000;\n",
       "        }    #T_836ceaf4_9dd5_11ea_a6cf_0050b66a8127row10_col2 {\n",
       "            background-color:  #efedf5;\n",
       "            color:  #000000;\n",
       "        }    #T_836ceaf4_9dd5_11ea_a6cf_0050b66a8127row10_col4 {\n",
       "            background-color:  #fed778;\n",
       "            color:  #000000;\n",
       "        }    #T_836ceaf4_9dd5_11ea_a6cf_0050b66a8127row11_col0 {\n",
       "            background-color:  #f2f8fd;\n",
       "            color:  #000000;\n",
       "        }    #T_836ceaf4_9dd5_11ea_a6cf_0050b66a8127row11_col1 {\n",
       "            background-color:  #fff1ea;\n",
       "            color:  #000000;\n",
       "        }    #T_836ceaf4_9dd5_11ea_a6cf_0050b66a8127row11_col2 {\n",
       "            background-color:  #f8f7fa;\n",
       "            color:  #000000;\n",
       "        }    #T_836ceaf4_9dd5_11ea_a6cf_0050b66a8127row11_col4 {\n",
       "            background-color:  #fee390;\n",
       "            color:  #000000;\n",
       "        }    #T_836ceaf4_9dd5_11ea_a6cf_0050b66a8127row12_col0 {\n",
       "            background-color:  #f3f8fe;\n",
       "            color:  #000000;\n",
       "        }    #T_836ceaf4_9dd5_11ea_a6cf_0050b66a8127row12_col1 {\n",
       "            background-color:  #feeae1;\n",
       "            color:  #000000;\n",
       "        }    #T_836ceaf4_9dd5_11ea_a6cf_0050b66a8127row12_col2 {\n",
       "            background-color:  #faf9fc;\n",
       "            color:  #000000;\n",
       "        }    #T_836ceaf4_9dd5_11ea_a6cf_0050b66a8127row12_col4 {\n",
       "            background-color:  #e0630d;\n",
       "            color:  #000000;\n",
       "        }    #T_836ceaf4_9dd5_11ea_a6cf_0050b66a8127row13_col0 {\n",
       "            background-color:  #f4f9fe;\n",
       "            color:  #000000;\n",
       "        }    #T_836ceaf4_9dd5_11ea_a6cf_0050b66a8127row13_col1 {\n",
       "            background-color:  #ffeee7;\n",
       "            color:  #000000;\n",
       "        }    #T_836ceaf4_9dd5_11ea_a6cf_0050b66a8127row13_col2 {\n",
       "            background-color:  #fbfafc;\n",
       "            color:  #000000;\n",
       "        }    #T_836ceaf4_9dd5_11ea_a6cf_0050b66a8127row13_col4 {\n",
       "            background-color:  #fc9427;\n",
       "            color:  #000000;\n",
       "        }    #T_836ceaf4_9dd5_11ea_a6cf_0050b66a8127row14_col0 {\n",
       "            background-color:  #f5f9fe;\n",
       "            color:  #000000;\n",
       "        }    #T_836ceaf4_9dd5_11ea_a6cf_0050b66a8127row14_col1 {\n",
       "            background-color:  #fff4ee;\n",
       "            color:  #000000;\n",
       "        }    #T_836ceaf4_9dd5_11ea_a6cf_0050b66a8127row14_col2 {\n",
       "            background-color:  #f8f6fa;\n",
       "            color:  #000000;\n",
       "        }    #T_836ceaf4_9dd5_11ea_a6cf_0050b66a8127row14_col4 {\n",
       "            background-color:  #fff5b8;\n",
       "            color:  #000000;\n",
       "        }    #T_836ceaf4_9dd5_11ea_a6cf_0050b66a8127row15_col0 {\n",
       "            background-color:  #f5f9fe;\n",
       "            color:  #000000;\n",
       "        }    #T_836ceaf4_9dd5_11ea_a6cf_0050b66a8127row15_col1 {\n",
       "            background-color:  #fff4ef;\n",
       "            color:  #000000;\n",
       "        }    #T_836ceaf4_9dd5_11ea_a6cf_0050b66a8127row15_col2 {\n",
       "            background-color:  #f6f4f9;\n",
       "            color:  #000000;\n",
       "        }    #T_836ceaf4_9dd5_11ea_a6cf_0050b66a8127row15_col4 {\n",
       "            background-color:  #fff7be;\n",
       "            color:  #000000;\n",
       "        }    #T_836ceaf4_9dd5_11ea_a6cf_0050b66a8127row16_col0 {\n",
       "            background-color:  #f5f9fe;\n",
       "            color:  #000000;\n",
       "        }    #T_836ceaf4_9dd5_11ea_a6cf_0050b66a8127row16_col1 {\n",
       "            background-color:  #fff3ed;\n",
       "            color:  #000000;\n",
       "        }    #T_836ceaf4_9dd5_11ea_a6cf_0050b66a8127row16_col2 {\n",
       "            background-color:  #fbfafc;\n",
       "            color:  #000000;\n",
       "        }    #T_836ceaf4_9dd5_11ea_a6cf_0050b66a8127row16_col4 {\n",
       "            background-color:  #fee390;\n",
       "            color:  #000000;\n",
       "        }    #T_836ceaf4_9dd5_11ea_a6cf_0050b66a8127row17_col0 {\n",
       "            background-color:  #f5f9fe;\n",
       "            color:  #000000;\n",
       "        }    #T_836ceaf4_9dd5_11ea_a6cf_0050b66a8127row17_col1 {\n",
       "            background-color:  #fff4ee;\n",
       "            color:  #000000;\n",
       "        }    #T_836ceaf4_9dd5_11ea_a6cf_0050b66a8127row17_col2 {\n",
       "            background-color:  #fbfafc;\n",
       "            color:  #000000;\n",
       "        }    #T_836ceaf4_9dd5_11ea_a6cf_0050b66a8127row17_col4 {\n",
       "            background-color:  #fff0ad;\n",
       "            color:  #000000;\n",
       "        }    #T_836ceaf4_9dd5_11ea_a6cf_0050b66a8127row18_col0 {\n",
       "            background-color:  #f5f9fe;\n",
       "            color:  #000000;\n",
       "        }    #T_836ceaf4_9dd5_11ea_a6cf_0050b66a8127row18_col1 {\n",
       "            background-color:  #fff4ef;\n",
       "            color:  #000000;\n",
       "        }    #T_836ceaf4_9dd5_11ea_a6cf_0050b66a8127row18_col2 {\n",
       "            background-color:  #f9f8fb;\n",
       "            color:  #000000;\n",
       "        }    #T_836ceaf4_9dd5_11ea_a6cf_0050b66a8127row18_col4 {\n",
       "            background-color:  #fff3b2;\n",
       "            color:  #000000;\n",
       "        }    #T_836ceaf4_9dd5_11ea_a6cf_0050b66a8127row19_col0 {\n",
       "            background-color:  #f5fafe;\n",
       "            color:  #000000;\n",
       "        }    #T_836ceaf4_9dd5_11ea_a6cf_0050b66a8127row19_col1 {\n",
       "            background-color:  #fff5f0;\n",
       "            color:  #000000;\n",
       "        }    #T_836ceaf4_9dd5_11ea_a6cf_0050b66a8127row19_col2 {\n",
       "            background-color:  #f9f7fb;\n",
       "            color:  #000000;\n",
       "        }    #T_836ceaf4_9dd5_11ea_a6cf_0050b66a8127row19_col4 {\n",
       "            background-color:  #fffddb;\n",
       "            color:  #000000;\n",
       "        }    #T_836ceaf4_9dd5_11ea_a6cf_0050b66a8127row20_col0 {\n",
       "            background-color:  #f5fafe;\n",
       "            color:  #000000;\n",
       "        }    #T_836ceaf4_9dd5_11ea_a6cf_0050b66a8127row20_col1 {\n",
       "            background-color:  #fff4ee;\n",
       "            color:  #000000;\n",
       "        }    #T_836ceaf4_9dd5_11ea_a6cf_0050b66a8127row20_col2 {\n",
       "            background-color:  #fbfafc;\n",
       "            color:  #000000;\n",
       "        }    #T_836ceaf4_9dd5_11ea_a6cf_0050b66a8127row20_col4 {\n",
       "            background-color:  #fee390;\n",
       "            color:  #000000;\n",
       "        }    #T_836ceaf4_9dd5_11ea_a6cf_0050b66a8127row21_col0 {\n",
       "            background-color:  #f5fafe;\n",
       "            color:  #000000;\n",
       "        }    #T_836ceaf4_9dd5_11ea_a6cf_0050b66a8127row21_col1 {\n",
       "            background-color:  #fff2eb;\n",
       "            color:  #000000;\n",
       "        }    #T_836ceaf4_9dd5_11ea_a6cf_0050b66a8127row21_col2 {\n",
       "            background-color:  #faf9fc;\n",
       "            color:  #000000;\n",
       "        }    #T_836ceaf4_9dd5_11ea_a6cf_0050b66a8127row21_col4 {\n",
       "            background-color:  #fb9225;\n",
       "            color:  #000000;\n",
       "        }    #T_836ceaf4_9dd5_11ea_a6cf_0050b66a8127row22_col0 {\n",
       "            background-color:  #f5fafe;\n",
       "            color:  #000000;\n",
       "        }    #T_836ceaf4_9dd5_11ea_a6cf_0050b66a8127row22_col1 {\n",
       "            background-color:  #fff3ed;\n",
       "            color:  #000000;\n",
       "        }    #T_836ceaf4_9dd5_11ea_a6cf_0050b66a8127row22_col2 {\n",
       "            background-color:  #f9f7fb;\n",
       "            color:  #000000;\n",
       "        }    #T_836ceaf4_9dd5_11ea_a6cf_0050b66a8127row22_col4 {\n",
       "            background-color:  #feba46;\n",
       "            color:  #000000;\n",
       "        }    #T_836ceaf4_9dd5_11ea_a6cf_0050b66a8127row23_col0 {\n",
       "            background-color:  #f6faff;\n",
       "            color:  #000000;\n",
       "        }    #T_836ceaf4_9dd5_11ea_a6cf_0050b66a8127row23_col1 {\n",
       "            background-color:  #fff5f0;\n",
       "            color:  #000000;\n",
       "        }    #T_836ceaf4_9dd5_11ea_a6cf_0050b66a8127row23_col2 {\n",
       "            background-color:  #fbfafc;\n",
       "            color:  #000000;\n",
       "        }    #T_836ceaf4_9dd5_11ea_a6cf_0050b66a8127row23_col4 {\n",
       "            background-color:  #fffbd3;\n",
       "            color:  #000000;\n",
       "        }    #T_836ceaf4_9dd5_11ea_a6cf_0050b66a8127row24_col0 {\n",
       "            background-color:  #f6faff;\n",
       "            color:  #000000;\n",
       "        }    #T_836ceaf4_9dd5_11ea_a6cf_0050b66a8127row24_col1 {\n",
       "            background-color:  #fff4ef;\n",
       "            color:  #000000;\n",
       "        }    #T_836ceaf4_9dd5_11ea_a6cf_0050b66a8127row24_col2 {\n",
       "            background-color:  #fbfafc;\n",
       "            color:  #000000;\n",
       "        }    #T_836ceaf4_9dd5_11ea_a6cf_0050b66a8127row24_col4 {\n",
       "            background-color:  #fff1b0;\n",
       "            color:  #000000;\n",
       "        }    #T_836ceaf4_9dd5_11ea_a6cf_0050b66a8127row25_col0 {\n",
       "            background-color:  #f6faff;\n",
       "            color:  #000000;\n",
       "        }    #T_836ceaf4_9dd5_11ea_a6cf_0050b66a8127row25_col1 {\n",
       "            background-color:  #fff5f0;\n",
       "            color:  #000000;\n",
       "        }    #T_836ceaf4_9dd5_11ea_a6cf_0050b66a8127row25_col2 {\n",
       "            background-color:  #faf9fc;\n",
       "            color:  #000000;\n",
       "        }    #T_836ceaf4_9dd5_11ea_a6cf_0050b66a8127row25_col4 {\n",
       "            background-color:  #ffffe5;\n",
       "            color:  #000000;\n",
       "        }    #T_836ceaf4_9dd5_11ea_a6cf_0050b66a8127row26_col0 {\n",
       "            background-color:  #f6faff;\n",
       "            color:  #000000;\n",
       "        }    #T_836ceaf4_9dd5_11ea_a6cf_0050b66a8127row26_col1 {\n",
       "            background-color:  #fff5f0;\n",
       "            color:  #000000;\n",
       "        }    #T_836ceaf4_9dd5_11ea_a6cf_0050b66a8127row26_col2 {\n",
       "            background-color:  #faf9fc;\n",
       "            color:  #000000;\n",
       "        }    #T_836ceaf4_9dd5_11ea_a6cf_0050b66a8127row26_col4 {\n",
       "            background-color:  #fff9c7;\n",
       "            color:  #000000;\n",
       "        }    #T_836ceaf4_9dd5_11ea_a6cf_0050b66a8127row27_col0 {\n",
       "            background-color:  #f6faff;\n",
       "            color:  #000000;\n",
       "        }    #T_836ceaf4_9dd5_11ea_a6cf_0050b66a8127row27_col1 {\n",
       "            background-color:  #fff5f0;\n",
       "            color:  #000000;\n",
       "        }    #T_836ceaf4_9dd5_11ea_a6cf_0050b66a8127row27_col2 {\n",
       "            background-color:  #faf9fc;\n",
       "            color:  #000000;\n",
       "        }    #T_836ceaf4_9dd5_11ea_a6cf_0050b66a8127row27_col4 {\n",
       "            background-color:  #fffbd2;\n",
       "            color:  #000000;\n",
       "        }    #T_836ceaf4_9dd5_11ea_a6cf_0050b66a8127row28_col0 {\n",
       "            background-color:  #f6faff;\n",
       "            color:  #000000;\n",
       "        }    #T_836ceaf4_9dd5_11ea_a6cf_0050b66a8127row28_col1 {\n",
       "            background-color:  #fff5f0;\n",
       "            color:  #000000;\n",
       "        }    #T_836ceaf4_9dd5_11ea_a6cf_0050b66a8127row28_col2 {\n",
       "            background-color:  #fcfbfd;\n",
       "            color:  #000000;\n",
       "        }    #T_836ceaf4_9dd5_11ea_a6cf_0050b66a8127row28_col4 {\n",
       "            background-color:  #fff7bd;\n",
       "            color:  #000000;\n",
       "        }    #T_836ceaf4_9dd5_11ea_a6cf_0050b66a8127row29_col0 {\n",
       "            background-color:  #f6faff;\n",
       "            color:  #000000;\n",
       "        }    #T_836ceaf4_9dd5_11ea_a6cf_0050b66a8127row29_col1 {\n",
       "            background-color:  #fff4ef;\n",
       "            color:  #000000;\n",
       "        }    #T_836ceaf4_9dd5_11ea_a6cf_0050b66a8127row29_col2 {\n",
       "            background-color:  #fbfafc;\n",
       "            color:  #000000;\n",
       "        }    #T_836ceaf4_9dd5_11ea_a6cf_0050b66a8127row29_col4 {\n",
       "            background-color:  #fee99e;\n",
       "            color:  #000000;\n",
       "        }    #T_836ceaf4_9dd5_11ea_a6cf_0050b66a8127row30_col0 {\n",
       "            background-color:  #f6faff;\n",
       "            color:  #000000;\n",
       "        }    #T_836ceaf4_9dd5_11ea_a6cf_0050b66a8127row30_col1 {\n",
       "            background-color:  #fff5f0;\n",
       "            color:  #000000;\n",
       "        }    #T_836ceaf4_9dd5_11ea_a6cf_0050b66a8127row30_col2 {\n",
       "            background-color:  #faf8fb;\n",
       "            color:  #000000;\n",
       "        }    #T_836ceaf4_9dd5_11ea_a6cf_0050b66a8127row30_col4 {\n",
       "            background-color:  #fffddc;\n",
       "            color:  #000000;\n",
       "        }    #T_836ceaf4_9dd5_11ea_a6cf_0050b66a8127row31_col0 {\n",
       "            background-color:  #f6faff;\n",
       "            color:  #000000;\n",
       "        }    #T_836ceaf4_9dd5_11ea_a6cf_0050b66a8127row31_col1 {\n",
       "            background-color:  #fff5f0;\n",
       "            color:  #000000;\n",
       "        }    #T_836ceaf4_9dd5_11ea_a6cf_0050b66a8127row31_col2 {\n",
       "            background-color:  #faf9fc;\n",
       "            color:  #000000;\n",
       "        }    #T_836ceaf4_9dd5_11ea_a6cf_0050b66a8127row31_col4 {\n",
       "            background-color:  #ffffe5;\n",
       "            color:  #000000;\n",
       "        }    #T_836ceaf4_9dd5_11ea_a6cf_0050b66a8127row32_col0 {\n",
       "            background-color:  #f6faff;\n",
       "            color:  #000000;\n",
       "        }    #T_836ceaf4_9dd5_11ea_a6cf_0050b66a8127row32_col1 {\n",
       "            background-color:  #fff4ef;\n",
       "            color:  #000000;\n",
       "        }    #T_836ceaf4_9dd5_11ea_a6cf_0050b66a8127row32_col2 {\n",
       "            background-color:  #fbfafc;\n",
       "            color:  #000000;\n",
       "        }    #T_836ceaf4_9dd5_11ea_a6cf_0050b66a8127row32_col4 {\n",
       "            background-color:  #fee392;\n",
       "            color:  #000000;\n",
       "        }    #T_836ceaf4_9dd5_11ea_a6cf_0050b66a8127row33_col0 {\n",
       "            background-color:  #f6faff;\n",
       "            color:  #000000;\n",
       "        }    #T_836ceaf4_9dd5_11ea_a6cf_0050b66a8127row33_col1 {\n",
       "            background-color:  #fff5f0;\n",
       "            color:  #000000;\n",
       "        }    #T_836ceaf4_9dd5_11ea_a6cf_0050b66a8127row33_col2 {\n",
       "            background-color:  #faf9fc;\n",
       "            color:  #000000;\n",
       "        }    #T_836ceaf4_9dd5_11ea_a6cf_0050b66a8127row33_col4 {\n",
       "            background-color:  #fffddb;\n",
       "            color:  #000000;\n",
       "        }    #T_836ceaf4_9dd5_11ea_a6cf_0050b66a8127row34_col0 {\n",
       "            background-color:  #f6faff;\n",
       "            color:  #000000;\n",
       "        }    #T_836ceaf4_9dd5_11ea_a6cf_0050b66a8127row34_col1 {\n",
       "            background-color:  #fff5f0;\n",
       "            color:  #000000;\n",
       "        }    #T_836ceaf4_9dd5_11ea_a6cf_0050b66a8127row34_col2 {\n",
       "            background-color:  #fbfafc;\n",
       "            color:  #000000;\n",
       "        }    #T_836ceaf4_9dd5_11ea_a6cf_0050b66a8127row34_col4 {\n",
       "            background-color:  #fff9c5;\n",
       "            color:  #000000;\n",
       "        }    #T_836ceaf4_9dd5_11ea_a6cf_0050b66a8127row35_col0 {\n",
       "            background-color:  #f6faff;\n",
       "            color:  #000000;\n",
       "        }    #T_836ceaf4_9dd5_11ea_a6cf_0050b66a8127row35_col1 {\n",
       "            background-color:  #fff4ef;\n",
       "            color:  #000000;\n",
       "        }    #T_836ceaf4_9dd5_11ea_a6cf_0050b66a8127row35_col2 {\n",
       "            background-color:  #faf9fc;\n",
       "            color:  #000000;\n",
       "        }    #T_836ceaf4_9dd5_11ea_a6cf_0050b66a8127row35_col4 {\n",
       "            background-color:  #fec95b;\n",
       "            color:  #000000;\n",
       "        }    #T_836ceaf4_9dd5_11ea_a6cf_0050b66a8127row36_col0 {\n",
       "            background-color:  #f6faff;\n",
       "            color:  #000000;\n",
       "        }    #T_836ceaf4_9dd5_11ea_a6cf_0050b66a8127row36_col1 {\n",
       "            background-color:  #fff5f0;\n",
       "            color:  #000000;\n",
       "        }    #T_836ceaf4_9dd5_11ea_a6cf_0050b66a8127row36_col2 {\n",
       "            background-color:  #faf9fc;\n",
       "            color:  #000000;\n",
       "        }    #T_836ceaf4_9dd5_11ea_a6cf_0050b66a8127row36_col4 {\n",
       "            background-color:  #fff8c1;\n",
       "            color:  #000000;\n",
       "        }    #T_836ceaf4_9dd5_11ea_a6cf_0050b66a8127row37_col0 {\n",
       "            background-color:  #f6faff;\n",
       "            color:  #000000;\n",
       "        }    #T_836ceaf4_9dd5_11ea_a6cf_0050b66a8127row37_col1 {\n",
       "            background-color:  #fff5f0;\n",
       "            color:  #000000;\n",
       "        }    #T_836ceaf4_9dd5_11ea_a6cf_0050b66a8127row37_col2 {\n",
       "            background-color:  #fbfafc;\n",
       "            color:  #000000;\n",
       "        }    #T_836ceaf4_9dd5_11ea_a6cf_0050b66a8127row37_col4 {\n",
       "            background-color:  #feeaa0;\n",
       "            color:  #000000;\n",
       "        }    #T_836ceaf4_9dd5_11ea_a6cf_0050b66a8127row38_col0 {\n",
       "            background-color:  #f6faff;\n",
       "            color:  #000000;\n",
       "        }    #T_836ceaf4_9dd5_11ea_a6cf_0050b66a8127row38_col1 {\n",
       "            background-color:  #fff4ef;\n",
       "            color:  #000000;\n",
       "        }    #T_836ceaf4_9dd5_11ea_a6cf_0050b66a8127row38_col2 {\n",
       "            background-color:  #fbfafc;\n",
       "            color:  #000000;\n",
       "        }    #T_836ceaf4_9dd5_11ea_a6cf_0050b66a8127row38_col4 {\n",
       "            background-color:  #feda7e;\n",
       "            color:  #000000;\n",
       "        }    #T_836ceaf4_9dd5_11ea_a6cf_0050b66a8127row39_col0 {\n",
       "            background-color:  #f7fbff;\n",
       "            color:  #000000;\n",
       "        }    #T_836ceaf4_9dd5_11ea_a6cf_0050b66a8127row39_col1 {\n",
       "            background-color:  #fff5f0;\n",
       "            color:  #000000;\n",
       "        }    #T_836ceaf4_9dd5_11ea_a6cf_0050b66a8127row39_col2 {\n",
       "            background-color:  #fbfafc;\n",
       "            color:  #000000;\n",
       "        }    #T_836ceaf4_9dd5_11ea_a6cf_0050b66a8127row39_col4 {\n",
       "            background-color:  #fff8c0;\n",
       "            color:  #000000;\n",
       "        }    #T_836ceaf4_9dd5_11ea_a6cf_0050b66a8127row40_col0 {\n",
       "            background-color:  #f7fbff;\n",
       "            color:  #000000;\n",
       "        }    #T_836ceaf4_9dd5_11ea_a6cf_0050b66a8127row40_col1 {\n",
       "            background-color:  #fff5f0;\n",
       "            color:  #000000;\n",
       "        }    #T_836ceaf4_9dd5_11ea_a6cf_0050b66a8127row40_col2 {\n",
       "            background-color:  #fbfafc;\n",
       "            color:  #000000;\n",
       "        }    #T_836ceaf4_9dd5_11ea_a6cf_0050b66a8127row40_col4 {\n",
       "            background-color:  #fff6ba;\n",
       "            color:  #000000;\n",
       "        }    #T_836ceaf4_9dd5_11ea_a6cf_0050b66a8127row41_col0 {\n",
       "            background-color:  #f7fbff;\n",
       "            color:  #000000;\n",
       "        }    #T_836ceaf4_9dd5_11ea_a6cf_0050b66a8127row41_col1 {\n",
       "            background-color:  #fff5f0;\n",
       "            color:  #000000;\n",
       "        }    #T_836ceaf4_9dd5_11ea_a6cf_0050b66a8127row41_col2 {\n",
       "            background-color:  #fbfafc;\n",
       "            color:  #000000;\n",
       "        }    #T_836ceaf4_9dd5_11ea_a6cf_0050b66a8127row41_col4 {\n",
       "            background-color:  #fffbd3;\n",
       "            color:  #000000;\n",
       "        }    #T_836ceaf4_9dd5_11ea_a6cf_0050b66a8127row42_col0 {\n",
       "            background-color:  #f7fbff;\n",
       "            color:  #000000;\n",
       "        }    #T_836ceaf4_9dd5_11ea_a6cf_0050b66a8127row42_col1 {\n",
       "            background-color:  #fff5f0;\n",
       "            color:  #000000;\n",
       "        }    #T_836ceaf4_9dd5_11ea_a6cf_0050b66a8127row42_col2 {\n",
       "            background-color:  #fbfafc;\n",
       "            color:  #000000;\n",
       "        }    #T_836ceaf4_9dd5_11ea_a6cf_0050b66a8127row42_col4 {\n",
       "            background-color:  #fffacb;\n",
       "            color:  #000000;\n",
       "        }    #T_836ceaf4_9dd5_11ea_a6cf_0050b66a8127row43_col0 {\n",
       "            background-color:  #f7fbff;\n",
       "            color:  #000000;\n",
       "        }    #T_836ceaf4_9dd5_11ea_a6cf_0050b66a8127row43_col1 {\n",
       "            background-color:  #fff5f0;\n",
       "            color:  #000000;\n",
       "        }    #T_836ceaf4_9dd5_11ea_a6cf_0050b66a8127row43_col2 {\n",
       "            background-color:  #faf9fc;\n",
       "            color:  #000000;\n",
       "        }    #T_836ceaf4_9dd5_11ea_a6cf_0050b66a8127row43_col4 {\n",
       "            background-color:  #fff8c4;\n",
       "            color:  #000000;\n",
       "        }    #T_836ceaf4_9dd5_11ea_a6cf_0050b66a8127row44_col0 {\n",
       "            background-color:  #f7fbff;\n",
       "            color:  #000000;\n",
       "        }    #T_836ceaf4_9dd5_11ea_a6cf_0050b66a8127row44_col1 {\n",
       "            background-color:  #fff5f0;\n",
       "            color:  #000000;\n",
       "        }    #T_836ceaf4_9dd5_11ea_a6cf_0050b66a8127row44_col2 {\n",
       "            background-color:  #fbfafc;\n",
       "            color:  #000000;\n",
       "        }    #T_836ceaf4_9dd5_11ea_a6cf_0050b66a8127row44_col4 {\n",
       "            background-color:  #feeca5;\n",
       "            color:  #000000;\n",
       "        }    #T_836ceaf4_9dd5_11ea_a6cf_0050b66a8127row45_col0 {\n",
       "            background-color:  #f7fbff;\n",
       "            color:  #000000;\n",
       "        }    #T_836ceaf4_9dd5_11ea_a6cf_0050b66a8127row45_col1 {\n",
       "            background-color:  #fff5f0;\n",
       "            color:  #000000;\n",
       "        }    #T_836ceaf4_9dd5_11ea_a6cf_0050b66a8127row45_col2 {\n",
       "            background-color:  #fbfafc;\n",
       "            color:  #000000;\n",
       "        }    #T_836ceaf4_9dd5_11ea_a6cf_0050b66a8127row45_col4 {\n",
       "            background-color:  #fff7be;\n",
       "            color:  #000000;\n",
       "        }    #T_836ceaf4_9dd5_11ea_a6cf_0050b66a8127row46_col0 {\n",
       "            background-color:  #f7fbff;\n",
       "            color:  #000000;\n",
       "        }    #T_836ceaf4_9dd5_11ea_a6cf_0050b66a8127row46_col1 {\n",
       "            background-color:  #fff5f0;\n",
       "            color:  #000000;\n",
       "        }    #T_836ceaf4_9dd5_11ea_a6cf_0050b66a8127row46_col2 {\n",
       "            background-color:  #faf9fc;\n",
       "            color:  #000000;\n",
       "        }    #T_836ceaf4_9dd5_11ea_a6cf_0050b66a8127row46_col4 {\n",
       "            background-color:  #feeca4;\n",
       "            color:  #000000;\n",
       "        }    #T_836ceaf4_9dd5_11ea_a6cf_0050b66a8127row47_col0 {\n",
       "            background-color:  #f7fbff;\n",
       "            color:  #000000;\n",
       "        }    #T_836ceaf4_9dd5_11ea_a6cf_0050b66a8127row47_col1 {\n",
       "            background-color:  #fff5f0;\n",
       "            color:  #000000;\n",
       "        }    #T_836ceaf4_9dd5_11ea_a6cf_0050b66a8127row47_col2 {\n",
       "            background-color:  #fbfafc;\n",
       "            color:  #000000;\n",
       "        }    #T_836ceaf4_9dd5_11ea_a6cf_0050b66a8127row47_col4 {\n",
       "            background-color:  #ffface;\n",
       "            color:  #000000;\n",
       "        }    #T_836ceaf4_9dd5_11ea_a6cf_0050b66a8127row48_col0 {\n",
       "            background-color:  #f7fbff;\n",
       "            color:  #000000;\n",
       "        }    #T_836ceaf4_9dd5_11ea_a6cf_0050b66a8127row48_col1 {\n",
       "            background-color:  #fff5f0;\n",
       "            color:  #000000;\n",
       "        }    #T_836ceaf4_9dd5_11ea_a6cf_0050b66a8127row48_col2 {\n",
       "            background-color:  #fbfafc;\n",
       "            color:  #000000;\n",
       "        }    #T_836ceaf4_9dd5_11ea_a6cf_0050b66a8127row48_col4 {\n",
       "            background-color:  #fed573;\n",
       "            color:  #000000;\n",
       "        }    #T_836ceaf4_9dd5_11ea_a6cf_0050b66a8127row49_col0 {\n",
       "            background-color:  #f7fbff;\n",
       "            color:  #000000;\n",
       "        }    #T_836ceaf4_9dd5_11ea_a6cf_0050b66a8127row49_col1 {\n",
       "            background-color:  #fff5f0;\n",
       "            color:  #000000;\n",
       "        }    #T_836ceaf4_9dd5_11ea_a6cf_0050b66a8127row49_col2 {\n",
       "            background-color:  #fbfafc;\n",
       "            color:  #000000;\n",
       "        }    #T_836ceaf4_9dd5_11ea_a6cf_0050b66a8127row49_col4 {\n",
       "            background-color:  #fffacb;\n",
       "            color:  #000000;\n",
       "        }    #T_836ceaf4_9dd5_11ea_a6cf_0050b66a8127row50_col0 {\n",
       "            background-color:  #f7fbff;\n",
       "            color:  #000000;\n",
       "        }    #T_836ceaf4_9dd5_11ea_a6cf_0050b66a8127row50_col1 {\n",
       "            background-color:  #fff5f0;\n",
       "            color:  #000000;\n",
       "        }    #T_836ceaf4_9dd5_11ea_a6cf_0050b66a8127row50_col2 {\n",
       "            background-color:  #fbfafc;\n",
       "            color:  #000000;\n",
       "        }    #T_836ceaf4_9dd5_11ea_a6cf_0050b66a8127row50_col4 {\n",
       "            background-color:  #ffeea9;\n",
       "            color:  #000000;\n",
       "        }    #T_836ceaf4_9dd5_11ea_a6cf_0050b66a8127row51_col0 {\n",
       "            background-color:  #f7fbff;\n",
       "            color:  #000000;\n",
       "        }    #T_836ceaf4_9dd5_11ea_a6cf_0050b66a8127row51_col1 {\n",
       "            background-color:  #fff5f0;\n",
       "            color:  #000000;\n",
       "        }    #T_836ceaf4_9dd5_11ea_a6cf_0050b66a8127row51_col2 {\n",
       "            background-color:  #fbfafc;\n",
       "            color:  #000000;\n",
       "        }    #T_836ceaf4_9dd5_11ea_a6cf_0050b66a8127row51_col4 {\n",
       "            background-color:  #fff0ad;\n",
       "            color:  #000000;\n",
       "        }    #T_836ceaf4_9dd5_11ea_a6cf_0050b66a8127row52_col0 {\n",
       "            background-color:  #f7fbff;\n",
       "            color:  #000000;\n",
       "        }    #T_836ceaf4_9dd5_11ea_a6cf_0050b66a8127row52_col1 {\n",
       "            background-color:  #fff5f0;\n",
       "            color:  #000000;\n",
       "        }    #T_836ceaf4_9dd5_11ea_a6cf_0050b66a8127row52_col2 {\n",
       "            background-color:  #fbfafc;\n",
       "            color:  #000000;\n",
       "        }    #T_836ceaf4_9dd5_11ea_a6cf_0050b66a8127row52_col4 {\n",
       "            background-color:  #fee89d;\n",
       "            color:  #000000;\n",
       "        }    #T_836ceaf4_9dd5_11ea_a6cf_0050b66a8127row53_col0 {\n",
       "            background-color:  #f7fbff;\n",
       "            color:  #000000;\n",
       "        }    #T_836ceaf4_9dd5_11ea_a6cf_0050b66a8127row53_col1 {\n",
       "            background-color:  #fff5f0;\n",
       "            color:  #000000;\n",
       "        }    #T_836ceaf4_9dd5_11ea_a6cf_0050b66a8127row53_col2 {\n",
       "            background-color:  #fbfafc;\n",
       "            color:  #000000;\n",
       "        }    #T_836ceaf4_9dd5_11ea_a6cf_0050b66a8127row53_col4 {\n",
       "            background-color:  #fff8c4;\n",
       "            color:  #000000;\n",
       "        }    #T_836ceaf4_9dd5_11ea_a6cf_0050b66a8127row54_col0 {\n",
       "            background-color:  #f7fbff;\n",
       "            color:  #000000;\n",
       "        }    #T_836ceaf4_9dd5_11ea_a6cf_0050b66a8127row54_col1 {\n",
       "            background-color:  #fff5f0;\n",
       "            color:  #000000;\n",
       "        }    #T_836ceaf4_9dd5_11ea_a6cf_0050b66a8127row54_col2 {\n",
       "            background-color:  #fbfafc;\n",
       "            color:  #000000;\n",
       "        }    #T_836ceaf4_9dd5_11ea_a6cf_0050b66a8127row54_col4 {\n",
       "            background-color:  #fb9326;\n",
       "            color:  #000000;\n",
       "        }    #T_836ceaf4_9dd5_11ea_a6cf_0050b66a8127row55_col0 {\n",
       "            background-color:  #f7fbff;\n",
       "            color:  #000000;\n",
       "        }    #T_836ceaf4_9dd5_11ea_a6cf_0050b66a8127row55_col1 {\n",
       "            background-color:  #fff5f0;\n",
       "            color:  #000000;\n",
       "        }    #T_836ceaf4_9dd5_11ea_a6cf_0050b66a8127row55_col2 {\n",
       "            background-color:  #fbfafc;\n",
       "            color:  #000000;\n",
       "        }    #T_836ceaf4_9dd5_11ea_a6cf_0050b66a8127row55_col4 {\n",
       "            background-color:  #fff7bd;\n",
       "            color:  #000000;\n",
       "        }    #T_836ceaf4_9dd5_11ea_a6cf_0050b66a8127row56_col0 {\n",
       "            background-color:  #f7fbff;\n",
       "            color:  #000000;\n",
       "        }    #T_836ceaf4_9dd5_11ea_a6cf_0050b66a8127row56_col1 {\n",
       "            background-color:  #fff5f0;\n",
       "            color:  #000000;\n",
       "        }    #T_836ceaf4_9dd5_11ea_a6cf_0050b66a8127row56_col2 {\n",
       "            background-color:  #fbfafc;\n",
       "            color:  #000000;\n",
       "        }    #T_836ceaf4_9dd5_11ea_a6cf_0050b66a8127row56_col4 {\n",
       "            background-color:  #fffddc;\n",
       "            color:  #000000;\n",
       "        }    #T_836ceaf4_9dd5_11ea_a6cf_0050b66a8127row57_col0 {\n",
       "            background-color:  #f7fbff;\n",
       "            color:  #000000;\n",
       "        }    #T_836ceaf4_9dd5_11ea_a6cf_0050b66a8127row57_col1 {\n",
       "            background-color:  #fff5f0;\n",
       "            color:  #000000;\n",
       "        }    #T_836ceaf4_9dd5_11ea_a6cf_0050b66a8127row57_col2 {\n",
       "            background-color:  #fbfafc;\n",
       "            color:  #000000;\n",
       "        }    #T_836ceaf4_9dd5_11ea_a6cf_0050b66a8127row57_col4 {\n",
       "            background-color:  #fffdd9;\n",
       "            color:  #000000;\n",
       "        }    #T_836ceaf4_9dd5_11ea_a6cf_0050b66a8127row58_col0 {\n",
       "            background-color:  #f7fbff;\n",
       "            color:  #000000;\n",
       "        }    #T_836ceaf4_9dd5_11ea_a6cf_0050b66a8127row58_col1 {\n",
       "            background-color:  #fff5f0;\n",
       "            color:  #000000;\n",
       "        }    #T_836ceaf4_9dd5_11ea_a6cf_0050b66a8127row58_col2 {\n",
       "            background-color:  #fbfafc;\n",
       "            color:  #000000;\n",
       "        }    #T_836ceaf4_9dd5_11ea_a6cf_0050b66a8127row58_col4 {\n",
       "            background-color:  #fffacb;\n",
       "            color:  #000000;\n",
       "        }    #T_836ceaf4_9dd5_11ea_a6cf_0050b66a8127row59_col0 {\n",
       "            background-color:  #f7fbff;\n",
       "            color:  #000000;\n",
       "        }    #T_836ceaf4_9dd5_11ea_a6cf_0050b66a8127row59_col1 {\n",
       "            background-color:  #fff5f0;\n",
       "            color:  #000000;\n",
       "        }    #T_836ceaf4_9dd5_11ea_a6cf_0050b66a8127row59_col2 {\n",
       "            background-color:  #fbfafc;\n",
       "            color:  #000000;\n",
       "        }    #T_836ceaf4_9dd5_11ea_a6cf_0050b66a8127row59_col4 {\n",
       "            background-color:  #fffee1;\n",
       "            color:  #000000;\n",
       "        }    #T_836ceaf4_9dd5_11ea_a6cf_0050b66a8127row60_col0 {\n",
       "            background-color:  #f7fbff;\n",
       "            color:  #000000;\n",
       "        }    #T_836ceaf4_9dd5_11ea_a6cf_0050b66a8127row60_col1 {\n",
       "            background-color:  #fff5f0;\n",
       "            color:  #000000;\n",
       "        }    #T_836ceaf4_9dd5_11ea_a6cf_0050b66a8127row60_col2 {\n",
       "            background-color:  #fbfafc;\n",
       "            color:  #000000;\n",
       "        }    #T_836ceaf4_9dd5_11ea_a6cf_0050b66a8127row60_col4 {\n",
       "            background-color:  #fea231;\n",
       "            color:  #000000;\n",
       "        }    #T_836ceaf4_9dd5_11ea_a6cf_0050b66a8127row61_col0 {\n",
       "            background-color:  #f7fbff;\n",
       "            color:  #000000;\n",
       "        }    #T_836ceaf4_9dd5_11ea_a6cf_0050b66a8127row61_col1 {\n",
       "            background-color:  #fff5f0;\n",
       "            color:  #000000;\n",
       "        }    #T_836ceaf4_9dd5_11ea_a6cf_0050b66a8127row61_col2 {\n",
       "            background-color:  #fbfafc;\n",
       "            color:  #000000;\n",
       "        }    #T_836ceaf4_9dd5_11ea_a6cf_0050b66a8127row61_col4 {\n",
       "            background-color:  #fee697;\n",
       "            color:  #000000;\n",
       "        }    #T_836ceaf4_9dd5_11ea_a6cf_0050b66a8127row62_col0 {\n",
       "            background-color:  #f7fbff;\n",
       "            color:  #000000;\n",
       "        }    #T_836ceaf4_9dd5_11ea_a6cf_0050b66a8127row62_col1 {\n",
       "            background-color:  #fff5f0;\n",
       "            color:  #000000;\n",
       "        }    #T_836ceaf4_9dd5_11ea_a6cf_0050b66a8127row62_col2 {\n",
       "            background-color:  #fbfafc;\n",
       "            color:  #000000;\n",
       "        }    #T_836ceaf4_9dd5_11ea_a6cf_0050b66a8127row62_col4 {\n",
       "            background-color:  #fffedf;\n",
       "            color:  #000000;\n",
       "        }    #T_836ceaf4_9dd5_11ea_a6cf_0050b66a8127row63_col0 {\n",
       "            background-color:  #f7fbff;\n",
       "            color:  #000000;\n",
       "        }    #T_836ceaf4_9dd5_11ea_a6cf_0050b66a8127row63_col1 {\n",
       "            background-color:  #fff5f0;\n",
       "            color:  #000000;\n",
       "        }    #T_836ceaf4_9dd5_11ea_a6cf_0050b66a8127row63_col2 {\n",
       "            background-color:  #fbfafc;\n",
       "            color:  #000000;\n",
       "        }    #T_836ceaf4_9dd5_11ea_a6cf_0050b66a8127row63_col4 {\n",
       "            background-color:  #fff6b9;\n",
       "            color:  #000000;\n",
       "        }    #T_836ceaf4_9dd5_11ea_a6cf_0050b66a8127row64_col0 {\n",
       "            background-color:  #f7fbff;\n",
       "            color:  #000000;\n",
       "        }    #T_836ceaf4_9dd5_11ea_a6cf_0050b66a8127row64_col1 {\n",
       "            background-color:  #fff5f0;\n",
       "            color:  #000000;\n",
       "        }    #T_836ceaf4_9dd5_11ea_a6cf_0050b66a8127row64_col2 {\n",
       "            background-color:  #fbfafc;\n",
       "            color:  #000000;\n",
       "        }    #T_836ceaf4_9dd5_11ea_a6cf_0050b66a8127row64_col4 {\n",
       "            background-color:  #fffee0;\n",
       "            color:  #000000;\n",
       "        }    #T_836ceaf4_9dd5_11ea_a6cf_0050b66a8127row65_col0 {\n",
       "            background-color:  #f7fbff;\n",
       "            color:  #000000;\n",
       "        }    #T_836ceaf4_9dd5_11ea_a6cf_0050b66a8127row65_col1 {\n",
       "            background-color:  #fff5f0;\n",
       "            color:  #000000;\n",
       "        }    #T_836ceaf4_9dd5_11ea_a6cf_0050b66a8127row65_col2 {\n",
       "            background-color:  #fbfafc;\n",
       "            color:  #000000;\n",
       "        }    #T_836ceaf4_9dd5_11ea_a6cf_0050b66a8127row65_col4 {\n",
       "            background-color:  #feeba2;\n",
       "            color:  #000000;\n",
       "        }    #T_836ceaf4_9dd5_11ea_a6cf_0050b66a8127row66_col0 {\n",
       "            background-color:  #f7fbff;\n",
       "            color:  #000000;\n",
       "        }    #T_836ceaf4_9dd5_11ea_a6cf_0050b66a8127row66_col1 {\n",
       "            background-color:  #fff5f0;\n",
       "            color:  #000000;\n",
       "        }    #T_836ceaf4_9dd5_11ea_a6cf_0050b66a8127row66_col2 {\n",
       "            background-color:  #fbfafc;\n",
       "            color:  #000000;\n",
       "        }    #T_836ceaf4_9dd5_11ea_a6cf_0050b66a8127row66_col4 {\n",
       "            background-color:  #fffbcf;\n",
       "            color:  #000000;\n",
       "        }    #T_836ceaf4_9dd5_11ea_a6cf_0050b66a8127row67_col0 {\n",
       "            background-color:  #f7fbff;\n",
       "            color:  #000000;\n",
       "        }    #T_836ceaf4_9dd5_11ea_a6cf_0050b66a8127row67_col1 {\n",
       "            background-color:  #fff5f0;\n",
       "            color:  #000000;\n",
       "        }    #T_836ceaf4_9dd5_11ea_a6cf_0050b66a8127row67_col2 {\n",
       "            background-color:  #fbfafc;\n",
       "            color:  #000000;\n",
       "        }    #T_836ceaf4_9dd5_11ea_a6cf_0050b66a8127row67_col4 {\n",
       "            background-color:  #fff5b8;\n",
       "            color:  #000000;\n",
       "        }    #T_836ceaf4_9dd5_11ea_a6cf_0050b66a8127row68_col0 {\n",
       "            background-color:  #f7fbff;\n",
       "            color:  #000000;\n",
       "        }    #T_836ceaf4_9dd5_11ea_a6cf_0050b66a8127row68_col1 {\n",
       "            background-color:  #fff5f0;\n",
       "            color:  #000000;\n",
       "        }    #T_836ceaf4_9dd5_11ea_a6cf_0050b66a8127row68_col2 {\n",
       "            background-color:  #fbfafc;\n",
       "            color:  #000000;\n",
       "        }    #T_836ceaf4_9dd5_11ea_a6cf_0050b66a8127row68_col4 {\n",
       "            background-color:  #fffddd;\n",
       "            color:  #000000;\n",
       "        }    #T_836ceaf4_9dd5_11ea_a6cf_0050b66a8127row69_col0 {\n",
       "            background-color:  #f7fbff;\n",
       "            color:  #000000;\n",
       "        }    #T_836ceaf4_9dd5_11ea_a6cf_0050b66a8127row69_col1 {\n",
       "            background-color:  #fff5f0;\n",
       "            color:  #000000;\n",
       "        }    #T_836ceaf4_9dd5_11ea_a6cf_0050b66a8127row69_col2 {\n",
       "            background-color:  #fbfafc;\n",
       "            color:  #000000;\n",
       "        }    #T_836ceaf4_9dd5_11ea_a6cf_0050b66a8127row69_col4 {\n",
       "            background-color:  #fffbd3;\n",
       "            color:  #000000;\n",
       "        }    #T_836ceaf4_9dd5_11ea_a6cf_0050b66a8127row70_col0 {\n",
       "            background-color:  #f7fbff;\n",
       "            color:  #000000;\n",
       "        }    #T_836ceaf4_9dd5_11ea_a6cf_0050b66a8127row70_col1 {\n",
       "            background-color:  #fff5f0;\n",
       "            color:  #000000;\n",
       "        }    #T_836ceaf4_9dd5_11ea_a6cf_0050b66a8127row70_col2 {\n",
       "            background-color:  #fbfafc;\n",
       "            color:  #000000;\n",
       "        }    #T_836ceaf4_9dd5_11ea_a6cf_0050b66a8127row70_col4 {\n",
       "            background-color:  #fff4b5;\n",
       "            color:  #000000;\n",
       "        }    #T_836ceaf4_9dd5_11ea_a6cf_0050b66a8127row71_col0 {\n",
       "            background-color:  #f7fbff;\n",
       "            color:  #000000;\n",
       "        }    #T_836ceaf4_9dd5_11ea_a6cf_0050b66a8127row71_col1 {\n",
       "            background-color:  #fff5f0;\n",
       "            color:  #000000;\n",
       "        }    #T_836ceaf4_9dd5_11ea_a6cf_0050b66a8127row71_col2 {\n",
       "            background-color:  #fbfafc;\n",
       "            color:  #000000;\n",
       "        }    #T_836ceaf4_9dd5_11ea_a6cf_0050b66a8127row71_col4 {\n",
       "            background-color:  #fffcd8;\n",
       "            color:  #000000;\n",
       "        }    #T_836ceaf4_9dd5_11ea_a6cf_0050b66a8127row72_col0 {\n",
       "            background-color:  #f7fbff;\n",
       "            color:  #000000;\n",
       "        }    #T_836ceaf4_9dd5_11ea_a6cf_0050b66a8127row72_col1 {\n",
       "            background-color:  #fff5f0;\n",
       "            color:  #000000;\n",
       "        }    #T_836ceaf4_9dd5_11ea_a6cf_0050b66a8127row72_col2 {\n",
       "            background-color:  #fbfafc;\n",
       "            color:  #000000;\n",
       "        }    #T_836ceaf4_9dd5_11ea_a6cf_0050b66a8127row72_col4 {\n",
       "            background-color:  #fff6ba;\n",
       "            color:  #000000;\n",
       "        }    #T_836ceaf4_9dd5_11ea_a6cf_0050b66a8127row73_col0 {\n",
       "            background-color:  #f7fbff;\n",
       "            color:  #000000;\n",
       "        }    #T_836ceaf4_9dd5_11ea_a6cf_0050b66a8127row73_col1 {\n",
       "            background-color:  #fff5f0;\n",
       "            color:  #000000;\n",
       "        }    #T_836ceaf4_9dd5_11ea_a6cf_0050b66a8127row73_col2 {\n",
       "            background-color:  #fbfafc;\n",
       "            color:  #000000;\n",
       "        }    #T_836ceaf4_9dd5_11ea_a6cf_0050b66a8127row73_col4 {\n",
       "            background-color:  #ffefac;\n",
       "            color:  #000000;\n",
       "        }    #T_836ceaf4_9dd5_11ea_a6cf_0050b66a8127row74_col0 {\n",
       "            background-color:  #f7fbff;\n",
       "            color:  #000000;\n",
       "        }    #T_836ceaf4_9dd5_11ea_a6cf_0050b66a8127row74_col1 {\n",
       "            background-color:  #fff5f0;\n",
       "            color:  #000000;\n",
       "        }    #T_836ceaf4_9dd5_11ea_a6cf_0050b66a8127row74_col2 {\n",
       "            background-color:  #fbfafc;\n",
       "            color:  #000000;\n",
       "        }    #T_836ceaf4_9dd5_11ea_a6cf_0050b66a8127row74_col4 {\n",
       "            background-color:  #fff7bd;\n",
       "            color:  #000000;\n",
       "        }    #T_836ceaf4_9dd5_11ea_a6cf_0050b66a8127row75_col0 {\n",
       "            background-color:  #f7fbff;\n",
       "            color:  #000000;\n",
       "        }    #T_836ceaf4_9dd5_11ea_a6cf_0050b66a8127row75_col1 {\n",
       "            background-color:  #fff5f0;\n",
       "            color:  #000000;\n",
       "        }    #T_836ceaf4_9dd5_11ea_a6cf_0050b66a8127row75_col2 {\n",
       "            background-color:  #fbfafc;\n",
       "            color:  #000000;\n",
       "        }    #T_836ceaf4_9dd5_11ea_a6cf_0050b66a8127row75_col4 {\n",
       "            background-color:  #fffbd3;\n",
       "            color:  #000000;\n",
       "        }    #T_836ceaf4_9dd5_11ea_a6cf_0050b66a8127row76_col0 {\n",
       "            background-color:  #f7fbff;\n",
       "            color:  #000000;\n",
       "        }    #T_836ceaf4_9dd5_11ea_a6cf_0050b66a8127row76_col1 {\n",
       "            background-color:  #fff5f0;\n",
       "            color:  #000000;\n",
       "        }    #T_836ceaf4_9dd5_11ea_a6cf_0050b66a8127row76_col2 {\n",
       "            background-color:  #fbfafc;\n",
       "            color:  #000000;\n",
       "        }    #T_836ceaf4_9dd5_11ea_a6cf_0050b66a8127row76_col4 {\n",
       "            background-color:  #ffefac;\n",
       "            color:  #000000;\n",
       "        }    #T_836ceaf4_9dd5_11ea_a6cf_0050b66a8127row77_col0 {\n",
       "            background-color:  #f7fbff;\n",
       "            color:  #000000;\n",
       "        }    #T_836ceaf4_9dd5_11ea_a6cf_0050b66a8127row77_col1 {\n",
       "            background-color:  #fff5f0;\n",
       "            color:  #000000;\n",
       "        }    #T_836ceaf4_9dd5_11ea_a6cf_0050b66a8127row77_col2 {\n",
       "            background-color:  #fbfafc;\n",
       "            color:  #000000;\n",
       "        }    #T_836ceaf4_9dd5_11ea_a6cf_0050b66a8127row77_col4 {\n",
       "            background-color:  #fee89d;\n",
       "            color:  #000000;\n",
       "        }    #T_836ceaf4_9dd5_11ea_a6cf_0050b66a8127row78_col0 {\n",
       "            background-color:  #f7fbff;\n",
       "            color:  #000000;\n",
       "        }    #T_836ceaf4_9dd5_11ea_a6cf_0050b66a8127row78_col1 {\n",
       "            background-color:  #fff5f0;\n",
       "            color:  #000000;\n",
       "        }    #T_836ceaf4_9dd5_11ea_a6cf_0050b66a8127row78_col2 {\n",
       "            background-color:  #fbfafc;\n",
       "            color:  #000000;\n",
       "        }    #T_836ceaf4_9dd5_11ea_a6cf_0050b66a8127row78_col4 {\n",
       "            background-color:  #fee08a;\n",
       "            color:  #000000;\n",
       "        }    #T_836ceaf4_9dd5_11ea_a6cf_0050b66a8127row79_col0 {\n",
       "            background-color:  #f7fbff;\n",
       "            color:  #000000;\n",
       "        }    #T_836ceaf4_9dd5_11ea_a6cf_0050b66a8127row79_col1 {\n",
       "            background-color:  #fff5f0;\n",
       "            color:  #000000;\n",
       "        }    #T_836ceaf4_9dd5_11ea_a6cf_0050b66a8127row79_col2 {\n",
       "            background-color:  #fbfafc;\n",
       "            color:  #000000;\n",
       "        }    #T_836ceaf4_9dd5_11ea_a6cf_0050b66a8127row79_col4 {\n",
       "            background-color:  #ffeea9;\n",
       "            color:  #000000;\n",
       "        }    #T_836ceaf4_9dd5_11ea_a6cf_0050b66a8127row80_col0 {\n",
       "            background-color:  #f7fbff;\n",
       "            color:  #000000;\n",
       "        }    #T_836ceaf4_9dd5_11ea_a6cf_0050b66a8127row80_col1 {\n",
       "            background-color:  #fff5f0;\n",
       "            color:  #000000;\n",
       "        }    #T_836ceaf4_9dd5_11ea_a6cf_0050b66a8127row80_col2 {\n",
       "            background-color:  #fbfafc;\n",
       "            color:  #000000;\n",
       "        }    #T_836ceaf4_9dd5_11ea_a6cf_0050b66a8127row80_col4 {\n",
       "            background-color:  #fffbd0;\n",
       "            color:  #000000;\n",
       "        }    #T_836ceaf4_9dd5_11ea_a6cf_0050b66a8127row81_col0 {\n",
       "            background-color:  #f7fbff;\n",
       "            color:  #000000;\n",
       "        }    #T_836ceaf4_9dd5_11ea_a6cf_0050b66a8127row81_col1 {\n",
       "            background-color:  #fff5f0;\n",
       "            color:  #000000;\n",
       "        }    #T_836ceaf4_9dd5_11ea_a6cf_0050b66a8127row81_col2 {\n",
       "            background-color:  #fcfbfd;\n",
       "            color:  #000000;\n",
       "        }    #T_836ceaf4_9dd5_11ea_a6cf_0050b66a8127row81_col4 {\n",
       "            background-color:  #fff4b6;\n",
       "            color:  #000000;\n",
       "        }    #T_836ceaf4_9dd5_11ea_a6cf_0050b66a8127row82_col0 {\n",
       "            background-color:  #f7fbff;\n",
       "            color:  #000000;\n",
       "        }    #T_836ceaf4_9dd5_11ea_a6cf_0050b66a8127row82_col1 {\n",
       "            background-color:  #fff5f0;\n",
       "            color:  #000000;\n",
       "        }    #T_836ceaf4_9dd5_11ea_a6cf_0050b66a8127row82_col2 {\n",
       "            background-color:  #fbfafc;\n",
       "            color:  #000000;\n",
       "        }    #T_836ceaf4_9dd5_11ea_a6cf_0050b66a8127row82_col4 {\n",
       "            background-color:  #fffddd;\n",
       "            color:  #000000;\n",
       "        }    #T_836ceaf4_9dd5_11ea_a6cf_0050b66a8127row83_col0 {\n",
       "            background-color:  #f7fbff;\n",
       "            color:  #000000;\n",
       "        }    #T_836ceaf4_9dd5_11ea_a6cf_0050b66a8127row83_col1 {\n",
       "            background-color:  #fff5f0;\n",
       "            color:  #000000;\n",
       "        }    #T_836ceaf4_9dd5_11ea_a6cf_0050b66a8127row83_col2 {\n",
       "            background-color:  #fbfafc;\n",
       "            color:  #000000;\n",
       "        }    #T_836ceaf4_9dd5_11ea_a6cf_0050b66a8127row83_col4 {\n",
       "            background-color:  #fffcd4;\n",
       "            color:  #000000;\n",
       "        }    #T_836ceaf4_9dd5_11ea_a6cf_0050b66a8127row84_col0 {\n",
       "            background-color:  #f7fbff;\n",
       "            color:  #000000;\n",
       "        }    #T_836ceaf4_9dd5_11ea_a6cf_0050b66a8127row84_col1 {\n",
       "            background-color:  #fff5f0;\n",
       "            color:  #000000;\n",
       "        }    #T_836ceaf4_9dd5_11ea_a6cf_0050b66a8127row84_col2 {\n",
       "            background-color:  #fbfafc;\n",
       "            color:  #000000;\n",
       "        }    #T_836ceaf4_9dd5_11ea_a6cf_0050b66a8127row84_col4 {\n",
       "            background-color:  #fffee2;\n",
       "            color:  #000000;\n",
       "        }    #T_836ceaf4_9dd5_11ea_a6cf_0050b66a8127row85_col0 {\n",
       "            background-color:  #f7fbff;\n",
       "            color:  #000000;\n",
       "        }    #T_836ceaf4_9dd5_11ea_a6cf_0050b66a8127row85_col1 {\n",
       "            background-color:  #fff5f0;\n",
       "            color:  #000000;\n",
       "        }    #T_836ceaf4_9dd5_11ea_a6cf_0050b66a8127row85_col2 {\n",
       "            background-color:  #fbfafc;\n",
       "            color:  #000000;\n",
       "        }    #T_836ceaf4_9dd5_11ea_a6cf_0050b66a8127row85_col4 {\n",
       "            background-color:  #fee799;\n",
       "            color:  #000000;\n",
       "        }    #T_836ceaf4_9dd5_11ea_a6cf_0050b66a8127row86_col0 {\n",
       "            background-color:  #f7fbff;\n",
       "            color:  #000000;\n",
       "        }    #T_836ceaf4_9dd5_11ea_a6cf_0050b66a8127row86_col1 {\n",
       "            background-color:  #fff5f0;\n",
       "            color:  #000000;\n",
       "        }    #T_836ceaf4_9dd5_11ea_a6cf_0050b66a8127row86_col2 {\n",
       "            background-color:  #fbfafc;\n",
       "            color:  #000000;\n",
       "        }    #T_836ceaf4_9dd5_11ea_a6cf_0050b66a8127row86_col4 {\n",
       "            background-color:  #ffefaa;\n",
       "            color:  #000000;\n",
       "        }    #T_836ceaf4_9dd5_11ea_a6cf_0050b66a8127row87_col0 {\n",
       "            background-color:  #f7fbff;\n",
       "            color:  #000000;\n",
       "        }    #T_836ceaf4_9dd5_11ea_a6cf_0050b66a8127row87_col1 {\n",
       "            background-color:  #fff5f0;\n",
       "            color:  #000000;\n",
       "        }    #T_836ceaf4_9dd5_11ea_a6cf_0050b66a8127row87_col2 {\n",
       "            background-color:  #fbfafc;\n",
       "            color:  #000000;\n",
       "        }    #T_836ceaf4_9dd5_11ea_a6cf_0050b66a8127row87_col4 {\n",
       "            background-color:  #fffacd;\n",
       "            color:  #000000;\n",
       "        }    #T_836ceaf4_9dd5_11ea_a6cf_0050b66a8127row88_col0 {\n",
       "            background-color:  #f7fbff;\n",
       "            color:  #000000;\n",
       "        }    #T_836ceaf4_9dd5_11ea_a6cf_0050b66a8127row88_col1 {\n",
       "            background-color:  #fff5f0;\n",
       "            color:  #000000;\n",
       "        }    #T_836ceaf4_9dd5_11ea_a6cf_0050b66a8127row88_col2 {\n",
       "            background-color:  #fbfafc;\n",
       "            color:  #000000;\n",
       "        }    #T_836ceaf4_9dd5_11ea_a6cf_0050b66a8127row88_col4 {\n",
       "            background-color:  #fffbcf;\n",
       "            color:  #000000;\n",
       "        }    #T_836ceaf4_9dd5_11ea_a6cf_0050b66a8127row89_col0 {\n",
       "            background-color:  #f7fbff;\n",
       "            color:  #000000;\n",
       "        }    #T_836ceaf4_9dd5_11ea_a6cf_0050b66a8127row89_col1 {\n",
       "            background-color:  #fff5f0;\n",
       "            color:  #000000;\n",
       "        }    #T_836ceaf4_9dd5_11ea_a6cf_0050b66a8127row89_col2 {\n",
       "            background-color:  #fbfafc;\n",
       "            color:  #000000;\n",
       "        }    #T_836ceaf4_9dd5_11ea_a6cf_0050b66a8127row89_col4 {\n",
       "            background-color:  #fffcd6;\n",
       "            color:  #000000;\n",
       "        }    #T_836ceaf4_9dd5_11ea_a6cf_0050b66a8127row90_col0 {\n",
       "            background-color:  #f7fbff;\n",
       "            color:  #000000;\n",
       "        }    #T_836ceaf4_9dd5_11ea_a6cf_0050b66a8127row90_col1 {\n",
       "            background-color:  #fff5f0;\n",
       "            color:  #000000;\n",
       "        }    #T_836ceaf4_9dd5_11ea_a6cf_0050b66a8127row90_col2 {\n",
       "            background-color:  #fbfafc;\n",
       "            color:  #000000;\n",
       "        }    #T_836ceaf4_9dd5_11ea_a6cf_0050b66a8127row90_col4 {\n",
       "            background-color:  #ffefac;\n",
       "            color:  #000000;\n",
       "        }    #T_836ceaf4_9dd5_11ea_a6cf_0050b66a8127row91_col0 {\n",
       "            background-color:  #f7fbff;\n",
       "            color:  #000000;\n",
       "        }    #T_836ceaf4_9dd5_11ea_a6cf_0050b66a8127row91_col1 {\n",
       "            background-color:  #fff5f0;\n",
       "            color:  #000000;\n",
       "        }    #T_836ceaf4_9dd5_11ea_a6cf_0050b66a8127row91_col2 {\n",
       "            background-color:  #fbfafc;\n",
       "            color:  #000000;\n",
       "        }    #T_836ceaf4_9dd5_11ea_a6cf_0050b66a8127row91_col4 {\n",
       "            background-color:  #fee595;\n",
       "            color:  #000000;\n",
       "        }    #T_836ceaf4_9dd5_11ea_a6cf_0050b66a8127row92_col0 {\n",
       "            background-color:  #f7fbff;\n",
       "            color:  #000000;\n",
       "        }    #T_836ceaf4_9dd5_11ea_a6cf_0050b66a8127row92_col1 {\n",
       "            background-color:  #fff5f0;\n",
       "            color:  #000000;\n",
       "        }    #T_836ceaf4_9dd5_11ea_a6cf_0050b66a8127row92_col2 {\n",
       "            background-color:  #fbfafc;\n",
       "            color:  #000000;\n",
       "        }    #T_836ceaf4_9dd5_11ea_a6cf_0050b66a8127row92_col4 {\n",
       "            background-color:  #fff4b5;\n",
       "            color:  #000000;\n",
       "        }    #T_836ceaf4_9dd5_11ea_a6cf_0050b66a8127row93_col0 {\n",
       "            background-color:  #f7fbff;\n",
       "            color:  #000000;\n",
       "        }    #T_836ceaf4_9dd5_11ea_a6cf_0050b66a8127row93_col1 {\n",
       "            background-color:  #fff5f0;\n",
       "            color:  #000000;\n",
       "        }    #T_836ceaf4_9dd5_11ea_a6cf_0050b66a8127row93_col2 {\n",
       "            background-color:  #fbfafc;\n",
       "            color:  #000000;\n",
       "        }    #T_836ceaf4_9dd5_11ea_a6cf_0050b66a8127row93_col4 {\n",
       "            background-color:  #fffacb;\n",
       "            color:  #000000;\n",
       "        }    #T_836ceaf4_9dd5_11ea_a6cf_0050b66a8127row94_col0 {\n",
       "            background-color:  #f7fbff;\n",
       "            color:  #000000;\n",
       "        }    #T_836ceaf4_9dd5_11ea_a6cf_0050b66a8127row94_col1 {\n",
       "            background-color:  #fff5f0;\n",
       "            color:  #000000;\n",
       "        }    #T_836ceaf4_9dd5_11ea_a6cf_0050b66a8127row94_col2 {\n",
       "            background-color:  #fbfafc;\n",
       "            color:  #000000;\n",
       "        }    #T_836ceaf4_9dd5_11ea_a6cf_0050b66a8127row94_col4 {\n",
       "            background-color:  #feeda6;\n",
       "            color:  #000000;\n",
       "        }    #T_836ceaf4_9dd5_11ea_a6cf_0050b66a8127row95_col0 {\n",
       "            background-color:  #f7fbff;\n",
       "            color:  #000000;\n",
       "        }    #T_836ceaf4_9dd5_11ea_a6cf_0050b66a8127row95_col1 {\n",
       "            background-color:  #fff5f0;\n",
       "            color:  #000000;\n",
       "        }    #T_836ceaf4_9dd5_11ea_a6cf_0050b66a8127row95_col2 {\n",
       "            background-color:  #fbfafc;\n",
       "            color:  #000000;\n",
       "        }    #T_836ceaf4_9dd5_11ea_a6cf_0050b66a8127row95_col4 {\n",
       "            background-color:  #fffcd6;\n",
       "            color:  #000000;\n",
       "        }    #T_836ceaf4_9dd5_11ea_a6cf_0050b66a8127row96_col0 {\n",
       "            background-color:  #f7fbff;\n",
       "            color:  #000000;\n",
       "        }    #T_836ceaf4_9dd5_11ea_a6cf_0050b66a8127row96_col1 {\n",
       "            background-color:  #fff5f0;\n",
       "            color:  #000000;\n",
       "        }    #T_836ceaf4_9dd5_11ea_a6cf_0050b66a8127row96_col2 {\n",
       "            background-color:  #fbfafc;\n",
       "            color:  #000000;\n",
       "        }    #T_836ceaf4_9dd5_11ea_a6cf_0050b66a8127row96_col4 {\n",
       "            background-color:  #fffdd9;\n",
       "            color:  #000000;\n",
       "        }    #T_836ceaf4_9dd5_11ea_a6cf_0050b66a8127row97_col0 {\n",
       "            background-color:  #f7fbff;\n",
       "            color:  #000000;\n",
       "        }    #T_836ceaf4_9dd5_11ea_a6cf_0050b66a8127row97_col1 {\n",
       "            background-color:  #fff5f0;\n",
       "            color:  #000000;\n",
       "        }    #T_836ceaf4_9dd5_11ea_a6cf_0050b66a8127row97_col2 {\n",
       "            background-color:  #fbfafc;\n",
       "            color:  #000000;\n",
       "        }    #T_836ceaf4_9dd5_11ea_a6cf_0050b66a8127row97_col4 {\n",
       "            background-color:  #febd49;\n",
       "            color:  #000000;\n",
       "        }    #T_836ceaf4_9dd5_11ea_a6cf_0050b66a8127row98_col0 {\n",
       "            background-color:  #f7fbff;\n",
       "            color:  #000000;\n",
       "        }    #T_836ceaf4_9dd5_11ea_a6cf_0050b66a8127row98_col1 {\n",
       "            background-color:  #fff5f0;\n",
       "            color:  #000000;\n",
       "        }    #T_836ceaf4_9dd5_11ea_a6cf_0050b66a8127row98_col2 {\n",
       "            background-color:  #fbfafc;\n",
       "            color:  #000000;\n",
       "        }    #T_836ceaf4_9dd5_11ea_a6cf_0050b66a8127row98_col4 {\n",
       "            background-color:  #fedb80;\n",
       "            color:  #000000;\n",
       "        }    #T_836ceaf4_9dd5_11ea_a6cf_0050b66a8127row99_col0 {\n",
       "            background-color:  #f7fbff;\n",
       "            color:  #000000;\n",
       "        }    #T_836ceaf4_9dd5_11ea_a6cf_0050b66a8127row99_col1 {\n",
       "            background-color:  #fff5f0;\n",
       "            color:  #000000;\n",
       "        }    #T_836ceaf4_9dd5_11ea_a6cf_0050b66a8127row99_col2 {\n",
       "            background-color:  #fbfafc;\n",
       "            color:  #000000;\n",
       "        }    #T_836ceaf4_9dd5_11ea_a6cf_0050b66a8127row99_col4 {\n",
       "            background-color:  #fff8c4;\n",
       "            color:  #000000;\n",
       "        }    #T_836ceaf4_9dd5_11ea_a6cf_0050b66a8127row100_col0 {\n",
       "            background-color:  #f7fbff;\n",
       "            color:  #000000;\n",
       "        }    #T_836ceaf4_9dd5_11ea_a6cf_0050b66a8127row100_col1 {\n",
       "            background-color:  #fff5f0;\n",
       "            color:  #000000;\n",
       "        }    #T_836ceaf4_9dd5_11ea_a6cf_0050b66a8127row100_col2 {\n",
       "            background-color:  #fbfafc;\n",
       "            color:  #000000;\n",
       "        }    #T_836ceaf4_9dd5_11ea_a6cf_0050b66a8127row100_col4 {\n",
       "            background-color:  #fffcd6;\n",
       "            color:  #000000;\n",
       "        }    #T_836ceaf4_9dd5_11ea_a6cf_0050b66a8127row101_col0 {\n",
       "            background-color:  #f7fbff;\n",
       "            color:  #000000;\n",
       "        }    #T_836ceaf4_9dd5_11ea_a6cf_0050b66a8127row101_col1 {\n",
       "            background-color:  #fff5f0;\n",
       "            color:  #000000;\n",
       "        }    #T_836ceaf4_9dd5_11ea_a6cf_0050b66a8127row101_col2 {\n",
       "            background-color:  #fbfafc;\n",
       "            color:  #000000;\n",
       "        }    #T_836ceaf4_9dd5_11ea_a6cf_0050b66a8127row101_col4 {\n",
       "            background-color:  #fed16b;\n",
       "            color:  #000000;\n",
       "        }    #T_836ceaf4_9dd5_11ea_a6cf_0050b66a8127row102_col0 {\n",
       "            background-color:  #f7fbff;\n",
       "            color:  #000000;\n",
       "        }    #T_836ceaf4_9dd5_11ea_a6cf_0050b66a8127row102_col1 {\n",
       "            background-color:  #fff5f0;\n",
       "            color:  #000000;\n",
       "        }    #T_836ceaf4_9dd5_11ea_a6cf_0050b66a8127row102_col2 {\n",
       "            background-color:  #fbfafc;\n",
       "            color:  #000000;\n",
       "        }    #T_836ceaf4_9dd5_11ea_a6cf_0050b66a8127row102_col4 {\n",
       "            background-color:  #fff7bd;\n",
       "            color:  #000000;\n",
       "        }    #T_836ceaf4_9dd5_11ea_a6cf_0050b66a8127row103_col0 {\n",
       "            background-color:  #f7fbff;\n",
       "            color:  #000000;\n",
       "        }    #T_836ceaf4_9dd5_11ea_a6cf_0050b66a8127row103_col1 {\n",
       "            background-color:  #fff5f0;\n",
       "            color:  #000000;\n",
       "        }    #T_836ceaf4_9dd5_11ea_a6cf_0050b66a8127row103_col2 {\n",
       "            background-color:  #fbfafc;\n",
       "            color:  #000000;\n",
       "        }    #T_836ceaf4_9dd5_11ea_a6cf_0050b66a8127row103_col4 {\n",
       "            background-color:  #fee799;\n",
       "            color:  #000000;\n",
       "        }    #T_836ceaf4_9dd5_11ea_a6cf_0050b66a8127row104_col0 {\n",
       "            background-color:  #f7fbff;\n",
       "            color:  #000000;\n",
       "        }    #T_836ceaf4_9dd5_11ea_a6cf_0050b66a8127row104_col1 {\n",
       "            background-color:  #fff5f0;\n",
       "            color:  #000000;\n",
       "        }    #T_836ceaf4_9dd5_11ea_a6cf_0050b66a8127row104_col2 {\n",
       "            background-color:  #fbfafc;\n",
       "            color:  #000000;\n",
       "        }    #T_836ceaf4_9dd5_11ea_a6cf_0050b66a8127row104_col4 {\n",
       "            background-color:  #fffcd6;\n",
       "            color:  #000000;\n",
       "        }    #T_836ceaf4_9dd5_11ea_a6cf_0050b66a8127row105_col0 {\n",
       "            background-color:  #f7fbff;\n",
       "            color:  #000000;\n",
       "        }    #T_836ceaf4_9dd5_11ea_a6cf_0050b66a8127row105_col1 {\n",
       "            background-color:  #fff5f0;\n",
       "            color:  #000000;\n",
       "        }    #T_836ceaf4_9dd5_11ea_a6cf_0050b66a8127row105_col2 {\n",
       "            background-color:  #fbfafc;\n",
       "            color:  #000000;\n",
       "        }    #T_836ceaf4_9dd5_11ea_a6cf_0050b66a8127row105_col4 {\n",
       "            background-color:  #fff8c4;\n",
       "            color:  #000000;\n",
       "        }    #T_836ceaf4_9dd5_11ea_a6cf_0050b66a8127row106_col0 {\n",
       "            background-color:  #f7fbff;\n",
       "            color:  #000000;\n",
       "        }    #T_836ceaf4_9dd5_11ea_a6cf_0050b66a8127row106_col1 {\n",
       "            background-color:  #fff5f0;\n",
       "            color:  #000000;\n",
       "        }    #T_836ceaf4_9dd5_11ea_a6cf_0050b66a8127row106_col2 {\n",
       "            background-color:  #fbfafc;\n",
       "            color:  #000000;\n",
       "        }    #T_836ceaf4_9dd5_11ea_a6cf_0050b66a8127row106_col4 {\n",
       "            background-color:  #fedd84;\n",
       "            color:  #000000;\n",
       "        }    #T_836ceaf4_9dd5_11ea_a6cf_0050b66a8127row107_col0 {\n",
       "            background-color:  #f7fbff;\n",
       "            color:  #000000;\n",
       "        }    #T_836ceaf4_9dd5_11ea_a6cf_0050b66a8127row107_col1 {\n",
       "            background-color:  #fff5f0;\n",
       "            color:  #000000;\n",
       "        }    #T_836ceaf4_9dd5_11ea_a6cf_0050b66a8127row107_col2 {\n",
       "            background-color:  #fbfafc;\n",
       "            color:  #000000;\n",
       "        }    #T_836ceaf4_9dd5_11ea_a6cf_0050b66a8127row107_col4 {\n",
       "            background-color:  #fffdd9;\n",
       "            color:  #000000;\n",
       "        }    #T_836ceaf4_9dd5_11ea_a6cf_0050b66a8127row108_col0 {\n",
       "            background-color:  #f7fbff;\n",
       "            color:  #000000;\n",
       "        }    #T_836ceaf4_9dd5_11ea_a6cf_0050b66a8127row108_col1 {\n",
       "            background-color:  #fff5f0;\n",
       "            color:  #000000;\n",
       "        }    #T_836ceaf4_9dd5_11ea_a6cf_0050b66a8127row108_col2 {\n",
       "            background-color:  #fbfafc;\n",
       "            color:  #000000;\n",
       "        }    #T_836ceaf4_9dd5_11ea_a6cf_0050b66a8127row108_col4 {\n",
       "            background-color:  #fffacd;\n",
       "            color:  #000000;\n",
       "        }    #T_836ceaf4_9dd5_11ea_a6cf_0050b66a8127row109_col0 {\n",
       "            background-color:  #f7fbff;\n",
       "            color:  #000000;\n",
       "        }    #T_836ceaf4_9dd5_11ea_a6cf_0050b66a8127row109_col1 {\n",
       "            background-color:  #fff5f0;\n",
       "            color:  #000000;\n",
       "        }    #T_836ceaf4_9dd5_11ea_a6cf_0050b66a8127row109_col2 {\n",
       "            background-color:  #fbfafc;\n",
       "            color:  #000000;\n",
       "        }    #T_836ceaf4_9dd5_11ea_a6cf_0050b66a8127row109_col4 {\n",
       "            background-color:  #fffbd2;\n",
       "            color:  #000000;\n",
       "        }    #T_836ceaf4_9dd5_11ea_a6cf_0050b66a8127row110_col0 {\n",
       "            background-color:  #f7fbff;\n",
       "            color:  #000000;\n",
       "        }    #T_836ceaf4_9dd5_11ea_a6cf_0050b66a8127row110_col1 {\n",
       "            background-color:  #fff5f0;\n",
       "            color:  #000000;\n",
       "        }    #T_836ceaf4_9dd5_11ea_a6cf_0050b66a8127row110_col2 {\n",
       "            background-color:  #fbfafc;\n",
       "            color:  #000000;\n",
       "        }    #T_836ceaf4_9dd5_11ea_a6cf_0050b66a8127row110_col4 {\n",
       "            background-color:  #fee493;\n",
       "            color:  #000000;\n",
       "        }    #T_836ceaf4_9dd5_11ea_a6cf_0050b66a8127row111_col0 {\n",
       "            background-color:  #f7fbff;\n",
       "            color:  #000000;\n",
       "        }    #T_836ceaf4_9dd5_11ea_a6cf_0050b66a8127row111_col1 {\n",
       "            background-color:  #fff5f0;\n",
       "            color:  #000000;\n",
       "        }    #T_836ceaf4_9dd5_11ea_a6cf_0050b66a8127row111_col2 {\n",
       "            background-color:  #fbfafc;\n",
       "            color:  #000000;\n",
       "        }    #T_836ceaf4_9dd5_11ea_a6cf_0050b66a8127row111_col4 {\n",
       "            background-color:  #fff1b0;\n",
       "            color:  #000000;\n",
       "        }    #T_836ceaf4_9dd5_11ea_a6cf_0050b66a8127row112_col0 {\n",
       "            background-color:  #f7fbff;\n",
       "            color:  #000000;\n",
       "        }    #T_836ceaf4_9dd5_11ea_a6cf_0050b66a8127row112_col1 {\n",
       "            background-color:  #fff5f0;\n",
       "            color:  #000000;\n",
       "        }    #T_836ceaf4_9dd5_11ea_a6cf_0050b66a8127row112_col2 {\n",
       "            background-color:  #fbfafc;\n",
       "            color:  #000000;\n",
       "        }    #T_836ceaf4_9dd5_11ea_a6cf_0050b66a8127row112_col4 {\n",
       "            background-color:  #fffaca;\n",
       "            color:  #000000;\n",
       "        }    #T_836ceaf4_9dd5_11ea_a6cf_0050b66a8127row113_col0 {\n",
       "            background-color:  #f7fbff;\n",
       "            color:  #000000;\n",
       "        }    #T_836ceaf4_9dd5_11ea_a6cf_0050b66a8127row113_col1 {\n",
       "            background-color:  #fff5f0;\n",
       "            color:  #000000;\n",
       "        }    #T_836ceaf4_9dd5_11ea_a6cf_0050b66a8127row113_col2 {\n",
       "            background-color:  #fbfafc;\n",
       "            color:  #000000;\n",
       "        }    #T_836ceaf4_9dd5_11ea_a6cf_0050b66a8127row113_col4 {\n",
       "            background-color:  #fff9c5;\n",
       "            color:  #000000;\n",
       "        }    #T_836ceaf4_9dd5_11ea_a6cf_0050b66a8127row114_col0 {\n",
       "            background-color:  #f7fbff;\n",
       "            color:  #000000;\n",
       "        }    #T_836ceaf4_9dd5_11ea_a6cf_0050b66a8127row114_col1 {\n",
       "            background-color:  #fff5f0;\n",
       "            color:  #000000;\n",
       "        }    #T_836ceaf4_9dd5_11ea_a6cf_0050b66a8127row114_col2 {\n",
       "            background-color:  #fbfafc;\n",
       "            color:  #000000;\n",
       "        }    #T_836ceaf4_9dd5_11ea_a6cf_0050b66a8127row114_col4 {\n",
       "            background-color:  #fffddd;\n",
       "            color:  #000000;\n",
       "        }    #T_836ceaf4_9dd5_11ea_a6cf_0050b66a8127row115_col0 {\n",
       "            background-color:  #f7fbff;\n",
       "            color:  #000000;\n",
       "        }    #T_836ceaf4_9dd5_11ea_a6cf_0050b66a8127row115_col1 {\n",
       "            background-color:  #fff5f0;\n",
       "            color:  #000000;\n",
       "        }    #T_836ceaf4_9dd5_11ea_a6cf_0050b66a8127row115_col2 {\n",
       "            background-color:  #fbfafc;\n",
       "            color:  #000000;\n",
       "        }    #T_836ceaf4_9dd5_11ea_a6cf_0050b66a8127row115_col4 {\n",
       "            background-color:  #fff6ba;\n",
       "            color:  #000000;\n",
       "        }    #T_836ceaf4_9dd5_11ea_a6cf_0050b66a8127row116_col0 {\n",
       "            background-color:  #f7fbff;\n",
       "            color:  #000000;\n",
       "        }    #T_836ceaf4_9dd5_11ea_a6cf_0050b66a8127row116_col1 {\n",
       "            background-color:  #fff5f0;\n",
       "            color:  #000000;\n",
       "        }    #T_836ceaf4_9dd5_11ea_a6cf_0050b66a8127row116_col2 {\n",
       "            background-color:  #fbfafc;\n",
       "            color:  #000000;\n",
       "        }    #T_836ceaf4_9dd5_11ea_a6cf_0050b66a8127row116_col4 {\n",
       "            background-color:  #fff6ba;\n",
       "            color:  #000000;\n",
       "        }    #T_836ceaf4_9dd5_11ea_a6cf_0050b66a8127row117_col0 {\n",
       "            background-color:  #f7fbff;\n",
       "            color:  #000000;\n",
       "        }    #T_836ceaf4_9dd5_11ea_a6cf_0050b66a8127row117_col1 {\n",
       "            background-color:  #fff5f0;\n",
       "            color:  #000000;\n",
       "        }    #T_836ceaf4_9dd5_11ea_a6cf_0050b66a8127row117_col2 {\n",
       "            background-color:  #fbfafc;\n",
       "            color:  #000000;\n",
       "        }    #T_836ceaf4_9dd5_11ea_a6cf_0050b66a8127row117_col4 {\n",
       "            background-color:  #fff9c6;\n",
       "            color:  #000000;\n",
       "        }    #T_836ceaf4_9dd5_11ea_a6cf_0050b66a8127row118_col0 {\n",
       "            background-color:  #f7fbff;\n",
       "            color:  #000000;\n",
       "        }    #T_836ceaf4_9dd5_11ea_a6cf_0050b66a8127row118_col1 {\n",
       "            background-color:  #fff5f0;\n",
       "            color:  #000000;\n",
       "        }    #T_836ceaf4_9dd5_11ea_a6cf_0050b66a8127row118_col2 {\n",
       "            background-color:  #fbfafc;\n",
       "            color:  #000000;\n",
       "        }    #T_836ceaf4_9dd5_11ea_a6cf_0050b66a8127row118_col4 {\n",
       "            background-color:  #fecc61;\n",
       "            color:  #000000;\n",
       "        }    #T_836ceaf4_9dd5_11ea_a6cf_0050b66a8127row119_col0 {\n",
       "            background-color:  #f7fbff;\n",
       "            color:  #000000;\n",
       "        }    #T_836ceaf4_9dd5_11ea_a6cf_0050b66a8127row119_col1 {\n",
       "            background-color:  #fff5f0;\n",
       "            color:  #000000;\n",
       "        }    #T_836ceaf4_9dd5_11ea_a6cf_0050b66a8127row119_col2 {\n",
       "            background-color:  #fbfafc;\n",
       "            color:  #000000;\n",
       "        }    #T_836ceaf4_9dd5_11ea_a6cf_0050b66a8127row119_col4 {\n",
       "            background-color:  #fffee1;\n",
       "            color:  #000000;\n",
       "        }    #T_836ceaf4_9dd5_11ea_a6cf_0050b66a8127row120_col0 {\n",
       "            background-color:  #f7fbff;\n",
       "            color:  #000000;\n",
       "        }    #T_836ceaf4_9dd5_11ea_a6cf_0050b66a8127row120_col1 {\n",
       "            background-color:  #fff5f0;\n",
       "            color:  #000000;\n",
       "        }    #T_836ceaf4_9dd5_11ea_a6cf_0050b66a8127row120_col2 {\n",
       "            background-color:  #fbfafc;\n",
       "            color:  #000000;\n",
       "        }    #T_836ceaf4_9dd5_11ea_a6cf_0050b66a8127row120_col4 {\n",
       "            background-color:  #fff4b5;\n",
       "            color:  #000000;\n",
       "        }    #T_836ceaf4_9dd5_11ea_a6cf_0050b66a8127row121_col0 {\n",
       "            background-color:  #f7fbff;\n",
       "            color:  #000000;\n",
       "        }    #T_836ceaf4_9dd5_11ea_a6cf_0050b66a8127row121_col1 {\n",
       "            background-color:  #fff5f0;\n",
       "            color:  #000000;\n",
       "        }    #T_836ceaf4_9dd5_11ea_a6cf_0050b66a8127row121_col2 {\n",
       "            background-color:  #fbfafc;\n",
       "            color:  #000000;\n",
       "        }    #T_836ceaf4_9dd5_11ea_a6cf_0050b66a8127row121_col4 {\n",
       "            background-color:  #ffffe5;\n",
       "            color:  #000000;\n",
       "        }    #T_836ceaf4_9dd5_11ea_a6cf_0050b66a8127row122_col0 {\n",
       "            background-color:  #f7fbff;\n",
       "            color:  #000000;\n",
       "        }    #T_836ceaf4_9dd5_11ea_a6cf_0050b66a8127row122_col1 {\n",
       "            background-color:  #fff5f0;\n",
       "            color:  #000000;\n",
       "        }    #T_836ceaf4_9dd5_11ea_a6cf_0050b66a8127row122_col2 {\n",
       "            background-color:  #fbfafc;\n",
       "            color:  #000000;\n",
       "        }    #T_836ceaf4_9dd5_11ea_a6cf_0050b66a8127row122_col4 {\n",
       "            background-color:  #ffffe5;\n",
       "            color:  #000000;\n",
       "        }    #T_836ceaf4_9dd5_11ea_a6cf_0050b66a8127row123_col0 {\n",
       "            background-color:  #f7fbff;\n",
       "            color:  #000000;\n",
       "        }    #T_836ceaf4_9dd5_11ea_a6cf_0050b66a8127row123_col1 {\n",
       "            background-color:  #fff5f0;\n",
       "            color:  #000000;\n",
       "        }    #T_836ceaf4_9dd5_11ea_a6cf_0050b66a8127row123_col2 {\n",
       "            background-color:  #fbfafc;\n",
       "            color:  #000000;\n",
       "        }    #T_836ceaf4_9dd5_11ea_a6cf_0050b66a8127row123_col4 {\n",
       "            background-color:  #fff1b0;\n",
       "            color:  #000000;\n",
       "        }    #T_836ceaf4_9dd5_11ea_a6cf_0050b66a8127row124_col0 {\n",
       "            background-color:  #f7fbff;\n",
       "            color:  #000000;\n",
       "        }    #T_836ceaf4_9dd5_11ea_a6cf_0050b66a8127row124_col1 {\n",
       "            background-color:  #fff5f0;\n",
       "            color:  #000000;\n",
       "        }    #T_836ceaf4_9dd5_11ea_a6cf_0050b66a8127row124_col2 {\n",
       "            background-color:  #fbfafc;\n",
       "            color:  #000000;\n",
       "        }    #T_836ceaf4_9dd5_11ea_a6cf_0050b66a8127row124_col4 {\n",
       "            background-color:  #fffcd4;\n",
       "            color:  #000000;\n",
       "        }    #T_836ceaf4_9dd5_11ea_a6cf_0050b66a8127row125_col0 {\n",
       "            background-color:  #f7fbff;\n",
       "            color:  #000000;\n",
       "        }    #T_836ceaf4_9dd5_11ea_a6cf_0050b66a8127row125_col1 {\n",
       "            background-color:  #fff5f0;\n",
       "            color:  #000000;\n",
       "        }    #T_836ceaf4_9dd5_11ea_a6cf_0050b66a8127row125_col2 {\n",
       "            background-color:  #fbfafc;\n",
       "            color:  #000000;\n",
       "        }    #T_836ceaf4_9dd5_11ea_a6cf_0050b66a8127row125_col4 {\n",
       "            background-color:  #ffffe5;\n",
       "            color:  #000000;\n",
       "        }    #T_836ceaf4_9dd5_11ea_a6cf_0050b66a8127row126_col0 {\n",
       "            background-color:  #f7fbff;\n",
       "            color:  #000000;\n",
       "        }    #T_836ceaf4_9dd5_11ea_a6cf_0050b66a8127row126_col1 {\n",
       "            background-color:  #fff5f0;\n",
       "            color:  #000000;\n",
       "        }    #T_836ceaf4_9dd5_11ea_a6cf_0050b66a8127row126_col2 {\n",
       "            background-color:  #fbfafc;\n",
       "            color:  #000000;\n",
       "        }    #T_836ceaf4_9dd5_11ea_a6cf_0050b66a8127row126_col4 {\n",
       "            background-color:  #fff1ae;\n",
       "            color:  #000000;\n",
       "        }    #T_836ceaf4_9dd5_11ea_a6cf_0050b66a8127row127_col0 {\n",
       "            background-color:  #f7fbff;\n",
       "            color:  #000000;\n",
       "        }    #T_836ceaf4_9dd5_11ea_a6cf_0050b66a8127row127_col1 {\n",
       "            background-color:  #fff5f0;\n",
       "            color:  #000000;\n",
       "        }    #T_836ceaf4_9dd5_11ea_a6cf_0050b66a8127row127_col2 {\n",
       "            background-color:  #fbfafc;\n",
       "            color:  #000000;\n",
       "        }    #T_836ceaf4_9dd5_11ea_a6cf_0050b66a8127row127_col4 {\n",
       "            background-color:  #fff4b6;\n",
       "            color:  #000000;\n",
       "        }    #T_836ceaf4_9dd5_11ea_a6cf_0050b66a8127row128_col0 {\n",
       "            background-color:  #f7fbff;\n",
       "            color:  #000000;\n",
       "        }    #T_836ceaf4_9dd5_11ea_a6cf_0050b66a8127row128_col1 {\n",
       "            background-color:  #fff5f0;\n",
       "            color:  #000000;\n",
       "        }    #T_836ceaf4_9dd5_11ea_a6cf_0050b66a8127row128_col2 {\n",
       "            background-color:  #fbfafc;\n",
       "            color:  #000000;\n",
       "        }    #T_836ceaf4_9dd5_11ea_a6cf_0050b66a8127row128_col4 {\n",
       "            background-color:  #fe9c2c;\n",
       "            color:  #000000;\n",
       "        }    #T_836ceaf4_9dd5_11ea_a6cf_0050b66a8127row129_col0 {\n",
       "            background-color:  #f7fbff;\n",
       "            color:  #000000;\n",
       "        }    #T_836ceaf4_9dd5_11ea_a6cf_0050b66a8127row129_col1 {\n",
       "            background-color:  #fff5f0;\n",
       "            color:  #000000;\n",
       "        }    #T_836ceaf4_9dd5_11ea_a6cf_0050b66a8127row129_col2 {\n",
       "            background-color:  #fbfafc;\n",
       "            color:  #000000;\n",
       "        }    #T_836ceaf4_9dd5_11ea_a6cf_0050b66a8127row129_col4 {\n",
       "            background-color:  #fffddc;\n",
       "            color:  #000000;\n",
       "        }    #T_836ceaf4_9dd5_11ea_a6cf_0050b66a8127row130_col0 {\n",
       "            background-color:  #f7fbff;\n",
       "            color:  #000000;\n",
       "        }    #T_836ceaf4_9dd5_11ea_a6cf_0050b66a8127row130_col1 {\n",
       "            background-color:  #fff5f0;\n",
       "            color:  #000000;\n",
       "        }    #T_836ceaf4_9dd5_11ea_a6cf_0050b66a8127row130_col2 {\n",
       "            background-color:  #fbfafc;\n",
       "            color:  #000000;\n",
       "        }    #T_836ceaf4_9dd5_11ea_a6cf_0050b66a8127row130_col4 {\n",
       "            background-color:  #ffffe5;\n",
       "            color:  #000000;\n",
       "        }    #T_836ceaf4_9dd5_11ea_a6cf_0050b66a8127row131_col0 {\n",
       "            background-color:  #f7fbff;\n",
       "            color:  #000000;\n",
       "        }    #T_836ceaf4_9dd5_11ea_a6cf_0050b66a8127row131_col1 {\n",
       "            background-color:  #fff5f0;\n",
       "            color:  #000000;\n",
       "        }    #T_836ceaf4_9dd5_11ea_a6cf_0050b66a8127row131_col2 {\n",
       "            background-color:  #fbfafc;\n",
       "            color:  #000000;\n",
       "        }    #T_836ceaf4_9dd5_11ea_a6cf_0050b66a8127row131_col4 {\n",
       "            background-color:  #fff8c4;\n",
       "            color:  #000000;\n",
       "        }    #T_836ceaf4_9dd5_11ea_a6cf_0050b66a8127row132_col0 {\n",
       "            background-color:  #f7fbff;\n",
       "            color:  #000000;\n",
       "        }    #T_836ceaf4_9dd5_11ea_a6cf_0050b66a8127row132_col1 {\n",
       "            background-color:  #fff5f0;\n",
       "            color:  #000000;\n",
       "        }    #T_836ceaf4_9dd5_11ea_a6cf_0050b66a8127row132_col2 {\n",
       "            background-color:  #fbfafc;\n",
       "            color:  #000000;\n",
       "        }    #T_836ceaf4_9dd5_11ea_a6cf_0050b66a8127row132_col4 {\n",
       "            background-color:  #ffffe5;\n",
       "            color:  #000000;\n",
       "        }    #T_836ceaf4_9dd5_11ea_a6cf_0050b66a8127row133_col0 {\n",
       "            background-color:  #f7fbff;\n",
       "            color:  #000000;\n",
       "        }    #T_836ceaf4_9dd5_11ea_a6cf_0050b66a8127row133_col1 {\n",
       "            background-color:  #fff5f0;\n",
       "            color:  #000000;\n",
       "        }    #T_836ceaf4_9dd5_11ea_a6cf_0050b66a8127row133_col2 {\n",
       "            background-color:  #fbfafc;\n",
       "            color:  #000000;\n",
       "        }    #T_836ceaf4_9dd5_11ea_a6cf_0050b66a8127row133_col4 {\n",
       "            background-color:  #fed778;\n",
       "            color:  #000000;\n",
       "        }    #T_836ceaf4_9dd5_11ea_a6cf_0050b66a8127row134_col0 {\n",
       "            background-color:  #f7fbff;\n",
       "            color:  #000000;\n",
       "        }    #T_836ceaf4_9dd5_11ea_a6cf_0050b66a8127row134_col1 {\n",
       "            background-color:  #fff5f0;\n",
       "            color:  #000000;\n",
       "        }    #T_836ceaf4_9dd5_11ea_a6cf_0050b66a8127row134_col2 {\n",
       "            background-color:  #fbfafc;\n",
       "            color:  #000000;\n",
       "        }    #T_836ceaf4_9dd5_11ea_a6cf_0050b66a8127row134_col4 {\n",
       "            background-color:  #fffdd9;\n",
       "            color:  #000000;\n",
       "        }    #T_836ceaf4_9dd5_11ea_a6cf_0050b66a8127row135_col0 {\n",
       "            background-color:  #f7fbff;\n",
       "            color:  #000000;\n",
       "        }    #T_836ceaf4_9dd5_11ea_a6cf_0050b66a8127row135_col1 {\n",
       "            background-color:  #fff5f0;\n",
       "            color:  #000000;\n",
       "        }    #T_836ceaf4_9dd5_11ea_a6cf_0050b66a8127row135_col2 {\n",
       "            background-color:  #fbfafc;\n",
       "            color:  #000000;\n",
       "        }    #T_836ceaf4_9dd5_11ea_a6cf_0050b66a8127row135_col4 {\n",
       "            background-color:  #fff1ae;\n",
       "            color:  #000000;\n",
       "        }    #T_836ceaf4_9dd5_11ea_a6cf_0050b66a8127row136_col0 {\n",
       "            background-color:  #f7fbff;\n",
       "            color:  #000000;\n",
       "        }    #T_836ceaf4_9dd5_11ea_a6cf_0050b66a8127row136_col1 {\n",
       "            background-color:  #fff5f0;\n",
       "            color:  #000000;\n",
       "        }    #T_836ceaf4_9dd5_11ea_a6cf_0050b66a8127row136_col2 {\n",
       "            background-color:  #fbfafc;\n",
       "            color:  #000000;\n",
       "        }    #T_836ceaf4_9dd5_11ea_a6cf_0050b66a8127row136_col4 {\n",
       "            background-color:  #fee08a;\n",
       "            color:  #000000;\n",
       "        }    #T_836ceaf4_9dd5_11ea_a6cf_0050b66a8127row137_col0 {\n",
       "            background-color:  #f7fbff;\n",
       "            color:  #000000;\n",
       "        }    #T_836ceaf4_9dd5_11ea_a6cf_0050b66a8127row137_col1 {\n",
       "            background-color:  #fff5f0;\n",
       "            color:  #000000;\n",
       "        }    #T_836ceaf4_9dd5_11ea_a6cf_0050b66a8127row137_col2 {\n",
       "            background-color:  #fbfafc;\n",
       "            color:  #000000;\n",
       "        }    #T_836ceaf4_9dd5_11ea_a6cf_0050b66a8127row137_col4 {\n",
       "            background-color:  #fff5b8;\n",
       "            color:  #000000;\n",
       "        }    #T_836ceaf4_9dd5_11ea_a6cf_0050b66a8127row138_col0 {\n",
       "            background-color:  #f7fbff;\n",
       "            color:  #000000;\n",
       "        }    #T_836ceaf4_9dd5_11ea_a6cf_0050b66a8127row138_col1 {\n",
       "            background-color:  #fff5f0;\n",
       "            color:  #000000;\n",
       "        }    #T_836ceaf4_9dd5_11ea_a6cf_0050b66a8127row138_col2 {\n",
       "            background-color:  #fbfafc;\n",
       "            color:  #000000;\n",
       "        }    #T_836ceaf4_9dd5_11ea_a6cf_0050b66a8127row138_col4 {\n",
       "            background-color:  #ffeea9;\n",
       "            color:  #000000;\n",
       "        }    #T_836ceaf4_9dd5_11ea_a6cf_0050b66a8127row139_col0 {\n",
       "            background-color:  #f7fbff;\n",
       "            color:  #000000;\n",
       "        }    #T_836ceaf4_9dd5_11ea_a6cf_0050b66a8127row139_col1 {\n",
       "            background-color:  #fff5f0;\n",
       "            color:  #000000;\n",
       "        }    #T_836ceaf4_9dd5_11ea_a6cf_0050b66a8127row139_col2 {\n",
       "            background-color:  #fbfafc;\n",
       "            color:  #000000;\n",
       "        }    #T_836ceaf4_9dd5_11ea_a6cf_0050b66a8127row139_col4 {\n",
       "            background-color:  #fffcd4;\n",
       "            color:  #000000;\n",
       "        }    #T_836ceaf4_9dd5_11ea_a6cf_0050b66a8127row140_col0 {\n",
       "            background-color:  #f7fbff;\n",
       "            color:  #000000;\n",
       "        }    #T_836ceaf4_9dd5_11ea_a6cf_0050b66a8127row140_col1 {\n",
       "            background-color:  #fff5f0;\n",
       "            color:  #000000;\n",
       "        }    #T_836ceaf4_9dd5_11ea_a6cf_0050b66a8127row140_col2 {\n",
       "            background-color:  #fbfafc;\n",
       "            color:  #000000;\n",
       "        }    #T_836ceaf4_9dd5_11ea_a6cf_0050b66a8127row140_col4 {\n",
       "            background-color:  #f07919;\n",
       "            color:  #000000;\n",
       "        }    #T_836ceaf4_9dd5_11ea_a6cf_0050b66a8127row141_col0 {\n",
       "            background-color:  #f7fbff;\n",
       "            color:  #000000;\n",
       "        }    #T_836ceaf4_9dd5_11ea_a6cf_0050b66a8127row141_col1 {\n",
       "            background-color:  #fff5f0;\n",
       "            color:  #000000;\n",
       "        }    #T_836ceaf4_9dd5_11ea_a6cf_0050b66a8127row141_col2 {\n",
       "            background-color:  #fbfafc;\n",
       "            color:  #000000;\n",
       "        }    #T_836ceaf4_9dd5_11ea_a6cf_0050b66a8127row141_col4 {\n",
       "            background-color:  #fed069;\n",
       "            color:  #000000;\n",
       "        }    #T_836ceaf4_9dd5_11ea_a6cf_0050b66a8127row142_col0 {\n",
       "            background-color:  #f7fbff;\n",
       "            color:  #000000;\n",
       "        }    #T_836ceaf4_9dd5_11ea_a6cf_0050b66a8127row142_col1 {\n",
       "            background-color:  #fff5f0;\n",
       "            color:  #000000;\n",
       "        }    #T_836ceaf4_9dd5_11ea_a6cf_0050b66a8127row142_col2 {\n",
       "            background-color:  #fbfafc;\n",
       "            color:  #000000;\n",
       "        }    #T_836ceaf4_9dd5_11ea_a6cf_0050b66a8127row142_col4 {\n",
       "            background-color:  #ffffe5;\n",
       "            color:  #000000;\n",
       "        }    #T_836ceaf4_9dd5_11ea_a6cf_0050b66a8127row143_col0 {\n",
       "            background-color:  #f7fbff;\n",
       "            color:  #000000;\n",
       "        }    #T_836ceaf4_9dd5_11ea_a6cf_0050b66a8127row143_col1 {\n",
       "            background-color:  #fff5f0;\n",
       "            color:  #000000;\n",
       "        }    #T_836ceaf4_9dd5_11ea_a6cf_0050b66a8127row143_col2 {\n",
       "            background-color:  #fbfafc;\n",
       "            color:  #000000;\n",
       "        }    #T_836ceaf4_9dd5_11ea_a6cf_0050b66a8127row143_col4 {\n",
       "            background-color:  #ffffe5;\n",
       "            color:  #000000;\n",
       "        }    #T_836ceaf4_9dd5_11ea_a6cf_0050b66a8127row144_col0 {\n",
       "            background-color:  #f7fbff;\n",
       "            color:  #000000;\n",
       "        }    #T_836ceaf4_9dd5_11ea_a6cf_0050b66a8127row144_col1 {\n",
       "            background-color:  #fff5f0;\n",
       "            color:  #000000;\n",
       "        }    #T_836ceaf4_9dd5_11ea_a6cf_0050b66a8127row144_col2 {\n",
       "            background-color:  #fbfafc;\n",
       "            color:  #000000;\n",
       "        }    #T_836ceaf4_9dd5_11ea_a6cf_0050b66a8127row144_col4 {\n",
       "            background-color:  #fecc61;\n",
       "            color:  #000000;\n",
       "        }    #T_836ceaf4_9dd5_11ea_a6cf_0050b66a8127row145_col0 {\n",
       "            background-color:  #f7fbff;\n",
       "            color:  #000000;\n",
       "        }    #T_836ceaf4_9dd5_11ea_a6cf_0050b66a8127row145_col1 {\n",
       "            background-color:  #fff5f0;\n",
       "            color:  #000000;\n",
       "        }    #T_836ceaf4_9dd5_11ea_a6cf_0050b66a8127row145_col2 {\n",
       "            background-color:  #fbfafc;\n",
       "            color:  #000000;\n",
       "        }    #T_836ceaf4_9dd5_11ea_a6cf_0050b66a8127row145_col4 {\n",
       "            background-color:  #fea433;\n",
       "            color:  #000000;\n",
       "        }    #T_836ceaf4_9dd5_11ea_a6cf_0050b66a8127row146_col0 {\n",
       "            background-color:  #f7fbff;\n",
       "            color:  #000000;\n",
       "        }    #T_836ceaf4_9dd5_11ea_a6cf_0050b66a8127row146_col1 {\n",
       "            background-color:  #fff5f0;\n",
       "            color:  #000000;\n",
       "        }    #T_836ceaf4_9dd5_11ea_a6cf_0050b66a8127row146_col2 {\n",
       "            background-color:  #fbfafc;\n",
       "            color:  #000000;\n",
       "        }    #T_836ceaf4_9dd5_11ea_a6cf_0050b66a8127row146_col4 {\n",
       "            background-color:  #fffbd2;\n",
       "            color:  #000000;\n",
       "        }    #T_836ceaf4_9dd5_11ea_a6cf_0050b66a8127row147_col0 {\n",
       "            background-color:  #f7fbff;\n",
       "            color:  #000000;\n",
       "        }    #T_836ceaf4_9dd5_11ea_a6cf_0050b66a8127row147_col1 {\n",
       "            background-color:  #fff5f0;\n",
       "            color:  #000000;\n",
       "        }    #T_836ceaf4_9dd5_11ea_a6cf_0050b66a8127row147_col2 {\n",
       "            background-color:  #fbfafc;\n",
       "            color:  #000000;\n",
       "        }    #T_836ceaf4_9dd5_11ea_a6cf_0050b66a8127row147_col4 {\n",
       "            background-color:  #fffbd2;\n",
       "            color:  #000000;\n",
       "        }    #T_836ceaf4_9dd5_11ea_a6cf_0050b66a8127row148_col0 {\n",
       "            background-color:  #f7fbff;\n",
       "            color:  #000000;\n",
       "        }    #T_836ceaf4_9dd5_11ea_a6cf_0050b66a8127row148_col1 {\n",
       "            background-color:  #fff5f0;\n",
       "            color:  #000000;\n",
       "        }    #T_836ceaf4_9dd5_11ea_a6cf_0050b66a8127row148_col2 {\n",
       "            background-color:  #fbfafc;\n",
       "            color:  #000000;\n",
       "        }    #T_836ceaf4_9dd5_11ea_a6cf_0050b66a8127row148_col4 {\n",
       "            background-color:  #fffbcf;\n",
       "            color:  #000000;\n",
       "        }    #T_836ceaf4_9dd5_11ea_a6cf_0050b66a8127row149_col0 {\n",
       "            background-color:  #f7fbff;\n",
       "            color:  #000000;\n",
       "        }    #T_836ceaf4_9dd5_11ea_a6cf_0050b66a8127row149_col1 {\n",
       "            background-color:  #fff5f0;\n",
       "            color:  #000000;\n",
       "        }    #T_836ceaf4_9dd5_11ea_a6cf_0050b66a8127row149_col2 {\n",
       "            background-color:  #fbfafc;\n",
       "            color:  #000000;\n",
       "        }    #T_836ceaf4_9dd5_11ea_a6cf_0050b66a8127row149_col4 {\n",
       "            background-color:  #fff4b6;\n",
       "            color:  #000000;\n",
       "        }    #T_836ceaf4_9dd5_11ea_a6cf_0050b66a8127row150_col0 {\n",
       "            background-color:  #f7fbff;\n",
       "            color:  #000000;\n",
       "        }    #T_836ceaf4_9dd5_11ea_a6cf_0050b66a8127row150_col1 {\n",
       "            background-color:  #fff5f0;\n",
       "            color:  #000000;\n",
       "        }    #T_836ceaf4_9dd5_11ea_a6cf_0050b66a8127row150_col2 {\n",
       "            background-color:  #fbfafc;\n",
       "            color:  #000000;\n",
       "        }    #T_836ceaf4_9dd5_11ea_a6cf_0050b66a8127row150_col4 {\n",
       "            background-color:  #ffffe5;\n",
       "            color:  #000000;\n",
       "        }    #T_836ceaf4_9dd5_11ea_a6cf_0050b66a8127row151_col0 {\n",
       "            background-color:  #f7fbff;\n",
       "            color:  #000000;\n",
       "        }    #T_836ceaf4_9dd5_11ea_a6cf_0050b66a8127row151_col1 {\n",
       "            background-color:  #fff5f0;\n",
       "            color:  #000000;\n",
       "        }    #T_836ceaf4_9dd5_11ea_a6cf_0050b66a8127row151_col2 {\n",
       "            background-color:  #fbfafc;\n",
       "            color:  #000000;\n",
       "        }    #T_836ceaf4_9dd5_11ea_a6cf_0050b66a8127row151_col4 {\n",
       "            background-color:  #fff1ae;\n",
       "            color:  #000000;\n",
       "        }    #T_836ceaf4_9dd5_11ea_a6cf_0050b66a8127row152_col0 {\n",
       "            background-color:  #f7fbff;\n",
       "            color:  #000000;\n",
       "        }    #T_836ceaf4_9dd5_11ea_a6cf_0050b66a8127row152_col1 {\n",
       "            background-color:  #fff5f0;\n",
       "            color:  #000000;\n",
       "        }    #T_836ceaf4_9dd5_11ea_a6cf_0050b66a8127row152_col2 {\n",
       "            background-color:  #fbfafc;\n",
       "            color:  #000000;\n",
       "        }    #T_836ceaf4_9dd5_11ea_a6cf_0050b66a8127row152_col4 {\n",
       "            background-color:  #ffffe5;\n",
       "            color:  #000000;\n",
       "        }    #T_836ceaf4_9dd5_11ea_a6cf_0050b66a8127row153_col0 {\n",
       "            background-color:  #f7fbff;\n",
       "            color:  #000000;\n",
       "        }    #T_836ceaf4_9dd5_11ea_a6cf_0050b66a8127row153_col1 {\n",
       "            background-color:  #fff5f0;\n",
       "            color:  #000000;\n",
       "        }    #T_836ceaf4_9dd5_11ea_a6cf_0050b66a8127row153_col2 {\n",
       "            background-color:  #fbfafc;\n",
       "            color:  #000000;\n",
       "        }    #T_836ceaf4_9dd5_11ea_a6cf_0050b66a8127row153_col4 {\n",
       "            background-color:  #fed676;\n",
       "            color:  #000000;\n",
       "        }    #T_836ceaf4_9dd5_11ea_a6cf_0050b66a8127row154_col0 {\n",
       "            background-color:  #f7fbff;\n",
       "            color:  #000000;\n",
       "        }    #T_836ceaf4_9dd5_11ea_a6cf_0050b66a8127row154_col1 {\n",
       "            background-color:  #fff5f0;\n",
       "            color:  #000000;\n",
       "        }    #T_836ceaf4_9dd5_11ea_a6cf_0050b66a8127row154_col2 {\n",
       "            background-color:  #fbfafc;\n",
       "            color:  #000000;\n",
       "        }    #T_836ceaf4_9dd5_11ea_a6cf_0050b66a8127row154_col4 {\n",
       "            background-color:  #ffffe5;\n",
       "            color:  #000000;\n",
       "        }    #T_836ceaf4_9dd5_11ea_a6cf_0050b66a8127row155_col0 {\n",
       "            background-color:  #f7fbff;\n",
       "            color:  #000000;\n",
       "        }    #T_836ceaf4_9dd5_11ea_a6cf_0050b66a8127row155_col1 {\n",
       "            background-color:  #fff5f0;\n",
       "            color:  #000000;\n",
       "        }    #T_836ceaf4_9dd5_11ea_a6cf_0050b66a8127row155_col2 {\n",
       "            background-color:  #fbfafc;\n",
       "            color:  #000000;\n",
       "        }    #T_836ceaf4_9dd5_11ea_a6cf_0050b66a8127row155_col4 {\n",
       "            background-color:  #ffffe5;\n",
       "            color:  #000000;\n",
       "        }    #T_836ceaf4_9dd5_11ea_a6cf_0050b66a8127row156_col0 {\n",
       "            background-color:  #f7fbff;\n",
       "            color:  #000000;\n",
       "        }    #T_836ceaf4_9dd5_11ea_a6cf_0050b66a8127row156_col1 {\n",
       "            background-color:  #fff5f0;\n",
       "            color:  #000000;\n",
       "        }    #T_836ceaf4_9dd5_11ea_a6cf_0050b66a8127row156_col2 {\n",
       "            background-color:  #fbfafc;\n",
       "            color:  #000000;\n",
       "        }    #T_836ceaf4_9dd5_11ea_a6cf_0050b66a8127row156_col4 {\n",
       "            background-color:  #fec857;\n",
       "            color:  #000000;\n",
       "        }    #T_836ceaf4_9dd5_11ea_a6cf_0050b66a8127row157_col0 {\n",
       "            background-color:  #f7fbff;\n",
       "            color:  #000000;\n",
       "        }    #T_836ceaf4_9dd5_11ea_a6cf_0050b66a8127row157_col1 {\n",
       "            background-color:  #fff5f0;\n",
       "            color:  #000000;\n",
       "        }    #T_836ceaf4_9dd5_11ea_a6cf_0050b66a8127row157_col2 {\n",
       "            background-color:  #fbfafc;\n",
       "            color:  #000000;\n",
       "        }    #T_836ceaf4_9dd5_11ea_a6cf_0050b66a8127row157_col4 {\n",
       "            background-color:  #ffffe5;\n",
       "            color:  #000000;\n",
       "        }    #T_836ceaf4_9dd5_11ea_a6cf_0050b66a8127row158_col0 {\n",
       "            background-color:  #f7fbff;\n",
       "            color:  #000000;\n",
       "        }    #T_836ceaf4_9dd5_11ea_a6cf_0050b66a8127row158_col1 {\n",
       "            background-color:  #fff5f0;\n",
       "            color:  #000000;\n",
       "        }    #T_836ceaf4_9dd5_11ea_a6cf_0050b66a8127row158_col2 {\n",
       "            background-color:  #fbfafc;\n",
       "            color:  #000000;\n",
       "        }    #T_836ceaf4_9dd5_11ea_a6cf_0050b66a8127row158_col4 {\n",
       "            background-color:  #f88b22;\n",
       "            color:  #000000;\n",
       "        }    #T_836ceaf4_9dd5_11ea_a6cf_0050b66a8127row159_col0 {\n",
       "            background-color:  #f7fbff;\n",
       "            color:  #000000;\n",
       "        }    #T_836ceaf4_9dd5_11ea_a6cf_0050b66a8127row159_col1 {\n",
       "            background-color:  #fff5f0;\n",
       "            color:  #000000;\n",
       "        }    #T_836ceaf4_9dd5_11ea_a6cf_0050b66a8127row159_col2 {\n",
       "            background-color:  #fbfafc;\n",
       "            color:  #000000;\n",
       "        }    #T_836ceaf4_9dd5_11ea_a6cf_0050b66a8127row159_col4 {\n",
       "            background-color:  #fed16b;\n",
       "            color:  #000000;\n",
       "        }    #T_836ceaf4_9dd5_11ea_a6cf_0050b66a8127row160_col0 {\n",
       "            background-color:  #f7fbff;\n",
       "            color:  #000000;\n",
       "        }    #T_836ceaf4_9dd5_11ea_a6cf_0050b66a8127row160_col1 {\n",
       "            background-color:  #fff5f0;\n",
       "            color:  #000000;\n",
       "        }    #T_836ceaf4_9dd5_11ea_a6cf_0050b66a8127row160_col2 {\n",
       "            background-color:  #fbfafc;\n",
       "            color:  #000000;\n",
       "        }    #T_836ceaf4_9dd5_11ea_a6cf_0050b66a8127row160_col4 {\n",
       "            background-color:  #f88b22;\n",
       "            color:  #000000;\n",
       "        }    #T_836ceaf4_9dd5_11ea_a6cf_0050b66a8127row161_col0 {\n",
       "            background-color:  #f7fbff;\n",
       "            color:  #000000;\n",
       "        }    #T_836ceaf4_9dd5_11ea_a6cf_0050b66a8127row161_col1 {\n",
       "            background-color:  #fff5f0;\n",
       "            color:  #000000;\n",
       "        }    #T_836ceaf4_9dd5_11ea_a6cf_0050b66a8127row161_col2 {\n",
       "            background-color:  #fbfafc;\n",
       "            color:  #000000;\n",
       "        }    #T_836ceaf4_9dd5_11ea_a6cf_0050b66a8127row161_col4 {\n",
       "            background-color:  #ffffe5;\n",
       "            color:  #000000;\n",
       "        }    #T_836ceaf4_9dd5_11ea_a6cf_0050b66a8127row162_col0 {\n",
       "            background-color:  #f7fbff;\n",
       "            color:  #000000;\n",
       "        }    #T_836ceaf4_9dd5_11ea_a6cf_0050b66a8127row162_col1 {\n",
       "            background-color:  #fff5f0;\n",
       "            color:  #000000;\n",
       "        }    #T_836ceaf4_9dd5_11ea_a6cf_0050b66a8127row162_col2 {\n",
       "            background-color:  #fbfafc;\n",
       "            color:  #000000;\n",
       "        }    #T_836ceaf4_9dd5_11ea_a6cf_0050b66a8127row162_col4 {\n",
       "            background-color:  #feeda6;\n",
       "            color:  #000000;\n",
       "        }    #T_836ceaf4_9dd5_11ea_a6cf_0050b66a8127row163_col0 {\n",
       "            background-color:  #f7fbff;\n",
       "            color:  #000000;\n",
       "        }    #T_836ceaf4_9dd5_11ea_a6cf_0050b66a8127row163_col1 {\n",
       "            background-color:  #fff5f0;\n",
       "            color:  #000000;\n",
       "        }    #T_836ceaf4_9dd5_11ea_a6cf_0050b66a8127row163_col2 {\n",
       "            background-color:  #fbfafc;\n",
       "            color:  #000000;\n",
       "        }    #T_836ceaf4_9dd5_11ea_a6cf_0050b66a8127row163_col4 {\n",
       "            background-color:  #ffffe5;\n",
       "            color:  #000000;\n",
       "        }    #T_836ceaf4_9dd5_11ea_a6cf_0050b66a8127row164_col0 {\n",
       "            background-color:  #f7fbff;\n",
       "            color:  #000000;\n",
       "        }    #T_836ceaf4_9dd5_11ea_a6cf_0050b66a8127row164_col1 {\n",
       "            background-color:  #fff5f0;\n",
       "            color:  #000000;\n",
       "        }    #T_836ceaf4_9dd5_11ea_a6cf_0050b66a8127row164_col2 {\n",
       "            background-color:  #fbfafc;\n",
       "            color:  #000000;\n",
       "        }    #T_836ceaf4_9dd5_11ea_a6cf_0050b66a8127row164_col4 {\n",
       "            background-color:  #ffffe5;\n",
       "            color:  #000000;\n",
       "        }    #T_836ceaf4_9dd5_11ea_a6cf_0050b66a8127row165_col0 {\n",
       "            background-color:  #f7fbff;\n",
       "            color:  #000000;\n",
       "        }    #T_836ceaf4_9dd5_11ea_a6cf_0050b66a8127row165_col1 {\n",
       "            background-color:  #fff5f0;\n",
       "            color:  #000000;\n",
       "        }    #T_836ceaf4_9dd5_11ea_a6cf_0050b66a8127row165_col2 {\n",
       "            background-color:  #fbfafc;\n",
       "            color:  #000000;\n",
       "        }    #T_836ceaf4_9dd5_11ea_a6cf_0050b66a8127row165_col4 {\n",
       "            background-color:  #ffffe5;\n",
       "            color:  #000000;\n",
       "        }    #T_836ceaf4_9dd5_11ea_a6cf_0050b66a8127row166_col0 {\n",
       "            background-color:  #f7fbff;\n",
       "            color:  #000000;\n",
       "        }    #T_836ceaf4_9dd5_11ea_a6cf_0050b66a8127row166_col1 {\n",
       "            background-color:  #fff5f0;\n",
       "            color:  #000000;\n",
       "        }    #T_836ceaf4_9dd5_11ea_a6cf_0050b66a8127row166_col2 {\n",
       "            background-color:  #fbfafc;\n",
       "            color:  #000000;\n",
       "        }    #T_836ceaf4_9dd5_11ea_a6cf_0050b66a8127row166_col4 {\n",
       "            background-color:  #fe9f2e;\n",
       "            color:  #000000;\n",
       "        }    #T_836ceaf4_9dd5_11ea_a6cf_0050b66a8127row167_col0 {\n",
       "            background-color:  #f7fbff;\n",
       "            color:  #000000;\n",
       "        }    #T_836ceaf4_9dd5_11ea_a6cf_0050b66a8127row167_col1 {\n",
       "            background-color:  #fff5f0;\n",
       "            color:  #000000;\n",
       "        }    #T_836ceaf4_9dd5_11ea_a6cf_0050b66a8127row167_col2 {\n",
       "            background-color:  #fbfafc;\n",
       "            color:  #000000;\n",
       "        }    #T_836ceaf4_9dd5_11ea_a6cf_0050b66a8127row167_col4 {\n",
       "            background-color:  #ffffe5;\n",
       "            color:  #000000;\n",
       "        }    #T_836ceaf4_9dd5_11ea_a6cf_0050b66a8127row168_col0 {\n",
       "            background-color:  #f7fbff;\n",
       "            color:  #000000;\n",
       "        }    #T_836ceaf4_9dd5_11ea_a6cf_0050b66a8127row168_col1 {\n",
       "            background-color:  #fff5f0;\n",
       "            color:  #000000;\n",
       "        }    #T_836ceaf4_9dd5_11ea_a6cf_0050b66a8127row168_col2 {\n",
       "            background-color:  #fbfafc;\n",
       "            color:  #000000;\n",
       "        }    #T_836ceaf4_9dd5_11ea_a6cf_0050b66a8127row168_col4 {\n",
       "            background-color:  #ffffe5;\n",
       "            color:  #000000;\n",
       "        }    #T_836ceaf4_9dd5_11ea_a6cf_0050b66a8127row169_col0 {\n",
       "            background-color:  #f7fbff;\n",
       "            color:  #000000;\n",
       "        }    #T_836ceaf4_9dd5_11ea_a6cf_0050b66a8127row169_col1 {\n",
       "            background-color:  #fff5f0;\n",
       "            color:  #000000;\n",
       "        }    #T_836ceaf4_9dd5_11ea_a6cf_0050b66a8127row169_col2 {\n",
       "            background-color:  #fbfafc;\n",
       "            color:  #000000;\n",
       "        }    #T_836ceaf4_9dd5_11ea_a6cf_0050b66a8127row169_col4 {\n",
       "            background-color:  #ffffe5;\n",
       "            color:  #000000;\n",
       "        }    #T_836ceaf4_9dd5_11ea_a6cf_0050b66a8127row170_col0 {\n",
       "            background-color:  #f7fbff;\n",
       "            color:  #000000;\n",
       "        }    #T_836ceaf4_9dd5_11ea_a6cf_0050b66a8127row170_col1 {\n",
       "            background-color:  #fff5f0;\n",
       "            color:  #000000;\n",
       "        }    #T_836ceaf4_9dd5_11ea_a6cf_0050b66a8127row170_col2 {\n",
       "            background-color:  #fbfafc;\n",
       "            color:  #000000;\n",
       "        }    #T_836ceaf4_9dd5_11ea_a6cf_0050b66a8127row170_col4 {\n",
       "            background-color:  #ffffe5;\n",
       "            color:  #000000;\n",
       "        }    #T_836ceaf4_9dd5_11ea_a6cf_0050b66a8127row171_col0 {\n",
       "            background-color:  #f7fbff;\n",
       "            color:  #000000;\n",
       "        }    #T_836ceaf4_9dd5_11ea_a6cf_0050b66a8127row171_col1 {\n",
       "            background-color:  #fff5f0;\n",
       "            color:  #000000;\n",
       "        }    #T_836ceaf4_9dd5_11ea_a6cf_0050b66a8127row171_col2 {\n",
       "            background-color:  #fbfafc;\n",
       "            color:  #000000;\n",
       "        }    #T_836ceaf4_9dd5_11ea_a6cf_0050b66a8127row171_col4 {\n",
       "            background-color:  #ffffe5;\n",
       "            color:  #000000;\n",
       "        }    #T_836ceaf4_9dd5_11ea_a6cf_0050b66a8127row172_col0 {\n",
       "            background-color:  #f7fbff;\n",
       "            color:  #000000;\n",
       "        }    #T_836ceaf4_9dd5_11ea_a6cf_0050b66a8127row172_col1 {\n",
       "            background-color:  #fff5f0;\n",
       "            color:  #000000;\n",
       "        }    #T_836ceaf4_9dd5_11ea_a6cf_0050b66a8127row172_col2 {\n",
       "            background-color:  #fbfafc;\n",
       "            color:  #000000;\n",
       "        }    #T_836ceaf4_9dd5_11ea_a6cf_0050b66a8127row172_col4 {\n",
       "            background-color:  #662506;\n",
       "            color:  #f1f1f1;\n",
       "        }    #T_836ceaf4_9dd5_11ea_a6cf_0050b66a8127row173_col0 {\n",
       "            background-color:  #f7fbff;\n",
       "            color:  #000000;\n",
       "        }    #T_836ceaf4_9dd5_11ea_a6cf_0050b66a8127row173_col1 {\n",
       "            background-color:  #fff5f0;\n",
       "            color:  #000000;\n",
       "        }    #T_836ceaf4_9dd5_11ea_a6cf_0050b66a8127row173_col2 {\n",
       "            background-color:  #fbfafc;\n",
       "            color:  #000000;\n",
       "        }    #T_836ceaf4_9dd5_11ea_a6cf_0050b66a8127row173_col4 {\n",
       "            background-color:  #febe4a;\n",
       "            color:  #000000;\n",
       "        }    #T_836ceaf4_9dd5_11ea_a6cf_0050b66a8127row174_col0 {\n",
       "            background-color:  #f7fbff;\n",
       "            color:  #000000;\n",
       "        }    #T_836ceaf4_9dd5_11ea_a6cf_0050b66a8127row174_col1 {\n",
       "            background-color:  #fff5f0;\n",
       "            color:  #000000;\n",
       "        }    #T_836ceaf4_9dd5_11ea_a6cf_0050b66a8127row174_col2 {\n",
       "            background-color:  #fbfafc;\n",
       "            color:  #000000;\n",
       "        }    #T_836ceaf4_9dd5_11ea_a6cf_0050b66a8127row174_col4 {\n",
       "            background-color:  #ffffe5;\n",
       "            color:  #000000;\n",
       "        }    #T_836ceaf4_9dd5_11ea_a6cf_0050b66a8127row175_col0 {\n",
       "            background-color:  #f7fbff;\n",
       "            color:  #000000;\n",
       "        }    #T_836ceaf4_9dd5_11ea_a6cf_0050b66a8127row175_col1 {\n",
       "            background-color:  #fff5f0;\n",
       "            color:  #000000;\n",
       "        }    #T_836ceaf4_9dd5_11ea_a6cf_0050b66a8127row175_col2 {\n",
       "            background-color:  #fbfafc;\n",
       "            color:  #000000;\n",
       "        }    #T_836ceaf4_9dd5_11ea_a6cf_0050b66a8127row175_col4 {\n",
       "            background-color:  #feb13e;\n",
       "            color:  #000000;\n",
       "        }    #T_836ceaf4_9dd5_11ea_a6cf_0050b66a8127row176_col0 {\n",
       "            background-color:  #f7fbff;\n",
       "            color:  #000000;\n",
       "        }    #T_836ceaf4_9dd5_11ea_a6cf_0050b66a8127row176_col1 {\n",
       "            background-color:  #fff5f0;\n",
       "            color:  #000000;\n",
       "        }    #T_836ceaf4_9dd5_11ea_a6cf_0050b66a8127row176_col2 {\n",
       "            background-color:  #fbfafc;\n",
       "            color:  #000000;\n",
       "        }    #T_836ceaf4_9dd5_11ea_a6cf_0050b66a8127row176_col4 {\n",
       "            background-color:  #ffffe5;\n",
       "            color:  #000000;\n",
       "        }    #T_836ceaf4_9dd5_11ea_a6cf_0050b66a8127row177_col0 {\n",
       "            background-color:  #f7fbff;\n",
       "            color:  #000000;\n",
       "        }    #T_836ceaf4_9dd5_11ea_a6cf_0050b66a8127row177_col1 {\n",
       "            background-color:  #fff5f0;\n",
       "            color:  #000000;\n",
       "        }    #T_836ceaf4_9dd5_11ea_a6cf_0050b66a8127row177_col2 {\n",
       "            background-color:  #fbfafc;\n",
       "            color:  #000000;\n",
       "        }    #T_836ceaf4_9dd5_11ea_a6cf_0050b66a8127row177_col4 {\n",
       "            background-color:  #feb13e;\n",
       "            color:  #000000;\n",
       "        }    #T_836ceaf4_9dd5_11ea_a6cf_0050b66a8127row178_col0 {\n",
       "            background-color:  #f7fbff;\n",
       "            color:  #000000;\n",
       "        }    #T_836ceaf4_9dd5_11ea_a6cf_0050b66a8127row178_col1 {\n",
       "            background-color:  #fff5f0;\n",
       "            color:  #000000;\n",
       "        }    #T_836ceaf4_9dd5_11ea_a6cf_0050b66a8127row178_col2 {\n",
       "            background-color:  #fbfafc;\n",
       "            color:  #000000;\n",
       "        }    #T_836ceaf4_9dd5_11ea_a6cf_0050b66a8127row178_col4 {\n",
       "            background-color:  #742905;\n",
       "            color:  #f1f1f1;\n",
       "        }    #T_836ceaf4_9dd5_11ea_a6cf_0050b66a8127row179_col0 {\n",
       "            background-color:  #f7fbff;\n",
       "            color:  #000000;\n",
       "        }    #T_836ceaf4_9dd5_11ea_a6cf_0050b66a8127row179_col1 {\n",
       "            background-color:  #fff5f0;\n",
       "            color:  #000000;\n",
       "        }    #T_836ceaf4_9dd5_11ea_a6cf_0050b66a8127row179_col2 {\n",
       "            background-color:  #fbfafc;\n",
       "            color:  #000000;\n",
       "        }    #T_836ceaf4_9dd5_11ea_a6cf_0050b66a8127row179_col4 {\n",
       "            background-color:  #ffffe5;\n",
       "            color:  #000000;\n",
       "        }    #T_836ceaf4_9dd5_11ea_a6cf_0050b66a8127row180_col0 {\n",
       "            background-color:  #f7fbff;\n",
       "            color:  #000000;\n",
       "        }    #T_836ceaf4_9dd5_11ea_a6cf_0050b66a8127row180_col1 {\n",
       "            background-color:  #fff5f0;\n",
       "            color:  #000000;\n",
       "        }    #T_836ceaf4_9dd5_11ea_a6cf_0050b66a8127row180_col2 {\n",
       "            background-color:  #fbfafc;\n",
       "            color:  #000000;\n",
       "        }    #T_836ceaf4_9dd5_11ea_a6cf_0050b66a8127row180_col4 {\n",
       "            background-color:  #ffffe5;\n",
       "            color:  #000000;\n",
       "        }    #T_836ceaf4_9dd5_11ea_a6cf_0050b66a8127row181_col0 {\n",
       "            background-color:  #f7fbff;\n",
       "            color:  #000000;\n",
       "        }    #T_836ceaf4_9dd5_11ea_a6cf_0050b66a8127row181_col1 {\n",
       "            background-color:  #fff5f0;\n",
       "            color:  #000000;\n",
       "        }    #T_836ceaf4_9dd5_11ea_a6cf_0050b66a8127row181_col2 {\n",
       "            background-color:  #fbfafc;\n",
       "            color:  #000000;\n",
       "        }    #T_836ceaf4_9dd5_11ea_a6cf_0050b66a8127row181_col4 {\n",
       "            background-color:  #ffffe5;\n",
       "            color:  #000000;\n",
       "        }    #T_836ceaf4_9dd5_11ea_a6cf_0050b66a8127row182_col0 {\n",
       "            background-color:  #f7fbff;\n",
       "            color:  #000000;\n",
       "        }    #T_836ceaf4_9dd5_11ea_a6cf_0050b66a8127row182_col1 {\n",
       "            background-color:  #fff5f0;\n",
       "            color:  #000000;\n",
       "        }    #T_836ceaf4_9dd5_11ea_a6cf_0050b66a8127row182_col2 {\n",
       "            background-color:  #fbfafc;\n",
       "            color:  #000000;\n",
       "        }    #T_836ceaf4_9dd5_11ea_a6cf_0050b66a8127row182_col4 {\n",
       "            background-color:  #ed7215;\n",
       "            color:  #000000;\n",
       "        }    #T_836ceaf4_9dd5_11ea_a6cf_0050b66a8127row183_col0 {\n",
       "            background-color:  #f7fbff;\n",
       "            color:  #000000;\n",
       "        }    #T_836ceaf4_9dd5_11ea_a6cf_0050b66a8127row183_col1 {\n",
       "            background-color:  #fff5f0;\n",
       "            color:  #000000;\n",
       "        }    #T_836ceaf4_9dd5_11ea_a6cf_0050b66a8127row183_col2 {\n",
       "            background-color:  #fbfafc;\n",
       "            color:  #000000;\n",
       "        }    #T_836ceaf4_9dd5_11ea_a6cf_0050b66a8127row183_col4 {\n",
       "            background-color:  #ffffe5;\n",
       "            color:  #000000;\n",
       "        }    #T_836ceaf4_9dd5_11ea_a6cf_0050b66a8127row184_col0 {\n",
       "            background-color:  #f7fbff;\n",
       "            color:  #000000;\n",
       "        }    #T_836ceaf4_9dd5_11ea_a6cf_0050b66a8127row184_col1 {\n",
       "            background-color:  #fff5f0;\n",
       "            color:  #000000;\n",
       "        }    #T_836ceaf4_9dd5_11ea_a6cf_0050b66a8127row184_col2 {\n",
       "            background-color:  #fbfafc;\n",
       "            color:  #000000;\n",
       "        }    #T_836ceaf4_9dd5_11ea_a6cf_0050b66a8127row184_col4 {\n",
       "            background-color:  #ffffe5;\n",
       "            color:  #000000;\n",
       "        }</style><table id=\"T_836ceaf4_9dd5_11ea_a6cf_0050b66a8127\" ><thead>    <tr>        <th class=\"blank level0\" ></th>        <th class=\"col_heading level0 col0\" >confirmed</th>        <th class=\"col_heading level0 col1\" >deaths</th>        <th class=\"col_heading level0 col2\" >delta_confirmed</th>        <th class=\"col_heading level0 col3\" >latest_date</th>        <th class=\"col_heading level0 col4\" >mortality_rate</th>    </tr>    <tr>        <th class=\"index_name level0\" >country</th>        <th class=\"blank\" ></th>        <th class=\"blank\" ></th>        <th class=\"blank\" ></th>        <th class=\"blank\" ></th>        <th class=\"blank\" ></th>    </tr></thead><tbody>\n",
       "                <tr>\n",
       "                        <th id=\"T_836ceaf4_9dd5_11ea_a6cf_0050b66a8127level0_row0\" class=\"row_heading level0 row0\" >USA</th>\n",
       "                        <td id=\"T_836ceaf4_9dd5_11ea_a6cf_0050b66a8127row0_col0\" class=\"data row0 col0\" >2025164</td>\n",
       "                        <td id=\"T_836ceaf4_9dd5_11ea_a6cf_0050b66a8127row0_col1\" class=\"data row0 col1\" >116710</td>\n",
       "                        <td id=\"T_836ceaf4_9dd5_11ea_a6cf_0050b66a8127row0_col2\" class=\"data row0 col2\" >48770</td>\n",
       "                        <td id=\"T_836ceaf4_9dd5_11ea_a6cf_0050b66a8127row0_col3\" class=\"data row0 col3\" >2020-04-28</td>\n",
       "                        <td id=\"T_836ceaf4_9dd5_11ea_a6cf_0050b66a8127row0_col4\" class=\"data row0 col4\" >5.760000</td>\n",
       "            </tr>\n",
       "            <tr>\n",
       "                        <th id=\"T_836ceaf4_9dd5_11ea_a6cf_0050b66a8127level0_row1\" class=\"row_heading level0 row1\" >Spain</th>\n",
       "                        <td id=\"T_836ceaf4_9dd5_11ea_a6cf_0050b66a8127row1_col0\" class=\"data row1 col0\" >232128</td>\n",
       "                        <td id=\"T_836ceaf4_9dd5_11ea_a6cf_0050b66a8127row1_col1\" class=\"data row1 col1\" >23822</td>\n",
       "                        <td id=\"T_836ceaf4_9dd5_11ea_a6cf_0050b66a8127row1_col2\" class=\"data row1 col2\" >2706</td>\n",
       "                        <td id=\"T_836ceaf4_9dd5_11ea_a6cf_0050b66a8127row1_col3\" class=\"data row1 col3\" >2020-04-28</td>\n",
       "                        <td id=\"T_836ceaf4_9dd5_11ea_a6cf_0050b66a8127row1_col4\" class=\"data row1 col4\" >10.260000</td>\n",
       "            </tr>\n",
       "            <tr>\n",
       "                        <th id=\"T_836ceaf4_9dd5_11ea_a6cf_0050b66a8127level0_row2\" class=\"row_heading level0 row2\" >Italy</th>\n",
       "                        <td id=\"T_836ceaf4_9dd5_11ea_a6cf_0050b66a8127row2_col0\" class=\"data row2 col0\" >201505</td>\n",
       "                        <td id=\"T_836ceaf4_9dd5_11ea_a6cf_0050b66a8127row2_col1\" class=\"data row2 col1\" >27359</td>\n",
       "                        <td id=\"T_836ceaf4_9dd5_11ea_a6cf_0050b66a8127row2_col2\" class=\"data row2 col2\" >2091</td>\n",
       "                        <td id=\"T_836ceaf4_9dd5_11ea_a6cf_0050b66a8127row2_col3\" class=\"data row2 col3\" >2020-04-28</td>\n",
       "                        <td id=\"T_836ceaf4_9dd5_11ea_a6cf_0050b66a8127row2_col4\" class=\"data row2 col4\" >13.580000</td>\n",
       "            </tr>\n",
       "            <tr>\n",
       "                        <th id=\"T_836ceaf4_9dd5_11ea_a6cf_0050b66a8127level0_row3\" class=\"row_heading level0 row3\" >France</th>\n",
       "                        <td id=\"T_836ceaf4_9dd5_11ea_a6cf_0050b66a8127row3_col0\" class=\"data row3 col0\" >169053</td>\n",
       "                        <td id=\"T_836ceaf4_9dd5_11ea_a6cf_0050b66a8127row3_col1\" class=\"data row3 col1\" >23694</td>\n",
       "                        <td id=\"T_836ceaf4_9dd5_11ea_a6cf_0050b66a8127row3_col2\" class=\"data row3 col2\" >3090</td>\n",
       "                        <td id=\"T_836ceaf4_9dd5_11ea_a6cf_0050b66a8127row3_col3\" class=\"data row3 col3\" >2020-04-28</td>\n",
       "                        <td id=\"T_836ceaf4_9dd5_11ea_a6cf_0050b66a8127row3_col4\" class=\"data row3 col4\" >14.020000</td>\n",
       "            </tr>\n",
       "            <tr>\n",
       "                        <th id=\"T_836ceaf4_9dd5_11ea_a6cf_0050b66a8127level0_row4\" class=\"row_heading level0 row4\" >United Kingdom</th>\n",
       "                        <td id=\"T_836ceaf4_9dd5_11ea_a6cf_0050b66a8127row4_col0\" class=\"data row4 col0\" >162350</td>\n",
       "                        <td id=\"T_836ceaf4_9dd5_11ea_a6cf_0050b66a8127row4_col1\" class=\"data row4 col1\" >21745</td>\n",
       "                        <td id=\"T_836ceaf4_9dd5_11ea_a6cf_0050b66a8127row4_col2\" class=\"data row4 col2\" >4002</td>\n",
       "                        <td id=\"T_836ceaf4_9dd5_11ea_a6cf_0050b66a8127row4_col3\" class=\"data row4 col3\" >2020-04-28</td>\n",
       "                        <td id=\"T_836ceaf4_9dd5_11ea_a6cf_0050b66a8127row4_col4\" class=\"data row4 col4\" >13.390000</td>\n",
       "            </tr>\n",
       "            <tr>\n",
       "                        <th id=\"T_836ceaf4_9dd5_11ea_a6cf_0050b66a8127level0_row5\" class=\"row_heading level0 row5\" >Germany</th>\n",
       "                        <td id=\"T_836ceaf4_9dd5_11ea_a6cf_0050b66a8127row5_col0\" class=\"data row5 col0\" >159912</td>\n",
       "                        <td id=\"T_836ceaf4_9dd5_11ea_a6cf_0050b66a8127row5_col1\" class=\"data row5 col1\" >6314</td>\n",
       "                        <td id=\"T_836ceaf4_9dd5_11ea_a6cf_0050b66a8127row5_col2\" class=\"data row5 col2\" >1154</td>\n",
       "                        <td id=\"T_836ceaf4_9dd5_11ea_a6cf_0050b66a8127row5_col3\" class=\"data row5 col3\" >2020-04-28</td>\n",
       "                        <td id=\"T_836ceaf4_9dd5_11ea_a6cf_0050b66a8127row5_col4\" class=\"data row5 col4\" >3.950000</td>\n",
       "            </tr>\n",
       "            <tr>\n",
       "                        <th id=\"T_836ceaf4_9dd5_11ea_a6cf_0050b66a8127level0_row6\" class=\"row_heading level0 row6\" >Turkey</th>\n",
       "                        <td id=\"T_836ceaf4_9dd5_11ea_a6cf_0050b66a8127row6_col0\" class=\"data row6 col0\" >114653</td>\n",
       "                        <td id=\"T_836ceaf4_9dd5_11ea_a6cf_0050b66a8127row6_col1\" class=\"data row6 col1\" >2992</td>\n",
       "                        <td id=\"T_836ceaf4_9dd5_11ea_a6cf_0050b66a8127row6_col2\" class=\"data row6 col2\" >2392</td>\n",
       "                        <td id=\"T_836ceaf4_9dd5_11ea_a6cf_0050b66a8127row6_col3\" class=\"data row6 col3\" >2020-04-28</td>\n",
       "                        <td id=\"T_836ceaf4_9dd5_11ea_a6cf_0050b66a8127row6_col4\" class=\"data row6 col4\" >2.610000</td>\n",
       "            </tr>\n",
       "            <tr>\n",
       "                        <th id=\"T_836ceaf4_9dd5_11ea_a6cf_0050b66a8127level0_row7\" class=\"row_heading level0 row7\" >Russia</th>\n",
       "                        <td id=\"T_836ceaf4_9dd5_11ea_a6cf_0050b66a8127row7_col0\" class=\"data row7 col0\" >93558</td>\n",
       "                        <td id=\"T_836ceaf4_9dd5_11ea_a6cf_0050b66a8127row7_col1\" class=\"data row7 col1\" >867</td>\n",
       "                        <td id=\"T_836ceaf4_9dd5_11ea_a6cf_0050b66a8127row7_col2\" class=\"data row7 col2\" >6411</td>\n",
       "                        <td id=\"T_836ceaf4_9dd5_11ea_a6cf_0050b66a8127row7_col3\" class=\"data row7 col3\" >2020-04-28</td>\n",
       "                        <td id=\"T_836ceaf4_9dd5_11ea_a6cf_0050b66a8127row7_col4\" class=\"data row7 col4\" >0.930000</td>\n",
       "            </tr>\n",
       "            <tr>\n",
       "                        <th id=\"T_836ceaf4_9dd5_11ea_a6cf_0050b66a8127level0_row8\" class=\"row_heading level0 row8\" >Iran</th>\n",
       "                        <td id=\"T_836ceaf4_9dd5_11ea_a6cf_0050b66a8127row8_col0\" class=\"data row8 col0\" >92584</td>\n",
       "                        <td id=\"T_836ceaf4_9dd5_11ea_a6cf_0050b66a8127row8_col1\" class=\"data row8 col1\" >5877</td>\n",
       "                        <td id=\"T_836ceaf4_9dd5_11ea_a6cf_0050b66a8127row8_col2\" class=\"data row8 col2\" >1112</td>\n",
       "                        <td id=\"T_836ceaf4_9dd5_11ea_a6cf_0050b66a8127row8_col3\" class=\"data row8 col3\" >2020-04-28</td>\n",
       "                        <td id=\"T_836ceaf4_9dd5_11ea_a6cf_0050b66a8127row8_col4\" class=\"data row8 col4\" >6.350000</td>\n",
       "            </tr>\n",
       "            <tr>\n",
       "                        <th id=\"T_836ceaf4_9dd5_11ea_a6cf_0050b66a8127level0_row9\" class=\"row_heading level0 row9\" >China</th>\n",
       "                        <td id=\"T_836ceaf4_9dd5_11ea_a6cf_0050b66a8127row9_col0\" class=\"data row9 col0\" >83940</td>\n",
       "                        <td id=\"T_836ceaf4_9dd5_11ea_a6cf_0050b66a8127row9_col1\" class=\"data row9 col1\" >4637</td>\n",
       "                        <td id=\"T_836ceaf4_9dd5_11ea_a6cf_0050b66a8127row9_col2\" class=\"data row9 col2\" >22</td>\n",
       "                        <td id=\"T_836ceaf4_9dd5_11ea_a6cf_0050b66a8127row9_col3\" class=\"data row9 col3\" >2020-04-28</td>\n",
       "                        <td id=\"T_836ceaf4_9dd5_11ea_a6cf_0050b66a8127row9_col4\" class=\"data row9 col4\" >5.520000</td>\n",
       "            </tr>\n",
       "            <tr>\n",
       "                        <th id=\"T_836ceaf4_9dd5_11ea_a6cf_0050b66a8127level0_row10\" class=\"row_heading level0 row10\" >Brazil</th>\n",
       "                        <td id=\"T_836ceaf4_9dd5_11ea_a6cf_0050b66a8127row10_col0\" class=\"data row10 col0\" >73235</td>\n",
       "                        <td id=\"T_836ceaf4_9dd5_11ea_a6cf_0050b66a8127row10_col1\" class=\"data row10 col1\" >5083</td>\n",
       "                        <td id=\"T_836ceaf4_9dd5_11ea_a6cf_0050b66a8127row10_col2\" class=\"data row10 col2\" >5789</td>\n",
       "                        <td id=\"T_836ceaf4_9dd5_11ea_a6cf_0050b66a8127row10_col3\" class=\"data row10 col3\" >2020-04-28</td>\n",
       "                        <td id=\"T_836ceaf4_9dd5_11ea_a6cf_0050b66a8127row10_col4\" class=\"data row10 col4\" >6.940000</td>\n",
       "            </tr>\n",
       "            <tr>\n",
       "                        <th id=\"T_836ceaf4_9dd5_11ea_a6cf_0050b66a8127level0_row11\" class=\"row_heading level0 row11\" >Canada</th>\n",
       "                        <td id=\"T_836ceaf4_9dd5_11ea_a6cf_0050b66a8127row11_col0\" class=\"data row11 col0\" >51150</td>\n",
       "                        <td id=\"T_836ceaf4_9dd5_11ea_a6cf_0050b66a8127row11_col1\" class=\"data row11 col1\" >2983</td>\n",
       "                        <td id=\"T_836ceaf4_9dd5_11ea_a6cf_0050b66a8127row11_col2\" class=\"data row11 col2\" >1534</td>\n",
       "                        <td id=\"T_836ceaf4_9dd5_11ea_a6cf_0050b66a8127row11_col3\" class=\"data row11 col3\" >2020-04-28</td>\n",
       "                        <td id=\"T_836ceaf4_9dd5_11ea_a6cf_0050b66a8127row11_col4\" class=\"data row11 col4\" >5.830000</td>\n",
       "            </tr>\n",
       "            <tr>\n",
       "                        <th id=\"T_836ceaf4_9dd5_11ea_a6cf_0050b66a8127level0_row12\" class=\"row_heading level0 row12\" >Belgium</th>\n",
       "                        <td id=\"T_836ceaf4_9dd5_11ea_a6cf_0050b66a8127row12_col0\" class=\"data row12 col0\" >47334</td>\n",
       "                        <td id=\"T_836ceaf4_9dd5_11ea_a6cf_0050b66a8127row12_col1\" class=\"data row12 col1\" >7331</td>\n",
       "                        <td id=\"T_836ceaf4_9dd5_11ea_a6cf_0050b66a8127row12_col2\" class=\"data row12 col2\" >647</td>\n",
       "                        <td id=\"T_836ceaf4_9dd5_11ea_a6cf_0050b66a8127row12_col3\" class=\"data row12 col3\" >2020-04-28</td>\n",
       "                        <td id=\"T_836ceaf4_9dd5_11ea_a6cf_0050b66a8127row12_col4\" class=\"data row12 col4\" >15.490000</td>\n",
       "            </tr>\n",
       "            <tr>\n",
       "                        <th id=\"T_836ceaf4_9dd5_11ea_a6cf_0050b66a8127level0_row13\" class=\"row_heading level0 row13\" >Netherlands</th>\n",
       "                        <td id=\"T_836ceaf4_9dd5_11ea_a6cf_0050b66a8127row13_col0\" class=\"data row13 col0\" >38612</td>\n",
       "                        <td id=\"T_836ceaf4_9dd5_11ea_a6cf_0050b66a8127row13_col1\" class=\"data row13 col1\" >4582</td>\n",
       "                        <td id=\"T_836ceaf4_9dd5_11ea_a6cf_0050b66a8127row13_col2\" class=\"data row13 col2\" >172</td>\n",
       "                        <td id=\"T_836ceaf4_9dd5_11ea_a6cf_0050b66a8127row13_col3\" class=\"data row13 col3\" >2020-04-28</td>\n",
       "                        <td id=\"T_836ceaf4_9dd5_11ea_a6cf_0050b66a8127row13_col4\" class=\"data row13 col4\" >11.870000</td>\n",
       "            </tr>\n",
       "            <tr>\n",
       "                        <th id=\"T_836ceaf4_9dd5_11ea_a6cf_0050b66a8127level0_row14\" class=\"row_heading level0 row14\" >India</th>\n",
       "                        <td id=\"T_836ceaf4_9dd5_11ea_a6cf_0050b66a8127row14_col0\" class=\"data row14 col0\" >31324</td>\n",
       "                        <td id=\"T_836ceaf4_9dd5_11ea_a6cf_0050b66a8127row14_col1\" class=\"data row14 col1\" >1008</td>\n",
       "                        <td id=\"T_836ceaf4_9dd5_11ea_a6cf_0050b66a8127row14_col2\" class=\"data row14 col2\" >1873</td>\n",
       "                        <td id=\"T_836ceaf4_9dd5_11ea_a6cf_0050b66a8127row14_col3\" class=\"data row14 col3\" >2020-04-28</td>\n",
       "                        <td id=\"T_836ceaf4_9dd5_11ea_a6cf_0050b66a8127row14_col4\" class=\"data row14 col4\" >3.220000</td>\n",
       "            </tr>\n",
       "            <tr>\n",
       "                        <th id=\"T_836ceaf4_9dd5_11ea_a6cf_0050b66a8127level0_row15\" class=\"row_heading level0 row15\" >Peru</th>\n",
       "                        <td id=\"T_836ceaf4_9dd5_11ea_a6cf_0050b66a8127row15_col0\" class=\"data row15 col0\" >31190</td>\n",
       "                        <td id=\"T_836ceaf4_9dd5_11ea_a6cf_0050b66a8127row15_col1\" class=\"data row15 col1\" >854</td>\n",
       "                        <td id=\"T_836ceaf4_9dd5_11ea_a6cf_0050b66a8127row15_col2\" class=\"data row15 col2\" >2491</td>\n",
       "                        <td id=\"T_836ceaf4_9dd5_11ea_a6cf_0050b66a8127row15_col3\" class=\"data row15 col3\" >2020-04-28</td>\n",
       "                        <td id=\"T_836ceaf4_9dd5_11ea_a6cf_0050b66a8127row15_col4\" class=\"data row15 col4\" >2.740000</td>\n",
       "            </tr>\n",
       "            <tr>\n",
       "                        <th id=\"T_836ceaf4_9dd5_11ea_a6cf_0050b66a8127level0_row16\" class=\"row_heading level0 row16\" >Switzerland</th>\n",
       "                        <td id=\"T_836ceaf4_9dd5_11ea_a6cf_0050b66a8127row16_col0\" class=\"data row16 col0\" >29264</td>\n",
       "                        <td id=\"T_836ceaf4_9dd5_11ea_a6cf_0050b66a8127row16_col1\" class=\"data row16 col1\" >1699</td>\n",
       "                        <td id=\"T_836ceaf4_9dd5_11ea_a6cf_0050b66a8127row16_col2\" class=\"data row16 col2\" >100</td>\n",
       "                        <td id=\"T_836ceaf4_9dd5_11ea_a6cf_0050b66a8127row16_col3\" class=\"data row16 col3\" >2020-04-28</td>\n",
       "                        <td id=\"T_836ceaf4_9dd5_11ea_a6cf_0050b66a8127row16_col4\" class=\"data row16 col4\" >5.810000</td>\n",
       "            </tr>\n",
       "            <tr>\n",
       "                        <th id=\"T_836ceaf4_9dd5_11ea_a6cf_0050b66a8127level0_row17\" class=\"row_heading level0 row17\" >Portugal</th>\n",
       "                        <td id=\"T_836ceaf4_9dd5_11ea_a6cf_0050b66a8127row17_col0\" class=\"data row17 col0\" >24322</td>\n",
       "                        <td id=\"T_836ceaf4_9dd5_11ea_a6cf_0050b66a8127row17_col1\" class=\"data row17 col1\" >948</td>\n",
       "                        <td id=\"T_836ceaf4_9dd5_11ea_a6cf_0050b66a8127row17_col2\" class=\"data row17 col2\" >295</td>\n",
       "                        <td id=\"T_836ceaf4_9dd5_11ea_a6cf_0050b66a8127row17_col3\" class=\"data row17 col3\" >2020-04-28</td>\n",
       "                        <td id=\"T_836ceaf4_9dd5_11ea_a6cf_0050b66a8127row17_col4\" class=\"data row17 col4\" >3.900000</td>\n",
       "            </tr>\n",
       "            <tr>\n",
       "                        <th id=\"T_836ceaf4_9dd5_11ea_a6cf_0050b66a8127level0_row18\" class=\"row_heading level0 row18\" >Ecuador</th>\n",
       "                        <td id=\"T_836ceaf4_9dd5_11ea_a6cf_0050b66a8127row18_col0\" class=\"data row18 col0\" >24258</td>\n",
       "                        <td id=\"T_836ceaf4_9dd5_11ea_a6cf_0050b66a8127row18_col1\" class=\"data row18 col1\" >871</td>\n",
       "                        <td id=\"T_836ceaf4_9dd5_11ea_a6cf_0050b66a8127row18_col2\" class=\"data row18 col2\" >1018</td>\n",
       "                        <td id=\"T_836ceaf4_9dd5_11ea_a6cf_0050b66a8127row18_col3\" class=\"data row18 col3\" >2020-04-28</td>\n",
       "                        <td id=\"T_836ceaf4_9dd5_11ea_a6cf_0050b66a8127row18_col4\" class=\"data row18 col4\" >3.590000</td>\n",
       "            </tr>\n",
       "            <tr>\n",
       "                        <th id=\"T_836ceaf4_9dd5_11ea_a6cf_0050b66a8127level0_row19\" class=\"row_heading level0 row19\" >Saudi Arabia</th>\n",
       "                        <td id=\"T_836ceaf4_9dd5_11ea_a6cf_0050b66a8127row19_col0\" class=\"data row19 col0\" >20077</td>\n",
       "                        <td id=\"T_836ceaf4_9dd5_11ea_a6cf_0050b66a8127row19_col1\" class=\"data row19 col1\" >152</td>\n",
       "                        <td id=\"T_836ceaf4_9dd5_11ea_a6cf_0050b66a8127row19_col2\" class=\"data row19 col2\" >1266</td>\n",
       "                        <td id=\"T_836ceaf4_9dd5_11ea_a6cf_0050b66a8127row19_col3\" class=\"data row19 col3\" >2020-04-28</td>\n",
       "                        <td id=\"T_836ceaf4_9dd5_11ea_a6cf_0050b66a8127row19_col4\" class=\"data row19 col4\" >0.760000</td>\n",
       "            </tr>\n",
       "            <tr>\n",
       "                        <th id=\"T_836ceaf4_9dd5_11ea_a6cf_0050b66a8127level0_row20\" class=\"row_heading level0 row20\" >Ireland</th>\n",
       "                        <td id=\"T_836ceaf4_9dd5_11ea_a6cf_0050b66a8127row20_col0\" class=\"data row20 col0\" >19877</td>\n",
       "                        <td id=\"T_836ceaf4_9dd5_11ea_a6cf_0050b66a8127row20_col1\" class=\"data row20 col1\" >1159</td>\n",
       "                        <td id=\"T_836ceaf4_9dd5_11ea_a6cf_0050b66a8127row20_col2\" class=\"data row20 col2\" >229</td>\n",
       "                        <td id=\"T_836ceaf4_9dd5_11ea_a6cf_0050b66a8127row20_col3\" class=\"data row20 col3\" >2020-04-28</td>\n",
       "                        <td id=\"T_836ceaf4_9dd5_11ea_a6cf_0050b66a8127row20_col4\" class=\"data row20 col4\" >5.830000</td>\n",
       "            </tr>\n",
       "            <tr>\n",
       "                        <th id=\"T_836ceaf4_9dd5_11ea_a6cf_0050b66a8127level0_row21\" class=\"row_heading level0 row21\" >Sweden</th>\n",
       "                        <td id=\"T_836ceaf4_9dd5_11ea_a6cf_0050b66a8127row21_col0\" class=\"data row21 col0\" >19621</td>\n",
       "                        <td id=\"T_836ceaf4_9dd5_11ea_a6cf_0050b66a8127row21_col1\" class=\"data row21 col1\" >2355</td>\n",
       "                        <td id=\"T_836ceaf4_9dd5_11ea_a6cf_0050b66a8127row21_col2\" class=\"data row21 col2\" >695</td>\n",
       "                        <td id=\"T_836ceaf4_9dd5_11ea_a6cf_0050b66a8127row21_col3\" class=\"data row21 col3\" >2020-04-28</td>\n",
       "                        <td id=\"T_836ceaf4_9dd5_11ea_a6cf_0050b66a8127row21_col4\" class=\"data row21 col4\" >12.000000</td>\n",
       "            </tr>\n",
       "            <tr>\n",
       "                        <th id=\"T_836ceaf4_9dd5_11ea_a6cf_0050b66a8127level0_row22\" class=\"row_heading level0 row22\" >Mexico</th>\n",
       "                        <td id=\"T_836ceaf4_9dd5_11ea_a6cf_0050b66a8127row22_col0\" class=\"data row22 col0\" >16752</td>\n",
       "                        <td id=\"T_836ceaf4_9dd5_11ea_a6cf_0050b66a8127row22_col1\" class=\"data row22 col1\" >1569</td>\n",
       "                        <td id=\"T_836ceaf4_9dd5_11ea_a6cf_0050b66a8127row22_col2\" class=\"data row22 col2\" >1223</td>\n",
       "                        <td id=\"T_836ceaf4_9dd5_11ea_a6cf_0050b66a8127row22_col3\" class=\"data row22 col3\" >2020-04-28</td>\n",
       "                        <td id=\"T_836ceaf4_9dd5_11ea_a6cf_0050b66a8127row22_col4\" class=\"data row22 col4\" >9.370000</td>\n",
       "            </tr>\n",
       "            <tr>\n",
       "                        <th id=\"T_836ceaf4_9dd5_11ea_a6cf_0050b66a8127level0_row23\" class=\"row_heading level0 row23\" >Israel</th>\n",
       "                        <td id=\"T_836ceaf4_9dd5_11ea_a6cf_0050b66a8127row23_col0\" class=\"data row23 col0\" >15728</td>\n",
       "                        <td id=\"T_836ceaf4_9dd5_11ea_a6cf_0050b66a8127row23_col1\" class=\"data row23 col1\" >210</td>\n",
       "                        <td id=\"T_836ceaf4_9dd5_11ea_a6cf_0050b66a8127row23_col2\" class=\"data row23 col2\" >173</td>\n",
       "                        <td id=\"T_836ceaf4_9dd5_11ea_a6cf_0050b66a8127row23_col3\" class=\"data row23 col3\" >2020-04-28</td>\n",
       "                        <td id=\"T_836ceaf4_9dd5_11ea_a6cf_0050b66a8127row23_col4\" class=\"data row23 col4\" >1.340000</td>\n",
       "            </tr>\n",
       "            <tr>\n",
       "                        <th id=\"T_836ceaf4_9dd5_11ea_a6cf_0050b66a8127level0_row24\" class=\"row_heading level0 row24\" >Austria</th>\n",
       "                        <td id=\"T_836ceaf4_9dd5_11ea_a6cf_0050b66a8127row24_col0\" class=\"data row24 col0\" >15357</td>\n",
       "                        <td id=\"T_836ceaf4_9dd5_11ea_a6cf_0050b66a8127row24_col1\" class=\"data row24 col1\" >569</td>\n",
       "                        <td id=\"T_836ceaf4_9dd5_11ea_a6cf_0050b66a8127row24_col2\" class=\"data row24 col2\" >83</td>\n",
       "                        <td id=\"T_836ceaf4_9dd5_11ea_a6cf_0050b66a8127row24_col3\" class=\"data row24 col3\" >2020-04-28</td>\n",
       "                        <td id=\"T_836ceaf4_9dd5_11ea_a6cf_0050b66a8127row24_col4\" class=\"data row24 col4\" >3.710000</td>\n",
       "            </tr>\n",
       "            <tr>\n",
       "                        <th id=\"T_836ceaf4_9dd5_11ea_a6cf_0050b66a8127level0_row25\" class=\"row_heading level0 row25\" >Singapore</th>\n",
       "                        <td id=\"T_836ceaf4_9dd5_11ea_a6cf_0050b66a8127row25_col0\" class=\"data row25 col0\" >14951</td>\n",
       "                        <td id=\"T_836ceaf4_9dd5_11ea_a6cf_0050b66a8127row25_col1\" class=\"data row25 col1\" >14</td>\n",
       "                        <td id=\"T_836ceaf4_9dd5_11ea_a6cf_0050b66a8127row25_col2\" class=\"data row25 col2\" >528</td>\n",
       "                        <td id=\"T_836ceaf4_9dd5_11ea_a6cf_0050b66a8127row25_col3\" class=\"data row25 col3\" >2020-04-28</td>\n",
       "                        <td id=\"T_836ceaf4_9dd5_11ea_a6cf_0050b66a8127row25_col4\" class=\"data row25 col4\" >0.090000</td>\n",
       "            </tr>\n",
       "            <tr>\n",
       "                        <th id=\"T_836ceaf4_9dd5_11ea_a6cf_0050b66a8127level0_row26\" class=\"row_heading level0 row26\" >Pakistan</th>\n",
       "                        <td id=\"T_836ceaf4_9dd5_11ea_a6cf_0050b66a8127row26_col0\" class=\"data row26 col0\" >14612</td>\n",
       "                        <td id=\"T_836ceaf4_9dd5_11ea_a6cf_0050b66a8127row26_col1\" class=\"data row26 col1\" >312</td>\n",
       "                        <td id=\"T_836ceaf4_9dd5_11ea_a6cf_0050b66a8127row26_col2\" class=\"data row26 col2\" >697</td>\n",
       "                        <td id=\"T_836ceaf4_9dd5_11ea_a6cf_0050b66a8127row26_col3\" class=\"data row26 col3\" >2020-04-28</td>\n",
       "                        <td id=\"T_836ceaf4_9dd5_11ea_a6cf_0050b66a8127row26_col4\" class=\"data row26 col4\" >2.140000</td>\n",
       "            </tr>\n",
       "            <tr>\n",
       "                        <th id=\"T_836ceaf4_9dd5_11ea_a6cf_0050b66a8127level0_row27\" class=\"row_heading level0 row27\" >Chile</th>\n",
       "                        <td id=\"T_836ceaf4_9dd5_11ea_a6cf_0050b66a8127row27_col0\" class=\"data row27 col0\" >14365</td>\n",
       "                        <td id=\"T_836ceaf4_9dd5_11ea_a6cf_0050b66a8127row27_col1\" class=\"data row27 col1\" >207</td>\n",
       "                        <td id=\"T_836ceaf4_9dd5_11ea_a6cf_0050b66a8127row27_col2\" class=\"data row27 col2\" >552</td>\n",
       "                        <td id=\"T_836ceaf4_9dd5_11ea_a6cf_0050b66a8127row27_col3\" class=\"data row27 col3\" >2020-04-28</td>\n",
       "                        <td id=\"T_836ceaf4_9dd5_11ea_a6cf_0050b66a8127row27_col4\" class=\"data row27 col4\" >1.440000</td>\n",
       "            </tr>\n",
       "            <tr>\n",
       "                        <th id=\"T_836ceaf4_9dd5_11ea_a6cf_0050b66a8127level0_row28\" class=\"row_heading level0 row28\" >Japan</th>\n",
       "                        <td id=\"T_836ceaf4_9dd5_11ea_a6cf_0050b66a8127row28_col0\" class=\"data row28 col0\" >13736</td>\n",
       "                        <td id=\"T_836ceaf4_9dd5_11ea_a6cf_0050b66a8127row28_col1\" class=\"data row28 col1\" >394</td>\n",
       "                        <td id=\"T_836ceaf4_9dd5_11ea_a6cf_0050b66a8127row28_col2\" class=\"data row28 col2\" >-417</td>\n",
       "                        <td id=\"T_836ceaf4_9dd5_11ea_a6cf_0050b66a8127row28_col3\" class=\"data row28 col3\" >2020-04-28</td>\n",
       "                        <td id=\"T_836ceaf4_9dd5_11ea_a6cf_0050b66a8127row28_col4\" class=\"data row28 col4\" >2.870000</td>\n",
       "            </tr>\n",
       "            <tr>\n",
       "                        <th id=\"T_836ceaf4_9dd5_11ea_a6cf_0050b66a8127level0_row29\" class=\"row_heading level0 row29\" >Poland</th>\n",
       "                        <td id=\"T_836ceaf4_9dd5_11ea_a6cf_0050b66a8127row29_col0\" class=\"data row29 col0\" >12218</td>\n",
       "                        <td id=\"T_836ceaf4_9dd5_11ea_a6cf_0050b66a8127row29_col1\" class=\"data row29 col1\" >596</td>\n",
       "                        <td id=\"T_836ceaf4_9dd5_11ea_a6cf_0050b66a8127row29_col2\" class=\"data row29 col2\" >316</td>\n",
       "                        <td id=\"T_836ceaf4_9dd5_11ea_a6cf_0050b66a8127row29_col3\" class=\"data row29 col3\" >2020-04-28</td>\n",
       "                        <td id=\"T_836ceaf4_9dd5_11ea_a6cf_0050b66a8127row29_col4\" class=\"data row29 col4\" >4.880000</td>\n",
       "            </tr>\n",
       "            <tr>\n",
       "                        <th id=\"T_836ceaf4_9dd5_11ea_a6cf_0050b66a8127level0_row30\" class=\"row_heading level0 row30\" >Belarus</th>\n",
       "                        <td id=\"T_836ceaf4_9dd5_11ea_a6cf_0050b66a8127row30_col0\" class=\"data row30 col0\" >12208</td>\n",
       "                        <td id=\"T_836ceaf4_9dd5_11ea_a6cf_0050b66a8127row30_col1\" class=\"data row30 col1\" >79</td>\n",
       "                        <td id=\"T_836ceaf4_9dd5_11ea_a6cf_0050b66a8127row30_col2\" class=\"data row30 col2\" >919</td>\n",
       "                        <td id=\"T_836ceaf4_9dd5_11ea_a6cf_0050b66a8127row30_col3\" class=\"data row30 col3\" >2020-04-28</td>\n",
       "                        <td id=\"T_836ceaf4_9dd5_11ea_a6cf_0050b66a8127row30_col4\" class=\"data row30 col4\" >0.650000</td>\n",
       "            </tr>\n",
       "            <tr>\n",
       "                        <th id=\"T_836ceaf4_9dd5_11ea_a6cf_0050b66a8127level0_row31\" class=\"row_heading level0 row31\" >Qatar</th>\n",
       "                        <td id=\"T_836ceaf4_9dd5_11ea_a6cf_0050b66a8127row31_col0\" class=\"data row31 col0\" >11921</td>\n",
       "                        <td id=\"T_836ceaf4_9dd5_11ea_a6cf_0050b66a8127row31_col1\" class=\"data row31 col1\" >10</td>\n",
       "                        <td id=\"T_836ceaf4_9dd5_11ea_a6cf_0050b66a8127row31_col2\" class=\"data row31 col2\" >677</td>\n",
       "                        <td id=\"T_836ceaf4_9dd5_11ea_a6cf_0050b66a8127row31_col3\" class=\"data row31 col3\" >2020-04-28</td>\n",
       "                        <td id=\"T_836ceaf4_9dd5_11ea_a6cf_0050b66a8127row31_col4\" class=\"data row31 col4\" >0.080000</td>\n",
       "            </tr>\n",
       "            <tr>\n",
       "                        <th id=\"T_836ceaf4_9dd5_11ea_a6cf_0050b66a8127level0_row32\" class=\"row_heading level0 row32\" >Romania</th>\n",
       "                        <td id=\"T_836ceaf4_9dd5_11ea_a6cf_0050b66a8127row32_col0\" class=\"data row32 col0\" >11616</td>\n",
       "                        <td id=\"T_836ceaf4_9dd5_11ea_a6cf_0050b66a8127row32_col1\" class=\"data row32 col1\" >663</td>\n",
       "                        <td id=\"T_836ceaf4_9dd5_11ea_a6cf_0050b66a8127row32_col2\" class=\"data row32 col2\" >277</td>\n",
       "                        <td id=\"T_836ceaf4_9dd5_11ea_a6cf_0050b66a8127row32_col3\" class=\"data row32 col3\" >2020-04-28</td>\n",
       "                        <td id=\"T_836ceaf4_9dd5_11ea_a6cf_0050b66a8127row32_col4\" class=\"data row32 col4\" >5.710000</td>\n",
       "            </tr>\n",
       "            <tr>\n",
       "                        <th id=\"T_836ceaf4_9dd5_11ea_a6cf_0050b66a8127level0_row33\" class=\"row_heading level0 row33\" >United Arab Emirates</th>\n",
       "                        <td id=\"T_836ceaf4_9dd5_11ea_a6cf_0050b66a8127row33_col0\" class=\"data row33 col0\" >11380</td>\n",
       "                        <td id=\"T_836ceaf4_9dd5_11ea_a6cf_0050b66a8127row33_col1\" class=\"data row33 col1\" >89</td>\n",
       "                        <td id=\"T_836ceaf4_9dd5_11ea_a6cf_0050b66a8127row33_col2\" class=\"data row33 col2\" >541</td>\n",
       "                        <td id=\"T_836ceaf4_9dd5_11ea_a6cf_0050b66a8127row33_col3\" class=\"data row33 col3\" >2020-04-28</td>\n",
       "                        <td id=\"T_836ceaf4_9dd5_11ea_a6cf_0050b66a8127row33_col4\" class=\"data row33 col4\" >0.780000</td>\n",
       "            </tr>\n",
       "            <tr>\n",
       "                        <th id=\"T_836ceaf4_9dd5_11ea_a6cf_0050b66a8127level0_row34\" class=\"row_heading level0 row34\" >Korea, South</th>\n",
       "                        <td id=\"T_836ceaf4_9dd5_11ea_a6cf_0050b66a8127row34_col0\" class=\"data row34 col0\" >10761</td>\n",
       "                        <td id=\"T_836ceaf4_9dd5_11ea_a6cf_0050b66a8127row34_col1\" class=\"data row34 col1\" >246</td>\n",
       "                        <td id=\"T_836ceaf4_9dd5_11ea_a6cf_0050b66a8127row34_col2\" class=\"data row34 col2\" >9</td>\n",
       "                        <td id=\"T_836ceaf4_9dd5_11ea_a6cf_0050b66a8127row34_col3\" class=\"data row34 col3\" >2020-04-28</td>\n",
       "                        <td id=\"T_836ceaf4_9dd5_11ea_a6cf_0050b66a8127row34_col4\" class=\"data row34 col4\" >2.290000</td>\n",
       "            </tr>\n",
       "            <tr>\n",
       "                        <th id=\"T_836ceaf4_9dd5_11ea_a6cf_0050b66a8127level0_row35\" class=\"row_heading level0 row35\" >Indonesia</th>\n",
       "                        <td id=\"T_836ceaf4_9dd5_11ea_a6cf_0050b66a8127row35_col0\" class=\"data row35 col0\" >9511</td>\n",
       "                        <td id=\"T_836ceaf4_9dd5_11ea_a6cf_0050b66a8127row35_col1\" class=\"data row35 col1\" >773</td>\n",
       "                        <td id=\"T_836ceaf4_9dd5_11ea_a6cf_0050b66a8127row35_col2\" class=\"data row35 col2\" >415</td>\n",
       "                        <td id=\"T_836ceaf4_9dd5_11ea_a6cf_0050b66a8127row35_col3\" class=\"data row35 col3\" >2020-04-28</td>\n",
       "                        <td id=\"T_836ceaf4_9dd5_11ea_a6cf_0050b66a8127row35_col4\" class=\"data row35 col4\" >8.130000</td>\n",
       "            </tr>\n",
       "            <tr>\n",
       "                        <th id=\"T_836ceaf4_9dd5_11ea_a6cf_0050b66a8127level0_row36\" class=\"row_heading level0 row36\" >Ukraine</th>\n",
       "                        <td id=\"T_836ceaf4_9dd5_11ea_a6cf_0050b66a8127row36_col0\" class=\"data row36 col0\" >9410</td>\n",
       "                        <td id=\"T_836ceaf4_9dd5_11ea_a6cf_0050b66a8127row36_col1\" class=\"data row36 col1\" >239</td>\n",
       "                        <td id=\"T_836ceaf4_9dd5_11ea_a6cf_0050b66a8127row36_col2\" class=\"data row36 col2\" >401</td>\n",
       "                        <td id=\"T_836ceaf4_9dd5_11ea_a6cf_0050b66a8127row36_col3\" class=\"data row36 col3\" >2020-04-28</td>\n",
       "                        <td id=\"T_836ceaf4_9dd5_11ea_a6cf_0050b66a8127row36_col4\" class=\"data row36 col4\" >2.540000</td>\n",
       "            </tr>\n",
       "            <tr>\n",
       "                        <th id=\"T_836ceaf4_9dd5_11ea_a6cf_0050b66a8127level0_row37\" class=\"row_heading level0 row37\" >Denmark</th>\n",
       "                        <td id=\"T_836ceaf4_9dd5_11ea_a6cf_0050b66a8127row37_col0\" class=\"data row37 col0\" >9049</td>\n",
       "                        <td id=\"T_836ceaf4_9dd5_11ea_a6cf_0050b66a8127row37_col1\" class=\"data row37 col1\" >434</td>\n",
       "                        <td id=\"T_836ceaf4_9dd5_11ea_a6cf_0050b66a8127row37_col2\" class=\"data row37 col2\" >153</td>\n",
       "                        <td id=\"T_836ceaf4_9dd5_11ea_a6cf_0050b66a8127row37_col3\" class=\"data row37 col3\" >2020-04-28</td>\n",
       "                        <td id=\"T_836ceaf4_9dd5_11ea_a6cf_0050b66a8127row37_col4\" class=\"data row37 col4\" >4.800000</td>\n",
       "            </tr>\n",
       "            <tr>\n",
       "                        <th id=\"T_836ceaf4_9dd5_11ea_a6cf_0050b66a8127level0_row38\" class=\"row_heading level0 row38\" >Philippines</th>\n",
       "                        <td id=\"T_836ceaf4_9dd5_11ea_a6cf_0050b66a8127row38_col0\" class=\"data row38 col0\" >7958</td>\n",
       "                        <td id=\"T_836ceaf4_9dd5_11ea_a6cf_0050b66a8127row38_col1\" class=\"data row38 col1\" >530</td>\n",
       "                        <td id=\"T_836ceaf4_9dd5_11ea_a6cf_0050b66a8127row38_col2\" class=\"data row38 col2\" >181</td>\n",
       "                        <td id=\"T_836ceaf4_9dd5_11ea_a6cf_0050b66a8127row38_col3\" class=\"data row38 col3\" >2020-04-28</td>\n",
       "                        <td id=\"T_836ceaf4_9dd5_11ea_a6cf_0050b66a8127row38_col4\" class=\"data row38 col4\" >6.660000</td>\n",
       "            </tr>\n",
       "            <tr>\n",
       "                        <th id=\"T_836ceaf4_9dd5_11ea_a6cf_0050b66a8127level0_row39\" class=\"row_heading level0 row39\" >Norway</th>\n",
       "                        <td id=\"T_836ceaf4_9dd5_11ea_a6cf_0050b66a8127row39_col0\" class=\"data row39 col0\" >7660</td>\n",
       "                        <td id=\"T_836ceaf4_9dd5_11ea_a6cf_0050b66a8127row39_col1\" class=\"data row39 col1\" >206</td>\n",
       "                        <td id=\"T_836ceaf4_9dd5_11ea_a6cf_0050b66a8127row39_col2\" class=\"data row39 col2\" >61</td>\n",
       "                        <td id=\"T_836ceaf4_9dd5_11ea_a6cf_0050b66a8127row39_col3\" class=\"data row39 col3\" >2020-04-28</td>\n",
       "                        <td id=\"T_836ceaf4_9dd5_11ea_a6cf_0050b66a8127row39_col4\" class=\"data row39 col4\" >2.690000</td>\n",
       "            </tr>\n",
       "            <tr>\n",
       "                        <th id=\"T_836ceaf4_9dd5_11ea_a6cf_0050b66a8127level0_row40\" class=\"row_heading level0 row40\" >Czechia</th>\n",
       "                        <td id=\"T_836ceaf4_9dd5_11ea_a6cf_0050b66a8127row40_col0\" class=\"data row40 col0\" >7504</td>\n",
       "                        <td id=\"T_836ceaf4_9dd5_11ea_a6cf_0050b66a8127row40_col1\" class=\"data row40 col1\" >227</td>\n",
       "                        <td id=\"T_836ceaf4_9dd5_11ea_a6cf_0050b66a8127row40_col2\" class=\"data row40 col2\" >59</td>\n",
       "                        <td id=\"T_836ceaf4_9dd5_11ea_a6cf_0050b66a8127row40_col3\" class=\"data row40 col3\" >2020-04-28</td>\n",
       "                        <td id=\"T_836ceaf4_9dd5_11ea_a6cf_0050b66a8127row40_col4\" class=\"data row40 col4\" >3.030000</td>\n",
       "            </tr>\n",
       "            <tr>\n",
       "                        <th id=\"T_836ceaf4_9dd5_11ea_a6cf_0050b66a8127level0_row41\" class=\"row_heading level0 row41\" >Australia</th>\n",
       "                        <td id=\"T_836ceaf4_9dd5_11ea_a6cf_0050b66a8127row41_col0\" class=\"data row41 col0\" >6744</td>\n",
       "                        <td id=\"T_836ceaf4_9dd5_11ea_a6cf_0050b66a8127row41_col1\" class=\"data row41 col1\" >89</td>\n",
       "                        <td id=\"T_836ceaf4_9dd5_11ea_a6cf_0050b66a8127row41_col2\" class=\"data row41 col2\" >23</td>\n",
       "                        <td id=\"T_836ceaf4_9dd5_11ea_a6cf_0050b66a8127row41_col3\" class=\"data row41 col3\" >2020-04-28</td>\n",
       "                        <td id=\"T_836ceaf4_9dd5_11ea_a6cf_0050b66a8127row41_col4\" class=\"data row41 col4\" >1.320000</td>\n",
       "            </tr>\n",
       "            <tr>\n",
       "                        <th id=\"T_836ceaf4_9dd5_11ea_a6cf_0050b66a8127level0_row42\" class=\"row_heading level0 row42\" >Serbia</th>\n",
       "                        <td id=\"T_836ceaf4_9dd5_11ea_a6cf_0050b66a8127row42_col0\" class=\"data row42 col0\" >6630</td>\n",
       "                        <td id=\"T_836ceaf4_9dd5_11ea_a6cf_0050b66a8127row42_col1\" class=\"data row42 col1\" >125</td>\n",
       "                        <td id=\"T_836ceaf4_9dd5_11ea_a6cf_0050b66a8127row42_col2\" class=\"data row42 col2\" >0</td>\n",
       "                        <td id=\"T_836ceaf4_9dd5_11ea_a6cf_0050b66a8127row42_col3\" class=\"data row42 col3\" >2020-04-28</td>\n",
       "                        <td id=\"T_836ceaf4_9dd5_11ea_a6cf_0050b66a8127row42_col4\" class=\"data row42 col4\" >1.890000</td>\n",
       "            </tr>\n",
       "            <tr>\n",
       "                        <th id=\"T_836ceaf4_9dd5_11ea_a6cf_0050b66a8127level0_row43\" class=\"row_heading level0 row43\" >Bangladesh</th>\n",
       "                        <td id=\"T_836ceaf4_9dd5_11ea_a6cf_0050b66a8127row43_col0\" class=\"data row43 col0\" >6462</td>\n",
       "                        <td id=\"T_836ceaf4_9dd5_11ea_a6cf_0050b66a8127row43_col1\" class=\"data row43 col1\" >155</td>\n",
       "                        <td id=\"T_836ceaf4_9dd5_11ea_a6cf_0050b66a8127row43_col2\" class=\"data row43 col2\" >549</td>\n",
       "                        <td id=\"T_836ceaf4_9dd5_11ea_a6cf_0050b66a8127row43_col3\" class=\"data row43 col3\" >2020-04-28</td>\n",
       "                        <td id=\"T_836ceaf4_9dd5_11ea_a6cf_0050b66a8127row43_col4\" class=\"data row43 col4\" >2.400000</td>\n",
       "            </tr>\n",
       "            <tr>\n",
       "                        <th id=\"T_836ceaf4_9dd5_11ea_a6cf_0050b66a8127level0_row44\" class=\"row_heading level0 row44\" >Dominican Republic</th>\n",
       "                        <td id=\"T_836ceaf4_9dd5_11ea_a6cf_0050b66a8127row44_col0\" class=\"data row44 col0\" >6416</td>\n",
       "                        <td id=\"T_836ceaf4_9dd5_11ea_a6cf_0050b66a8127row44_col1\" class=\"data row44 col1\" >286</td>\n",
       "                        <td id=\"T_836ceaf4_9dd5_11ea_a6cf_0050b66a8127row44_col2\" class=\"data row44 col2\" >123</td>\n",
       "                        <td id=\"T_836ceaf4_9dd5_11ea_a6cf_0050b66a8127row44_col3\" class=\"data row44 col3\" >2020-04-28</td>\n",
       "                        <td id=\"T_836ceaf4_9dd5_11ea_a6cf_0050b66a8127row44_col4\" class=\"data row44 col4\" >4.460000</td>\n",
       "            </tr>\n",
       "            <tr>\n",
       "                        <th id=\"T_836ceaf4_9dd5_11ea_a6cf_0050b66a8127level0_row45\" class=\"row_heading level0 row45\" >Panama</th>\n",
       "                        <td id=\"T_836ceaf4_9dd5_11ea_a6cf_0050b66a8127row45_col0\" class=\"data row45 col0\" >6021</td>\n",
       "                        <td id=\"T_836ceaf4_9dd5_11ea_a6cf_0050b66a8127row45_col1\" class=\"data row45 col1\" >167</td>\n",
       "                        <td id=\"T_836ceaf4_9dd5_11ea_a6cf_0050b66a8127row45_col2\" class=\"data row45 col2\" >0</td>\n",
       "                        <td id=\"T_836ceaf4_9dd5_11ea_a6cf_0050b66a8127row45_col3\" class=\"data row45 col3\" >2020-04-28</td>\n",
       "                        <td id=\"T_836ceaf4_9dd5_11ea_a6cf_0050b66a8127row45_col4\" class=\"data row45 col4\" >2.770000</td>\n",
       "            </tr>\n",
       "            <tr>\n",
       "                        <th id=\"T_836ceaf4_9dd5_11ea_a6cf_0050b66a8127level0_row46\" class=\"row_heading level0 row46\" >Colombia</th>\n",
       "                        <td id=\"T_836ceaf4_9dd5_11ea_a6cf_0050b66a8127row46_col0\" class=\"data row46 col0\" >5949</td>\n",
       "                        <td id=\"T_836ceaf4_9dd5_11ea_a6cf_0050b66a8127row46_col1\" class=\"data row46 col1\" >269</td>\n",
       "                        <td id=\"T_836ceaf4_9dd5_11ea_a6cf_0050b66a8127row46_col2\" class=\"data row46 col2\" >352</td>\n",
       "                        <td id=\"T_836ceaf4_9dd5_11ea_a6cf_0050b66a8127row46_col3\" class=\"data row46 col3\" >2020-04-28</td>\n",
       "                        <td id=\"T_836ceaf4_9dd5_11ea_a6cf_0050b66a8127row46_col4\" class=\"data row46 col4\" >4.520000</td>\n",
       "            </tr>\n",
       "            <tr>\n",
       "                        <th id=\"T_836ceaf4_9dd5_11ea_a6cf_0050b66a8127level0_row47\" class=\"row_heading level0 row47\" >Malaysia</th>\n",
       "                        <td id=\"T_836ceaf4_9dd5_11ea_a6cf_0050b66a8127row47_col0\" class=\"data row47 col0\" >5851</td>\n",
       "                        <td id=\"T_836ceaf4_9dd5_11ea_a6cf_0050b66a8127row47_col1\" class=\"data row47 col1\" >100</td>\n",
       "                        <td id=\"T_836ceaf4_9dd5_11ea_a6cf_0050b66a8127row47_col2\" class=\"data row47 col2\" >31</td>\n",
       "                        <td id=\"T_836ceaf4_9dd5_11ea_a6cf_0050b66a8127row47_col3\" class=\"data row47 col3\" >2020-04-28</td>\n",
       "                        <td id=\"T_836ceaf4_9dd5_11ea_a6cf_0050b66a8127row47_col4\" class=\"data row47 col4\" >1.710000</td>\n",
       "            </tr>\n",
       "            <tr>\n",
       "                        <th id=\"T_836ceaf4_9dd5_11ea_a6cf_0050b66a8127level0_row48\" class=\"row_heading level0 row48\" >Egypt</th>\n",
       "                        <td id=\"T_836ceaf4_9dd5_11ea_a6cf_0050b66a8127row48_col0\" class=\"data row48 col0\" >5042</td>\n",
       "                        <td id=\"T_836ceaf4_9dd5_11ea_a6cf_0050b66a8127row48_col1\" class=\"data row48 col1\" >359</td>\n",
       "                        <td id=\"T_836ceaf4_9dd5_11ea_a6cf_0050b66a8127row48_col2\" class=\"data row48 col2\" >260</td>\n",
       "                        <td id=\"T_836ceaf4_9dd5_11ea_a6cf_0050b66a8127row48_col3\" class=\"data row48 col3\" >2020-04-28</td>\n",
       "                        <td id=\"T_836ceaf4_9dd5_11ea_a6cf_0050b66a8127row48_col4\" class=\"data row48 col4\" >7.120000</td>\n",
       "            </tr>\n",
       "            <tr>\n",
       "                        <th id=\"T_836ceaf4_9dd5_11ea_a6cf_0050b66a8127level0_row49\" class=\"row_heading level0 row49\" >South Africa</th>\n",
       "                        <td id=\"T_836ceaf4_9dd5_11ea_a6cf_0050b66a8127row49_col0\" class=\"data row49 col0\" >4996</td>\n",
       "                        <td id=\"T_836ceaf4_9dd5_11ea_a6cf_0050b66a8127row49_col1\" class=\"data row49 col1\" >93</td>\n",
       "                        <td id=\"T_836ceaf4_9dd5_11ea_a6cf_0050b66a8127row49_col2\" class=\"data row49 col2\" >203</td>\n",
       "                        <td id=\"T_836ceaf4_9dd5_11ea_a6cf_0050b66a8127row49_col3\" class=\"data row49 col3\" >2020-04-28</td>\n",
       "                        <td id=\"T_836ceaf4_9dd5_11ea_a6cf_0050b66a8127row49_col4\" class=\"data row49 col4\" >1.860000</td>\n",
       "            </tr>\n",
       "            <tr>\n",
       "                        <th id=\"T_836ceaf4_9dd5_11ea_a6cf_0050b66a8127level0_row50\" class=\"row_heading level0 row50\" >Finland</th>\n",
       "                        <td id=\"T_836ceaf4_9dd5_11ea_a6cf_0050b66a8127row50_col0\" class=\"data row50 col0\" >4740</td>\n",
       "                        <td id=\"T_836ceaf4_9dd5_11ea_a6cf_0050b66a8127row50_col1\" class=\"data row50 col1\" >199</td>\n",
       "                        <td id=\"T_836ceaf4_9dd5_11ea_a6cf_0050b66a8127row50_col2\" class=\"data row50 col2\" >45</td>\n",
       "                        <td id=\"T_836ceaf4_9dd5_11ea_a6cf_0050b66a8127row50_col3\" class=\"data row50 col3\" >2020-04-28</td>\n",
       "                        <td id=\"T_836ceaf4_9dd5_11ea_a6cf_0050b66a8127row50_col4\" class=\"data row50 col4\" >4.200000</td>\n",
       "            </tr>\n",
       "            <tr>\n",
       "                        <th id=\"T_836ceaf4_9dd5_11ea_a6cf_0050b66a8127level0_row51\" class=\"row_heading level0 row51\" >Morocco</th>\n",
       "                        <td id=\"T_836ceaf4_9dd5_11ea_a6cf_0050b66a8127row51_col0\" class=\"data row51 col0\" >4252</td>\n",
       "                        <td id=\"T_836ceaf4_9dd5_11ea_a6cf_0050b66a8127row51_col1\" class=\"data row51 col1\" >165</td>\n",
       "                        <td id=\"T_836ceaf4_9dd5_11ea_a6cf_0050b66a8127row51_col2\" class=\"data row51 col2\" >132</td>\n",
       "                        <td id=\"T_836ceaf4_9dd5_11ea_a6cf_0050b66a8127row51_col3\" class=\"data row51 col3\" >2020-04-28</td>\n",
       "                        <td id=\"T_836ceaf4_9dd5_11ea_a6cf_0050b66a8127row51_col4\" class=\"data row51 col4\" >3.880000</td>\n",
       "            </tr>\n",
       "            <tr>\n",
       "                        <th id=\"T_836ceaf4_9dd5_11ea_a6cf_0050b66a8127level0_row52\" class=\"row_heading level0 row52\" >Argentina</th>\n",
       "                        <td id=\"T_836ceaf4_9dd5_11ea_a6cf_0050b66a8127row52_col0\" class=\"data row52 col0\" >4127</td>\n",
       "                        <td id=\"T_836ceaf4_9dd5_11ea_a6cf_0050b66a8127row52_col1\" class=\"data row52 col1\" >207</td>\n",
       "                        <td id=\"T_836ceaf4_9dd5_11ea_a6cf_0050b66a8127row52_col2\" class=\"data row52 col2\" >124</td>\n",
       "                        <td id=\"T_836ceaf4_9dd5_11ea_a6cf_0050b66a8127row52_col3\" class=\"data row52 col3\" >2020-04-28</td>\n",
       "                        <td id=\"T_836ceaf4_9dd5_11ea_a6cf_0050b66a8127row52_col4\" class=\"data row52 col4\" >5.020000</td>\n",
       "            </tr>\n",
       "            <tr>\n",
       "                        <th id=\"T_836ceaf4_9dd5_11ea_a6cf_0050b66a8127level0_row53\" class=\"row_heading level0 row53\" >Luxembourg</th>\n",
       "                        <td id=\"T_836ceaf4_9dd5_11ea_a6cf_0050b66a8127row53_col0\" class=\"data row53 col0\" >3741</td>\n",
       "                        <td id=\"T_836ceaf4_9dd5_11ea_a6cf_0050b66a8127row53_col1\" class=\"data row53 col1\" >89</td>\n",
       "                        <td id=\"T_836ceaf4_9dd5_11ea_a6cf_0050b66a8127row53_col2\" class=\"data row53 col2\" >12</td>\n",
       "                        <td id=\"T_836ceaf4_9dd5_11ea_a6cf_0050b66a8127row53_col3\" class=\"data row53 col3\" >2020-04-28</td>\n",
       "                        <td id=\"T_836ceaf4_9dd5_11ea_a6cf_0050b66a8127row53_col4\" class=\"data row53 col4\" >2.380000</td>\n",
       "            </tr>\n",
       "            <tr>\n",
       "                        <th id=\"T_836ceaf4_9dd5_11ea_a6cf_0050b66a8127level0_row54\" class=\"row_heading level0 row54\" >Algeria</th>\n",
       "                        <td id=\"T_836ceaf4_9dd5_11ea_a6cf_0050b66a8127row54_col0\" class=\"data row54 col0\" >3649</td>\n",
       "                        <td id=\"T_836ceaf4_9dd5_11ea_a6cf_0050b66a8127row54_col1\" class=\"data row54 col1\" >437</td>\n",
       "                        <td id=\"T_836ceaf4_9dd5_11ea_a6cf_0050b66a8127row54_col2\" class=\"data row54 col2\" >132</td>\n",
       "                        <td id=\"T_836ceaf4_9dd5_11ea_a6cf_0050b66a8127row54_col3\" class=\"data row54 col3\" >2020-04-28</td>\n",
       "                        <td id=\"T_836ceaf4_9dd5_11ea_a6cf_0050b66a8127row54_col4\" class=\"data row54 col4\" >11.980000</td>\n",
       "            </tr>\n",
       "            <tr>\n",
       "                        <th id=\"T_836ceaf4_9dd5_11ea_a6cf_0050b66a8127level0_row55\" class=\"row_heading level0 row55\" >Moldova</th>\n",
       "                        <td id=\"T_836ceaf4_9dd5_11ea_a6cf_0050b66a8127row55_col0\" class=\"data row55 col0\" >3638</td>\n",
       "                        <td id=\"T_836ceaf4_9dd5_11ea_a6cf_0050b66a8127row55_col1\" class=\"data row55 col1\" >103</td>\n",
       "                        <td id=\"T_836ceaf4_9dd5_11ea_a6cf_0050b66a8127row55_col2\" class=\"data row55 col2\" >157</td>\n",
       "                        <td id=\"T_836ceaf4_9dd5_11ea_a6cf_0050b66a8127row55_col3\" class=\"data row55 col3\" >2020-04-28</td>\n",
       "                        <td id=\"T_836ceaf4_9dd5_11ea_a6cf_0050b66a8127row55_col4\" class=\"data row55 col4\" >2.830000</td>\n",
       "            </tr>\n",
       "            <tr>\n",
       "                        <th id=\"T_836ceaf4_9dd5_11ea_a6cf_0050b66a8127level0_row56\" class=\"row_heading level0 row56\" >Kuwait</th>\n",
       "                        <td id=\"T_836ceaf4_9dd5_11ea_a6cf_0050b66a8127row56_col0\" class=\"data row56 col0\" >3440</td>\n",
       "                        <td id=\"T_836ceaf4_9dd5_11ea_a6cf_0050b66a8127row56_col1\" class=\"data row56 col1\" >23</td>\n",
       "                        <td id=\"T_836ceaf4_9dd5_11ea_a6cf_0050b66a8127row56_col2\" class=\"data row56 col2\" >152</td>\n",
       "                        <td id=\"T_836ceaf4_9dd5_11ea_a6cf_0050b66a8127row56_col3\" class=\"data row56 col3\" >2020-04-28</td>\n",
       "                        <td id=\"T_836ceaf4_9dd5_11ea_a6cf_0050b66a8127row56_col4\" class=\"data row56 col4\" >0.670000</td>\n",
       "            </tr>\n",
       "            <tr>\n",
       "                        <th id=\"T_836ceaf4_9dd5_11ea_a6cf_0050b66a8127level0_row57\" class=\"row_heading level0 row57\" >Kazakhstan</th>\n",
       "                        <td id=\"T_836ceaf4_9dd5_11ea_a6cf_0050b66a8127row57_col0\" class=\"data row57 col0\" >3027</td>\n",
       "                        <td id=\"T_836ceaf4_9dd5_11ea_a6cf_0050b66a8127row57_col1\" class=\"data row57 col1\" >25</td>\n",
       "                        <td id=\"T_836ceaf4_9dd5_11ea_a6cf_0050b66a8127row57_col2\" class=\"data row57 col2\" >192</td>\n",
       "                        <td id=\"T_836ceaf4_9dd5_11ea_a6cf_0050b66a8127row57_col3\" class=\"data row57 col3\" >2020-04-28</td>\n",
       "                        <td id=\"T_836ceaf4_9dd5_11ea_a6cf_0050b66a8127row57_col4\" class=\"data row57 col4\" >0.830000</td>\n",
       "            </tr>\n",
       "            <tr>\n",
       "                        <th id=\"T_836ceaf4_9dd5_11ea_a6cf_0050b66a8127level0_row58\" class=\"row_heading level0 row58\" >Thailand</th>\n",
       "                        <td id=\"T_836ceaf4_9dd5_11ea_a6cf_0050b66a8127row58_col0\" class=\"data row58 col0\" >2938</td>\n",
       "                        <td id=\"T_836ceaf4_9dd5_11ea_a6cf_0050b66a8127row58_col1\" class=\"data row58 col1\" >54</td>\n",
       "                        <td id=\"T_836ceaf4_9dd5_11ea_a6cf_0050b66a8127row58_col2\" class=\"data row58 col2\" >7</td>\n",
       "                        <td id=\"T_836ceaf4_9dd5_11ea_a6cf_0050b66a8127row58_col3\" class=\"data row58 col3\" >2020-04-28</td>\n",
       "                        <td id=\"T_836ceaf4_9dd5_11ea_a6cf_0050b66a8127row58_col4\" class=\"data row58 col4\" >1.840000</td>\n",
       "            </tr>\n",
       "            <tr>\n",
       "                        <th id=\"T_836ceaf4_9dd5_11ea_a6cf_0050b66a8127level0_row59\" class=\"row_heading level0 row59\" >Bahrain</th>\n",
       "                        <td id=\"T_836ceaf4_9dd5_11ea_a6cf_0050b66a8127row59_col0\" class=\"data row59 col0\" >2811</td>\n",
       "                        <td id=\"T_836ceaf4_9dd5_11ea_a6cf_0050b66a8127row59_col1\" class=\"data row59 col1\" >8</td>\n",
       "                        <td id=\"T_836ceaf4_9dd5_11ea_a6cf_0050b66a8127row59_col2\" class=\"data row59 col2\" >88</td>\n",
       "                        <td id=\"T_836ceaf4_9dd5_11ea_a6cf_0050b66a8127row59_col3\" class=\"data row59 col3\" >2020-04-28</td>\n",
       "                        <td id=\"T_836ceaf4_9dd5_11ea_a6cf_0050b66a8127row59_col4\" class=\"data row59 col4\" >0.280000</td>\n",
       "            </tr>\n",
       "            <tr>\n",
       "                        <th id=\"T_836ceaf4_9dd5_11ea_a6cf_0050b66a8127level0_row60\" class=\"row_heading level0 row60\" >Hungary</th>\n",
       "                        <td id=\"T_836ceaf4_9dd5_11ea_a6cf_0050b66a8127row60_col0\" class=\"data row60 col0\" >2649</td>\n",
       "                        <td id=\"T_836ceaf4_9dd5_11ea_a6cf_0050b66a8127row60_col1\" class=\"data row60 col1\" >291</td>\n",
       "                        <td id=\"T_836ceaf4_9dd5_11ea_a6cf_0050b66a8127row60_col2\" class=\"data row60 col2\" >66</td>\n",
       "                        <td id=\"T_836ceaf4_9dd5_11ea_a6cf_0050b66a8127row60_col3\" class=\"data row60 col3\" >2020-04-28</td>\n",
       "                        <td id=\"T_836ceaf4_9dd5_11ea_a6cf_0050b66a8127row60_col4\" class=\"data row60 col4\" >10.990000</td>\n",
       "            </tr>\n",
       "            <tr>\n",
       "                        <th id=\"T_836ceaf4_9dd5_11ea_a6cf_0050b66a8127level0_row61\" class=\"row_heading level0 row61\" >Greece</th>\n",
       "                        <td id=\"T_836ceaf4_9dd5_11ea_a6cf_0050b66a8127row61_col0\" class=\"data row61 col0\" >2566</td>\n",
       "                        <td id=\"T_836ceaf4_9dd5_11ea_a6cf_0050b66a8127row61_col1\" class=\"data row61 col1\" >138</td>\n",
       "                        <td id=\"T_836ceaf4_9dd5_11ea_a6cf_0050b66a8127row61_col2\" class=\"data row61 col2\" >32</td>\n",
       "                        <td id=\"T_836ceaf4_9dd5_11ea_a6cf_0050b66a8127row61_col3\" class=\"data row61 col3\" >2020-04-28</td>\n",
       "                        <td id=\"T_836ceaf4_9dd5_11ea_a6cf_0050b66a8127row61_col4\" class=\"data row61 col4\" >5.380000</td>\n",
       "            </tr>\n",
       "            <tr>\n",
       "                        <th id=\"T_836ceaf4_9dd5_11ea_a6cf_0050b66a8127level0_row62\" class=\"row_heading level0 row62\" >Oman</th>\n",
       "                        <td id=\"T_836ceaf4_9dd5_11ea_a6cf_0050b66a8127row62_col0\" class=\"data row62 col0\" >2131</td>\n",
       "                        <td id=\"T_836ceaf4_9dd5_11ea_a6cf_0050b66a8127row62_col1\" class=\"data row62 col1\" >10</td>\n",
       "                        <td id=\"T_836ceaf4_9dd5_11ea_a6cf_0050b66a8127row62_col2\" class=\"data row62 col2\" >82</td>\n",
       "                        <td id=\"T_836ceaf4_9dd5_11ea_a6cf_0050b66a8127row62_col3\" class=\"data row62 col3\" >2020-04-28</td>\n",
       "                        <td id=\"T_836ceaf4_9dd5_11ea_a6cf_0050b66a8127row62_col4\" class=\"data row62 col4\" >0.470000</td>\n",
       "            </tr>\n",
       "            <tr>\n",
       "                        <th id=\"T_836ceaf4_9dd5_11ea_a6cf_0050b66a8127level0_row63\" class=\"row_heading level0 row63\" >Croatia</th>\n",
       "                        <td id=\"T_836ceaf4_9dd5_11ea_a6cf_0050b66a8127row63_col0\" class=\"data row63 col0\" >2047</td>\n",
       "                        <td id=\"T_836ceaf4_9dd5_11ea_a6cf_0050b66a8127row63_col1\" class=\"data row63 col1\" >63</td>\n",
       "                        <td id=\"T_836ceaf4_9dd5_11ea_a6cf_0050b66a8127row63_col2\" class=\"data row63 col2\" >8</td>\n",
       "                        <td id=\"T_836ceaf4_9dd5_11ea_a6cf_0050b66a8127row63_col3\" class=\"data row63 col3\" >2020-04-28</td>\n",
       "                        <td id=\"T_836ceaf4_9dd5_11ea_a6cf_0050b66a8127row63_col4\" class=\"data row63 col4\" >3.080000</td>\n",
       "            </tr>\n",
       "            <tr>\n",
       "                        <th id=\"T_836ceaf4_9dd5_11ea_a6cf_0050b66a8127level0_row64\" class=\"row_heading level0 row64\" >Uzbekistan</th>\n",
       "                        <td id=\"T_836ceaf4_9dd5_11ea_a6cf_0050b66a8127row64_col0\" class=\"data row64 col0\" >1939</td>\n",
       "                        <td id=\"T_836ceaf4_9dd5_11ea_a6cf_0050b66a8127row64_col1\" class=\"data row64 col1\" >8</td>\n",
       "                        <td id=\"T_836ceaf4_9dd5_11ea_a6cf_0050b66a8127row64_col2\" class=\"data row64 col2\" >35</td>\n",
       "                        <td id=\"T_836ceaf4_9dd5_11ea_a6cf_0050b66a8127row64_col3\" class=\"data row64 col3\" >2020-04-28</td>\n",
       "                        <td id=\"T_836ceaf4_9dd5_11ea_a6cf_0050b66a8127row64_col4\" class=\"data row64 col4\" >0.410000</td>\n",
       "            </tr>\n",
       "            <tr>\n",
       "                        <th id=\"T_836ceaf4_9dd5_11ea_a6cf_0050b66a8127level0_row65\" class=\"row_heading level0 row65\" >Iraq</th>\n",
       "                        <td id=\"T_836ceaf4_9dd5_11ea_a6cf_0050b66a8127row65_col0\" class=\"data row65 col0\" >1928</td>\n",
       "                        <td id=\"T_836ceaf4_9dd5_11ea_a6cf_0050b66a8127row65_col1\" class=\"data row65 col1\" >90</td>\n",
       "                        <td id=\"T_836ceaf4_9dd5_11ea_a6cf_0050b66a8127row65_col2\" class=\"data row65 col2\" >81</td>\n",
       "                        <td id=\"T_836ceaf4_9dd5_11ea_a6cf_0050b66a8127row65_col3\" class=\"data row65 col3\" >2020-04-28</td>\n",
       "                        <td id=\"T_836ceaf4_9dd5_11ea_a6cf_0050b66a8127row65_col4\" class=\"data row65 col4\" >4.670000</td>\n",
       "            </tr>\n",
       "            <tr>\n",
       "                        <th id=\"T_836ceaf4_9dd5_11ea_a6cf_0050b66a8127level0_row66\" class=\"row_heading level0 row66\" >Armenia</th>\n",
       "                        <td id=\"T_836ceaf4_9dd5_11ea_a6cf_0050b66a8127row66_col0\" class=\"data row66 col0\" >1867</td>\n",
       "                        <td id=\"T_836ceaf4_9dd5_11ea_a6cf_0050b66a8127row66_col1\" class=\"data row66 col1\" >30</td>\n",
       "                        <td id=\"T_836ceaf4_9dd5_11ea_a6cf_0050b66a8127row66_col2\" class=\"data row66 col2\" >59</td>\n",
       "                        <td id=\"T_836ceaf4_9dd5_11ea_a6cf_0050b66a8127row66_col3\" class=\"data row66 col3\" >2020-04-28</td>\n",
       "                        <td id=\"T_836ceaf4_9dd5_11ea_a6cf_0050b66a8127row66_col4\" class=\"data row66 col4\" >1.610000</td>\n",
       "            </tr>\n",
       "            <tr>\n",
       "                        <th id=\"T_836ceaf4_9dd5_11ea_a6cf_0050b66a8127level0_row67\" class=\"row_heading level0 row67\" >Afghanistan</th>\n",
       "                        <td id=\"T_836ceaf4_9dd5_11ea_a6cf_0050b66a8127row67_col0\" class=\"data row67 col0\" >1828</td>\n",
       "                        <td id=\"T_836ceaf4_9dd5_11ea_a6cf_0050b66a8127row67_col1\" class=\"data row67 col1\" >58</td>\n",
       "                        <td id=\"T_836ceaf4_9dd5_11ea_a6cf_0050b66a8127row67_col2\" class=\"data row67 col2\" >125</td>\n",
       "                        <td id=\"T_836ceaf4_9dd5_11ea_a6cf_0050b66a8127row67_col3\" class=\"data row67 col3\" >2020-04-28</td>\n",
       "                        <td id=\"T_836ceaf4_9dd5_11ea_a6cf_0050b66a8127row67_col4\" class=\"data row67 col4\" >3.170000</td>\n",
       "            </tr>\n",
       "            <tr>\n",
       "                        <th id=\"T_836ceaf4_9dd5_11ea_a6cf_0050b66a8127level0_row68\" class=\"row_heading level0 row68\" >Iceland</th>\n",
       "                        <td id=\"T_836ceaf4_9dd5_11ea_a6cf_0050b66a8127row68_col0\" class=\"data row68 col0\" >1795</td>\n",
       "                        <td id=\"T_836ceaf4_9dd5_11ea_a6cf_0050b66a8127row68_col1\" class=\"data row68 col1\" >10</td>\n",
       "                        <td id=\"T_836ceaf4_9dd5_11ea_a6cf_0050b66a8127row68_col2\" class=\"data row68 col2\" >3</td>\n",
       "                        <td id=\"T_836ceaf4_9dd5_11ea_a6cf_0050b66a8127row68_col3\" class=\"data row68 col3\" >2020-04-28</td>\n",
       "                        <td id=\"T_836ceaf4_9dd5_11ea_a6cf_0050b66a8127row68_col4\" class=\"data row68 col4\" >0.560000</td>\n",
       "            </tr>\n",
       "            <tr>\n",
       "                        <th id=\"T_836ceaf4_9dd5_11ea_a6cf_0050b66a8127level0_row69\" class=\"row_heading level0 row69\" >Azerbaijan</th>\n",
       "                        <td id=\"T_836ceaf4_9dd5_11ea_a6cf_0050b66a8127row69_col0\" class=\"data row69 col0\" >1717</td>\n",
       "                        <td id=\"T_836ceaf4_9dd5_11ea_a6cf_0050b66a8127row69_col1\" class=\"data row69 col1\" >22</td>\n",
       "                        <td id=\"T_836ceaf4_9dd5_11ea_a6cf_0050b66a8127row69_col2\" class=\"data row69 col2\" >39</td>\n",
       "                        <td id=\"T_836ceaf4_9dd5_11ea_a6cf_0050b66a8127row69_col3\" class=\"data row69 col3\" >2020-04-28</td>\n",
       "                        <td id=\"T_836ceaf4_9dd5_11ea_a6cf_0050b66a8127row69_col4\" class=\"data row69 col4\" >1.280000</td>\n",
       "            </tr>\n",
       "            <tr>\n",
       "                        <th id=\"T_836ceaf4_9dd5_11ea_a6cf_0050b66a8127level0_row70\" class=\"row_heading level0 row70\" >Cameroon</th>\n",
       "                        <td id=\"T_836ceaf4_9dd5_11ea_a6cf_0050b66a8127row70_col0\" class=\"data row70 col0\" >1705</td>\n",
       "                        <td id=\"T_836ceaf4_9dd5_11ea_a6cf_0050b66a8127row70_col1\" class=\"data row70 col1\" >58</td>\n",
       "                        <td id=\"T_836ceaf4_9dd5_11ea_a6cf_0050b66a8127row70_col2\" class=\"data row70 col2\" >0</td>\n",
       "                        <td id=\"T_836ceaf4_9dd5_11ea_a6cf_0050b66a8127row70_col3\" class=\"data row70 col3\" >2020-04-28</td>\n",
       "                        <td id=\"T_836ceaf4_9dd5_11ea_a6cf_0050b66a8127row70_col4\" class=\"data row70 col4\" >3.400000</td>\n",
       "            </tr>\n",
       "            <tr>\n",
       "                        <th id=\"T_836ceaf4_9dd5_11ea_a6cf_0050b66a8127level0_row71\" class=\"row_heading level0 row71\" >Ghana</th>\n",
       "                        <td id=\"T_836ceaf4_9dd5_11ea_a6cf_0050b66a8127row71_col0\" class=\"data row71 col0\" >1671</td>\n",
       "                        <td id=\"T_836ceaf4_9dd5_11ea_a6cf_0050b66a8127row71_col1\" class=\"data row71 col1\" >16</td>\n",
       "                        <td id=\"T_836ceaf4_9dd5_11ea_a6cf_0050b66a8127row71_col2\" class=\"data row71 col2\" >121</td>\n",
       "                        <td id=\"T_836ceaf4_9dd5_11ea_a6cf_0050b66a8127row71_col3\" class=\"data row71 col3\" >2020-04-28</td>\n",
       "                        <td id=\"T_836ceaf4_9dd5_11ea_a6cf_0050b66a8127row71_col4\" class=\"data row71 col4\" >0.960000</td>\n",
       "            </tr>\n",
       "            <tr>\n",
       "                        <th id=\"T_836ceaf4_9dd5_11ea_a6cf_0050b66a8127level0_row72\" class=\"row_heading level0 row72\" >Estonia</th>\n",
       "                        <td id=\"T_836ceaf4_9dd5_11ea_a6cf_0050b66a8127row72_col0\" class=\"data row72 col0\" >1660</td>\n",
       "                        <td id=\"T_836ceaf4_9dd5_11ea_a6cf_0050b66a8127row72_col1\" class=\"data row72 col1\" >50</td>\n",
       "                        <td id=\"T_836ceaf4_9dd5_11ea_a6cf_0050b66a8127row72_col2\" class=\"data row72 col2\" >13</td>\n",
       "                        <td id=\"T_836ceaf4_9dd5_11ea_a6cf_0050b66a8127row72_col3\" class=\"data row72 col3\" >2020-04-28</td>\n",
       "                        <td id=\"T_836ceaf4_9dd5_11ea_a6cf_0050b66a8127row72_col4\" class=\"data row72 col4\" >3.010000</td>\n",
       "            </tr>\n",
       "            <tr>\n",
       "                        <th id=\"T_836ceaf4_9dd5_11ea_a6cf_0050b66a8127level0_row73\" class=\"row_heading level0 row73\" >Bosnia and Herzegovina</th>\n",
       "                        <td id=\"T_836ceaf4_9dd5_11ea_a6cf_0050b66a8127row73_col0\" class=\"data row73 col0\" >1585</td>\n",
       "                        <td id=\"T_836ceaf4_9dd5_11ea_a6cf_0050b66a8127row73_col1\" class=\"data row73 col1\" >63</td>\n",
       "                        <td id=\"T_836ceaf4_9dd5_11ea_a6cf_0050b66a8127row73_col2\" class=\"data row73 col2\" >20</td>\n",
       "                        <td id=\"T_836ceaf4_9dd5_11ea_a6cf_0050b66a8127row73_col3\" class=\"data row73 col3\" >2020-04-28</td>\n",
       "                        <td id=\"T_836ceaf4_9dd5_11ea_a6cf_0050b66a8127row73_col4\" class=\"data row73 col4\" >3.970000</td>\n",
       "            </tr>\n",
       "            <tr>\n",
       "                        <th id=\"T_836ceaf4_9dd5_11ea_a6cf_0050b66a8127level0_row74\" class=\"row_heading level0 row74\" >Nigeria</th>\n",
       "                        <td id=\"T_836ceaf4_9dd5_11ea_a6cf_0050b66a8127row74_col0\" class=\"data row74 col0\" >1532</td>\n",
       "                        <td id=\"T_836ceaf4_9dd5_11ea_a6cf_0050b66a8127row74_col1\" class=\"data row74 col1\" >44</td>\n",
       "                        <td id=\"T_836ceaf4_9dd5_11ea_a6cf_0050b66a8127row74_col2\" class=\"data row74 col2\" >195</td>\n",
       "                        <td id=\"T_836ceaf4_9dd5_11ea_a6cf_0050b66a8127row74_col3\" class=\"data row74 col3\" >2020-04-28</td>\n",
       "                        <td id=\"T_836ceaf4_9dd5_11ea_a6cf_0050b66a8127row74_col4\" class=\"data row74 col4\" >2.870000</td>\n",
       "            </tr>\n",
       "            <tr>\n",
       "                        <th id=\"T_836ceaf4_9dd5_11ea_a6cf_0050b66a8127level0_row75\" class=\"row_heading level0 row75\" >New Zealand</th>\n",
       "                        <td id=\"T_836ceaf4_9dd5_11ea_a6cf_0050b66a8127row75_col0\" class=\"data row75 col0\" >1474</td>\n",
       "                        <td id=\"T_836ceaf4_9dd5_11ea_a6cf_0050b66a8127row75_col1\" class=\"data row75 col1\" >19</td>\n",
       "                        <td id=\"T_836ceaf4_9dd5_11ea_a6cf_0050b66a8127row75_col2\" class=\"data row75 col2\" >2</td>\n",
       "                        <td id=\"T_836ceaf4_9dd5_11ea_a6cf_0050b66a8127row75_col3\" class=\"data row75 col3\" >2020-04-28</td>\n",
       "                        <td id=\"T_836ceaf4_9dd5_11ea_a6cf_0050b66a8127row75_col4\" class=\"data row75 col4\" >1.290000</td>\n",
       "            </tr>\n",
       "            <tr>\n",
       "                        <th id=\"T_836ceaf4_9dd5_11ea_a6cf_0050b66a8127level0_row76\" class=\"row_heading level0 row76\" >Cuba</th>\n",
       "                        <td id=\"T_836ceaf4_9dd5_11ea_a6cf_0050b66a8127row76_col0\" class=\"data row76 col0\" >1437</td>\n",
       "                        <td id=\"T_836ceaf4_9dd5_11ea_a6cf_0050b66a8127row76_col1\" class=\"data row76 col1\" >58</td>\n",
       "                        <td id=\"T_836ceaf4_9dd5_11ea_a6cf_0050b66a8127row76_col2\" class=\"data row76 col2\" >48</td>\n",
       "                        <td id=\"T_836ceaf4_9dd5_11ea_a6cf_0050b66a8127row76_col3\" class=\"data row76 col3\" >2020-04-28</td>\n",
       "                        <td id=\"T_836ceaf4_9dd5_11ea_a6cf_0050b66a8127row76_col4\" class=\"data row76 col4\" >4.040000</td>\n",
       "            </tr>\n",
       "            <tr>\n",
       "                        <th id=\"T_836ceaf4_9dd5_11ea_a6cf_0050b66a8127level0_row77\" class=\"row_heading level0 row77\" >North Macedonia</th>\n",
       "                        <td id=\"T_836ceaf4_9dd5_11ea_a6cf_0050b66a8127row77_col0\" class=\"data row77 col0\" >1421</td>\n",
       "                        <td id=\"T_836ceaf4_9dd5_11ea_a6cf_0050b66a8127row77_col1\" class=\"data row77 col1\" >71</td>\n",
       "                        <td id=\"T_836ceaf4_9dd5_11ea_a6cf_0050b66a8127row77_col2\" class=\"data row77 col2\" >22</td>\n",
       "                        <td id=\"T_836ceaf4_9dd5_11ea_a6cf_0050b66a8127row77_col3\" class=\"data row77 col3\" >2020-04-28</td>\n",
       "                        <td id=\"T_836ceaf4_9dd5_11ea_a6cf_0050b66a8127row77_col4\" class=\"data row77 col4\" >5.000000</td>\n",
       "            </tr>\n",
       "            <tr>\n",
       "                        <th id=\"T_836ceaf4_9dd5_11ea_a6cf_0050b66a8127level0_row78\" class=\"row_heading level0 row78\" >Slovenia</th>\n",
       "                        <td id=\"T_836ceaf4_9dd5_11ea_a6cf_0050b66a8127row78_col0\" class=\"data row78 col0\" >1408</td>\n",
       "                        <td id=\"T_836ceaf4_9dd5_11ea_a6cf_0050b66a8127row78_col1\" class=\"data row78 col1\" >86</td>\n",
       "                        <td id=\"T_836ceaf4_9dd5_11ea_a6cf_0050b66a8127row78_col2\" class=\"data row78 col2\" >6</td>\n",
       "                        <td id=\"T_836ceaf4_9dd5_11ea_a6cf_0050b66a8127row78_col3\" class=\"data row78 col3\" >2020-04-28</td>\n",
       "                        <td id=\"T_836ceaf4_9dd5_11ea_a6cf_0050b66a8127row78_col4\" class=\"data row78 col4\" >6.110000</td>\n",
       "            </tr>\n",
       "            <tr>\n",
       "                        <th id=\"T_836ceaf4_9dd5_11ea_a6cf_0050b66a8127level0_row79\" class=\"row_heading level0 row79\" >Bulgaria</th>\n",
       "                        <td id=\"T_836ceaf4_9dd5_11ea_a6cf_0050b66a8127row79_col0\" class=\"data row79 col0\" >1399</td>\n",
       "                        <td id=\"T_836ceaf4_9dd5_11ea_a6cf_0050b66a8127row79_col1\" class=\"data row79 col1\" >58</td>\n",
       "                        <td id=\"T_836ceaf4_9dd5_11ea_a6cf_0050b66a8127row79_col2\" class=\"data row79 col2\" >36</td>\n",
       "                        <td id=\"T_836ceaf4_9dd5_11ea_a6cf_0050b66a8127row79_col3\" class=\"data row79 col3\" >2020-04-28</td>\n",
       "                        <td id=\"T_836ceaf4_9dd5_11ea_a6cf_0050b66a8127row79_col4\" class=\"data row79 col4\" >4.150000</td>\n",
       "            </tr>\n",
       "            <tr>\n",
       "                        <th id=\"T_836ceaf4_9dd5_11ea_a6cf_0050b66a8127level0_row80\" class=\"row_heading level0 row80\" >Slovakia</th>\n",
       "                        <td id=\"T_836ceaf4_9dd5_11ea_a6cf_0050b66a8127row80_col0\" class=\"data row80 col0\" >1384</td>\n",
       "                        <td id=\"T_836ceaf4_9dd5_11ea_a6cf_0050b66a8127row80_col1\" class=\"data row80 col1\" >20</td>\n",
       "                        <td id=\"T_836ceaf4_9dd5_11ea_a6cf_0050b66a8127row80_col2\" class=\"data row80 col2\" >3</td>\n",
       "                        <td id=\"T_836ceaf4_9dd5_11ea_a6cf_0050b66a8127row80_col3\" class=\"data row80 col3\" >2020-04-28</td>\n",
       "                        <td id=\"T_836ceaf4_9dd5_11ea_a6cf_0050b66a8127row80_col4\" class=\"data row80 col4\" >1.450000</td>\n",
       "            </tr>\n",
       "            <tr>\n",
       "                        <th id=\"T_836ceaf4_9dd5_11ea_a6cf_0050b66a8127level0_row81\" class=\"row_heading level0 row81\" >Lithuania</th>\n",
       "                        <td id=\"T_836ceaf4_9dd5_11ea_a6cf_0050b66a8127row81_col0\" class=\"data row81 col0\" >1344</td>\n",
       "                        <td id=\"T_836ceaf4_9dd5_11ea_a6cf_0050b66a8127row81_col1\" class=\"data row81 col1\" >44</td>\n",
       "                        <td id=\"T_836ceaf4_9dd5_11ea_a6cf_0050b66a8127row81_col2\" class=\"data row81 col2\" >-105</td>\n",
       "                        <td id=\"T_836ceaf4_9dd5_11ea_a6cf_0050b66a8127row81_col3\" class=\"data row81 col3\" >2020-04-28</td>\n",
       "                        <td id=\"T_836ceaf4_9dd5_11ea_a6cf_0050b66a8127row81_col4\" class=\"data row81 col4\" >3.270000</td>\n",
       "            </tr>\n",
       "            <tr>\n",
       "                        <th id=\"T_836ceaf4_9dd5_11ea_a6cf_0050b66a8127level0_row82\" class=\"row_heading level0 row82\" >Guinea</th>\n",
       "                        <td id=\"T_836ceaf4_9dd5_11ea_a6cf_0050b66a8127row82_col0\" class=\"data row82 col0\" >1240</td>\n",
       "                        <td id=\"T_836ceaf4_9dd5_11ea_a6cf_0050b66a8127row82_col1\" class=\"data row82 col1\" >7</td>\n",
       "                        <td id=\"T_836ceaf4_9dd5_11ea_a6cf_0050b66a8127row82_col2\" class=\"data row82 col2\" >77</td>\n",
       "                        <td id=\"T_836ceaf4_9dd5_11ea_a6cf_0050b66a8127row82_col3\" class=\"data row82 col3\" >2020-04-28</td>\n",
       "                        <td id=\"T_836ceaf4_9dd5_11ea_a6cf_0050b66a8127row82_col4\" class=\"data row82 col4\" >0.560000</td>\n",
       "            </tr>\n",
       "            <tr>\n",
       "                        <th id=\"T_836ceaf4_9dd5_11ea_a6cf_0050b66a8127level0_row83\" class=\"row_heading level0 row83\" >Cote d'Ivoire</th>\n",
       "                        <td id=\"T_836ceaf4_9dd5_11ea_a6cf_0050b66a8127row83_col0\" class=\"data row83 col0\" >1183</td>\n",
       "                        <td id=\"T_836ceaf4_9dd5_11ea_a6cf_0050b66a8127row83_col1\" class=\"data row83 col1\" >14</td>\n",
       "                        <td id=\"T_836ceaf4_9dd5_11ea_a6cf_0050b66a8127row83_col2\" class=\"data row83 col2\" >19</td>\n",
       "                        <td id=\"T_836ceaf4_9dd5_11ea_a6cf_0050b66a8127row83_col3\" class=\"data row83 col3\" >2020-04-28</td>\n",
       "                        <td id=\"T_836ceaf4_9dd5_11ea_a6cf_0050b66a8127row83_col4\" class=\"data row83 col4\" >1.180000</td>\n",
       "            </tr>\n",
       "            <tr>\n",
       "                        <th id=\"T_836ceaf4_9dd5_11ea_a6cf_0050b66a8127level0_row84\" class=\"row_heading level0 row84\" >Djibouti</th>\n",
       "                        <td id=\"T_836ceaf4_9dd5_11ea_a6cf_0050b66a8127row84_col0\" class=\"data row84 col0\" >1072</td>\n",
       "                        <td id=\"T_836ceaf4_9dd5_11ea_a6cf_0050b66a8127row84_col1\" class=\"data row84 col1\" >2</td>\n",
       "                        <td id=\"T_836ceaf4_9dd5_11ea_a6cf_0050b66a8127row84_col2\" class=\"data row84 col2\" >37</td>\n",
       "                        <td id=\"T_836ceaf4_9dd5_11ea_a6cf_0050b66a8127row84_col3\" class=\"data row84 col3\" >2020-04-28</td>\n",
       "                        <td id=\"T_836ceaf4_9dd5_11ea_a6cf_0050b66a8127row84_col4\" class=\"data row84 col4\" >0.190000</td>\n",
       "            </tr>\n",
       "            <tr>\n",
       "                        <th id=\"T_836ceaf4_9dd5_11ea_a6cf_0050b66a8127level0_row85\" class=\"row_heading level0 row85\" >Bolivia</th>\n",
       "                        <td id=\"T_836ceaf4_9dd5_11ea_a6cf_0050b66a8127row85_col0\" class=\"data row85 col0\" >1014</td>\n",
       "                        <td id=\"T_836ceaf4_9dd5_11ea_a6cf_0050b66a8127row85_col1\" class=\"data row85 col1\" >53</td>\n",
       "                        <td id=\"T_836ceaf4_9dd5_11ea_a6cf_0050b66a8127row85_col2\" class=\"data row85 col2\" >0</td>\n",
       "                        <td id=\"T_836ceaf4_9dd5_11ea_a6cf_0050b66a8127row85_col3\" class=\"data row85 col3\" >2020-04-28</td>\n",
       "                        <td id=\"T_836ceaf4_9dd5_11ea_a6cf_0050b66a8127row85_col4\" class=\"data row85 col4\" >5.230000</td>\n",
       "            </tr>\n",
       "            <tr>\n",
       "                        <th id=\"T_836ceaf4_9dd5_11ea_a6cf_0050b66a8127level0_row86\" class=\"row_heading level0 row86\" >Tunisia</th>\n",
       "                        <td id=\"T_836ceaf4_9dd5_11ea_a6cf_0050b66a8127row86_col0\" class=\"data row86 col0\" >975</td>\n",
       "                        <td id=\"T_836ceaf4_9dd5_11ea_a6cf_0050b66a8127row86_col1\" class=\"data row86 col1\" >40</td>\n",
       "                        <td id=\"T_836ceaf4_9dd5_11ea_a6cf_0050b66a8127row86_col2\" class=\"data row86 col2\" >8</td>\n",
       "                        <td id=\"T_836ceaf4_9dd5_11ea_a6cf_0050b66a8127row86_col3\" class=\"data row86 col3\" >2020-04-28</td>\n",
       "                        <td id=\"T_836ceaf4_9dd5_11ea_a6cf_0050b66a8127row86_col4\" class=\"data row86 col4\" >4.100000</td>\n",
       "            </tr>\n",
       "            <tr>\n",
       "                        <th id=\"T_836ceaf4_9dd5_11ea_a6cf_0050b66a8127level0_row87\" class=\"row_heading level0 row87\" >Cyprus</th>\n",
       "                        <td id=\"T_836ceaf4_9dd5_11ea_a6cf_0050b66a8127row87_col0\" class=\"data row87 col0\" >837</td>\n",
       "                        <td id=\"T_836ceaf4_9dd5_11ea_a6cf_0050b66a8127row87_col1\" class=\"data row87 col1\" >15</td>\n",
       "                        <td id=\"T_836ceaf4_9dd5_11ea_a6cf_0050b66a8127row87_col2\" class=\"data row87 col2\" >15</td>\n",
       "                        <td id=\"T_836ceaf4_9dd5_11ea_a6cf_0050b66a8127row87_col3\" class=\"data row87 col3\" >2020-04-28</td>\n",
       "                        <td id=\"T_836ceaf4_9dd5_11ea_a6cf_0050b66a8127row87_col4\" class=\"data row87 col4\" >1.790000</td>\n",
       "            </tr>\n",
       "            <tr>\n",
       "                        <th id=\"T_836ceaf4_9dd5_11ea_a6cf_0050b66a8127level0_row88\" class=\"row_heading level0 row88\" >Latvia</th>\n",
       "                        <td id=\"T_836ceaf4_9dd5_11ea_a6cf_0050b66a8127row88_col0\" class=\"data row88 col0\" >836</td>\n",
       "                        <td id=\"T_836ceaf4_9dd5_11ea_a6cf_0050b66a8127row88_col1\" class=\"data row88 col1\" >13</td>\n",
       "                        <td id=\"T_836ceaf4_9dd5_11ea_a6cf_0050b66a8127row88_col2\" class=\"data row88 col2\" >18</td>\n",
       "                        <td id=\"T_836ceaf4_9dd5_11ea_a6cf_0050b66a8127row88_col3\" class=\"data row88 col3\" >2020-04-28</td>\n",
       "                        <td id=\"T_836ceaf4_9dd5_11ea_a6cf_0050b66a8127row88_col4\" class=\"data row88 col4\" >1.560000</td>\n",
       "            </tr>\n",
       "            <tr>\n",
       "                        <th id=\"T_836ceaf4_9dd5_11ea_a6cf_0050b66a8127level0_row89\" class=\"row_heading level0 row89\" >Senegal</th>\n",
       "                        <td id=\"T_836ceaf4_9dd5_11ea_a6cf_0050b66a8127row89_col0\" class=\"data row89 col0\" >823</td>\n",
       "                        <td id=\"T_836ceaf4_9dd5_11ea_a6cf_0050b66a8127row89_col1\" class=\"data row89 col1\" >9</td>\n",
       "                        <td id=\"T_836ceaf4_9dd5_11ea_a6cf_0050b66a8127row89_col2\" class=\"data row89 col2\" >87</td>\n",
       "                        <td id=\"T_836ceaf4_9dd5_11ea_a6cf_0050b66a8127row89_col3\" class=\"data row89 col3\" >2020-04-28</td>\n",
       "                        <td id=\"T_836ceaf4_9dd5_11ea_a6cf_0050b66a8127row89_col4\" class=\"data row89 col4\" >1.090000</td>\n",
       "            </tr>\n",
       "            <tr>\n",
       "                        <th id=\"T_836ceaf4_9dd5_11ea_a6cf_0050b66a8127level0_row90\" class=\"row_heading level0 row90\" >Albania</th>\n",
       "                        <td id=\"T_836ceaf4_9dd5_11ea_a6cf_0050b66a8127row90_col0\" class=\"data row90 col0\" >750</td>\n",
       "                        <td id=\"T_836ceaf4_9dd5_11ea_a6cf_0050b66a8127row90_col1\" class=\"data row90 col1\" >30</td>\n",
       "                        <td id=\"T_836ceaf4_9dd5_11ea_a6cf_0050b66a8127row90_col2\" class=\"data row90 col2\" >14</td>\n",
       "                        <td id=\"T_836ceaf4_9dd5_11ea_a6cf_0050b66a8127row90_col3\" class=\"data row90 col3\" >2020-04-28</td>\n",
       "                        <td id=\"T_836ceaf4_9dd5_11ea_a6cf_0050b66a8127row90_col4\" class=\"data row90 col4\" >4.000000</td>\n",
       "            </tr>\n",
       "            <tr>\n",
       "                        <th id=\"T_836ceaf4_9dd5_11ea_a6cf_0050b66a8127level0_row91\" class=\"row_heading level0 row91\" >Andorra</th>\n",
       "                        <td id=\"T_836ceaf4_9dd5_11ea_a6cf_0050b66a8127row91_col0\" class=\"data row91 col0\" >743</td>\n",
       "                        <td id=\"T_836ceaf4_9dd5_11ea_a6cf_0050b66a8127row91_col1\" class=\"data row91 col1\" >41</td>\n",
       "                        <td id=\"T_836ceaf4_9dd5_11ea_a6cf_0050b66a8127row91_col2\" class=\"data row91 col2\" >0</td>\n",
       "                        <td id=\"T_836ceaf4_9dd5_11ea_a6cf_0050b66a8127row91_col3\" class=\"data row91 col3\" >2020-04-28</td>\n",
       "                        <td id=\"T_836ceaf4_9dd5_11ea_a6cf_0050b66a8127row91_col4\" class=\"data row91 col4\" >5.520000</td>\n",
       "            </tr>\n",
       "            <tr>\n",
       "                        <th id=\"T_836ceaf4_9dd5_11ea_a6cf_0050b66a8127level0_row92\" class=\"row_heading level0 row92\" >Lebanon</th>\n",
       "                        <td id=\"T_836ceaf4_9dd5_11ea_a6cf_0050b66a8127row92_col0\" class=\"data row92 col0\" >717</td>\n",
       "                        <td id=\"T_836ceaf4_9dd5_11ea_a6cf_0050b66a8127row92_col1\" class=\"data row92 col1\" >24</td>\n",
       "                        <td id=\"T_836ceaf4_9dd5_11ea_a6cf_0050b66a8127row92_col2\" class=\"data row92 col2\" >7</td>\n",
       "                        <td id=\"T_836ceaf4_9dd5_11ea_a6cf_0050b66a8127row92_col3\" class=\"data row92 col3\" >2020-04-28</td>\n",
       "                        <td id=\"T_836ceaf4_9dd5_11ea_a6cf_0050b66a8127row92_col4\" class=\"data row92 col4\" >3.350000</td>\n",
       "            </tr>\n",
       "            <tr>\n",
       "                        <th id=\"T_836ceaf4_9dd5_11ea_a6cf_0050b66a8127level0_row93\" class=\"row_heading level0 row93\" >Diamond Princess</th>\n",
       "                        <td id=\"T_836ceaf4_9dd5_11ea_a6cf_0050b66a8127row93_col0\" class=\"data row93 col0\" >712</td>\n",
       "                        <td id=\"T_836ceaf4_9dd5_11ea_a6cf_0050b66a8127row93_col1\" class=\"data row93 col1\" >13</td>\n",
       "                        <td id=\"T_836ceaf4_9dd5_11ea_a6cf_0050b66a8127row93_col2\" class=\"data row93 col2\" >0</td>\n",
       "                        <td id=\"T_836ceaf4_9dd5_11ea_a6cf_0050b66a8127row93_col3\" class=\"data row93 col3\" >2020-04-28</td>\n",
       "                        <td id=\"T_836ceaf4_9dd5_11ea_a6cf_0050b66a8127row93_col4\" class=\"data row93 col4\" >1.830000</td>\n",
       "            </tr>\n",
       "            <tr>\n",
       "                        <th id=\"T_836ceaf4_9dd5_11ea_a6cf_0050b66a8127level0_row94\" class=\"row_heading level0 row94\" >Niger</th>\n",
       "                        <td id=\"T_836ceaf4_9dd5_11ea_a6cf_0050b66a8127row94_col0\" class=\"data row94 col0\" >709</td>\n",
       "                        <td id=\"T_836ceaf4_9dd5_11ea_a6cf_0050b66a8127row94_col1\" class=\"data row94 col1\" >31</td>\n",
       "                        <td id=\"T_836ceaf4_9dd5_11ea_a6cf_0050b66a8127row94_col2\" class=\"data row94 col2\" >8</td>\n",
       "                        <td id=\"T_836ceaf4_9dd5_11ea_a6cf_0050b66a8127row94_col3\" class=\"data row94 col3\" >2020-04-28</td>\n",
       "                        <td id=\"T_836ceaf4_9dd5_11ea_a6cf_0050b66a8127row94_col4\" class=\"data row94 col4\" >4.370000</td>\n",
       "            </tr>\n",
       "            <tr>\n",
       "                        <th id=\"T_836ceaf4_9dd5_11ea_a6cf_0050b66a8127level0_row95\" class=\"row_heading level0 row95\" >Kyrgyzstan</th>\n",
       "                        <td id=\"T_836ceaf4_9dd5_11ea_a6cf_0050b66a8127row95_col0\" class=\"data row95 col0\" >708</td>\n",
       "                        <td id=\"T_836ceaf4_9dd5_11ea_a6cf_0050b66a8127row95_col1\" class=\"data row95 col1\" >8</td>\n",
       "                        <td id=\"T_836ceaf4_9dd5_11ea_a6cf_0050b66a8127row95_col2\" class=\"data row95 col2\" >13</td>\n",
       "                        <td id=\"T_836ceaf4_9dd5_11ea_a6cf_0050b66a8127row95_col3\" class=\"data row95 col3\" >2020-04-28</td>\n",
       "                        <td id=\"T_836ceaf4_9dd5_11ea_a6cf_0050b66a8127row95_col4\" class=\"data row95 col4\" >1.130000</td>\n",
       "            </tr>\n",
       "            <tr>\n",
       "                        <th id=\"T_836ceaf4_9dd5_11ea_a6cf_0050b66a8127level0_row96\" class=\"row_heading level0 row96\" >Costa Rica</th>\n",
       "                        <td id=\"T_836ceaf4_9dd5_11ea_a6cf_0050b66a8127row96_col0\" class=\"data row96 col0\" >705</td>\n",
       "                        <td id=\"T_836ceaf4_9dd5_11ea_a6cf_0050b66a8127row96_col1\" class=\"data row96 col1\" >6</td>\n",
       "                        <td id=\"T_836ceaf4_9dd5_11ea_a6cf_0050b66a8127row96_col2\" class=\"data row96 col2\" >8</td>\n",
       "                        <td id=\"T_836ceaf4_9dd5_11ea_a6cf_0050b66a8127row96_col3\" class=\"data row96 col3\" >2020-04-28</td>\n",
       "                        <td id=\"T_836ceaf4_9dd5_11ea_a6cf_0050b66a8127row96_col4\" class=\"data row96 col4\" >0.850000</td>\n",
       "            </tr>\n",
       "            <tr>\n",
       "                        <th id=\"T_836ceaf4_9dd5_11ea_a6cf_0050b66a8127level0_row97\" class=\"row_heading level0 row97\" >Honduras</th>\n",
       "                        <td id=\"T_836ceaf4_9dd5_11ea_a6cf_0050b66a8127row97_col0\" class=\"data row97 col0\" >702</td>\n",
       "                        <td id=\"T_836ceaf4_9dd5_11ea_a6cf_0050b66a8127row97_col1\" class=\"data row97 col1\" >64</td>\n",
       "                        <td id=\"T_836ceaf4_9dd5_11ea_a6cf_0050b66a8127row97_col2\" class=\"data row97 col2\" >41</td>\n",
       "                        <td id=\"T_836ceaf4_9dd5_11ea_a6cf_0050b66a8127row97_col3\" class=\"data row97 col3\" >2020-04-28</td>\n",
       "                        <td id=\"T_836ceaf4_9dd5_11ea_a6cf_0050b66a8127row97_col4\" class=\"data row97 col4\" >9.120000</td>\n",
       "            </tr>\n",
       "            <tr>\n",
       "                        <th id=\"T_836ceaf4_9dd5_11ea_a6cf_0050b66a8127level0_row98\" class=\"row_heading level0 row98\" >Burkina Faso</th>\n",
       "                        <td id=\"T_836ceaf4_9dd5_11ea_a6cf_0050b66a8127row98_col0\" class=\"data row98 col0\" >638</td>\n",
       "                        <td id=\"T_836ceaf4_9dd5_11ea_a6cf_0050b66a8127row98_col1\" class=\"data row98 col1\" >42</td>\n",
       "                        <td id=\"T_836ceaf4_9dd5_11ea_a6cf_0050b66a8127row98_col2\" class=\"data row98 col2\" >3</td>\n",
       "                        <td id=\"T_836ceaf4_9dd5_11ea_a6cf_0050b66a8127row98_col3\" class=\"data row98 col3\" >2020-04-28</td>\n",
       "                        <td id=\"T_836ceaf4_9dd5_11ea_a6cf_0050b66a8127row98_col4\" class=\"data row98 col4\" >6.580000</td>\n",
       "            </tr>\n",
       "            <tr>\n",
       "                        <th id=\"T_836ceaf4_9dd5_11ea_a6cf_0050b66a8127level0_row99\" class=\"row_heading level0 row99\" >Uruguay</th>\n",
       "                        <td id=\"T_836ceaf4_9dd5_11ea_a6cf_0050b66a8127row99_col0\" class=\"data row99 col0\" >625</td>\n",
       "                        <td id=\"T_836ceaf4_9dd5_11ea_a6cf_0050b66a8127row99_col1\" class=\"data row99 col1\" >15</td>\n",
       "                        <td id=\"T_836ceaf4_9dd5_11ea_a6cf_0050b66a8127row99_col2\" class=\"data row99 col2\" >5</td>\n",
       "                        <td id=\"T_836ceaf4_9dd5_11ea_a6cf_0050b66a8127row99_col3\" class=\"data row99 col3\" >2020-04-28</td>\n",
       "                        <td id=\"T_836ceaf4_9dd5_11ea_a6cf_0050b66a8127row99_col4\" class=\"data row99 col4\" >2.400000</td>\n",
       "            </tr>\n",
       "            <tr>\n",
       "                        <th id=\"T_836ceaf4_9dd5_11ea_a6cf_0050b66a8127level0_row100\" class=\"row_heading level0 row100\" >Sri Lanka</th>\n",
       "                        <td id=\"T_836ceaf4_9dd5_11ea_a6cf_0050b66a8127row100_col0\" class=\"data row100 col0\" >619</td>\n",
       "                        <td id=\"T_836ceaf4_9dd5_11ea_a6cf_0050b66a8127row100_col1\" class=\"data row100 col1\" >7</td>\n",
       "                        <td id=\"T_836ceaf4_9dd5_11ea_a6cf_0050b66a8127row100_col2\" class=\"data row100 col2\" >31</td>\n",
       "                        <td id=\"T_836ceaf4_9dd5_11ea_a6cf_0050b66a8127row100_col3\" class=\"data row100 col3\" >2020-04-28</td>\n",
       "                        <td id=\"T_836ceaf4_9dd5_11ea_a6cf_0050b66a8127row100_col4\" class=\"data row100 col4\" >1.130000</td>\n",
       "            </tr>\n",
       "            <tr>\n",
       "                        <th id=\"T_836ceaf4_9dd5_11ea_a6cf_0050b66a8127level0_row101\" class=\"row_heading level0 row101\" >San Marino</th>\n",
       "                        <td id=\"T_836ceaf4_9dd5_11ea_a6cf_0050b66a8127row101_col0\" class=\"data row101 col0\" >553</td>\n",
       "                        <td id=\"T_836ceaf4_9dd5_11ea_a6cf_0050b66a8127row101_col1\" class=\"data row101 col1\" >41</td>\n",
       "                        <td id=\"T_836ceaf4_9dd5_11ea_a6cf_0050b66a8127row101_col2\" class=\"data row101 col2\" >15</td>\n",
       "                        <td id=\"T_836ceaf4_9dd5_11ea_a6cf_0050b66a8127row101_col3\" class=\"data row101 col3\" >2020-04-28</td>\n",
       "                        <td id=\"T_836ceaf4_9dd5_11ea_a6cf_0050b66a8127row101_col4\" class=\"data row101 col4\" >7.410000</td>\n",
       "            </tr>\n",
       "            <tr>\n",
       "                        <th id=\"T_836ceaf4_9dd5_11ea_a6cf_0050b66a8127level0_row102\" class=\"row_heading level0 row102\" >Guatemala</th>\n",
       "                        <td id=\"T_836ceaf4_9dd5_11ea_a6cf_0050b66a8127row102_col0\" class=\"data row102 col0\" >530</td>\n",
       "                        <td id=\"T_836ceaf4_9dd5_11ea_a6cf_0050b66a8127row102_col1\" class=\"data row102 col1\" >15</td>\n",
       "                        <td id=\"T_836ceaf4_9dd5_11ea_a6cf_0050b66a8127row102_col2\" class=\"data row102 col2\" >0</td>\n",
       "                        <td id=\"T_836ceaf4_9dd5_11ea_a6cf_0050b66a8127row102_col3\" class=\"data row102 col3\" >2020-04-28</td>\n",
       "                        <td id=\"T_836ceaf4_9dd5_11ea_a6cf_0050b66a8127row102_col4\" class=\"data row102 col4\" >2.830000</td>\n",
       "            </tr>\n",
       "            <tr>\n",
       "                        <th id=\"T_836ceaf4_9dd5_11ea_a6cf_0050b66a8127level0_row103\" class=\"row_heading level0 row103\" >Somalia</th>\n",
       "                        <td id=\"T_836ceaf4_9dd5_11ea_a6cf_0050b66a8127row103_col0\" class=\"data row103 col0\" >528</td>\n",
       "                        <td id=\"T_836ceaf4_9dd5_11ea_a6cf_0050b66a8127row103_col1\" class=\"data row103 col1\" >28</td>\n",
       "                        <td id=\"T_836ceaf4_9dd5_11ea_a6cf_0050b66a8127row103_col2\" class=\"data row103 col2\" >48</td>\n",
       "                        <td id=\"T_836ceaf4_9dd5_11ea_a6cf_0050b66a8127row103_col3\" class=\"data row103 col3\" >2020-04-28</td>\n",
       "                        <td id=\"T_836ceaf4_9dd5_11ea_a6cf_0050b66a8127row103_col4\" class=\"data row103 col4\" >5.300000</td>\n",
       "            </tr>\n",
       "            <tr>\n",
       "                        <th id=\"T_836ceaf4_9dd5_11ea_a6cf_0050b66a8127level0_row104\" class=\"row_heading level0 row104\" >Georgia</th>\n",
       "                        <td id=\"T_836ceaf4_9dd5_11ea_a6cf_0050b66a8127row104_col0\" class=\"data row104 col0\" >511</td>\n",
       "                        <td id=\"T_836ceaf4_9dd5_11ea_a6cf_0050b66a8127row104_col1\" class=\"data row104 col1\" >6</td>\n",
       "                        <td id=\"T_836ceaf4_9dd5_11ea_a6cf_0050b66a8127row104_col2\" class=\"data row104 col2\" >14</td>\n",
       "                        <td id=\"T_836ceaf4_9dd5_11ea_a6cf_0050b66a8127row104_col3\" class=\"data row104 col3\" >2020-04-28</td>\n",
       "                        <td id=\"T_836ceaf4_9dd5_11ea_a6cf_0050b66a8127row104_col4\" class=\"data row104 col4\" >1.170000</td>\n",
       "            </tr>\n",
       "            <tr>\n",
       "                        <th id=\"T_836ceaf4_9dd5_11ea_a6cf_0050b66a8127level0_row105\" class=\"row_heading level0 row105\" >Kosovo</th>\n",
       "                        <td id=\"T_836ceaf4_9dd5_11ea_a6cf_0050b66a8127row105_col0\" class=\"data row105 col0\" >510</td>\n",
       "                        <td id=\"T_836ceaf4_9dd5_11ea_a6cf_0050b66a8127row105_col1\" class=\"data row105 col1\" >12</td>\n",
       "                        <td id=\"T_836ceaf4_9dd5_11ea_a6cf_0050b66a8127row105_col2\" class=\"data row105 col2\" >0</td>\n",
       "                        <td id=\"T_836ceaf4_9dd5_11ea_a6cf_0050b66a8127row105_col3\" class=\"data row105 col3\" >2020-04-28</td>\n",
       "                        <td id=\"T_836ceaf4_9dd5_11ea_a6cf_0050b66a8127row105_col4\" class=\"data row105 col4\" >2.350000</td>\n",
       "            </tr>\n",
       "            <tr>\n",
       "                        <th id=\"T_836ceaf4_9dd5_11ea_a6cf_0050b66a8127level0_row106\" class=\"row_heading level0 row106\" >Congo (Kinshasa)</th>\n",
       "                        <td id=\"T_836ceaf4_9dd5_11ea_a6cf_0050b66a8127row106_col0\" class=\"data row106 col0\" >471</td>\n",
       "                        <td id=\"T_836ceaf4_9dd5_11ea_a6cf_0050b66a8127row106_col1\" class=\"data row106 col1\" >30</td>\n",
       "                        <td id=\"T_836ceaf4_9dd5_11ea_a6cf_0050b66a8127row106_col2\" class=\"data row106 col2\" >12</td>\n",
       "                        <td id=\"T_836ceaf4_9dd5_11ea_a6cf_0050b66a8127row106_col3\" class=\"data row106 col3\" >2020-04-28</td>\n",
       "                        <td id=\"T_836ceaf4_9dd5_11ea_a6cf_0050b66a8127row106_col4\" class=\"data row106 col4\" >6.370000</td>\n",
       "            </tr>\n",
       "            <tr>\n",
       "                        <th id=\"T_836ceaf4_9dd5_11ea_a6cf_0050b66a8127level0_row107\" class=\"row_heading level0 row107\" >Malta</th>\n",
       "                        <td id=\"T_836ceaf4_9dd5_11ea_a6cf_0050b66a8127row107_col0\" class=\"data row107 col0\" >458</td>\n",
       "                        <td id=\"T_836ceaf4_9dd5_11ea_a6cf_0050b66a8127row107_col1\" class=\"data row107 col1\" >4</td>\n",
       "                        <td id=\"T_836ceaf4_9dd5_11ea_a6cf_0050b66a8127row107_col2\" class=\"data row107 col2\" >8</td>\n",
       "                        <td id=\"T_836ceaf4_9dd5_11ea_a6cf_0050b66a8127row107_col3\" class=\"data row107 col3\" >2020-04-28</td>\n",
       "                        <td id=\"T_836ceaf4_9dd5_11ea_a6cf_0050b66a8127row107_col4\" class=\"data row107 col4\" >0.870000</td>\n",
       "            </tr>\n",
       "            <tr>\n",
       "                        <th id=\"T_836ceaf4_9dd5_11ea_a6cf_0050b66a8127level0_row108\" class=\"row_heading level0 row108\" >Jordan</th>\n",
       "                        <td id=\"T_836ceaf4_9dd5_11ea_a6cf_0050b66a8127row108_col0\" class=\"data row108 col0\" >449</td>\n",
       "                        <td id=\"T_836ceaf4_9dd5_11ea_a6cf_0050b66a8127row108_col1\" class=\"data row108 col1\" >8</td>\n",
       "                        <td id=\"T_836ceaf4_9dd5_11ea_a6cf_0050b66a8127row108_col2\" class=\"data row108 col2\" >0</td>\n",
       "                        <td id=\"T_836ceaf4_9dd5_11ea_a6cf_0050b66a8127row108_col3\" class=\"data row108 col3\" >2020-04-28</td>\n",
       "                        <td id=\"T_836ceaf4_9dd5_11ea_a6cf_0050b66a8127row108_col4\" class=\"data row108 col4\" >1.780000</td>\n",
       "            </tr>\n",
       "            <tr>\n",
       "                        <th id=\"T_836ceaf4_9dd5_11ea_a6cf_0050b66a8127level0_row109\" class=\"row_heading level0 row109\" >Taiwan*</th>\n",
       "                        <td id=\"T_836ceaf4_9dd5_11ea_a6cf_0050b66a8127row109_col0\" class=\"data row109 col0\" >429</td>\n",
       "                        <td id=\"T_836ceaf4_9dd5_11ea_a6cf_0050b66a8127row109_col1\" class=\"data row109 col1\" >6</td>\n",
       "                        <td id=\"T_836ceaf4_9dd5_11ea_a6cf_0050b66a8127row109_col2\" class=\"data row109 col2\" >0</td>\n",
       "                        <td id=\"T_836ceaf4_9dd5_11ea_a6cf_0050b66a8127row109_col3\" class=\"data row109 col3\" >2020-04-28</td>\n",
       "                        <td id=\"T_836ceaf4_9dd5_11ea_a6cf_0050b66a8127row109_col4\" class=\"data row109 col4\" >1.400000</td>\n",
       "            </tr>\n",
       "            <tr>\n",
       "                        <th id=\"T_836ceaf4_9dd5_11ea_a6cf_0050b66a8127level0_row110\" class=\"row_heading level0 row110\" >Mali</th>\n",
       "                        <td id=\"T_836ceaf4_9dd5_11ea_a6cf_0050b66a8127row110_col0\" class=\"data row110 col0\" >424</td>\n",
       "                        <td id=\"T_836ceaf4_9dd5_11ea_a6cf_0050b66a8127row110_col1\" class=\"data row110 col1\" >24</td>\n",
       "                        <td id=\"T_836ceaf4_9dd5_11ea_a6cf_0050b66a8127row110_col2\" class=\"data row110 col2\" >16</td>\n",
       "                        <td id=\"T_836ceaf4_9dd5_11ea_a6cf_0050b66a8127row110_col3\" class=\"data row110 col3\" >2020-04-28</td>\n",
       "                        <td id=\"T_836ceaf4_9dd5_11ea_a6cf_0050b66a8127row110_col4\" class=\"data row110 col4\" >5.660000</td>\n",
       "            </tr>\n",
       "            <tr>\n",
       "                        <th id=\"T_836ceaf4_9dd5_11ea_a6cf_0050b66a8127level0_row111\" class=\"row_heading level0 row111\" >Kenya</th>\n",
       "                        <td id=\"T_836ceaf4_9dd5_11ea_a6cf_0050b66a8127row111_col0\" class=\"data row111 col0\" >374</td>\n",
       "                        <td id=\"T_836ceaf4_9dd5_11ea_a6cf_0050b66a8127row111_col1\" class=\"data row111 col1\" >14</td>\n",
       "                        <td id=\"T_836ceaf4_9dd5_11ea_a6cf_0050b66a8127row111_col2\" class=\"data row111 col2\" >11</td>\n",
       "                        <td id=\"T_836ceaf4_9dd5_11ea_a6cf_0050b66a8127row111_col3\" class=\"data row111 col3\" >2020-04-28</td>\n",
       "                        <td id=\"T_836ceaf4_9dd5_11ea_a6cf_0050b66a8127row111_col4\" class=\"data row111 col4\" >3.740000</td>\n",
       "            </tr>\n",
       "            <tr>\n",
       "                        <th id=\"T_836ceaf4_9dd5_11ea_a6cf_0050b66a8127level0_row112\" class=\"row_heading level0 row112\" >Jamaica</th>\n",
       "                        <td id=\"T_836ceaf4_9dd5_11ea_a6cf_0050b66a8127row112_col0\" class=\"data row112 col0\" >364</td>\n",
       "                        <td id=\"T_836ceaf4_9dd5_11ea_a6cf_0050b66a8127row112_col1\" class=\"data row112 col1\" >7</td>\n",
       "                        <td id=\"T_836ceaf4_9dd5_11ea_a6cf_0050b66a8127row112_col2\" class=\"data row112 col2\" >0</td>\n",
       "                        <td id=\"T_836ceaf4_9dd5_11ea_a6cf_0050b66a8127row112_col3\" class=\"data row112 col3\" >2020-04-28</td>\n",
       "                        <td id=\"T_836ceaf4_9dd5_11ea_a6cf_0050b66a8127row112_col4\" class=\"data row112 col4\" >1.920000</td>\n",
       "            </tr>\n",
       "            <tr>\n",
       "                        <th id=\"T_836ceaf4_9dd5_11ea_a6cf_0050b66a8127level0_row113\" class=\"row_heading level0 row113\" >El Salvador</th>\n",
       "                        <td id=\"T_836ceaf4_9dd5_11ea_a6cf_0050b66a8127row113_col0\" class=\"data row113 col0\" >345</td>\n",
       "                        <td id=\"T_836ceaf4_9dd5_11ea_a6cf_0050b66a8127row113_col1\" class=\"data row113 col1\" >8</td>\n",
       "                        <td id=\"T_836ceaf4_9dd5_11ea_a6cf_0050b66a8127row113_col2\" class=\"data row113 col2\" >22</td>\n",
       "                        <td id=\"T_836ceaf4_9dd5_11ea_a6cf_0050b66a8127row113_col3\" class=\"data row113 col3\" >2020-04-28</td>\n",
       "                        <td id=\"T_836ceaf4_9dd5_11ea_a6cf_0050b66a8127row113_col4\" class=\"data row113 col4\" >2.320000</td>\n",
       "            </tr>\n",
       "            <tr>\n",
       "                        <th id=\"T_836ceaf4_9dd5_11ea_a6cf_0050b66a8127level0_row114\" class=\"row_heading level0 row114\" >West Bank and Gaza</th>\n",
       "                        <td id=\"T_836ceaf4_9dd5_11ea_a6cf_0050b66a8127row114_col0\" class=\"data row114 col0\" >343</td>\n",
       "                        <td id=\"T_836ceaf4_9dd5_11ea_a6cf_0050b66a8127row114_col1\" class=\"data row114 col1\" >2</td>\n",
       "                        <td id=\"T_836ceaf4_9dd5_11ea_a6cf_0050b66a8127row114_col2\" class=\"data row114 col2\" >1</td>\n",
       "                        <td id=\"T_836ceaf4_9dd5_11ea_a6cf_0050b66a8127row114_col3\" class=\"data row114 col3\" >2020-04-28</td>\n",
       "                        <td id=\"T_836ceaf4_9dd5_11ea_a6cf_0050b66a8127row114_col4\" class=\"data row114 col4\" >0.580000</td>\n",
       "            </tr>\n",
       "            <tr>\n",
       "                        <th id=\"T_836ceaf4_9dd5_11ea_a6cf_0050b66a8127level0_row115\" class=\"row_heading level0 row115\" >Mauritius</th>\n",
       "                        <td id=\"T_836ceaf4_9dd5_11ea_a6cf_0050b66a8127row115_col0\" class=\"data row115 col0\" >334</td>\n",
       "                        <td id=\"T_836ceaf4_9dd5_11ea_a6cf_0050b66a8127row115_col1\" class=\"data row115 col1\" >10</td>\n",
       "                        <td id=\"T_836ceaf4_9dd5_11ea_a6cf_0050b66a8127row115_col2\" class=\"data row115 col2\" >0</td>\n",
       "                        <td id=\"T_836ceaf4_9dd5_11ea_a6cf_0050b66a8127row115_col3\" class=\"data row115 col3\" >2020-04-28</td>\n",
       "                        <td id=\"T_836ceaf4_9dd5_11ea_a6cf_0050b66a8127row115_col4\" class=\"data row115 col4\" >2.990000</td>\n",
       "            </tr>\n",
       "            <tr>\n",
       "                        <th id=\"T_836ceaf4_9dd5_11ea_a6cf_0050b66a8127level0_row116\" class=\"row_heading level0 row116\" >Venezuela</th>\n",
       "                        <td id=\"T_836ceaf4_9dd5_11ea_a6cf_0050b66a8127row116_col0\" class=\"data row116 col0\" >329</td>\n",
       "                        <td id=\"T_836ceaf4_9dd5_11ea_a6cf_0050b66a8127row116_col1\" class=\"data row116 col1\" >10</td>\n",
       "                        <td id=\"T_836ceaf4_9dd5_11ea_a6cf_0050b66a8127row116_col2\" class=\"data row116 col2\" >0</td>\n",
       "                        <td id=\"T_836ceaf4_9dd5_11ea_a6cf_0050b66a8127row116_col3\" class=\"data row116 col3\" >2020-04-28</td>\n",
       "                        <td id=\"T_836ceaf4_9dd5_11ea_a6cf_0050b66a8127row116_col4\" class=\"data row116 col4\" >3.040000</td>\n",
       "            </tr>\n",
       "            <tr>\n",
       "                        <th id=\"T_836ceaf4_9dd5_11ea_a6cf_0050b66a8127level0_row117\" class=\"row_heading level0 row117\" >Montenegro</th>\n",
       "                        <td id=\"T_836ceaf4_9dd5_11ea_a6cf_0050b66a8127row117_col0\" class=\"data row117 col0\" >321</td>\n",
       "                        <td id=\"T_836ceaf4_9dd5_11ea_a6cf_0050b66a8127row117_col1\" class=\"data row117 col1\" >7</td>\n",
       "                        <td id=\"T_836ceaf4_9dd5_11ea_a6cf_0050b66a8127row117_col2\" class=\"data row117 col2\" >0</td>\n",
       "                        <td id=\"T_836ceaf4_9dd5_11ea_a6cf_0050b66a8127row117_col3\" class=\"data row117 col3\" >2020-04-28</td>\n",
       "                        <td id=\"T_836ceaf4_9dd5_11ea_a6cf_0050b66a8127row117_col4\" class=\"data row117 col4\" >2.180000</td>\n",
       "            </tr>\n",
       "            <tr>\n",
       "                        <th id=\"T_836ceaf4_9dd5_11ea_a6cf_0050b66a8127level0_row118\" class=\"row_heading level0 row118\" >Sudan</th>\n",
       "                        <td id=\"T_836ceaf4_9dd5_11ea_a6cf_0050b66a8127row118_col0\" class=\"data row118 col0\" >318</td>\n",
       "                        <td id=\"T_836ceaf4_9dd5_11ea_a6cf_0050b66a8127row118_col1\" class=\"data row118 col1\" >25</td>\n",
       "                        <td id=\"T_836ceaf4_9dd5_11ea_a6cf_0050b66a8127row118_col2\" class=\"data row118 col2\" >43</td>\n",
       "                        <td id=\"T_836ceaf4_9dd5_11ea_a6cf_0050b66a8127row118_col3\" class=\"data row118 col3\" >2020-04-28</td>\n",
       "                        <td id=\"T_836ceaf4_9dd5_11ea_a6cf_0050b66a8127row118_col4\" class=\"data row118 col4\" >7.860000</td>\n",
       "            </tr>\n",
       "            <tr>\n",
       "                        <th id=\"T_836ceaf4_9dd5_11ea_a6cf_0050b66a8127level0_row119\" class=\"row_heading level0 row119\" >Equatorial Guinea</th>\n",
       "                        <td id=\"T_836ceaf4_9dd5_11ea_a6cf_0050b66a8127row119_col0\" class=\"data row119 col0\" >315</td>\n",
       "                        <td id=\"T_836ceaf4_9dd5_11ea_a6cf_0050b66a8127row119_col1\" class=\"data row119 col1\" >1</td>\n",
       "                        <td id=\"T_836ceaf4_9dd5_11ea_a6cf_0050b66a8127row119_col2\" class=\"data row119 col2\" >57</td>\n",
       "                        <td id=\"T_836ceaf4_9dd5_11ea_a6cf_0050b66a8127row119_col3\" class=\"data row119 col3\" >2020-04-28</td>\n",
       "                        <td id=\"T_836ceaf4_9dd5_11ea_a6cf_0050b66a8127row119_col4\" class=\"data row119 col4\" >0.320000</td>\n",
       "            </tr>\n",
       "            <tr>\n",
       "                        <th id=\"T_836ceaf4_9dd5_11ea_a6cf_0050b66a8127level0_row120\" class=\"row_heading level0 row120\" >Tanzania</th>\n",
       "                        <td id=\"T_836ceaf4_9dd5_11ea_a6cf_0050b66a8127row120_col0\" class=\"data row120 col0\" >299</td>\n",
       "                        <td id=\"T_836ceaf4_9dd5_11ea_a6cf_0050b66a8127row120_col1\" class=\"data row120 col1\" >10</td>\n",
       "                        <td id=\"T_836ceaf4_9dd5_11ea_a6cf_0050b66a8127row120_col2\" class=\"data row120 col2\" >0</td>\n",
       "                        <td id=\"T_836ceaf4_9dd5_11ea_a6cf_0050b66a8127row120_col3\" class=\"data row120 col3\" >2020-04-28</td>\n",
       "                        <td id=\"T_836ceaf4_9dd5_11ea_a6cf_0050b66a8127row120_col4\" class=\"data row120 col4\" >3.340000</td>\n",
       "            </tr>\n",
       "            <tr>\n",
       "                        <th id=\"T_836ceaf4_9dd5_11ea_a6cf_0050b66a8127level0_row121\" class=\"row_heading level0 row121\" >Vietnam</th>\n",
       "                        <td id=\"T_836ceaf4_9dd5_11ea_a6cf_0050b66a8127row121_col0\" class=\"data row121 col0\" >270</td>\n",
       "                        <td id=\"T_836ceaf4_9dd5_11ea_a6cf_0050b66a8127row121_col1\" class=\"data row121 col1\" >0</td>\n",
       "                        <td id=\"T_836ceaf4_9dd5_11ea_a6cf_0050b66a8127row121_col2\" class=\"data row121 col2\" >0</td>\n",
       "                        <td id=\"T_836ceaf4_9dd5_11ea_a6cf_0050b66a8127row121_col3\" class=\"data row121 col3\" >2020-04-28</td>\n",
       "                        <td id=\"T_836ceaf4_9dd5_11ea_a6cf_0050b66a8127row121_col4\" class=\"data row121 col4\" >0.000000</td>\n",
       "            </tr>\n",
       "            <tr>\n",
       "                        <th id=\"T_836ceaf4_9dd5_11ea_a6cf_0050b66a8127level0_row122\" class=\"row_heading level0 row122\" >Maldives</th>\n",
       "                        <td id=\"T_836ceaf4_9dd5_11ea_a6cf_0050b66a8127row122_col0\" class=\"data row122 col0\" >250</td>\n",
       "                        <td id=\"T_836ceaf4_9dd5_11ea_a6cf_0050b66a8127row122_col1\" class=\"data row122 col1\" >0</td>\n",
       "                        <td id=\"T_836ceaf4_9dd5_11ea_a6cf_0050b66a8127row122_col2\" class=\"data row122 col2\" >24</td>\n",
       "                        <td id=\"T_836ceaf4_9dd5_11ea_a6cf_0050b66a8127row122_col3\" class=\"data row122 col3\" >2020-04-28</td>\n",
       "                        <td id=\"T_836ceaf4_9dd5_11ea_a6cf_0050b66a8127row122_col4\" class=\"data row122 col4\" >0.000000</td>\n",
       "            </tr>\n",
       "            <tr>\n",
       "                        <th id=\"T_836ceaf4_9dd5_11ea_a6cf_0050b66a8127level0_row123\" class=\"row_heading level0 row123\" >Paraguay</th>\n",
       "                        <td id=\"T_836ceaf4_9dd5_11ea_a6cf_0050b66a8127row123_col0\" class=\"data row123 col0\" >239</td>\n",
       "                        <td id=\"T_836ceaf4_9dd5_11ea_a6cf_0050b66a8127row123_col1\" class=\"data row123 col1\" >9</td>\n",
       "                        <td id=\"T_836ceaf4_9dd5_11ea_a6cf_0050b66a8127row123_col2\" class=\"data row123 col2\" >11</td>\n",
       "                        <td id=\"T_836ceaf4_9dd5_11ea_a6cf_0050b66a8127row123_col3\" class=\"data row123 col3\" >2020-04-28</td>\n",
       "                        <td id=\"T_836ceaf4_9dd5_11ea_a6cf_0050b66a8127row123_col4\" class=\"data row123 col4\" >3.770000</td>\n",
       "            </tr>\n",
       "            <tr>\n",
       "                        <th id=\"T_836ceaf4_9dd5_11ea_a6cf_0050b66a8127level0_row124\" class=\"row_heading level0 row124\" >Gabon</th>\n",
       "                        <td id=\"T_836ceaf4_9dd5_11ea_a6cf_0050b66a8127row124_col0\" class=\"data row124 col0\" >238</td>\n",
       "                        <td id=\"T_836ceaf4_9dd5_11ea_a6cf_0050b66a8127row124_col1\" class=\"data row124 col1\" >3</td>\n",
       "                        <td id=\"T_836ceaf4_9dd5_11ea_a6cf_0050b66a8127row124_col2\" class=\"data row124 col2\" >27</td>\n",
       "                        <td id=\"T_836ceaf4_9dd5_11ea_a6cf_0050b66a8127row124_col3\" class=\"data row124 col3\" >2020-04-28</td>\n",
       "                        <td id=\"T_836ceaf4_9dd5_11ea_a6cf_0050b66a8127row124_col4\" class=\"data row124 col4\" >1.260000</td>\n",
       "            </tr>\n",
       "            <tr>\n",
       "                        <th id=\"T_836ceaf4_9dd5_11ea_a6cf_0050b66a8127level0_row125\" class=\"row_heading level0 row125\" >Rwanda</th>\n",
       "                        <td id=\"T_836ceaf4_9dd5_11ea_a6cf_0050b66a8127row125_col0\" class=\"data row125 col0\" >212</td>\n",
       "                        <td id=\"T_836ceaf4_9dd5_11ea_a6cf_0050b66a8127row125_col1\" class=\"data row125 col1\" >0</td>\n",
       "                        <td id=\"T_836ceaf4_9dd5_11ea_a6cf_0050b66a8127row125_col2\" class=\"data row125 col2\" >5</td>\n",
       "                        <td id=\"T_836ceaf4_9dd5_11ea_a6cf_0050b66a8127row125_col3\" class=\"data row125 col3\" >2020-04-28</td>\n",
       "                        <td id=\"T_836ceaf4_9dd5_11ea_a6cf_0050b66a8127row125_col4\" class=\"data row125 col4\" >0.000000</td>\n",
       "            </tr>\n",
       "            <tr>\n",
       "                        <th id=\"T_836ceaf4_9dd5_11ea_a6cf_0050b66a8127level0_row126\" class=\"row_heading level0 row126\" >Congo (Brazzaville)</th>\n",
       "                        <td id=\"T_836ceaf4_9dd5_11ea_a6cf_0050b66a8127row126_col0\" class=\"data row126 col0\" >207</td>\n",
       "                        <td id=\"T_836ceaf4_9dd5_11ea_a6cf_0050b66a8127row126_col1\" class=\"data row126 col1\" >8</td>\n",
       "                        <td id=\"T_836ceaf4_9dd5_11ea_a6cf_0050b66a8127row126_col2\" class=\"data row126 col2\" >7</td>\n",
       "                        <td id=\"T_836ceaf4_9dd5_11ea_a6cf_0050b66a8127row126_col3\" class=\"data row126 col3\" >2020-04-28</td>\n",
       "                        <td id=\"T_836ceaf4_9dd5_11ea_a6cf_0050b66a8127row126_col4\" class=\"data row126 col4\" >3.860000</td>\n",
       "            </tr>\n",
       "            <tr>\n",
       "                        <th id=\"T_836ceaf4_9dd5_11ea_a6cf_0050b66a8127level0_row127\" class=\"row_heading level0 row127\" >Burma</th>\n",
       "                        <td id=\"T_836ceaf4_9dd5_11ea_a6cf_0050b66a8127row127_col0\" class=\"data row127 col0\" >150</td>\n",
       "                        <td id=\"T_836ceaf4_9dd5_11ea_a6cf_0050b66a8127row127_col1\" class=\"data row127 col1\" >5</td>\n",
       "                        <td id=\"T_836ceaf4_9dd5_11ea_a6cf_0050b66a8127row127_col2\" class=\"data row127 col2\" >4</td>\n",
       "                        <td id=\"T_836ceaf4_9dd5_11ea_a6cf_0050b66a8127row127_col3\" class=\"data row127 col3\" >2020-04-28</td>\n",
       "                        <td id=\"T_836ceaf4_9dd5_11ea_a6cf_0050b66a8127row127_col4\" class=\"data row127 col4\" >3.330000</td>\n",
       "            </tr>\n",
       "            <tr>\n",
       "                        <th id=\"T_836ceaf4_9dd5_11ea_a6cf_0050b66a8127level0_row128\" class=\"row_heading level0 row128\" >Liberia</th>\n",
       "                        <td id=\"T_836ceaf4_9dd5_11ea_a6cf_0050b66a8127row128_col0\" class=\"data row128 col0\" >141</td>\n",
       "                        <td id=\"T_836ceaf4_9dd5_11ea_a6cf_0050b66a8127row128_col1\" class=\"data row128 col1\" >16</td>\n",
       "                        <td id=\"T_836ceaf4_9dd5_11ea_a6cf_0050b66a8127row128_col2\" class=\"data row128 col2\" >17</td>\n",
       "                        <td id=\"T_836ceaf4_9dd5_11ea_a6cf_0050b66a8127row128_col3\" class=\"data row128 col3\" >2020-04-28</td>\n",
       "                        <td id=\"T_836ceaf4_9dd5_11ea_a6cf_0050b66a8127row128_col4\" class=\"data row128 col4\" >11.350000</td>\n",
       "            </tr>\n",
       "            <tr>\n",
       "                        <th id=\"T_836ceaf4_9dd5_11ea_a6cf_0050b66a8127level0_row129\" class=\"row_heading level0 row129\" >Brunei</th>\n",
       "                        <td id=\"T_836ceaf4_9dd5_11ea_a6cf_0050b66a8127row129_col0\" class=\"data row129 col0\" >138</td>\n",
       "                        <td id=\"T_836ceaf4_9dd5_11ea_a6cf_0050b66a8127row129_col1\" class=\"data row129 col1\" >1</td>\n",
       "                        <td id=\"T_836ceaf4_9dd5_11ea_a6cf_0050b66a8127row129_col2\" class=\"data row129 col2\" >0</td>\n",
       "                        <td id=\"T_836ceaf4_9dd5_11ea_a6cf_0050b66a8127row129_col3\" class=\"data row129 col3\" >2020-04-28</td>\n",
       "                        <td id=\"T_836ceaf4_9dd5_11ea_a6cf_0050b66a8127row129_col4\" class=\"data row129 col4\" >0.720000</td>\n",
       "            </tr>\n",
       "            <tr>\n",
       "                        <th id=\"T_836ceaf4_9dd5_11ea_a6cf_0050b66a8127level0_row130\" class=\"row_heading level0 row130\" >Madagascar</th>\n",
       "                        <td id=\"T_836ceaf4_9dd5_11ea_a6cf_0050b66a8127row130_col0\" class=\"data row130 col0\" >128</td>\n",
       "                        <td id=\"T_836ceaf4_9dd5_11ea_a6cf_0050b66a8127row130_col1\" class=\"data row130 col1\" >0</td>\n",
       "                        <td id=\"T_836ceaf4_9dd5_11ea_a6cf_0050b66a8127row130_col2\" class=\"data row130 col2\" >0</td>\n",
       "                        <td id=\"T_836ceaf4_9dd5_11ea_a6cf_0050b66a8127row130_col3\" class=\"data row130 col3\" >2020-04-28</td>\n",
       "                        <td id=\"T_836ceaf4_9dd5_11ea_a6cf_0050b66a8127row130_col4\" class=\"data row130 col4\" >0.000000</td>\n",
       "            </tr>\n",
       "            <tr>\n",
       "                        <th id=\"T_836ceaf4_9dd5_11ea_a6cf_0050b66a8127level0_row131\" class=\"row_heading level0 row131\" >Ethiopia</th>\n",
       "                        <td id=\"T_836ceaf4_9dd5_11ea_a6cf_0050b66a8127row131_col0\" class=\"data row131 col0\" >126</td>\n",
       "                        <td id=\"T_836ceaf4_9dd5_11ea_a6cf_0050b66a8127row131_col1\" class=\"data row131 col1\" >3</td>\n",
       "                        <td id=\"T_836ceaf4_9dd5_11ea_a6cf_0050b66a8127row131_col2\" class=\"data row131 col2\" >2</td>\n",
       "                        <td id=\"T_836ceaf4_9dd5_11ea_a6cf_0050b66a8127row131_col3\" class=\"data row131 col3\" >2020-04-28</td>\n",
       "                        <td id=\"T_836ceaf4_9dd5_11ea_a6cf_0050b66a8127row131_col4\" class=\"data row131 col4\" >2.380000</td>\n",
       "            </tr>\n",
       "            <tr>\n",
       "                        <th id=\"T_836ceaf4_9dd5_11ea_a6cf_0050b66a8127level0_row132\" class=\"row_heading level0 row132\" >Cambodia</th>\n",
       "                        <td id=\"T_836ceaf4_9dd5_11ea_a6cf_0050b66a8127row132_col0\" class=\"data row132 col0\" >122</td>\n",
       "                        <td id=\"T_836ceaf4_9dd5_11ea_a6cf_0050b66a8127row132_col1\" class=\"data row132 col1\" >0</td>\n",
       "                        <td id=\"T_836ceaf4_9dd5_11ea_a6cf_0050b66a8127row132_col2\" class=\"data row132 col2\" >0</td>\n",
       "                        <td id=\"T_836ceaf4_9dd5_11ea_a6cf_0050b66a8127row132_col3\" class=\"data row132 col3\" >2020-04-28</td>\n",
       "                        <td id=\"T_836ceaf4_9dd5_11ea_a6cf_0050b66a8127row132_col4\" class=\"data row132 col4\" >0.000000</td>\n",
       "            </tr>\n",
       "            <tr>\n",
       "                        <th id=\"T_836ceaf4_9dd5_11ea_a6cf_0050b66a8127level0_row133\" class=\"row_heading level0 row133\" >Trinidad and Tobago</th>\n",
       "                        <td id=\"T_836ceaf4_9dd5_11ea_a6cf_0050b66a8127row133_col0\" class=\"data row133 col0\" >116</td>\n",
       "                        <td id=\"T_836ceaf4_9dd5_11ea_a6cf_0050b66a8127row133_col1\" class=\"data row133 col1\" >8</td>\n",
       "                        <td id=\"T_836ceaf4_9dd5_11ea_a6cf_0050b66a8127row133_col2\" class=\"data row133 col2\" >0</td>\n",
       "                        <td id=\"T_836ceaf4_9dd5_11ea_a6cf_0050b66a8127row133_col3\" class=\"data row133 col3\" >2020-04-28</td>\n",
       "                        <td id=\"T_836ceaf4_9dd5_11ea_a6cf_0050b66a8127row133_col4\" class=\"data row133 col4\" >6.900000</td>\n",
       "            </tr>\n",
       "            <tr>\n",
       "                        <th id=\"T_836ceaf4_9dd5_11ea_a6cf_0050b66a8127level0_row134\" class=\"row_heading level0 row134\" >Cabo Verde</th>\n",
       "                        <td id=\"T_836ceaf4_9dd5_11ea_a6cf_0050b66a8127row134_col0\" class=\"data row134 col0\" >114</td>\n",
       "                        <td id=\"T_836ceaf4_9dd5_11ea_a6cf_0050b66a8127row134_col1\" class=\"data row134 col1\" >1</td>\n",
       "                        <td id=\"T_836ceaf4_9dd5_11ea_a6cf_0050b66a8127row134_col2\" class=\"data row134 col2\" >5</td>\n",
       "                        <td id=\"T_836ceaf4_9dd5_11ea_a6cf_0050b66a8127row134_col3\" class=\"data row134 col3\" >2020-04-28</td>\n",
       "                        <td id=\"T_836ceaf4_9dd5_11ea_a6cf_0050b66a8127row134_col4\" class=\"data row134 col4\" >0.880000</td>\n",
       "            </tr>\n",
       "            <tr>\n",
       "                        <th id=\"T_836ceaf4_9dd5_11ea_a6cf_0050b66a8127level0_row135\" class=\"row_heading level0 row135\" >Sierra Leone</th>\n",
       "                        <td id=\"T_836ceaf4_9dd5_11ea_a6cf_0050b66a8127row135_col0\" class=\"data row135 col0\" >104</td>\n",
       "                        <td id=\"T_836ceaf4_9dd5_11ea_a6cf_0050b66a8127row135_col1\" class=\"data row135 col1\" >4</td>\n",
       "                        <td id=\"T_836ceaf4_9dd5_11ea_a6cf_0050b66a8127row135_col2\" class=\"data row135 col2\" >11</td>\n",
       "                        <td id=\"T_836ceaf4_9dd5_11ea_a6cf_0050b66a8127row135_col3\" class=\"data row135 col3\" >2020-04-28</td>\n",
       "                        <td id=\"T_836ceaf4_9dd5_11ea_a6cf_0050b66a8127row135_col4\" class=\"data row135 col4\" >3.850000</td>\n",
       "            </tr>\n",
       "            <tr>\n",
       "                        <th id=\"T_836ceaf4_9dd5_11ea_a6cf_0050b66a8127level0_row136\" class=\"row_heading level0 row136\" >Togo</th>\n",
       "                        <td id=\"T_836ceaf4_9dd5_11ea_a6cf_0050b66a8127row136_col0\" class=\"data row136 col0\" >99</td>\n",
       "                        <td id=\"T_836ceaf4_9dd5_11ea_a6cf_0050b66a8127row136_col1\" class=\"data row136 col1\" >6</td>\n",
       "                        <td id=\"T_836ceaf4_9dd5_11ea_a6cf_0050b66a8127row136_col2\" class=\"data row136 col2\" >1</td>\n",
       "                        <td id=\"T_836ceaf4_9dd5_11ea_a6cf_0050b66a8127row136_col3\" class=\"data row136 col3\" >2020-04-28</td>\n",
       "                        <td id=\"T_836ceaf4_9dd5_11ea_a6cf_0050b66a8127row136_col4\" class=\"data row136 col4\" >6.060000</td>\n",
       "            </tr>\n",
       "            <tr>\n",
       "                        <th id=\"T_836ceaf4_9dd5_11ea_a6cf_0050b66a8127level0_row137\" class=\"row_heading level0 row137\" >Zambia</th>\n",
       "                        <td id=\"T_836ceaf4_9dd5_11ea_a6cf_0050b66a8127row137_col0\" class=\"data row137 col0\" >95</td>\n",
       "                        <td id=\"T_836ceaf4_9dd5_11ea_a6cf_0050b66a8127row137_col1\" class=\"data row137 col1\" >3</td>\n",
       "                        <td id=\"T_836ceaf4_9dd5_11ea_a6cf_0050b66a8127row137_col2\" class=\"data row137 col2\" >7</td>\n",
       "                        <td id=\"T_836ceaf4_9dd5_11ea_a6cf_0050b66a8127row137_col3\" class=\"data row137 col3\" >2020-04-28</td>\n",
       "                        <td id=\"T_836ceaf4_9dd5_11ea_a6cf_0050b66a8127row137_col4\" class=\"data row137 col4\" >3.160000</td>\n",
       "            </tr>\n",
       "            <tr>\n",
       "                        <th id=\"T_836ceaf4_9dd5_11ea_a6cf_0050b66a8127level0_row138\" class=\"row_heading level0 row138\" >Monaco</th>\n",
       "                        <td id=\"T_836ceaf4_9dd5_11ea_a6cf_0050b66a8127row138_col0\" class=\"data row138 col0\" >95</td>\n",
       "                        <td id=\"T_836ceaf4_9dd5_11ea_a6cf_0050b66a8127row138_col1\" class=\"data row138 col1\" >4</td>\n",
       "                        <td id=\"T_836ceaf4_9dd5_11ea_a6cf_0050b66a8127row138_col2\" class=\"data row138 col2\" >0</td>\n",
       "                        <td id=\"T_836ceaf4_9dd5_11ea_a6cf_0050b66a8127row138_col3\" class=\"data row138 col3\" >2020-04-28</td>\n",
       "                        <td id=\"T_836ceaf4_9dd5_11ea_a6cf_0050b66a8127row138_col4\" class=\"data row138 col4\" >4.210000</td>\n",
       "            </tr>\n",
       "            <tr>\n",
       "                        <th id=\"T_836ceaf4_9dd5_11ea_a6cf_0050b66a8127level0_row139\" class=\"row_heading level0 row139\" >Liechtenstein</th>\n",
       "                        <td id=\"T_836ceaf4_9dd5_11ea_a6cf_0050b66a8127row139_col0\" class=\"data row139 col0\" >82</td>\n",
       "                        <td id=\"T_836ceaf4_9dd5_11ea_a6cf_0050b66a8127row139_col1\" class=\"data row139 col1\" >1</td>\n",
       "                        <td id=\"T_836ceaf4_9dd5_11ea_a6cf_0050b66a8127row139_col2\" class=\"data row139 col2\" >0</td>\n",
       "                        <td id=\"T_836ceaf4_9dd5_11ea_a6cf_0050b66a8127row139_col3\" class=\"data row139 col3\" >2020-04-28</td>\n",
       "                        <td id=\"T_836ceaf4_9dd5_11ea_a6cf_0050b66a8127row139_col4\" class=\"data row139 col4\" >1.220000</td>\n",
       "            </tr>\n",
       "            <tr>\n",
       "                        <th id=\"T_836ceaf4_9dd5_11ea_a6cf_0050b66a8127level0_row140\" class=\"row_heading level0 row140\" >Bahamas</th>\n",
       "                        <td id=\"T_836ceaf4_9dd5_11ea_a6cf_0050b66a8127row140_col0\" class=\"data row140 col0\" >80</td>\n",
       "                        <td id=\"T_836ceaf4_9dd5_11ea_a6cf_0050b66a8127row140_col1\" class=\"data row140 col1\" >11</td>\n",
       "                        <td id=\"T_836ceaf4_9dd5_11ea_a6cf_0050b66a8127row140_col2\" class=\"data row140 col2\" >0</td>\n",
       "                        <td id=\"T_836ceaf4_9dd5_11ea_a6cf_0050b66a8127row140_col3\" class=\"data row140 col3\" >2020-04-28</td>\n",
       "                        <td id=\"T_836ceaf4_9dd5_11ea_a6cf_0050b66a8127row140_col4\" class=\"data row140 col4\" >13.750000</td>\n",
       "            </tr>\n",
       "            <tr>\n",
       "                        <th id=\"T_836ceaf4_9dd5_11ea_a6cf_0050b66a8127level0_row141\" class=\"row_heading level0 row141\" >Barbados</th>\n",
       "                        <td id=\"T_836ceaf4_9dd5_11ea_a6cf_0050b66a8127row141_col0\" class=\"data row141 col0\" >80</td>\n",
       "                        <td id=\"T_836ceaf4_9dd5_11ea_a6cf_0050b66a8127row141_col1\" class=\"data row141 col1\" >6</td>\n",
       "                        <td id=\"T_836ceaf4_9dd5_11ea_a6cf_0050b66a8127row141_col2\" class=\"data row141 col2\" >0</td>\n",
       "                        <td id=\"T_836ceaf4_9dd5_11ea_a6cf_0050b66a8127row141_col3\" class=\"data row141 col3\" >2020-04-28</td>\n",
       "                        <td id=\"T_836ceaf4_9dd5_11ea_a6cf_0050b66a8127row141_col4\" class=\"data row141 col4\" >7.500000</td>\n",
       "            </tr>\n",
       "            <tr>\n",
       "                        <th id=\"T_836ceaf4_9dd5_11ea_a6cf_0050b66a8127level0_row142\" class=\"row_heading level0 row142\" >Uganda</th>\n",
       "                        <td id=\"T_836ceaf4_9dd5_11ea_a6cf_0050b66a8127row142_col0\" class=\"data row142 col0\" >79</td>\n",
       "                        <td id=\"T_836ceaf4_9dd5_11ea_a6cf_0050b66a8127row142_col1\" class=\"data row142 col1\" >0</td>\n",
       "                        <td id=\"T_836ceaf4_9dd5_11ea_a6cf_0050b66a8127row142_col2\" class=\"data row142 col2\" >0</td>\n",
       "                        <td id=\"T_836ceaf4_9dd5_11ea_a6cf_0050b66a8127row142_col3\" class=\"data row142 col3\" >2020-04-28</td>\n",
       "                        <td id=\"T_836ceaf4_9dd5_11ea_a6cf_0050b66a8127row142_col4\" class=\"data row142 col4\" >0.000000</td>\n",
       "            </tr>\n",
       "            <tr>\n",
       "                        <th id=\"T_836ceaf4_9dd5_11ea_a6cf_0050b66a8127level0_row143\" class=\"row_heading level0 row143\" >Mozambique</th>\n",
       "                        <td id=\"T_836ceaf4_9dd5_11ea_a6cf_0050b66a8127row143_col0\" class=\"data row143 col0\" >76</td>\n",
       "                        <td id=\"T_836ceaf4_9dd5_11ea_a6cf_0050b66a8127row143_col1\" class=\"data row143 col1\" >0</td>\n",
       "                        <td id=\"T_836ceaf4_9dd5_11ea_a6cf_0050b66a8127row143_col2\" class=\"data row143 col2\" >0</td>\n",
       "                        <td id=\"T_836ceaf4_9dd5_11ea_a6cf_0050b66a8127row143_col3\" class=\"data row143 col3\" >2020-04-28</td>\n",
       "                        <td id=\"T_836ceaf4_9dd5_11ea_a6cf_0050b66a8127row143_col4\" class=\"data row143 col4\" >0.000000</td>\n",
       "            </tr>\n",
       "            <tr>\n",
       "                        <th id=\"T_836ceaf4_9dd5_11ea_a6cf_0050b66a8127level0_row144\" class=\"row_heading level0 row144\" >Haiti</th>\n",
       "                        <td id=\"T_836ceaf4_9dd5_11ea_a6cf_0050b66a8127row144_col0\" class=\"data row144 col0\" >76</td>\n",
       "                        <td id=\"T_836ceaf4_9dd5_11ea_a6cf_0050b66a8127row144_col1\" class=\"data row144 col1\" >6</td>\n",
       "                        <td id=\"T_836ceaf4_9dd5_11ea_a6cf_0050b66a8127row144_col2\" class=\"data row144 col2\" >0</td>\n",
       "                        <td id=\"T_836ceaf4_9dd5_11ea_a6cf_0050b66a8127row144_col3\" class=\"data row144 col3\" >2020-04-28</td>\n",
       "                        <td id=\"T_836ceaf4_9dd5_11ea_a6cf_0050b66a8127row144_col4\" class=\"data row144 col4\" >7.890000</td>\n",
       "            </tr>\n",
       "            <tr>\n",
       "                        <th id=\"T_836ceaf4_9dd5_11ea_a6cf_0050b66a8127level0_row145\" class=\"row_heading level0 row145\" >Guyana</th>\n",
       "                        <td id=\"T_836ceaf4_9dd5_11ea_a6cf_0050b66a8127row145_col0\" class=\"data row145 col0\" >74</td>\n",
       "                        <td id=\"T_836ceaf4_9dd5_11ea_a6cf_0050b66a8127row145_col1\" class=\"data row145 col1\" >8</td>\n",
       "                        <td id=\"T_836ceaf4_9dd5_11ea_a6cf_0050b66a8127row145_col2\" class=\"data row145 col2\" >0</td>\n",
       "                        <td id=\"T_836ceaf4_9dd5_11ea_a6cf_0050b66a8127row145_col3\" class=\"data row145 col3\" >2020-04-28</td>\n",
       "                        <td id=\"T_836ceaf4_9dd5_11ea_a6cf_0050b66a8127row145_col4\" class=\"data row145 col4\" >10.810000</td>\n",
       "            </tr>\n",
       "            <tr>\n",
       "                        <th id=\"T_836ceaf4_9dd5_11ea_a6cf_0050b66a8127level0_row146\" class=\"row_heading level0 row146\" >Guinea-Bissau</th>\n",
       "                        <td id=\"T_836ceaf4_9dd5_11ea_a6cf_0050b66a8127row146_col0\" class=\"data row146 col0\" >73</td>\n",
       "                        <td id=\"T_836ceaf4_9dd5_11ea_a6cf_0050b66a8127row146_col1\" class=\"data row146 col1\" >1</td>\n",
       "                        <td id=\"T_836ceaf4_9dd5_11ea_a6cf_0050b66a8127row146_col2\" class=\"data row146 col2\" >0</td>\n",
       "                        <td id=\"T_836ceaf4_9dd5_11ea_a6cf_0050b66a8127row146_col3\" class=\"data row146 col3\" >2020-04-28</td>\n",
       "                        <td id=\"T_836ceaf4_9dd5_11ea_a6cf_0050b66a8127row146_col4\" class=\"data row146 col4\" >1.370000</td>\n",
       "            </tr>\n",
       "            <tr>\n",
       "                        <th id=\"T_836ceaf4_9dd5_11ea_a6cf_0050b66a8127level0_row147\" class=\"row_heading level0 row147\" >Eswatini</th>\n",
       "                        <td id=\"T_836ceaf4_9dd5_11ea_a6cf_0050b66a8127row147_col0\" class=\"data row147 col0\" >71</td>\n",
       "                        <td id=\"T_836ceaf4_9dd5_11ea_a6cf_0050b66a8127row147_col1\" class=\"data row147 col1\" >1</td>\n",
       "                        <td id=\"T_836ceaf4_9dd5_11ea_a6cf_0050b66a8127row147_col2\" class=\"data row147 col2\" >6</td>\n",
       "                        <td id=\"T_836ceaf4_9dd5_11ea_a6cf_0050b66a8127row147_col3\" class=\"data row147 col3\" >2020-04-28</td>\n",
       "                        <td id=\"T_836ceaf4_9dd5_11ea_a6cf_0050b66a8127row147_col4\" class=\"data row147 col4\" >1.410000</td>\n",
       "            </tr>\n",
       "            <tr>\n",
       "                        <th id=\"T_836ceaf4_9dd5_11ea_a6cf_0050b66a8127level0_row148\" class=\"row_heading level0 row148\" >Benin</th>\n",
       "                        <td id=\"T_836ceaf4_9dd5_11ea_a6cf_0050b66a8127row148_col0\" class=\"data row148 col0\" >64</td>\n",
       "                        <td id=\"T_836ceaf4_9dd5_11ea_a6cf_0050b66a8127row148_col1\" class=\"data row148 col1\" >1</td>\n",
       "                        <td id=\"T_836ceaf4_9dd5_11ea_a6cf_0050b66a8127row148_col2\" class=\"data row148 col2\" >0</td>\n",
       "                        <td id=\"T_836ceaf4_9dd5_11ea_a6cf_0050b66a8127row148_col3\" class=\"data row148 col3\" >2020-04-28</td>\n",
       "                        <td id=\"T_836ceaf4_9dd5_11ea_a6cf_0050b66a8127row148_col4\" class=\"data row148 col4\" >1.560000</td>\n",
       "            </tr>\n",
       "            <tr>\n",
       "                        <th id=\"T_836ceaf4_9dd5_11ea_a6cf_0050b66a8127level0_row149\" class=\"row_heading level0 row149\" >Libya</th>\n",
       "                        <td id=\"T_836ceaf4_9dd5_11ea_a6cf_0050b66a8127row149_col0\" class=\"data row149 col0\" >61</td>\n",
       "                        <td id=\"T_836ceaf4_9dd5_11ea_a6cf_0050b66a8127row149_col1\" class=\"data row149 col1\" >2</td>\n",
       "                        <td id=\"T_836ceaf4_9dd5_11ea_a6cf_0050b66a8127row149_col2\" class=\"data row149 col2\" >0</td>\n",
       "                        <td id=\"T_836ceaf4_9dd5_11ea_a6cf_0050b66a8127row149_col3\" class=\"data row149 col3\" >2020-04-28</td>\n",
       "                        <td id=\"T_836ceaf4_9dd5_11ea_a6cf_0050b66a8127row149_col4\" class=\"data row149 col4\" >3.280000</td>\n",
       "            </tr>\n",
       "            <tr>\n",
       "                        <th id=\"T_836ceaf4_9dd5_11ea_a6cf_0050b66a8127level0_row150\" class=\"row_heading level0 row150\" >Nepal</th>\n",
       "                        <td id=\"T_836ceaf4_9dd5_11ea_a6cf_0050b66a8127row150_col0\" class=\"data row150 col0\" >54</td>\n",
       "                        <td id=\"T_836ceaf4_9dd5_11ea_a6cf_0050b66a8127row150_col1\" class=\"data row150 col1\" >0</td>\n",
       "                        <td id=\"T_836ceaf4_9dd5_11ea_a6cf_0050b66a8127row150_col2\" class=\"data row150 col2\" >2</td>\n",
       "                        <td id=\"T_836ceaf4_9dd5_11ea_a6cf_0050b66a8127row150_col3\" class=\"data row150 col3\" >2020-04-28</td>\n",
       "                        <td id=\"T_836ceaf4_9dd5_11ea_a6cf_0050b66a8127row150_col4\" class=\"data row150 col4\" >0.000000</td>\n",
       "            </tr>\n",
       "            <tr>\n",
       "                        <th id=\"T_836ceaf4_9dd5_11ea_a6cf_0050b66a8127level0_row151\" class=\"row_heading level0 row151\" >Chad</th>\n",
       "                        <td id=\"T_836ceaf4_9dd5_11ea_a6cf_0050b66a8127row151_col0\" class=\"data row151 col0\" >52</td>\n",
       "                        <td id=\"T_836ceaf4_9dd5_11ea_a6cf_0050b66a8127row151_col1\" class=\"data row151 col1\" >2</td>\n",
       "                        <td id=\"T_836ceaf4_9dd5_11ea_a6cf_0050b66a8127row151_col2\" class=\"data row151 col2\" >6</td>\n",
       "                        <td id=\"T_836ceaf4_9dd5_11ea_a6cf_0050b66a8127row151_col3\" class=\"data row151 col3\" >2020-04-28</td>\n",
       "                        <td id=\"T_836ceaf4_9dd5_11ea_a6cf_0050b66a8127row151_col4\" class=\"data row151 col4\" >3.850000</td>\n",
       "            </tr>\n",
       "            <tr>\n",
       "                        <th id=\"T_836ceaf4_9dd5_11ea_a6cf_0050b66a8127level0_row152\" class=\"row_heading level0 row152\" >Central African Republic</th>\n",
       "                        <td id=\"T_836ceaf4_9dd5_11ea_a6cf_0050b66a8127row152_col0\" class=\"data row152 col0\" >50</td>\n",
       "                        <td id=\"T_836ceaf4_9dd5_11ea_a6cf_0050b66a8127row152_col1\" class=\"data row152 col1\" >0</td>\n",
       "                        <td id=\"T_836ceaf4_9dd5_11ea_a6cf_0050b66a8127row152_col2\" class=\"data row152 col2\" >31</td>\n",
       "                        <td id=\"T_836ceaf4_9dd5_11ea_a6cf_0050b66a8127row152_col3\" class=\"data row152 col3\" >2020-04-28</td>\n",
       "                        <td id=\"T_836ceaf4_9dd5_11ea_a6cf_0050b66a8127row152_col4\" class=\"data row152 col4\" >0.000000</td>\n",
       "            </tr>\n",
       "            <tr>\n",
       "                        <th id=\"T_836ceaf4_9dd5_11ea_a6cf_0050b66a8127level0_row153\" class=\"row_heading level0 row153\" >Syria</th>\n",
       "                        <td id=\"T_836ceaf4_9dd5_11ea_a6cf_0050b66a8127row153_col0\" class=\"data row153 col0\" >43</td>\n",
       "                        <td id=\"T_836ceaf4_9dd5_11ea_a6cf_0050b66a8127row153_col1\" class=\"data row153 col1\" >3</td>\n",
       "                        <td id=\"T_836ceaf4_9dd5_11ea_a6cf_0050b66a8127row153_col2\" class=\"data row153 col2\" >0</td>\n",
       "                        <td id=\"T_836ceaf4_9dd5_11ea_a6cf_0050b66a8127row153_col3\" class=\"data row153 col3\" >2020-04-28</td>\n",
       "                        <td id=\"T_836ceaf4_9dd5_11ea_a6cf_0050b66a8127row153_col4\" class=\"data row153 col4\" >6.980000</td>\n",
       "            </tr>\n",
       "            <tr>\n",
       "                        <th id=\"T_836ceaf4_9dd5_11ea_a6cf_0050b66a8127level0_row154\" class=\"row_heading level0 row154\" >Eritrea</th>\n",
       "                        <td id=\"T_836ceaf4_9dd5_11ea_a6cf_0050b66a8127row154_col0\" class=\"data row154 col0\" >39</td>\n",
       "                        <td id=\"T_836ceaf4_9dd5_11ea_a6cf_0050b66a8127row154_col1\" class=\"data row154 col1\" >0</td>\n",
       "                        <td id=\"T_836ceaf4_9dd5_11ea_a6cf_0050b66a8127row154_col2\" class=\"data row154 col2\" >0</td>\n",
       "                        <td id=\"T_836ceaf4_9dd5_11ea_a6cf_0050b66a8127row154_col3\" class=\"data row154 col3\" >2020-04-28</td>\n",
       "                        <td id=\"T_836ceaf4_9dd5_11ea_a6cf_0050b66a8127row154_col4\" class=\"data row154 col4\" >0.000000</td>\n",
       "            </tr>\n",
       "            <tr>\n",
       "                        <th id=\"T_836ceaf4_9dd5_11ea_a6cf_0050b66a8127level0_row155\" class=\"row_heading level0 row155\" >Mongolia</th>\n",
       "                        <td id=\"T_836ceaf4_9dd5_11ea_a6cf_0050b66a8127row155_col0\" class=\"data row155 col0\" >38</td>\n",
       "                        <td id=\"T_836ceaf4_9dd5_11ea_a6cf_0050b66a8127row155_col1\" class=\"data row155 col1\" >0</td>\n",
       "                        <td id=\"T_836ceaf4_9dd5_11ea_a6cf_0050b66a8127row155_col2\" class=\"data row155 col2\" >0</td>\n",
       "                        <td id=\"T_836ceaf4_9dd5_11ea_a6cf_0050b66a8127row155_col3\" class=\"data row155 col3\" >2020-04-28</td>\n",
       "                        <td id=\"T_836ceaf4_9dd5_11ea_a6cf_0050b66a8127row155_col4\" class=\"data row155 col4\" >0.000000</td>\n",
       "            </tr>\n",
       "            <tr>\n",
       "                        <th id=\"T_836ceaf4_9dd5_11ea_a6cf_0050b66a8127level0_row156\" class=\"row_heading level0 row156\" >Malawi</th>\n",
       "                        <td id=\"T_836ceaf4_9dd5_11ea_a6cf_0050b66a8127row156_col0\" class=\"data row156 col0\" >36</td>\n",
       "                        <td id=\"T_836ceaf4_9dd5_11ea_a6cf_0050b66a8127row156_col1\" class=\"data row156 col1\" >3</td>\n",
       "                        <td id=\"T_836ceaf4_9dd5_11ea_a6cf_0050b66a8127row156_col2\" class=\"data row156 col2\" >0</td>\n",
       "                        <td id=\"T_836ceaf4_9dd5_11ea_a6cf_0050b66a8127row156_col3\" class=\"data row156 col3\" >2020-04-28</td>\n",
       "                        <td id=\"T_836ceaf4_9dd5_11ea_a6cf_0050b66a8127row156_col4\" class=\"data row156 col4\" >8.330000</td>\n",
       "            </tr>\n",
       "            <tr>\n",
       "                        <th id=\"T_836ceaf4_9dd5_11ea_a6cf_0050b66a8127level0_row157\" class=\"row_heading level0 row157\" >South Sudan</th>\n",
       "                        <td id=\"T_836ceaf4_9dd5_11ea_a6cf_0050b66a8127row157_col0\" class=\"data row157 col0\" >34</td>\n",
       "                        <td id=\"T_836ceaf4_9dd5_11ea_a6cf_0050b66a8127row157_col1\" class=\"data row157 col1\" >0</td>\n",
       "                        <td id=\"T_836ceaf4_9dd5_11ea_a6cf_0050b66a8127row157_col2\" class=\"data row157 col2\" >28</td>\n",
       "                        <td id=\"T_836ceaf4_9dd5_11ea_a6cf_0050b66a8127row157_col3\" class=\"data row157 col3\" >2020-04-28</td>\n",
       "                        <td id=\"T_836ceaf4_9dd5_11ea_a6cf_0050b66a8127row157_col4\" class=\"data row157 col4\" >0.000000</td>\n",
       "            </tr>\n",
       "            <tr>\n",
       "                        <th id=\"T_836ceaf4_9dd5_11ea_a6cf_0050b66a8127level0_row158\" class=\"row_heading level0 row158\" >Zimbabwe</th>\n",
       "                        <td id=\"T_836ceaf4_9dd5_11ea_a6cf_0050b66a8127row158_col0\" class=\"data row158 col0\" >32</td>\n",
       "                        <td id=\"T_836ceaf4_9dd5_11ea_a6cf_0050b66a8127row158_col1\" class=\"data row158 col1\" >4</td>\n",
       "                        <td id=\"T_836ceaf4_9dd5_11ea_a6cf_0050b66a8127row158_col2\" class=\"data row158 col2\" >0</td>\n",
       "                        <td id=\"T_836ceaf4_9dd5_11ea_a6cf_0050b66a8127row158_col3\" class=\"data row158 col3\" >2020-04-28</td>\n",
       "                        <td id=\"T_836ceaf4_9dd5_11ea_a6cf_0050b66a8127row158_col4\" class=\"data row158 col4\" >12.500000</td>\n",
       "            </tr>\n",
       "            <tr>\n",
       "                        <th id=\"T_836ceaf4_9dd5_11ea_a6cf_0050b66a8127level0_row159\" class=\"row_heading level0 row159\" >Angola</th>\n",
       "                        <td id=\"T_836ceaf4_9dd5_11ea_a6cf_0050b66a8127row159_col0\" class=\"data row159 col0\" >27</td>\n",
       "                        <td id=\"T_836ceaf4_9dd5_11ea_a6cf_0050b66a8127row159_col1\" class=\"data row159 col1\" >2</td>\n",
       "                        <td id=\"T_836ceaf4_9dd5_11ea_a6cf_0050b66a8127row159_col2\" class=\"data row159 col2\" >0</td>\n",
       "                        <td id=\"T_836ceaf4_9dd5_11ea_a6cf_0050b66a8127row159_col3\" class=\"data row159 col3\" >2020-04-28</td>\n",
       "                        <td id=\"T_836ceaf4_9dd5_11ea_a6cf_0050b66a8127row159_col4\" class=\"data row159 col4\" >7.410000</td>\n",
       "            </tr>\n",
       "            <tr>\n",
       "                        <th id=\"T_836ceaf4_9dd5_11ea_a6cf_0050b66a8127level0_row160\" class=\"row_heading level0 row160\" >Antigua and Barbuda</th>\n",
       "                        <td id=\"T_836ceaf4_9dd5_11ea_a6cf_0050b66a8127row160_col0\" class=\"data row160 col0\" >24</td>\n",
       "                        <td id=\"T_836ceaf4_9dd5_11ea_a6cf_0050b66a8127row160_col1\" class=\"data row160 col1\" >3</td>\n",
       "                        <td id=\"T_836ceaf4_9dd5_11ea_a6cf_0050b66a8127row160_col2\" class=\"data row160 col2\" >0</td>\n",
       "                        <td id=\"T_836ceaf4_9dd5_11ea_a6cf_0050b66a8127row160_col3\" class=\"data row160 col3\" >2020-04-28</td>\n",
       "                        <td id=\"T_836ceaf4_9dd5_11ea_a6cf_0050b66a8127row160_col4\" class=\"data row160 col4\" >12.500000</td>\n",
       "            </tr>\n",
       "            <tr>\n",
       "                        <th id=\"T_836ceaf4_9dd5_11ea_a6cf_0050b66a8127level0_row161\" class=\"row_heading level0 row161\" >Timor-Leste</th>\n",
       "                        <td id=\"T_836ceaf4_9dd5_11ea_a6cf_0050b66a8127row161_col0\" class=\"data row161 col0\" >24</td>\n",
       "                        <td id=\"T_836ceaf4_9dd5_11ea_a6cf_0050b66a8127row161_col1\" class=\"data row161 col1\" >0</td>\n",
       "                        <td id=\"T_836ceaf4_9dd5_11ea_a6cf_0050b66a8127row161_col2\" class=\"data row161 col2\" >0</td>\n",
       "                        <td id=\"T_836ceaf4_9dd5_11ea_a6cf_0050b66a8127row161_col3\" class=\"data row161 col3\" >2020-04-28</td>\n",
       "                        <td id=\"T_836ceaf4_9dd5_11ea_a6cf_0050b66a8127row161_col4\" class=\"data row161 col4\" >0.000000</td>\n",
       "            </tr>\n",
       "            <tr>\n",
       "                        <th id=\"T_836ceaf4_9dd5_11ea_a6cf_0050b66a8127level0_row162\" class=\"row_heading level0 row162\" >Botswana</th>\n",
       "                        <td id=\"T_836ceaf4_9dd5_11ea_a6cf_0050b66a8127row162_col0\" class=\"data row162 col0\" >23</td>\n",
       "                        <td id=\"T_836ceaf4_9dd5_11ea_a6cf_0050b66a8127row162_col1\" class=\"data row162 col1\" >1</td>\n",
       "                        <td id=\"T_836ceaf4_9dd5_11ea_a6cf_0050b66a8127row162_col2\" class=\"data row162 col2\" >1</td>\n",
       "                        <td id=\"T_836ceaf4_9dd5_11ea_a6cf_0050b66a8127row162_col3\" class=\"data row162 col3\" >2020-04-28</td>\n",
       "                        <td id=\"T_836ceaf4_9dd5_11ea_a6cf_0050b66a8127row162_col4\" class=\"data row162 col4\" >4.350000</td>\n",
       "            </tr>\n",
       "            <tr>\n",
       "                        <th id=\"T_836ceaf4_9dd5_11ea_a6cf_0050b66a8127level0_row163\" class=\"row_heading level0 row163\" >Grenada</th>\n",
       "                        <td id=\"T_836ceaf4_9dd5_11ea_a6cf_0050b66a8127row163_col0\" class=\"data row163 col0\" >19</td>\n",
       "                        <td id=\"T_836ceaf4_9dd5_11ea_a6cf_0050b66a8127row163_col1\" class=\"data row163 col1\" >0</td>\n",
       "                        <td id=\"T_836ceaf4_9dd5_11ea_a6cf_0050b66a8127row163_col2\" class=\"data row163 col2\" >1</td>\n",
       "                        <td id=\"T_836ceaf4_9dd5_11ea_a6cf_0050b66a8127row163_col3\" class=\"data row163 col3\" >2020-04-28</td>\n",
       "                        <td id=\"T_836ceaf4_9dd5_11ea_a6cf_0050b66a8127row163_col4\" class=\"data row163 col4\" >0.000000</td>\n",
       "            </tr>\n",
       "            <tr>\n",
       "                        <th id=\"T_836ceaf4_9dd5_11ea_a6cf_0050b66a8127level0_row164\" class=\"row_heading level0 row164\" >Laos</th>\n",
       "                        <td id=\"T_836ceaf4_9dd5_11ea_a6cf_0050b66a8127row164_col0\" class=\"data row164 col0\" >19</td>\n",
       "                        <td id=\"T_836ceaf4_9dd5_11ea_a6cf_0050b66a8127row164_col1\" class=\"data row164 col1\" >0</td>\n",
       "                        <td id=\"T_836ceaf4_9dd5_11ea_a6cf_0050b66a8127row164_col2\" class=\"data row164 col2\" >0</td>\n",
       "                        <td id=\"T_836ceaf4_9dd5_11ea_a6cf_0050b66a8127row164_col3\" class=\"data row164 col3\" >2020-04-28</td>\n",
       "                        <td id=\"T_836ceaf4_9dd5_11ea_a6cf_0050b66a8127row164_col4\" class=\"data row164 col4\" >0.000000</td>\n",
       "            </tr>\n",
       "            <tr>\n",
       "                        <th id=\"T_836ceaf4_9dd5_11ea_a6cf_0050b66a8127level0_row165\" class=\"row_heading level0 row165\" >Fiji</th>\n",
       "                        <td id=\"T_836ceaf4_9dd5_11ea_a6cf_0050b66a8127row165_col0\" class=\"data row165 col0\" >18</td>\n",
       "                        <td id=\"T_836ceaf4_9dd5_11ea_a6cf_0050b66a8127row165_col1\" class=\"data row165 col1\" >0</td>\n",
       "                        <td id=\"T_836ceaf4_9dd5_11ea_a6cf_0050b66a8127row165_col2\" class=\"data row165 col2\" >0</td>\n",
       "                        <td id=\"T_836ceaf4_9dd5_11ea_a6cf_0050b66a8127row165_col3\" class=\"data row165 col3\" >2020-04-28</td>\n",
       "                        <td id=\"T_836ceaf4_9dd5_11ea_a6cf_0050b66a8127row165_col4\" class=\"data row165 col4\" >0.000000</td>\n",
       "            </tr>\n",
       "            <tr>\n",
       "                        <th id=\"T_836ceaf4_9dd5_11ea_a6cf_0050b66a8127level0_row166\" class=\"row_heading level0 row166\" >Belize</th>\n",
       "                        <td id=\"T_836ceaf4_9dd5_11ea_a6cf_0050b66a8127row166_col0\" class=\"data row166 col0\" >18</td>\n",
       "                        <td id=\"T_836ceaf4_9dd5_11ea_a6cf_0050b66a8127row166_col1\" class=\"data row166 col1\" >2</td>\n",
       "                        <td id=\"T_836ceaf4_9dd5_11ea_a6cf_0050b66a8127row166_col2\" class=\"data row166 col2\" >0</td>\n",
       "                        <td id=\"T_836ceaf4_9dd5_11ea_a6cf_0050b66a8127row166_col3\" class=\"data row166 col3\" >2020-04-28</td>\n",
       "                        <td id=\"T_836ceaf4_9dd5_11ea_a6cf_0050b66a8127row166_col4\" class=\"data row166 col4\" >11.110000</td>\n",
       "            </tr>\n",
       "            <tr>\n",
       "                        <th id=\"T_836ceaf4_9dd5_11ea_a6cf_0050b66a8127level0_row167\" class=\"row_heading level0 row167\" >Dominica</th>\n",
       "                        <td id=\"T_836ceaf4_9dd5_11ea_a6cf_0050b66a8127row167_col0\" class=\"data row167 col0\" >16</td>\n",
       "                        <td id=\"T_836ceaf4_9dd5_11ea_a6cf_0050b66a8127row167_col1\" class=\"data row167 col1\" >0</td>\n",
       "                        <td id=\"T_836ceaf4_9dd5_11ea_a6cf_0050b66a8127row167_col2\" class=\"data row167 col2\" >0</td>\n",
       "                        <td id=\"T_836ceaf4_9dd5_11ea_a6cf_0050b66a8127row167_col3\" class=\"data row167 col3\" >2020-04-28</td>\n",
       "                        <td id=\"T_836ceaf4_9dd5_11ea_a6cf_0050b66a8127row167_col4\" class=\"data row167 col4\" >0.000000</td>\n",
       "            </tr>\n",
       "            <tr>\n",
       "                        <th id=\"T_836ceaf4_9dd5_11ea_a6cf_0050b66a8127level0_row168\" class=\"row_heading level0 row168\" >Namibia</th>\n",
       "                        <td id=\"T_836ceaf4_9dd5_11ea_a6cf_0050b66a8127row168_col0\" class=\"data row168 col0\" >16</td>\n",
       "                        <td id=\"T_836ceaf4_9dd5_11ea_a6cf_0050b66a8127row168_col1\" class=\"data row168 col1\" >0</td>\n",
       "                        <td id=\"T_836ceaf4_9dd5_11ea_a6cf_0050b66a8127row168_col2\" class=\"data row168 col2\" >0</td>\n",
       "                        <td id=\"T_836ceaf4_9dd5_11ea_a6cf_0050b66a8127row168_col3\" class=\"data row168 col3\" >2020-04-28</td>\n",
       "                        <td id=\"T_836ceaf4_9dd5_11ea_a6cf_0050b66a8127row168_col4\" class=\"data row168 col4\" >0.000000</td>\n",
       "            </tr>\n",
       "            <tr>\n",
       "                        <th id=\"T_836ceaf4_9dd5_11ea_a6cf_0050b66a8127level0_row169\" class=\"row_heading level0 row169\" >Saint Kitts and Nevis</th>\n",
       "                        <td id=\"T_836ceaf4_9dd5_11ea_a6cf_0050b66a8127row169_col0\" class=\"data row169 col0\" >15</td>\n",
       "                        <td id=\"T_836ceaf4_9dd5_11ea_a6cf_0050b66a8127row169_col1\" class=\"data row169 col1\" >0</td>\n",
       "                        <td id=\"T_836ceaf4_9dd5_11ea_a6cf_0050b66a8127row169_col2\" class=\"data row169 col2\" >0</td>\n",
       "                        <td id=\"T_836ceaf4_9dd5_11ea_a6cf_0050b66a8127row169_col3\" class=\"data row169 col3\" >2020-04-28</td>\n",
       "                        <td id=\"T_836ceaf4_9dd5_11ea_a6cf_0050b66a8127row169_col4\" class=\"data row169 col4\" >0.000000</td>\n",
       "            </tr>\n",
       "            <tr>\n",
       "                        <th id=\"T_836ceaf4_9dd5_11ea_a6cf_0050b66a8127level0_row170\" class=\"row_heading level0 row170\" >Saint Lucia</th>\n",
       "                        <td id=\"T_836ceaf4_9dd5_11ea_a6cf_0050b66a8127row170_col0\" class=\"data row170 col0\" >15</td>\n",
       "                        <td id=\"T_836ceaf4_9dd5_11ea_a6cf_0050b66a8127row170_col1\" class=\"data row170 col1\" >0</td>\n",
       "                        <td id=\"T_836ceaf4_9dd5_11ea_a6cf_0050b66a8127row170_col2\" class=\"data row170 col2\" >0</td>\n",
       "                        <td id=\"T_836ceaf4_9dd5_11ea_a6cf_0050b66a8127row170_col3\" class=\"data row170 col3\" >2020-04-28</td>\n",
       "                        <td id=\"T_836ceaf4_9dd5_11ea_a6cf_0050b66a8127row170_col4\" class=\"data row170 col4\" >0.000000</td>\n",
       "            </tr>\n",
       "            <tr>\n",
       "                        <th id=\"T_836ceaf4_9dd5_11ea_a6cf_0050b66a8127level0_row171\" class=\"row_heading level0 row171\" >Saint Vincent and the Grenadines</th>\n",
       "                        <td id=\"T_836ceaf4_9dd5_11ea_a6cf_0050b66a8127row171_col0\" class=\"data row171 col0\" >15</td>\n",
       "                        <td id=\"T_836ceaf4_9dd5_11ea_a6cf_0050b66a8127row171_col1\" class=\"data row171 col1\" >0</td>\n",
       "                        <td id=\"T_836ceaf4_9dd5_11ea_a6cf_0050b66a8127row171_col2\" class=\"data row171 col2\" >0</td>\n",
       "                        <td id=\"T_836ceaf4_9dd5_11ea_a6cf_0050b66a8127row171_col3\" class=\"data row171 col3\" >2020-04-28</td>\n",
       "                        <td id=\"T_836ceaf4_9dd5_11ea_a6cf_0050b66a8127row171_col4\" class=\"data row171 col4\" >0.000000</td>\n",
       "            </tr>\n",
       "            <tr>\n",
       "                        <th id=\"T_836ceaf4_9dd5_11ea_a6cf_0050b66a8127level0_row172\" class=\"row_heading level0 row172\" >Nicaragua</th>\n",
       "                        <td id=\"T_836ceaf4_9dd5_11ea_a6cf_0050b66a8127row172_col0\" class=\"data row172 col0\" >13</td>\n",
       "                        <td id=\"T_836ceaf4_9dd5_11ea_a6cf_0050b66a8127row172_col1\" class=\"data row172 col1\" >3</td>\n",
       "                        <td id=\"T_836ceaf4_9dd5_11ea_a6cf_0050b66a8127row172_col2\" class=\"data row172 col2\" >0</td>\n",
       "                        <td id=\"T_836ceaf4_9dd5_11ea_a6cf_0050b66a8127row172_col3\" class=\"data row172 col3\" >2020-04-28</td>\n",
       "                        <td id=\"T_836ceaf4_9dd5_11ea_a6cf_0050b66a8127row172_col4\" class=\"data row172 col4\" >23.080000</td>\n",
       "            </tr>\n",
       "            <tr>\n",
       "                        <th id=\"T_836ceaf4_9dd5_11ea_a6cf_0050b66a8127level0_row173\" class=\"row_heading level0 row173\" >Burundi</th>\n",
       "                        <td id=\"T_836ceaf4_9dd5_11ea_a6cf_0050b66a8127row173_col0\" class=\"data row173 col0\" >11</td>\n",
       "                        <td id=\"T_836ceaf4_9dd5_11ea_a6cf_0050b66a8127row173_col1\" class=\"data row173 col1\" >1</td>\n",
       "                        <td id=\"T_836ceaf4_9dd5_11ea_a6cf_0050b66a8127row173_col2\" class=\"data row173 col2\" >0</td>\n",
       "                        <td id=\"T_836ceaf4_9dd5_11ea_a6cf_0050b66a8127row173_col3\" class=\"data row173 col3\" >2020-04-28</td>\n",
       "                        <td id=\"T_836ceaf4_9dd5_11ea_a6cf_0050b66a8127row173_col4\" class=\"data row173 col4\" >9.090000</td>\n",
       "            </tr>\n",
       "            <tr>\n",
       "                        <th id=\"T_836ceaf4_9dd5_11ea_a6cf_0050b66a8127level0_row174\" class=\"row_heading level0 row174\" >Seychelles</th>\n",
       "                        <td id=\"T_836ceaf4_9dd5_11ea_a6cf_0050b66a8127row174_col0\" class=\"data row174 col0\" >11</td>\n",
       "                        <td id=\"T_836ceaf4_9dd5_11ea_a6cf_0050b66a8127row174_col1\" class=\"data row174 col1\" >0</td>\n",
       "                        <td id=\"T_836ceaf4_9dd5_11ea_a6cf_0050b66a8127row174_col2\" class=\"data row174 col2\" >0</td>\n",
       "                        <td id=\"T_836ceaf4_9dd5_11ea_a6cf_0050b66a8127row174_col3\" class=\"data row174 col3\" >2020-04-28</td>\n",
       "                        <td id=\"T_836ceaf4_9dd5_11ea_a6cf_0050b66a8127row174_col4\" class=\"data row174 col4\" >0.000000</td>\n",
       "            </tr>\n",
       "            <tr>\n",
       "                        <th id=\"T_836ceaf4_9dd5_11ea_a6cf_0050b66a8127level0_row175\" class=\"row_heading level0 row175\" >Gambia</th>\n",
       "                        <td id=\"T_836ceaf4_9dd5_11ea_a6cf_0050b66a8127row175_col0\" class=\"data row175 col0\" >10</td>\n",
       "                        <td id=\"T_836ceaf4_9dd5_11ea_a6cf_0050b66a8127row175_col1\" class=\"data row175 col1\" >1</td>\n",
       "                        <td id=\"T_836ceaf4_9dd5_11ea_a6cf_0050b66a8127row175_col2\" class=\"data row175 col2\" >0</td>\n",
       "                        <td id=\"T_836ceaf4_9dd5_11ea_a6cf_0050b66a8127row175_col3\" class=\"data row175 col3\" >2020-04-28</td>\n",
       "                        <td id=\"T_836ceaf4_9dd5_11ea_a6cf_0050b66a8127row175_col4\" class=\"data row175 col4\" >10.000000</td>\n",
       "            </tr>\n",
       "            <tr>\n",
       "                        <th id=\"T_836ceaf4_9dd5_11ea_a6cf_0050b66a8127level0_row176\" class=\"row_heading level0 row176\" >Holy See</th>\n",
       "                        <td id=\"T_836ceaf4_9dd5_11ea_a6cf_0050b66a8127row176_col0\" class=\"data row176 col0\" >10</td>\n",
       "                        <td id=\"T_836ceaf4_9dd5_11ea_a6cf_0050b66a8127row176_col1\" class=\"data row176 col1\" >0</td>\n",
       "                        <td id=\"T_836ceaf4_9dd5_11ea_a6cf_0050b66a8127row176_col2\" class=\"data row176 col2\" >1</td>\n",
       "                        <td id=\"T_836ceaf4_9dd5_11ea_a6cf_0050b66a8127row176_col3\" class=\"data row176 col3\" >2020-04-28</td>\n",
       "                        <td id=\"T_836ceaf4_9dd5_11ea_a6cf_0050b66a8127row176_col4\" class=\"data row176 col4\" >0.000000</td>\n",
       "            </tr>\n",
       "            <tr>\n",
       "                        <th id=\"T_836ceaf4_9dd5_11ea_a6cf_0050b66a8127level0_row177\" class=\"row_heading level0 row177\" >Suriname</th>\n",
       "                        <td id=\"T_836ceaf4_9dd5_11ea_a6cf_0050b66a8127row177_col0\" class=\"data row177 col0\" >10</td>\n",
       "                        <td id=\"T_836ceaf4_9dd5_11ea_a6cf_0050b66a8127row177_col1\" class=\"data row177 col1\" >1</td>\n",
       "                        <td id=\"T_836ceaf4_9dd5_11ea_a6cf_0050b66a8127row177_col2\" class=\"data row177 col2\" >0</td>\n",
       "                        <td id=\"T_836ceaf4_9dd5_11ea_a6cf_0050b66a8127row177_col3\" class=\"data row177 col3\" >2020-04-28</td>\n",
       "                        <td id=\"T_836ceaf4_9dd5_11ea_a6cf_0050b66a8127row177_col4\" class=\"data row177 col4\" >10.000000</td>\n",
       "            </tr>\n",
       "            <tr>\n",
       "                        <th id=\"T_836ceaf4_9dd5_11ea_a6cf_0050b66a8127level0_row178\" class=\"row_heading level0 row178\" >MS Zaandam</th>\n",
       "                        <td id=\"T_836ceaf4_9dd5_11ea_a6cf_0050b66a8127row178_col0\" class=\"data row178 col0\" >9</td>\n",
       "                        <td id=\"T_836ceaf4_9dd5_11ea_a6cf_0050b66a8127row178_col1\" class=\"data row178 col1\" >2</td>\n",
       "                        <td id=\"T_836ceaf4_9dd5_11ea_a6cf_0050b66a8127row178_col2\" class=\"data row178 col2\" >0</td>\n",
       "                        <td id=\"T_836ceaf4_9dd5_11ea_a6cf_0050b66a8127row178_col3\" class=\"data row178 col3\" >2020-04-28</td>\n",
       "                        <td id=\"T_836ceaf4_9dd5_11ea_a6cf_0050b66a8127row178_col4\" class=\"data row178 col4\" >22.220000</td>\n",
       "            </tr>\n",
       "            <tr>\n",
       "                        <th id=\"T_836ceaf4_9dd5_11ea_a6cf_0050b66a8127level0_row179\" class=\"row_heading level0 row179\" >Papua New Guinea</th>\n",
       "                        <td id=\"T_836ceaf4_9dd5_11ea_a6cf_0050b66a8127row179_col0\" class=\"data row179 col0\" >8</td>\n",
       "                        <td id=\"T_836ceaf4_9dd5_11ea_a6cf_0050b66a8127row179_col1\" class=\"data row179 col1\" >0</td>\n",
       "                        <td id=\"T_836ceaf4_9dd5_11ea_a6cf_0050b66a8127row179_col2\" class=\"data row179 col2\" >0</td>\n",
       "                        <td id=\"T_836ceaf4_9dd5_11ea_a6cf_0050b66a8127row179_col3\" class=\"data row179 col3\" >2020-04-28</td>\n",
       "                        <td id=\"T_836ceaf4_9dd5_11ea_a6cf_0050b66a8127row179_col4\" class=\"data row179 col4\" >0.000000</td>\n",
       "            </tr>\n",
       "            <tr>\n",
       "                        <th id=\"T_836ceaf4_9dd5_11ea_a6cf_0050b66a8127level0_row180\" class=\"row_heading level0 row180\" >Sao Tome and Principe</th>\n",
       "                        <td id=\"T_836ceaf4_9dd5_11ea_a6cf_0050b66a8127row180_col0\" class=\"data row180 col0\" >8</td>\n",
       "                        <td id=\"T_836ceaf4_9dd5_11ea_a6cf_0050b66a8127row180_col1\" class=\"data row180 col1\" >0</td>\n",
       "                        <td id=\"T_836ceaf4_9dd5_11ea_a6cf_0050b66a8127row180_col2\" class=\"data row180 col2\" >4</td>\n",
       "                        <td id=\"T_836ceaf4_9dd5_11ea_a6cf_0050b66a8127row180_col3\" class=\"data row180 col3\" >2020-04-28</td>\n",
       "                        <td id=\"T_836ceaf4_9dd5_11ea_a6cf_0050b66a8127row180_col4\" class=\"data row180 col4\" >0.000000</td>\n",
       "            </tr>\n",
       "            <tr>\n",
       "                        <th id=\"T_836ceaf4_9dd5_11ea_a6cf_0050b66a8127level0_row181\" class=\"row_heading level0 row181\" >Bhutan</th>\n",
       "                        <td id=\"T_836ceaf4_9dd5_11ea_a6cf_0050b66a8127row181_col0\" class=\"data row181 col0\" >7</td>\n",
       "                        <td id=\"T_836ceaf4_9dd5_11ea_a6cf_0050b66a8127row181_col1\" class=\"data row181 col1\" >0</td>\n",
       "                        <td id=\"T_836ceaf4_9dd5_11ea_a6cf_0050b66a8127row181_col2\" class=\"data row181 col2\" >0</td>\n",
       "                        <td id=\"T_836ceaf4_9dd5_11ea_a6cf_0050b66a8127row181_col3\" class=\"data row181 col3\" >2020-04-28</td>\n",
       "                        <td id=\"T_836ceaf4_9dd5_11ea_a6cf_0050b66a8127row181_col4\" class=\"data row181 col4\" >0.000000</td>\n",
       "            </tr>\n",
       "            <tr>\n",
       "                        <th id=\"T_836ceaf4_9dd5_11ea_a6cf_0050b66a8127level0_row182\" class=\"row_heading level0 row182\" >Mauritania</th>\n",
       "                        <td id=\"T_836ceaf4_9dd5_11ea_a6cf_0050b66a8127row182_col0\" class=\"data row182 col0\" >7</td>\n",
       "                        <td id=\"T_836ceaf4_9dd5_11ea_a6cf_0050b66a8127row182_col1\" class=\"data row182 col1\" >1</td>\n",
       "                        <td id=\"T_836ceaf4_9dd5_11ea_a6cf_0050b66a8127row182_col2\" class=\"data row182 col2\" >0</td>\n",
       "                        <td id=\"T_836ceaf4_9dd5_11ea_a6cf_0050b66a8127row182_col3\" class=\"data row182 col3\" >2020-04-28</td>\n",
       "                        <td id=\"T_836ceaf4_9dd5_11ea_a6cf_0050b66a8127row182_col4\" class=\"data row182 col4\" >14.290000</td>\n",
       "            </tr>\n",
       "            <tr>\n",
       "                        <th id=\"T_836ceaf4_9dd5_11ea_a6cf_0050b66a8127level0_row183\" class=\"row_heading level0 row183\" >Western Sahara</th>\n",
       "                        <td id=\"T_836ceaf4_9dd5_11ea_a6cf_0050b66a8127row183_col0\" class=\"data row183 col0\" >6</td>\n",
       "                        <td id=\"T_836ceaf4_9dd5_11ea_a6cf_0050b66a8127row183_col1\" class=\"data row183 col1\" >0</td>\n",
       "                        <td id=\"T_836ceaf4_9dd5_11ea_a6cf_0050b66a8127row183_col2\" class=\"data row183 col2\" >0</td>\n",
       "                        <td id=\"T_836ceaf4_9dd5_11ea_a6cf_0050b66a8127row183_col3\" class=\"data row183 col3\" >2020-04-28</td>\n",
       "                        <td id=\"T_836ceaf4_9dd5_11ea_a6cf_0050b66a8127row183_col4\" class=\"data row183 col4\" >0.000000</td>\n",
       "            </tr>\n",
       "            <tr>\n",
       "                        <th id=\"T_836ceaf4_9dd5_11ea_a6cf_0050b66a8127level0_row184\" class=\"row_heading level0 row184\" >Yemen</th>\n",
       "                        <td id=\"T_836ceaf4_9dd5_11ea_a6cf_0050b66a8127row184_col0\" class=\"data row184 col0\" >1</td>\n",
       "                        <td id=\"T_836ceaf4_9dd5_11ea_a6cf_0050b66a8127row184_col1\" class=\"data row184 col1\" >0</td>\n",
       "                        <td id=\"T_836ceaf4_9dd5_11ea_a6cf_0050b66a8127row184_col2\" class=\"data row184 col2\" >0</td>\n",
       "                        <td id=\"T_836ceaf4_9dd5_11ea_a6cf_0050b66a8127row184_col3\" class=\"data row184 col3\" >2020-04-28</td>\n",
       "                        <td id=\"T_836ceaf4_9dd5_11ea_a6cf_0050b66a8127row184_col4\" class=\"data row184 col4\" >0.000000</td>\n",
       "            </tr>\n",
       "    </tbody></table>"
      ],
      "text/plain": [
       "<pandas.io.formats.style.Styler at 0x22a988d6e08>"
      ]
     },
     "execution_count": 11,
     "metadata": {},
     "output_type": "execute_result"
    }
   ],
   "source": [
    "#creating a new column for the mortality rate\n",
    "latest_cases[\"mortality_rate\"] = np.round(100*latest_cases[\"deaths\"]/latest_cases[\"confirmed\"],2)\n",
    "latest_cases.sort_values('confirmed', ascending= False).style.background_gradient(cmap='Blues',subset=[\"confirmed\"])\\\n",
    "                        .background_gradient(cmap='Reds',subset=[\"deaths\"])\\\n",
    "                        .background_gradient(cmap='Purples',subset=[\"delta_confirmed\"])\\\n",
    "                        .background_gradient(cmap='YlOrBr',subset=[\"mortality_rate\"])"
   ]
  },
  {
   "cell_type": "code",
   "execution_count": 12,
   "metadata": {},
   "outputs": [
    {
     "data": {
      "image/png": "[encoded data removed]",
      "text/plain": [
       "<Figure size 720x360 with 1 Axes>"
      ]
     },
     "metadata": {
      "needs_background": "light"
     },
     "output_type": "display_data"
    }
   ],
   "source": [
    "f = plt.figure(figsize=(10,5))\n",
    "f.add_subplot(111)\n",
    "\n",
    "plt.axes(axisbelow=True)\n",
    "plt.barh(latest_cases.sort_values('confirmed')['confirmed'].index[-10:],latest_cases.sort_values('confirmed')[\"confirmed\"].values[-10:],color=\"darkcyan\")\n",
    "plt.tick_params(size=5,labelsize = 13)\n",
    "plt.xlabel(\"Confirmed Cases\",fontsize=18)\n",
    "plt.title(\"Top 10 Countries (Confirmed Cases on \" + max_date + \")\",fontsize=20)\n",
    "plt.grid(alpha=0.3)"
   ]
  },
  {
   "cell_type": "code",
   "execution_count": 13,
   "metadata": {},
   "outputs": [
    {
     "data": {
      "image/png": "[encoded data removed]",
      "text/plain": [
       "<Figure size 432x288 with 1 Axes>"
      ]
     },
     "metadata": {
      "needs_background": "light"
     },
     "output_type": "display_data"
    }
   ],
   "source": [
    "plt.axes(axisbelow=True)\n",
    "plt.barh(latest_cases.sort_values('deaths')['deaths'].index[-10:],latest_cases.sort_values('deaths')[\"deaths\"].values[-10:],color=\"red\")\n",
    "plt.tick_params(size=5,labelsize = 13)\n",
    "plt.xlabel(\"Confirmed Deaths\",fontsize=18)\n",
    "plt.title(\"Top 10 Countries (Confirmed Deaths on \" + max_date + \")\",fontsize=20)\n",
    "plt.grid(alpha=0.3)"
   ]
  },
  {
   "cell_type": "code",
   "execution_count": 20,
   "metadata": {},
   "outputs": [
    {
     "data": {
      "application/vnd.plotly.v1+json": {
       "config": {
        "plotlyServerURL": "https://plot.ly"
       },
       "data": [
        {
         "coloraxis": "coloraxis",
         "customdata": [
          [
           1828
          ],
          [
           750
          ],
          [
           3649
          ],
          [
           743
          ],
          [
           27
          ],
          [
           24
          ],
          [
           4127
          ],
          [
           1867
          ],
          [
           6744
          ],
          [
           15357
          ],
          [
           1717
          ],
          [
           80
          ],
          [
           2811
          ],
          [
           6462
          ],
          [
           80
          ],
          [
           12208
          ],
          [
           47334
          ],
          [
           18
          ],
          [
           64
          ],
          [
           7
          ],
          [
           1014
          ],
          [
           1585
          ],
          [
           23
          ],
          [
           73235
          ],
          [
           138
          ],
          [
           1399
          ],
          [
           638
          ],
          [
           150
          ],
          [
           11
          ],
          [
           114
          ],
          [
           122
          ],
          [
           1705
          ],
          [
           51150
          ],
          [
           50
          ],
          [
           52
          ],
          [
           14365
          ],
          [
           83940
          ],
          [
           5949
          ],
          [
           207
          ],
          [
           471
          ],
          [
           705
          ],
          [
           1183
          ],
          [
           2047
          ],
          [
           1437
          ],
          [
           837
          ],
          [
           7504
          ],
          [
           9049
          ],
          [
           712
          ],
          [
           1072
          ],
          [
           16
          ],
          [
           6416
          ],
          [
           24258
          ],
          [
           5042
          ],
          [
           345
          ],
          [
           315
          ],
          [
           39
          ],
          [
           1660
          ],
          [
           71
          ],
          [
           126
          ],
          [
           18
          ],
          [
           4740
          ],
          [
           169053
          ],
          [
           238
          ],
          [
           10
          ],
          [
           511
          ],
          [
           159912
          ],
          [
           1671
          ],
          [
           2566
          ],
          [
           19
          ],
          [
           530
          ],
          [
           1240
          ],
          [
           73
          ],
          [
           74
          ],
          [
           76
          ],
          [
           10
          ],
          [
           702
          ],
          [
           2649
          ],
          [
           1795
          ],
          [
           31324
          ],
          [
           9511
          ],
          [
           92584
          ],
          [
           1928
          ],
          [
           19877
          ],
          [
           15728
          ],
          [
           201505
          ],
          [
           364
          ],
          [
           13736
          ],
          [
           449
          ],
          [
           3027
          ],
          [
           374
          ],
          [
           10761
          ],
          [
           510
          ],
          [
           3440
          ],
          [
           708
          ],
          [
           19
          ],
          [
           836
          ],
          [
           717
          ],
          [
           141
          ],
          [
           61
          ],
          [
           82
          ],
          [
           1344
          ],
          [
           3741
          ],
          [
           9
          ],
          [
           128
          ],
          [
           36
          ],
          [
           5851
          ],
          [
           250
          ],
          [
           424
          ],
          [
           458
          ],
          [
           7
          ],
          [
           334
          ],
          [
           16752
          ],
          [
           3638
          ],
          [
           95
          ],
          [
           38
          ],
          [
           321
          ],
          [
           4252
          ],
          [
           76
          ],
          [
           16
          ],
          [
           54
          ],
          [
           38612
          ],
          [
           1474
          ],
          [
           13
          ],
          [
           709
          ],
          [
           1532
          ],
          [
           1421
          ],
          [
           7660
          ],
          [
           2131
          ],
          [
           14612
          ],
          [
           6021
          ],
          [
           8
          ],
          [
           239
          ],
          [
           31190
          ],
          [
           7958
          ],
          [
           12218
          ],
          [
           24322
          ],
          [
           11921
          ],
          [
           11616
          ],
          [
           93558
          ],
          [
           212
          ],
          [
           15
          ],
          [
           15
          ],
          [
           15
          ],
          [
           553
          ],
          [
           8
          ],
          [
           20077
          ],
          [
           823
          ],
          [
           6630
          ],
          [
           11
          ],
          [
           104
          ],
          [
           14951
          ],
          [
           1384
          ],
          [
           1408
          ],
          [
           528
          ],
          [
           4996
          ],
          [
           34
          ],
          [
           232128
          ],
          [
           619
          ],
          [
           318
          ],
          [
           10
          ],
          [
           19621
          ],
          [
           29264
          ],
          [
           43
          ],
          [
           429
          ],
          [
           299
          ],
          [
           2938
          ],
          [
           24
          ],
          [
           99
          ],
          [
           116
          ],
          [
           975
          ],
          [
           114653
          ],
          [
           2025164
          ],
          [
           79
          ],
          [
           9410
          ],
          [
           11380
          ],
          [
           162350
          ],
          [
           625
          ],
          [
           1939
          ],
          [
           329
          ],
          [
           270
          ],
          [
           343
          ],
          [
           6
          ],
          [
           1
          ],
          [
           95
          ],
          [
           32
          ]
         ],
         "geo": "geo",
         "hovertemplate": "<b>%{hovertext}</b><br><br>confirmed=%{customdata[0]}<br>country=%{location}<br>color=%{z}<extra></extra>",
         "hovertext": [
          "Afghanistan",
          "Albania",
          "Algeria",
          "Andorra",
          "Angola",
          "Antigua and Barbuda",
          "Argentina",
          "Armenia",
          "Australia",
          "Austria",
          "Azerbaijan",
          "Bahamas",
          "Bahrain",
          "Bangladesh",
          "Barbados",
          "Belarus",
          "Belgium",
          "Belize",
          "Benin",
          "Bhutan",
          "Bolivia",
          "Bosnia and Herzegovina",
          "Botswana",
          "Brazil",
          "Brunei",
          "Bulgaria",
          "Burkina Faso",
          "Burma",
          "Burundi",
          "Cabo Verde",
          "Cambodia",
          "Cameroon",
          "Canada",
          "Central African Republic",
          "Chad",
          "Chile",
          "China",
          "Colombia",
          "Congo (Brazzaville)",
          "Congo (Kinshasa)",
          "Costa Rica",
          "Cote d'Ivoire",
          "Croatia",
          "Cuba",
          "Cyprus",
          "Czechia",
          "Denmark",
          "Diamond Princess",
          "Djibouti",
          "Dominica",
          "Dominican Republic",
          "Ecuador",
          "Egypt",
          "El Salvador",
          "Equatorial Guinea",
          "Eritrea",
          "Estonia",
          "Eswatini",
          "Ethiopia",
          "Fiji",
          "Finland",
          "France",
          "Gabon",
          "Gambia",
          "Georgia",
          "Germany",
          "Ghana",
          "Greece",
          "Grenada",
          "Guatemala",
          "Guinea",
          "Guinea-Bissau",
          "Guyana",
          "Haiti",
          "Holy See",
          "Honduras",
          "Hungary",
          "Iceland",
          "India",
          "Indonesia",
          "Iran",
          "Iraq",
          "Ireland",
          "Israel",
          "Italy",
          "Jamaica",
          "Japan",
          "Jordan",
          "Kazakhstan",
          "Kenya",
          "Korea, South",
          "Kosovo",
          "Kuwait",
          "Kyrgyzstan",
          "Laos",
          "Latvia",
          "Lebanon",
          "Liberia",
          "Libya",
          "Liechtenstein",
          "Lithuania",
          "Luxembourg",
          "MS Zaandam",
          "Madagascar",
          "Malawi",
          "Malaysia",
          "Maldives",
          "Mali",
          "Malta",
          "Mauritania",
          "Mauritius",
          "Mexico",
          "Moldova",
          "Monaco",
          "Mongolia",
          "Montenegro",
          "Morocco",
          "Mozambique",
          "Namibia",
          "Nepal",
          "Netherlands",
          "New Zealand",
          "Nicaragua",
          "Niger",
          "Nigeria",
          "North Macedonia",
          "Norway",
          "Oman",
          "Pakistan",
          "Panama",
          "Papua New Guinea",
          "Paraguay",
          "Peru",
          "Philippines",
          "Poland",
          "Portugal",
          "Qatar",
          "Romania",
          "Russia",
          "Rwanda",
          "Saint Kitts and Nevis",
          "Saint Lucia",
          "Saint Vincent and the Grenadines",
          "San Marino",
          "Sao Tome and Principe",
          "Saudi Arabia",
          "Senegal",
          "Serbia",
          "Seychelles",
          "Sierra Leone",
          "Singapore",
          "Slovakia",
          "Slovenia",
          "Somalia",
          "South Africa",
          "South Sudan",
          "Spain",
          "Sri Lanka",
          "Sudan",
          "Suriname",
          "Sweden",
          "Switzerland",
          "Syria",
          "Taiwan*",
          "Tanzania",
          "Thailand",
          "Timor-Leste",
          "Togo",
          "Trinidad and Tobago",
          "Tunisia",
          "Turkey",
          "USA",
          "Uganda",
          "Ukraine",
          "United Arab Emirates",
          "United Kingdom",
          "Uruguay",
          "Uzbekistan",
          "Venezuela",
          "Vietnam",
          "West Bank and Gaza",
          "Western Sahara",
          "Yemen",
          "Zambia",
          "Zimbabwe"
         ],
         "locationmode": "country names",
         "locations": [
          "Afghanistan",
          "Albania",
          "Algeria",
          "Andorra",
          "Angola",
          "Antigua and Barbuda",
          "Argentina",
          "Armenia",
          "Australia",
          "Austria",
          "Azerbaijan",
          "Bahamas",
          "Bahrain",
          "Bangladesh",
          "Barbados",
          "Belarus",
          "Belgium",
          "Belize",
          "Benin",
          "Bhutan",
          "Bolivia",
          "Bosnia and Herzegovina",
          "Botswana",
          "Brazil",
          "Brunei",
          "Bulgaria",
          "Burkina Faso",
          "Burma",
          "Burundi",
          "Cabo Verde",
          "Cambodia",
          "Cameroon",
          "Canada",
          "Central African Republic",
          "Chad",
          "Chile",
          "China",
          "Colombia",
          "Congo (Brazzaville)",
          "Congo (Kinshasa)",
          "Costa Rica",
          "Cote d'Ivoire",
          "Croatia",
          "Cuba",
          "Cyprus",
          "Czechia",
          "Denmark",
          "Diamond Princess",
          "Djibouti",
          "Dominica",
          "Dominican Republic",
          "Ecuador",
          "Egypt",
          "El Salvador",
          "Equatorial Guinea",
          "Eritrea",
          "Estonia",
          "Eswatini",
          "Ethiopia",
          "Fiji",
          "Finland",
          "France",
          "Gabon",
          "Gambia",
          "Georgia",
          "Germany",
          "Ghana",
          "Greece",
          "Grenada",
          "Guatemala",
          "Guinea",
          "Guinea-Bissau",
          "Guyana",
          "Haiti",
          "Holy See",
          "Honduras",
          "Hungary",
          "Iceland",
          "India",
          "Indonesia",
          "Iran",
          "Iraq",
          "Ireland",
          "Israel",
          "Italy",
          "Jamaica",
          "Japan",
          "Jordan",
          "Kazakhstan",
          "Kenya",
          "Korea, South",
          "Kosovo",
          "Kuwait",
          "Kyrgyzstan",
          "Laos",
          "Latvia",
          "Lebanon",
          "Liberia",
          "Libya",
          "Liechtenstein",
          "Lithuania",
          "Luxembourg",
          "MS Zaandam",
          "Madagascar",
          "Malawi",
          "Malaysia",
          "Maldives",
          "Mali",
          "Malta",
          "Mauritania",
          "Mauritius",
          "Mexico",
          "Moldova",
          "Monaco",
          "Mongolia",
          "Montenegro",
          "Morocco",
          "Mozambique",
          "Namibia",
          "Nepal",
          "Netherlands",
          "New Zealand",
          "Nicaragua",
          "Niger",
          "Nigeria",
          "North Macedonia",
          "Norway",
          "Oman",
          "Pakistan",
          "Panama",
          "Papua New Guinea",
          "Paraguay",
          "Peru",
          "Philippines",
          "Poland",
          "Portugal",
          "Qatar",
          "Romania",
          "Russia",
          "Rwanda",
          "Saint Kitts and Nevis",
          "Saint Lucia",
          "Saint Vincent and the Grenadines",
          "San Marino",
          "Sao Tome and Principe",
          "Saudi Arabia",
          "Senegal",
          "Serbia",
          "Seychelles",
          "Sierra Leone",
          "Singapore",
          "Slovakia",
          "Slovenia",
          "Somalia",
          "South Africa",
          "South Sudan",
          "Spain",
          "Sri Lanka",
          "Sudan",
          "Suriname",
          "Sweden",
          "Switzerland",
          "Syria",
          "Taiwan*",
          "Tanzania",
          "Thailand",
          "Timor-Leste",
          "Togo",
          "Trinidad and Tobago",
          "Tunisia",
          "Turkey",
          "USA",
          "Uganda",
          "Ukraine",
          "United Arab Emirates",
          "United Kingdom",
          "Uruguay",
          "Uzbekistan",
          "Venezuela",
          "Vietnam",
          "West Bank and Gaza",
          "Western Sahara",
          "Yemen",
          "Zambia",
          "Zimbabwe"
         ],
         "name": "",
         "type": "choropleth",
         "z": [
          3.2619761913978125,
          2.8750612633917,
          3.5621738633646483,
          2.8709888137605755,
          1.4313637641589874,
          1.380211241711606,
          3.615634468877416,
          3.2711443179490782,
          3.8289175616166857,
          4.1863063842699075,
          3.2347702951609163,
          1.9030899869919435,
          3.4488608456074408,
          3.8103669536816254,
          1.9030899869919435,
          4.086644520610805,
          4.675173206444007,
          1.255272505103306,
          1.806179973983887,
          0.8450980400142568,
          3.0060379549973173,
          3.2000292665537704,
          1.3617278360175928,
          4.864718685895433,
          2.1398790864012365,
          3.1458177144918276,
          2.8048206787211623,
          2.1760912590556813,
          1.0413926851582251,
          2.0569048513364727,
          2.0863598306747484,
          3.2317243833285163,
          4.708845638048179,
          1.6989700043360187,
          1.7160033436347992,
          4.157305630327966,
          4.923968964875471,
          3.774443968924965,
          2.315970345456918,
          2.673020907128896,
          2.848189116991399,
          3.0729847446279304,
          3.311117842662506,
          3.157456768134226,
          2.92272545799326,
          3.875292825371008,
          3.9566005882131767,
          2.8524799936368566,
          3.030194785356751,
          1.2041199826559248,
          3.807264355276107,
          4.384854991717318,
          3.7026028413404273,
          2.537819095073274,
          2.4983105537896004,
          1.591064607026499,
          3.220108088040055,
          1.8512583487190752,
          2.100370545117563,
          1.255272505103306,
          3.6757783416740852,
          5.2280228821227,
          2.376576957056512,
          1,
          2.708420900134713,
          5.2038810549797425,
          3.2229764498933915,
          3.4092566520389096,
          1.2787536009528289,
          2.724275869600789,
          3.093421685162235,
          1.863322860120456,
          1.8692317197309762,
          1.8808135922807914,
          1,
          2.846337112129805,
          3.423081958297231,
          3.254064452914338,
          4.495877215295425,
          3.978226181674526,
          4.9665359401149765,
          3.285107029566812,
          4.298350837719157,
          4.19667350048806,
          5.304285826881439,
          2.561101383649056,
          4.13786028215286,
          2.6522463410033232,
          3.481012420956573,
          2.5728716022004803,
          4.031852631395629,
          2.7075701760979363,
          3.53655844257153,
          2.850033257689769,
          1.2787536009528289,
          2.9222062774390163,
          2.8555191556678,
          2.1492191126553797,
          1.7853298350107671,
          1.9138138523837167,
          3.1283992687178066,
          3.572987708198205,
          0.9542425094393249,
          2.1072099696478683,
          1.5563025007672873,
          3.7672300981107183,
          2.3979400086720375,
          2.6273658565927325,
          2.660865478003869,
          0.8450980400142568,
          2.5237464668115646,
          4.224066664334767,
          3.5608626947274646,
          1.9777236052888478,
          1.5797835966168101,
          2.506505032404872,
          3.6285932558512592,
          1.8808135922807914,
          1.2041199826559248,
          1.7323937598229686,
          4.586722297518069,
          3.1684974835230326,
          1.1139433523068367,
          2.8506462351830666,
          3.185258765296585,
          3.15259407792747,
          3.884228769632604,
          3.328583449714202,
          4.164709663539879,
          3.779668627207148,
          0.9030899869919435,
          2.3783979009481375,
          4.494015374757144,
          3.9008039348103694,
          4.087000120795991,
          4.385999284138968,
          4.076312687976857,
          4.065056603356019,
          4.971080929273843,
          2.326335860928751,
          1.1760912590556813,
          1.1760912590556813,
          1.1760912590556813,
          2.7427251313046983,
          0.9030899869919435,
          4.3026988189917885,
          2.91539983521227,
          3.821513528404773,
          1.0413926851582251,
          2.0170333392987803,
          4.174670241487047,
          3.141136090120739,
          3.1486026548060932,
          2.722633922533812,
          3.6986224297020978,
          1.5314789170422551,
          5.365727529564322,
          2.791690649020118,
          2.5024271199844326,
          1,
          4.292721137774543,
          4.466333688132342,
          1.6334684555795864,
          2.6324572921847245,
          2.4756711883244296,
          3.4680517914542377,
          1.380211241711606,
          1.99563519459755,
          2.0644579892269186,
          2.989004615698537,
          5.059385422924658,
          6.306460198617869,
          1.8976270912904414,
          3.973589623427257,
          4.056142262059052,
          5.21045229296202,
          2.7958800173440754,
          3.2875778090787056,
          2.5171958979499744,
          2.4313637641589874,
          2.5352941200427703,
          0.7781512503836436,
          0,
          1.9777236052888478,
          1.505149978319906
         ]
        }
       ],
       "layout": {
        "coloraxis": {
         "colorbar": {
          "title": {
           "text": "Confirmed Cases(Log Scale)"
          }
         },
         "colorscale": [
          [
           0,
           "rgb(243, 231, 155)"
          ],
          [
           0.16666666666666666,
           "rgb(250, 196, 132)"
          ],
          [
           0.3333333333333333,
           "rgb(248, 160, 126)"
          ],
          [
           0.5,
           "rgb(235, 127, 134)"
          ],
          [
           0.6666666666666666,
           "rgb(206, 102, 147)"
          ],
          [
           0.8333333333333334,
           "rgb(160, 89, 160)"
          ],
          [
           1,
           "rgb(92, 83, 165)"
          ]
         ]
        },
        "geo": {
         "center": {},
         "domain": {
          "x": [
           0,
           1
          ],
          "y": [
           0,
           1
          ]
         },
         "fitbounds": "locations",
         "visible": false
        },
        "legend": {
         "tracegroupgap": 0
        },
        "margin": {
         "t": 60
        },
        "template": {
         "data": {
          "bar": [
           {
            "error_x": {
             "color": "#2a3f5f"
            },
            "error_y": {
             "color": "#2a3f5f"
            },
            "marker": {
             "line": {
              "color": "#E5ECF6",
              "width": 0.5
             }
            },
            "type": "bar"
           }
          ],
          "barpolar": [
           {
            "marker": {
             "line": {
              "color": "#E5ECF6",
              "width": 0.5
             }
            },
            "type": "barpolar"
           }
          ],
          "carpet": [
           {
            "aaxis": {
             "endlinecolor": "#2a3f5f",
             "gridcolor": "white",
             "linecolor": "white",
             "minorgridcolor": "white",
             "startlinecolor": "#2a3f5f"
            },
            "baxis": {
             "endlinecolor": "#2a3f5f",
             "gridcolor": "white",
             "linecolor": "white",
             "minorgridcolor": "white",
             "startlinecolor": "#2a3f5f"
            },
            "type": "carpet"
           }
          ],
          "choropleth": [
           {
            "colorbar": {
             "outlinewidth": 0,
             "ticks": ""
            },
            "type": "choropleth"
           }
          ],
          "contour": [
           {
            "colorbar": {
             "outlinewidth": 0,
             "ticks": ""
            },
            "colorscale": [
             [
              0,
              "#0d0887"
             ],
             [
              0.1111111111111111,
              "#46039f"
             ],
             [
              0.2222222222222222,
              "#7201a8"
             ],
             [
              0.3333333333333333,
              "#9c179e"
             ],
             [
              0.4444444444444444,
              "#bd3786"
             ],
             [
              0.5555555555555556,
              "#d8576b"
             ],
             [
              0.6666666666666666,
              "#ed7953"
             ],
             [
              0.7777777777777778,
              "#fb9f3a"
             ],
             [
              0.8888888888888888,
              "#fdca26"
             ],
             [
              1,
              "#f0f921"
             ]
            ],
            "type": "contour"
           }
          ],
          "contourcarpet": [
           {
            "colorbar": {
             "outlinewidth": 0,
             "ticks": ""
            },
            "type": "contourcarpet"
           }
          ],
          "heatmap": [
           {
            "colorbar": {
             "outlinewidth": 0,
             "ticks": ""
            },
            "colorscale": [
             [
              0,
              "#0d0887"
             ],
             [
              0.1111111111111111,
              "#46039f"
             ],
             [
              0.2222222222222222,
              "#7201a8"
             ],
             [
              0.3333333333333333,
              "#9c179e"
             ],
             [
              0.4444444444444444,
              "#bd3786"
             ],
             [
              0.5555555555555556,
              "#d8576b"
             ],
             [
              0.6666666666666666,
              "#ed7953"
             ],
             [
              0.7777777777777778,
              "#fb9f3a"
             ],
             [
              0.8888888888888888,
              "#fdca26"
             ],
             [
              1,
              "#f0f921"
             ]
            ],
            "type": "heatmap"
           }
          ],
          "heatmapgl": [
           {
            "colorbar": {
             "outlinewidth": 0,
             "ticks": ""
            },
            "colorscale": [
             [
              0,
              "#0d0887"
             ],
             [
              0.1111111111111111,
              "#46039f"
             ],
             [
              0.2222222222222222,
              "#7201a8"
             ],
             [
              0.3333333333333333,
              "#9c179e"
             ],
             [
              0.4444444444444444,
              "#bd3786"
             ],
             [
              0.5555555555555556,
              "#d8576b"
             ],
             [
              0.6666666666666666,
              "#ed7953"
             ],
             [
              0.7777777777777778,
              "#fb9f3a"
             ],
             [
              0.8888888888888888,
              "#fdca26"
             ],
             [
              1,
              "#f0f921"
             ]
            ],
            "type": "heatmapgl"
           }
          ],
          "histogram": [
           {
            "marker": {
             "colorbar": {
              "outlinewidth": 0,
              "ticks": ""
             }
            },
            "type": "histogram"
           }
          ],
          "histogram2d": [
           {
            "colorbar": {
             "outlinewidth": 0,
             "ticks": ""
            },
            "colorscale": [
             [
              0,
              "#0d0887"
             ],
             [
              0.1111111111111111,
              "#46039f"
             ],
             [
              0.2222222222222222,
              "#7201a8"
             ],
             [
              0.3333333333333333,
              "#9c179e"
             ],
             [
              0.4444444444444444,
              "#bd3786"
             ],
             [
              0.5555555555555556,
              "#d8576b"
             ],
             [
              0.6666666666666666,
              "#ed7953"
             ],
             [
              0.7777777777777778,
              "#fb9f3a"
             ],
             [
              0.8888888888888888,
              "#fdca26"
             ],
             [
              1,
              "#f0f921"
             ]
            ],
            "type": "histogram2d"
           }
          ],
          "histogram2dcontour": [
           {
            "colorbar": {
             "outlinewidth": 0,
             "ticks": ""
            },
            "colorscale": [
             [
              0,
              "#0d0887"
             ],
             [
              0.1111111111111111,
              "#46039f"
             ],
             [
              0.2222222222222222,
              "#7201a8"
             ],
             [
              0.3333333333333333,
              "#9c179e"
             ],
             [
              0.4444444444444444,
              "#bd3786"
             ],
             [
              0.5555555555555556,
              "#d8576b"
             ],
             [
              0.6666666666666666,
              "#ed7953"
             ],
             [
              0.7777777777777778,
              "#fb9f3a"
             ],
             [
              0.8888888888888888,
              "#fdca26"
             ],
             [
              1,
              "#f0f921"
             ]
            ],
            "type": "histogram2dcontour"
           }
          ],
          "mesh3d": [
           {
            "colorbar": {
             "outlinewidth": 0,
             "ticks": ""
            },
            "type": "mesh3d"
           }
          ],
          "parcoords": [
           {
            "line": {
             "colorbar": {
              "outlinewidth": 0,
              "ticks": ""
             }
            },
            "type": "parcoords"
           }
          ],
          "pie": [
           {
            "automargin": true,
            "type": "pie"
           }
          ],
          "scatter": [
           {
            "marker": {
             "colorbar": {
              "outlinewidth": 0,
              "ticks": ""
             }
            },
            "type": "scatter"
           }
          ],
          "scatter3d": [
           {
            "line": {
             "colorbar": {
              "outlinewidth": 0,
              "ticks": ""
             }
            },
            "marker": {
             "colorbar": {
              "outlinewidth": 0,
              "ticks": ""
             }
            },
            "type": "scatter3d"
           }
          ],
          "scattercarpet": [
           {
            "marker": {
             "colorbar": {
              "outlinewidth": 0,
              "ticks": ""
             }
            },
            "type": "scattercarpet"
           }
          ],
          "scattergeo": [
           {
            "marker": {
             "colorbar": {
              "outlinewidth": 0,
              "ticks": ""
             }
            },
            "type": "scattergeo"
           }
          ],
          "scattergl": [
           {
            "marker": {
             "colorbar": {
              "outlinewidth": 0,
              "ticks": ""
             }
            },
            "type": "scattergl"
           }
          ],
          "scattermapbox": [
           {
            "marker": {
             "colorbar": {
              "outlinewidth": 0,
              "ticks": ""
             }
            },
            "type": "scattermapbox"
           }
          ],
          "scatterpolar": [
           {
            "marker": {
             "colorbar": {
              "outlinewidth": 0,
              "ticks": ""
             }
            },
            "type": "scatterpolar"
           }
          ],
          "scatterpolargl": [
           {
            "marker": {
             "colorbar": {
              "outlinewidth": 0,
              "ticks": ""
             }
            },
            "type": "scatterpolargl"
           }
          ],
          "scatterternary": [
           {
            "marker": {
             "colorbar": {
              "outlinewidth": 0,
              "ticks": ""
             }
            },
            "type": "scatterternary"
           }
          ],
          "surface": [
           {
            "colorbar": {
             "outlinewidth": 0,
             "ticks": ""
            },
            "colorscale": [
             [
              0,
              "#0d0887"
             ],
             [
              0.1111111111111111,
              "#46039f"
             ],
             [
              0.2222222222222222,
              "#7201a8"
             ],
             [
              0.3333333333333333,
              "#9c179e"
             ],
             [
              0.4444444444444444,
              "#bd3786"
             ],
             [
              0.5555555555555556,
              "#d8576b"
             ],
             [
              0.6666666666666666,
              "#ed7953"
             ],
             [
              0.7777777777777778,
              "#fb9f3a"
             ],
             [
              0.8888888888888888,
              "#fdca26"
             ],
             [
              1,
              "#f0f921"
             ]
            ],
            "type": "surface"
           }
          ],
          "table": [
           {
            "cells": {
             "fill": {
              "color": "#EBF0F8"
             },
             "line": {
              "color": "white"
             }
            },
            "header": {
             "fill": {
              "color": "#C8D4E3"
             },
             "line": {
              "color": "white"
             }
            },
            "type": "table"
           }
          ]
         },
         "layout": {
          "annotationdefaults": {
           "arrowcolor": "#2a3f5f",
           "arrowhead": 0,
           "arrowwidth": 1
          },
          "coloraxis": {
           "colorbar": {
            "outlinewidth": 0,
            "ticks": ""
           }
          },
          "colorscale": {
           "diverging": [
            [
             0,
             "#8e0152"
            ],
            [
             0.1,
             "#c51b7d"
            ],
            [
             0.2,
             "#de77ae"
            ],
            [
             0.3,
             "#f1b6da"
            ],
            [
             0.4,
             "#fde0ef"
            ],
            [
             0.5,
             "#f7f7f7"
            ],
            [
             0.6,
             "#e6f5d0"
            ],
            [
             0.7,
             "#b8e186"
            ],
            [
             0.8,
             "#7fbc41"
            ],
            [
             0.9,
             "#4d9221"
            ],
            [
             1,
             "#276419"
            ]
           ],
           "sequential": [
            [
             0,
             "#0d0887"
            ],
            [
             0.1111111111111111,
             "#46039f"
            ],
            [
             0.2222222222222222,
             "#7201a8"
            ],
            [
             0.3333333333333333,
             "#9c179e"
            ],
            [
             0.4444444444444444,
             "#bd3786"
            ],
            [
             0.5555555555555556,
             "#d8576b"
            ],
            [
             0.6666666666666666,
             "#ed7953"
            ],
            [
             0.7777777777777778,
             "#fb9f3a"
            ],
            [
             0.8888888888888888,
             "#fdca26"
            ],
            [
             1,
             "#f0f921"
            ]
           ],
           "sequentialminus": [
            [
             0,
             "#0d0887"
            ],
            [
             0.1111111111111111,
             "#46039f"
            ],
            [
             0.2222222222222222,
             "#7201a8"
            ],
            [
             0.3333333333333333,
             "#9c179e"
            ],
            [
             0.4444444444444444,
             "#bd3786"
            ],
            [
             0.5555555555555556,
             "#d8576b"
            ],
            [
             0.6666666666666666,
             "#ed7953"
            ],
            [
             0.7777777777777778,
             "#fb9f3a"
            ],
            [
             0.8888888888888888,
             "#fdca26"
            ],
            [
             1,
             "#f0f921"
            ]
           ]
          },
          "colorway": [
           "#636efa",
           "#EF553B",
           "#00cc96",
           "#ab63fa",
           "#FFA15A",
           "#19d3f3",
           "#FF6692",
           "#B6E880",
           "#FF97FF",
           "#FECB52"
          ],
          "font": {
           "color": "#2a3f5f"
          },
          "geo": {
           "bgcolor": "white",
           "lakecolor": "white",
           "landcolor": "#E5ECF6",
           "showlakes": true,
           "showland": true,
           "subunitcolor": "white"
          },
          "hoverlabel": {
           "align": "left"
          },
          "hovermode": "closest",
          "mapbox": {
           "style": "light"
          },
          "paper_bgcolor": "white",
          "plot_bgcolor": "#E5ECF6",
          "polar": {
           "angularaxis": {
            "gridcolor": "white",
            "linecolor": "white",
            "ticks": ""
           },
           "bgcolor": "#E5ECF6",
           "radialaxis": {
            "gridcolor": "white",
            "linecolor": "white",
            "ticks": ""
           }
          },
          "scene": {
           "xaxis": {
            "backgroundcolor": "#E5ECF6",
            "gridcolor": "white",
            "gridwidth": 2,
            "linecolor": "white",
            "showbackground": true,
            "ticks": "",
            "zerolinecolor": "white"
           },
           "yaxis": {
            "backgroundcolor": "#E5ECF6",
            "gridcolor": "white",
            "gridwidth": 2,
            "linecolor": "white",
            "showbackground": true,
            "ticks": "",
            "zerolinecolor": "white"
           },
           "zaxis": {
            "backgroundcolor": "#E5ECF6",
            "gridcolor": "white",
            "gridwidth": 2,
            "linecolor": "white",
            "showbackground": true,
            "ticks": "",
            "zerolinecolor": "white"
           }
          },
          "shapedefaults": {
           "line": {
            "color": "#2a3f5f"
           }
          },
          "ternary": {
           "aaxis": {
            "gridcolor": "white",
            "linecolor": "white",
            "ticks": ""
           },
           "baxis": {
            "gridcolor": "white",
            "linecolor": "white",
            "ticks": ""
           },
           "bgcolor": "#E5ECF6",
           "caxis": {
            "gridcolor": "white",
            "linecolor": "white",
            "ticks": ""
           }
          },
          "title": {
           "x": 0.05
          },
          "xaxis": {
           "automargin": true,
           "gridcolor": "white",
           "linecolor": "white",
           "ticks": "",
           "title": {
            "standoff": 15
           },
           "zerolinecolor": "white",
           "zerolinewidth": 2
          },
          "yaxis": {
           "automargin": true,
           "gridcolor": "white",
           "linecolor": "white",
           "ticks": "",
           "title": {
            "standoff": 15
           },
           "zerolinecolor": "white",
           "zerolinewidth": 2
          }
         }
        },
        "title": {
         "text": "Confirmed Cases Heat Map (Log Scale) on 2020-04-28"
        }
       }
      },
      "text/html": [
       "<div>\n",
       "        \n",
       "        \n",
       "            <div id=\"60b85255-87ad-417d-8653-d5808cec8add\" class=\"plotly-graph-div\" style=\"height:525px; width:100%;\"></div>\n",
       "            <script type=\"text/javascript\">\n",
       "                require([\"plotly\"], function(Plotly) {\n",
       "                    window.PLOTLYENV=window.PLOTLYENV || {};\n",
       "                    \n",
       "                if (document.getElementById(\"60b85255-87ad-417d-8653-d5808cec8add\")) {\n",
       "                    Plotly.newPlot(\n",
       "                        '60b85255-87ad-417d-8653-d5808cec8add',\n",
       "                        [{\"coloraxis\": \"coloraxis\", \"customdata\": [[1828], [750], [3649], [743], [27], [24], [4127], [1867], [6744], [15357], [1717], [80], [2811], [6462], [80], [12208], [47334], [18], [64], [7], [1014], [1585], [23], [73235], [138], [1399], [638], [150], [11], [114], [122], [1705], [51150], [50], [52], [14365], [83940], [5949], [207], [471], [705], [1183], [2047], [1437], [837], [7504], [9049], [712], [1072], [16], [6416], [24258], [5042], [345], [315], [39], [1660], [71], [126], [18], [4740], [169053], [238], [10], [511], [159912], [1671], [2566], [19], [530], [1240], [73], [74], [76], [10], [702], [2649], [1795], [31324], [9511], [92584], [1928], [19877], [15728], [201505], [364], [13736], [449], [3027], [374], [10761], [510], [3440], [708], [19], [836], [717], [141], [61], [82], [1344], [3741], [9], [128], [36], [5851], [250], [424], [458], [7], [334], [16752], [3638], [95], [38], [321], [4252], [76], [16], [54], [38612], [1474], [13], [709], [1532], [1421], [7660], [2131], [14612], [6021], [8], [239], [31190], [7958], [12218], [24322], [11921], [11616], [93558], [212], [15], [15], [15], [553], [8], [20077], [823], [6630], [11], [104], [14951], [1384], [1408], [528], [4996], [34], [232128], [619], [318], [10], [19621], [29264], [43], [429], [299], [2938], [24], [99], [116], [975], [114653], [2025164], [79], [9410], [11380], [162350], [625], [1939], [329], [270], [343], [6], [1], [95], [32]], \"geo\": \"geo\", \"hovertemplate\": \"<b>%{hovertext}</b><br><br>confirmed=%{customdata[0]}<br>country=%{location}<br>color=%{z}<extra></extra>\", \"hovertext\": [\"Afghanistan\", \"Albania\", \"Algeria\", \"Andorra\", \"Angola\", \"Antigua and Barbuda\", \"Argentina\", \"Armenia\", \"Australia\", \"Austria\", \"Azerbaijan\", \"Bahamas\", \"Bahrain\", \"Bangladesh\", \"Barbados\", \"Belarus\", \"Belgium\", \"Belize\", \"Benin\", \"Bhutan\", \"Bolivia\", \"Bosnia and Herzegovina\", \"Botswana\", \"Brazil\", \"Brunei\", \"Bulgaria\", \"Burkina Faso\", \"Burma\", \"Burundi\", \"Cabo Verde\", \"Cambodia\", \"Cameroon\", \"Canada\", \"Central African Republic\", \"Chad\", \"Chile\", \"China\", \"Colombia\", \"Congo (Brazzaville)\", \"Congo (Kinshasa)\", \"Costa Rica\", \"Cote d'Ivoire\", \"Croatia\", \"Cuba\", \"Cyprus\", \"Czechia\", \"Denmark\", \"Diamond Princess\", \"Djibouti\", \"Dominica\", \"Dominican Republic\", \"Ecuador\", \"Egypt\", \"El Salvador\", \"Equatorial Guinea\", \"Eritrea\", \"Estonia\", \"Eswatini\", \"Ethiopia\", \"Fiji\", \"Finland\", \"France\", \"Gabon\", \"Gambia\", \"Georgia\", \"Germany\", \"Ghana\", \"Greece\", \"Grenada\", \"Guatemala\", \"Guinea\", \"Guinea-Bissau\", \"Guyana\", \"Haiti\", \"Holy See\", \"Honduras\", \"Hungary\", \"Iceland\", \"India\", \"Indonesia\", \"Iran\", \"Iraq\", \"Ireland\", \"Israel\", \"Italy\", \"Jamaica\", \"Japan\", \"Jordan\", \"Kazakhstan\", \"Kenya\", \"Korea, South\", \"Kosovo\", \"Kuwait\", \"Kyrgyzstan\", \"Laos\", \"Latvia\", \"Lebanon\", \"Liberia\", \"Libya\", \"Liechtenstein\", \"Lithuania\", \"Luxembourg\", \"MS Zaandam\", \"Madagascar\", \"Malawi\", \"Malaysia\", \"Maldives\", \"Mali\", \"Malta\", \"Mauritania\", \"Mauritius\", \"Mexico\", \"Moldova\", \"Monaco\", \"Mongolia\", \"Montenegro\", \"Morocco\", \"Mozambique\", \"Namibia\", \"Nepal\", \"Netherlands\", \"New Zealand\", \"Nicaragua\", \"Niger\", \"Nigeria\", \"North Macedonia\", \"Norway\", \"Oman\", \"Pakistan\", \"Panama\", \"Papua New Guinea\", \"Paraguay\", \"Peru\", \"Philippines\", \"Poland\", \"Portugal\", \"Qatar\", \"Romania\", \"Russia\", \"Rwanda\", \"Saint Kitts and Nevis\", \"Saint Lucia\", \"Saint Vincent and the Grenadines\", \"San Marino\", \"Sao Tome and Principe\", \"Saudi Arabia\", \"Senegal\", \"Serbia\", \"Seychelles\", \"Sierra Leone\", \"Singapore\", \"Slovakia\", \"Slovenia\", \"Somalia\", \"South Africa\", \"South Sudan\", \"Spain\", \"Sri Lanka\", \"Sudan\", \"Suriname\", \"Sweden\", \"Switzerland\", \"Syria\", \"Taiwan*\", \"Tanzania\", \"Thailand\", \"Timor-Leste\", \"Togo\", \"Trinidad and Tobago\", \"Tunisia\", \"Turkey\", \"USA\", \"Uganda\", \"Ukraine\", \"United Arab Emirates\", \"United Kingdom\", \"Uruguay\", \"Uzbekistan\", \"Venezuela\", \"Vietnam\", \"West Bank and Gaza\", \"Western Sahara\", \"Yemen\", \"Zambia\", \"Zimbabwe\"], \"locationmode\": \"country names\", \"locations\": [\"Afghanistan\", \"Albania\", \"Algeria\", \"Andorra\", \"Angola\", \"Antigua and Barbuda\", \"Argentina\", \"Armenia\", \"Australia\", \"Austria\", \"Azerbaijan\", \"Bahamas\", \"Bahrain\", \"Bangladesh\", \"Barbados\", \"Belarus\", \"Belgium\", \"Belize\", \"Benin\", \"Bhutan\", \"Bolivia\", \"Bosnia and Herzegovina\", \"Botswana\", \"Brazil\", \"Brunei\", \"Bulgaria\", \"Burkina Faso\", \"Burma\", \"Burundi\", \"Cabo Verde\", \"Cambodia\", \"Cameroon\", \"Canada\", \"Central African Republic\", \"Chad\", \"Chile\", \"China\", \"Colombia\", \"Congo (Brazzaville)\", \"Congo (Kinshasa)\", \"Costa Rica\", \"Cote d'Ivoire\", \"Croatia\", \"Cuba\", \"Cyprus\", \"Czechia\", \"Denmark\", \"Diamond Princess\", \"Djibouti\", \"Dominica\", \"Dominican Republic\", \"Ecuador\", \"Egypt\", \"El Salvador\", \"Equatorial Guinea\", \"Eritrea\", \"Estonia\", \"Eswatini\", \"Ethiopia\", \"Fiji\", \"Finland\", \"France\", \"Gabon\", \"Gambia\", \"Georgia\", \"Germany\", \"Ghana\", \"Greece\", \"Grenada\", \"Guatemala\", \"Guinea\", \"Guinea-Bissau\", \"Guyana\", \"Haiti\", \"Holy See\", \"Honduras\", \"Hungary\", \"Iceland\", \"India\", \"Indonesia\", \"Iran\", \"Iraq\", \"Ireland\", \"Israel\", \"Italy\", \"Jamaica\", \"Japan\", \"Jordan\", \"Kazakhstan\", \"Kenya\", \"Korea, South\", \"Kosovo\", \"Kuwait\", \"Kyrgyzstan\", \"Laos\", \"Latvia\", \"Lebanon\", \"Liberia\", \"Libya\", \"Liechtenstein\", \"Lithuania\", \"Luxembourg\", \"MS Zaandam\", \"Madagascar\", \"Malawi\", \"Malaysia\", \"Maldives\", \"Mali\", \"Malta\", \"Mauritania\", \"Mauritius\", \"Mexico\", \"Moldova\", \"Monaco\", \"Mongolia\", \"Montenegro\", \"Morocco\", \"Mozambique\", \"Namibia\", \"Nepal\", \"Netherlands\", \"New Zealand\", \"Nicaragua\", \"Niger\", \"Nigeria\", \"North Macedonia\", \"Norway\", \"Oman\", \"Pakistan\", \"Panama\", \"Papua New Guinea\", \"Paraguay\", \"Peru\", \"Philippines\", \"Poland\", \"Portugal\", \"Qatar\", \"Romania\", \"Russia\", \"Rwanda\", \"Saint Kitts and Nevis\", \"Saint Lucia\", \"Saint Vincent and the Grenadines\", \"San Marino\", \"Sao Tome and Principe\", \"Saudi Arabia\", \"Senegal\", \"Serbia\", \"Seychelles\", \"Sierra Leone\", \"Singapore\", \"Slovakia\", \"Slovenia\", \"Somalia\", \"South Africa\", \"South Sudan\", \"Spain\", \"Sri Lanka\", \"Sudan\", \"Suriname\", \"Sweden\", \"Switzerland\", \"Syria\", \"Taiwan*\", \"Tanzania\", \"Thailand\", \"Timor-Leste\", \"Togo\", \"Trinidad and Tobago\", \"Tunisia\", \"Turkey\", \"USA\", \"Uganda\", \"Ukraine\", \"United Arab Emirates\", \"United Kingdom\", \"Uruguay\", \"Uzbekistan\", \"Venezuela\", \"Vietnam\", \"West Bank and Gaza\", \"Western Sahara\", \"Yemen\", \"Zambia\", \"Zimbabwe\"], \"name\": \"\", \"type\": \"choropleth\", \"z\": [3.2619761913978125, 2.8750612633917, 3.5621738633646483, 2.8709888137605755, 1.4313637641589874, 1.380211241711606, 3.615634468877416, 3.2711443179490782, 3.8289175616166857, 4.1863063842699075, 3.2347702951609163, 1.9030899869919435, 3.4488608456074408, 3.8103669536816254, 1.9030899869919435, 4.086644520610805, 4.675173206444007, 1.255272505103306, 1.806179973983887, 0.8450980400142568, 3.0060379549973173, 3.2000292665537704, 1.3617278360175928, 4.864718685895433, 2.1398790864012365, 3.1458177144918276, 2.8048206787211623, 2.1760912590556813, 1.0413926851582251, 2.0569048513364727, 2.0863598306747484, 3.2317243833285163, 4.708845638048179, 1.6989700043360187, 1.7160033436347992, 4.157305630327966, 4.923968964875471, 3.774443968924965, 2.315970345456918, 2.673020907128896, 2.848189116991399, 3.0729847446279304, 3.311117842662506, 3.157456768134226, 2.92272545799326, 3.875292825371008, 3.9566005882131767, 2.8524799936368566, 3.030194785356751, 1.2041199826559248, 3.807264355276107, 4.384854991717318, 3.7026028413404273, 2.537819095073274, 2.4983105537896004, 1.591064607026499, 3.220108088040055, 1.8512583487190752, 2.100370545117563, 1.255272505103306, 3.6757783416740852, 5.2280228821227, 2.376576957056512, 1.0, 2.708420900134713, 5.2038810549797425, 3.2229764498933915, 3.4092566520389096, 1.2787536009528289, 2.724275869600789, 3.093421685162235, 1.863322860120456, 1.8692317197309762, 1.8808135922807914, 1.0, 2.846337112129805, 3.423081958297231, 3.254064452914338, 4.495877215295425, 3.978226181674526, 4.9665359401149765, 3.285107029566812, 4.298350837719157, 4.19667350048806, 5.304285826881439, 2.561101383649056, 4.13786028215286, 2.6522463410033232, 3.481012420956573, 2.5728716022004803, 4.031852631395629, 2.7075701760979363, 3.53655844257153, 2.850033257689769, 1.2787536009528289, 2.9222062774390163, 2.8555191556678, 2.1492191126553797, 1.7853298350107671, 1.9138138523837167, 3.1283992687178066, 3.572987708198205, 0.9542425094393249, 2.1072099696478683, 1.5563025007672873, 3.7672300981107183, 2.3979400086720375, 2.6273658565927325, 2.660865478003869, 0.8450980400142568, 2.5237464668115646, 4.224066664334767, 3.5608626947274646, 1.9777236052888478, 1.5797835966168101, 2.506505032404872, 3.6285932558512592, 1.8808135922807914, 1.2041199826559248, 1.7323937598229686, 4.586722297518069, 3.1684974835230326, 1.1139433523068367, 2.8506462351830666, 3.185258765296585, 3.15259407792747, 3.884228769632604, 3.328583449714202, 4.164709663539879, 3.779668627207148, 0.9030899869919435, 2.3783979009481375, 4.494015374757144, 3.9008039348103694, 4.087000120795991, 4.385999284138968, 4.076312687976857, 4.065056603356019, 4.971080929273843, 2.326335860928751, 1.1760912590556813, 1.1760912590556813, 1.1760912590556813, 2.7427251313046983, 0.9030899869919435, 4.3026988189917885, 2.91539983521227, 3.821513528404773, 1.0413926851582251, 2.0170333392987803, 4.174670241487047, 3.141136090120739, 3.1486026548060932, 2.722633922533812, 3.6986224297020978, 1.5314789170422551, 5.365727529564322, 2.791690649020118, 2.5024271199844326, 1.0, 4.292721137774543, 4.466333688132342, 1.6334684555795864, 2.6324572921847245, 2.4756711883244296, 3.4680517914542377, 1.380211241711606, 1.99563519459755, 2.0644579892269186, 2.989004615698537, 5.059385422924658, 6.306460198617869, 1.8976270912904414, 3.973589623427257, 4.056142262059052, 5.21045229296202, 2.7958800173440754, 3.2875778090787056, 2.5171958979499744, 2.4313637641589874, 2.5352941200427703, 0.7781512503836436, 0.0, 1.9777236052888478, 1.505149978319906]}],\n",
       "                        {\"coloraxis\": {\"colorbar\": {\"title\": {\"text\": \"Confirmed Cases(Log Scale)\"}}, \"colorscale\": [[0.0, \"rgb(243, 231, 155)\"], [0.16666666666666666, \"rgb(250, 196, 132)\"], [0.3333333333333333, \"rgb(248, 160, 126)\"], [0.5, \"rgb(235, 127, 134)\"], [0.6666666666666666, \"rgb(206, 102, 147)\"], [0.8333333333333334, \"rgb(160, 89, 160)\"], [1.0, \"rgb(92, 83, 165)\"]]}, \"geo\": {\"center\": {}, \"domain\": {\"x\": [0.0, 1.0], \"y\": [0.0, 1.0]}, \"fitbounds\": \"locations\", \"visible\": false}, \"legend\": {\"tracegroupgap\": 0}, \"margin\": {\"t\": 60}, \"template\": {\"data\": {\"bar\": [{\"error_x\": {\"color\": \"#2a3f5f\"}, \"error_y\": {\"color\": \"#2a3f5f\"}, \"marker\": {\"line\": {\"color\": \"#E5ECF6\", \"width\": 0.5}}, \"type\": \"bar\"}], \"barpolar\": [{\"marker\": {\"line\": {\"color\": \"#E5ECF6\", \"width\": 0.5}}, \"type\": \"barpolar\"}], \"carpet\": [{\"aaxis\": {\"endlinecolor\": \"#2a3f5f\", \"gridcolor\": \"white\", \"linecolor\": \"white\", \"minorgridcolor\": \"white\", \"startlinecolor\": \"#2a3f5f\"}, \"baxis\": {\"endlinecolor\": \"#2a3f5f\", \"gridcolor\": \"white\", \"linecolor\": \"white\", \"minorgridcolor\": \"white\", \"startlinecolor\": \"#2a3f5f\"}, \"type\": \"carpet\"}], \"choropleth\": [{\"colorbar\": {\"outlinewidth\": 0, \"ticks\": \"\"}, \"type\": \"choropleth\"}], \"contour\": [{\"colorbar\": {\"outlinewidth\": 0, \"ticks\": \"\"}, \"colorscale\": [[0.0, \"#0d0887\"], [0.1111111111111111, \"#46039f\"], [0.2222222222222222, \"#7201a8\"], [0.3333333333333333, \"#9c179e\"], [0.4444444444444444, \"#bd3786\"], [0.5555555555555556, \"#d8576b\"], [0.6666666666666666, \"#ed7953\"], [0.7777777777777778, \"#fb9f3a\"], [0.8888888888888888, \"#fdca26\"], [1.0, \"#f0f921\"]], \"type\": \"contour\"}], \"contourcarpet\": [{\"colorbar\": {\"outlinewidth\": 0, \"ticks\": \"\"}, \"type\": \"contourcarpet\"}], \"heatmap\": [{\"colorbar\": {\"outlinewidth\": 0, \"ticks\": \"\"}, \"colorscale\": [[0.0, \"#0d0887\"], [0.1111111111111111, \"#46039f\"], [0.2222222222222222, \"#7201a8\"], [0.3333333333333333, \"#9c179e\"], [0.4444444444444444, \"#bd3786\"], [0.5555555555555556, \"#d8576b\"], [0.6666666666666666, \"#ed7953\"], [0.7777777777777778, \"#fb9f3a\"], [0.8888888888888888, \"#fdca26\"], [1.0, \"#f0f921\"]], \"type\": \"heatmap\"}], \"heatmapgl\": [{\"colorbar\": {\"outlinewidth\": 0, \"ticks\": \"\"}, \"colorscale\": [[0.0, \"#0d0887\"], [0.1111111111111111, \"#46039f\"], [0.2222222222222222, \"#7201a8\"], [0.3333333333333333, \"#9c179e\"], [0.4444444444444444, \"#bd3786\"], [0.5555555555555556, \"#d8576b\"], [0.6666666666666666, \"#ed7953\"], [0.7777777777777778, \"#fb9f3a\"], [0.8888888888888888, \"#fdca26\"], [1.0, \"#f0f921\"]], \"type\": \"heatmapgl\"}], \"histogram\": [{\"marker\": {\"colorbar\": {\"outlinewidth\": 0, \"ticks\": \"\"}}, \"type\": \"histogram\"}], \"histogram2d\": [{\"colorbar\": {\"outlinewidth\": 0, \"ticks\": \"\"}, \"colorscale\": [[0.0, \"#0d0887\"], [0.1111111111111111, \"#46039f\"], [0.2222222222222222, \"#7201a8\"], [0.3333333333333333, \"#9c179e\"], [0.4444444444444444, \"#bd3786\"], [0.5555555555555556, \"#d8576b\"], [0.6666666666666666, \"#ed7953\"], [0.7777777777777778, \"#fb9f3a\"], [0.8888888888888888, \"#fdca26\"], [1.0, \"#f0f921\"]], \"type\": \"histogram2d\"}], \"histogram2dcontour\": [{\"colorbar\": {\"outlinewidth\": 0, \"ticks\": \"\"}, \"colorscale\": [[0.0, \"#0d0887\"], [0.1111111111111111, \"#46039f\"], [0.2222222222222222, \"#7201a8\"], [0.3333333333333333, \"#9c179e\"], [0.4444444444444444, \"#bd3786\"], [0.5555555555555556, \"#d8576b\"], [0.6666666666666666, \"#ed7953\"], [0.7777777777777778, \"#fb9f3a\"], [0.8888888888888888, \"#fdca26\"], [1.0, \"#f0f921\"]], \"type\": \"histogram2dcontour\"}], \"mesh3d\": [{\"colorbar\": {\"outlinewidth\": 0, \"ticks\": \"\"}, \"type\": \"mesh3d\"}], \"parcoords\": [{\"line\": {\"colorbar\": {\"outlinewidth\": 0, \"ticks\": \"\"}}, \"type\": \"parcoords\"}], \"pie\": [{\"automargin\": true, \"type\": \"pie\"}], \"scatter\": [{\"marker\": {\"colorbar\": {\"outlinewidth\": 0, \"ticks\": \"\"}}, \"type\": \"scatter\"}], \"scatter3d\": [{\"line\": {\"colorbar\": {\"outlinewidth\": 0, \"ticks\": \"\"}}, \"marker\": {\"colorbar\": {\"outlinewidth\": 0, \"ticks\": \"\"}}, \"type\": \"scatter3d\"}], \"scattercarpet\": [{\"marker\": {\"colorbar\": {\"outlinewidth\": 0, \"ticks\": \"\"}}, \"type\": \"scattercarpet\"}], \"scattergeo\": [{\"marker\": {\"colorbar\": {\"outlinewidth\": 0, \"ticks\": \"\"}}, \"type\": \"scattergeo\"}], \"scattergl\": [{\"marker\": {\"colorbar\": {\"outlinewidth\": 0, \"ticks\": \"\"}}, \"type\": \"scattergl\"}], \"scattermapbox\": [{\"marker\": {\"colorbar\": {\"outlinewidth\": 0, \"ticks\": \"\"}}, \"type\": \"scattermapbox\"}], \"scatterpolar\": [{\"marker\": {\"colorbar\": {\"outlinewidth\": 0, \"ticks\": \"\"}}, \"type\": \"scatterpolar\"}], \"scatterpolargl\": [{\"marker\": {\"colorbar\": {\"outlinewidth\": 0, \"ticks\": \"\"}}, \"type\": \"scatterpolargl\"}], \"scatterternary\": [{\"marker\": {\"colorbar\": {\"outlinewidth\": 0, \"ticks\": \"\"}}, \"type\": \"scatterternary\"}], \"surface\": [{\"colorbar\": {\"outlinewidth\": 0, \"ticks\": \"\"}, \"colorscale\": [[0.0, \"#0d0887\"], [0.1111111111111111, \"#46039f\"], [0.2222222222222222, \"#7201a8\"], [0.3333333333333333, \"#9c179e\"], [0.4444444444444444, \"#bd3786\"], [0.5555555555555556, \"#d8576b\"], [0.6666666666666666, \"#ed7953\"], [0.7777777777777778, \"#fb9f3a\"], [0.8888888888888888, \"#fdca26\"], [1.0, \"#f0f921\"]], \"type\": \"surface\"}], \"table\": [{\"cells\": {\"fill\": {\"color\": \"#EBF0F8\"}, \"line\": {\"color\": \"white\"}}, \"header\": {\"fill\": {\"color\": \"#C8D4E3\"}, \"line\": {\"color\": \"white\"}}, \"type\": \"table\"}]}, \"layout\": {\"annotationdefaults\": {\"arrowcolor\": \"#2a3f5f\", \"arrowhead\": 0, \"arrowwidth\": 1}, \"coloraxis\": {\"colorbar\": {\"outlinewidth\": 0, \"ticks\": \"\"}}, \"colorscale\": {\"diverging\": [[0, \"#8e0152\"], [0.1, \"#c51b7d\"], [0.2, \"#de77ae\"], [0.3, \"#f1b6da\"], [0.4, \"#fde0ef\"], [0.5, \"#f7f7f7\"], [0.6, \"#e6f5d0\"], [0.7, \"#b8e186\"], [0.8, \"#7fbc41\"], [0.9, \"#4d9221\"], [1, \"#276419\"]], \"sequential\": [[0.0, \"#0d0887\"], [0.1111111111111111, \"#46039f\"], [0.2222222222222222, \"#7201a8\"], [0.3333333333333333, \"#9c179e\"], [0.4444444444444444, \"#bd3786\"], [0.5555555555555556, \"#d8576b\"], [0.6666666666666666, \"#ed7953\"], [0.7777777777777778, \"#fb9f3a\"], [0.8888888888888888, \"#fdca26\"], [1.0, \"#f0f921\"]], \"sequentialminus\": [[0.0, \"#0d0887\"], [0.1111111111111111, \"#46039f\"], [0.2222222222222222, \"#7201a8\"], [0.3333333333333333, \"#9c179e\"], [0.4444444444444444, \"#bd3786\"], [0.5555555555555556, \"#d8576b\"], [0.6666666666666666, \"#ed7953\"], [0.7777777777777778, \"#fb9f3a\"], [0.8888888888888888, \"#fdca26\"], [1.0, \"#f0f921\"]]}, \"colorway\": [\"#636efa\", \"#EF553B\", \"#00cc96\", \"#ab63fa\", \"#FFA15A\", \"#19d3f3\", \"#FF6692\", \"#B6E880\", \"#FF97FF\", \"#FECB52\"], \"font\": {\"color\": \"#2a3f5f\"}, \"geo\": {\"bgcolor\": \"white\", \"lakecolor\": \"white\", \"landcolor\": \"#E5ECF6\", \"showlakes\": true, \"showland\": true, \"subunitcolor\": \"white\"}, \"hoverlabel\": {\"align\": \"left\"}, \"hovermode\": \"closest\", \"mapbox\": {\"style\": \"light\"}, \"paper_bgcolor\": \"white\", \"plot_bgcolor\": \"#E5ECF6\", \"polar\": {\"angularaxis\": {\"gridcolor\": \"white\", \"linecolor\": \"white\", \"ticks\": \"\"}, \"bgcolor\": \"#E5ECF6\", \"radialaxis\": {\"gridcolor\": \"white\", \"linecolor\": \"white\", \"ticks\": \"\"}}, \"scene\": {\"xaxis\": {\"backgroundcolor\": \"#E5ECF6\", \"gridcolor\": \"white\", \"gridwidth\": 2, \"linecolor\": \"white\", \"showbackground\": true, \"ticks\": \"\", \"zerolinecolor\": \"white\"}, \"yaxis\": {\"backgroundcolor\": \"#E5ECF6\", \"gridcolor\": \"white\", \"gridwidth\": 2, \"linecolor\": \"white\", \"showbackground\": true, \"ticks\": \"\", \"zerolinecolor\": \"white\"}, \"zaxis\": {\"backgroundcolor\": \"#E5ECF6\", \"gridcolor\": \"white\", \"gridwidth\": 2, \"linecolor\": \"white\", \"showbackground\": true, \"ticks\": \"\", \"zerolinecolor\": \"white\"}}, \"shapedefaults\": {\"line\": {\"color\": \"#2a3f5f\"}}, \"ternary\": {\"aaxis\": {\"gridcolor\": \"white\", \"linecolor\": \"white\", \"ticks\": \"\"}, \"baxis\": {\"gridcolor\": \"white\", \"linecolor\": \"white\", \"ticks\": \"\"}, \"bgcolor\": \"#E5ECF6\", \"caxis\": {\"gridcolor\": \"white\", \"linecolor\": \"white\", \"ticks\": \"\"}}, \"title\": {\"x\": 0.05}, \"xaxis\": {\"automargin\": true, \"gridcolor\": \"white\", \"linecolor\": \"white\", \"ticks\": \"\", \"title\": {\"standoff\": 15}, \"zerolinecolor\": \"white\", \"zerolinewidth\": 2}, \"yaxis\": {\"automargin\": true, \"gridcolor\": \"white\", \"linecolor\": \"white\", \"ticks\": \"\", \"title\": {\"standoff\": 15}, \"zerolinecolor\": \"white\", \"zerolinewidth\": 2}}}, \"title\": {\"text\": \"Confirmed Cases Heat Map (Log Scale) on 2020-04-28\"}},\n",
       "                        {\"responsive\": true}\n",
       "                    ).then(function(){\n",
       "                            \n",
       "var gd = document.getElementById('60b85255-87ad-417d-8653-d5808cec8add');\n",
       "var x = new MutationObserver(function (mutations, observer) {{\n",
       "        var display = window.getComputedStyle(gd).display;\n",
       "        if (!display || display === 'none') {{\n",
       "            console.log([gd, 'removed!']);\n",
       "            Plotly.purge(gd);\n",
       "            observer.disconnect();\n",
       "        }}\n",
       "}});\n",
       "\n",
       "// Listen for the removal of the full notebook cells\n",
       "var notebookContainer = gd.closest('#notebook-container');\n",
       "if (notebookContainer) {{\n",
       "    x.observe(notebookContainer, {childList: true});\n",
       "}}\n",
       "\n",
       "// Listen for the clearing of the current output cell\n",
       "var outputEl = gd.closest('.output');\n",
       "if (outputEl) {{\n",
       "    x.observe(outputEl, {childList: true});\n",
       "}}\n",
       "\n",
       "                        })\n",
       "                };\n",
       "                });\n",
       "            </script>\n",
       "        </div>"
      ]
     },
     "metadata": {},
     "output_type": "display_data"
    }
   ],
   "source": [
    "temp_df = pd.DataFrame(latest_cases['confirmed'])\n",
    "temp_df = temp_df.reset_index()\n",
    "fig = px.choropleth(temp_df, locations=\"country\",\n",
    "                    color=np.log10(temp_df[\"confirmed\"]), # using a log10 ratio for the map coloring\n",
    "                    hover_name=\"country\", # column to add to hover information\n",
    "                    hover_data=[\"confirmed\"],\n",
    "                    color_continuous_scale=px.colors.sequential.Plasma,locationmode=\"country names\")\n",
    "fig.update_geos(fitbounds=\"locations\", visible=False)\n",
    "fig.update_layout(title_text=\"Confirmed Cases Heat Map (Log Scale) on \" + max_date)\n",
    "fig.update_coloraxes(colorbar_title=\"Confirmed Cases(Log Scale)\",colorscale=\"sunset\")\n",
    "#fig.to_image('GlobalHeatMapconfirmed.jpeg')\n",
    "fig.show()\n"
   ]
  },
  {
   "cell_type": "code",
   "execution_count": 21,
   "metadata": {},
   "outputs": [
    {
     "data": {
      "application/vnd.plotly.v1+json": {
       "config": {
        "plotlyServerURL": "https://plot.ly"
       },
       "data": [
        {
         "coloraxis": "coloraxis",
         "customdata": [
          [
           58
          ],
          [
           30
          ],
          [
           437
          ],
          [
           41
          ],
          [
           2
          ],
          [
           3
          ],
          [
           207
          ],
          [
           30
          ],
          [
           89
          ],
          [
           569
          ],
          [
           22
          ],
          [
           11
          ],
          [
           8
          ],
          [
           155
          ],
          [
           6
          ],
          [
           79
          ],
          [
           7331
          ],
          [
           2
          ],
          [
           1
          ],
          [
           0
          ],
          [
           53
          ],
          [
           63
          ],
          [
           1
          ],
          [
           5083
          ],
          [
           1
          ],
          [
           58
          ],
          [
           42
          ],
          [
           5
          ],
          [
           1
          ],
          [
           1
          ],
          [
           0
          ],
          [
           58
          ],
          [
           2983
          ],
          [
           0
          ],
          [
           2
          ],
          [
           207
          ],
          [
           4637
          ],
          [
           269
          ],
          [
           8
          ],
          [
           30
          ],
          [
           6
          ],
          [
           14
          ],
          [
           63
          ],
          [
           58
          ],
          [
           15
          ],
          [
           227
          ],
          [
           434
          ],
          [
           13
          ],
          [
           2
          ],
          [
           0
          ],
          [
           286
          ],
          [
           871
          ],
          [
           359
          ],
          [
           8
          ],
          [
           1
          ],
          [
           0
          ],
          [
           50
          ],
          [
           1
          ],
          [
           3
          ],
          [
           0
          ],
          [
           199
          ],
          [
           23694
          ],
          [
           3
          ],
          [
           1
          ],
          [
           6
          ],
          [
           6314
          ],
          [
           16
          ],
          [
           138
          ],
          [
           0
          ],
          [
           15
          ],
          [
           7
          ],
          [
           1
          ],
          [
           8
          ],
          [
           6
          ],
          [
           0
          ],
          [
           64
          ],
          [
           291
          ],
          [
           10
          ],
          [
           1008
          ],
          [
           773
          ],
          [
           5877
          ],
          [
           90
          ],
          [
           1159
          ],
          [
           210
          ],
          [
           27359
          ],
          [
           7
          ],
          [
           394
          ],
          [
           8
          ],
          [
           25
          ],
          [
           14
          ],
          [
           246
          ],
          [
           12
          ],
          [
           23
          ],
          [
           8
          ],
          [
           0
          ],
          [
           13
          ],
          [
           24
          ],
          [
           16
          ],
          [
           2
          ],
          [
           1
          ],
          [
           44
          ],
          [
           89
          ],
          [
           2
          ],
          [
           0
          ],
          [
           3
          ],
          [
           100
          ],
          [
           0
          ],
          [
           24
          ],
          [
           4
          ],
          [
           1
          ],
          [
           10
          ],
          [
           1569
          ],
          [
           103
          ],
          [
           4
          ],
          [
           0
          ],
          [
           7
          ],
          [
           165
          ],
          [
           0
          ],
          [
           0
          ],
          [
           0
          ],
          [
           4582
          ],
          [
           19
          ],
          [
           3
          ],
          [
           31
          ],
          [
           44
          ],
          [
           71
          ],
          [
           206
          ],
          [
           10
          ],
          [
           312
          ],
          [
           167
          ],
          [
           0
          ],
          [
           9
          ],
          [
           854
          ],
          [
           530
          ],
          [
           596
          ],
          [
           948
          ],
          [
           10
          ],
          [
           663
          ],
          [
           867
          ],
          [
           0
          ],
          [
           0
          ],
          [
           0
          ],
          [
           0
          ],
          [
           41
          ],
          [
           0
          ],
          [
           152
          ],
          [
           9
          ],
          [
           125
          ],
          [
           0
          ],
          [
           4
          ],
          [
           14
          ],
          [
           20
          ],
          [
           86
          ],
          [
           28
          ],
          [
           93
          ],
          [
           0
          ],
          [
           23822
          ],
          [
           7
          ],
          [
           25
          ],
          [
           1
          ],
          [
           2355
          ],
          [
           1699
          ],
          [
           3
          ],
          [
           6
          ],
          [
           10
          ],
          [
           54
          ],
          [
           0
          ],
          [
           6
          ],
          [
           8
          ],
          [
           40
          ],
          [
           2992
          ],
          [
           116710
          ],
          [
           0
          ],
          [
           239
          ],
          [
           89
          ],
          [
           21745
          ],
          [
           15
          ],
          [
           8
          ],
          [
           10
          ],
          [
           0
          ],
          [
           2
          ],
          [
           0
          ],
          [
           0
          ],
          [
           3
          ],
          [
           4
          ]
         ],
         "geo": "geo",
         "hovertemplate": "<b>%{hovertext}</b><br><br>deaths=%{customdata[0]}<br>country=%{location}<br>color=%{z}<extra></extra>",
         "hovertext": [
          "Afghanistan",
          "Albania",
          "Algeria",
          "Andorra",
          "Angola",
          "Antigua and Barbuda",
          "Argentina",
          "Armenia",
          "Australia",
          "Austria",
          "Azerbaijan",
          "Bahamas",
          "Bahrain",
          "Bangladesh",
          "Barbados",
          "Belarus",
          "Belgium",
          "Belize",
          "Benin",
          "Bhutan",
          "Bolivia",
          "Bosnia and Herzegovina",
          "Botswana",
          "Brazil",
          "Brunei",
          "Bulgaria",
          "Burkina Faso",
          "Burma",
          "Burundi",
          "Cabo Verde",
          "Cambodia",
          "Cameroon",
          "Canada",
          "Central African Republic",
          "Chad",
          "Chile",
          "China",
          "Colombia",
          "Congo (Brazzaville)",
          "Congo (Kinshasa)",
          "Costa Rica",
          "Cote d'Ivoire",
          "Croatia",
          "Cuba",
          "Cyprus",
          "Czechia",
          "Denmark",
          "Diamond Princess",
          "Djibouti",
          "Dominica",
          "Dominican Republic",
          "Ecuador",
          "Egypt",
          "El Salvador",
          "Equatorial Guinea",
          "Eritrea",
          "Estonia",
          "Eswatini",
          "Ethiopia",
          "Fiji",
          "Finland",
          "France",
          "Gabon",
          "Gambia",
          "Georgia",
          "Germany",
          "Ghana",
          "Greece",
          "Grenada",
          "Guatemala",
          "Guinea",
          "Guinea-Bissau",
          "Guyana",
          "Haiti",
          "Holy See",
          "Honduras",
          "Hungary",
          "Iceland",
          "India",
          "Indonesia",
          "Iran",
          "Iraq",
          "Ireland",
          "Israel",
          "Italy",
          "Jamaica",
          "Japan",
          "Jordan",
          "Kazakhstan",
          "Kenya",
          "Korea, South",
          "Kosovo",
          "Kuwait",
          "Kyrgyzstan",
          "Laos",
          "Latvia",
          "Lebanon",
          "Liberia",
          "Libya",
          "Liechtenstein",
          "Lithuania",
          "Luxembourg",
          "MS Zaandam",
          "Madagascar",
          "Malawi",
          "Malaysia",
          "Maldives",
          "Mali",
          "Malta",
          "Mauritania",
          "Mauritius",
          "Mexico",
          "Moldova",
          "Monaco",
          "Mongolia",
          "Montenegro",
          "Morocco",
          "Mozambique",
          "Namibia",
          "Nepal",
          "Netherlands",
          "New Zealand",
          "Nicaragua",
          "Niger",
          "Nigeria",
          "North Macedonia",
          "Norway",
          "Oman",
          "Pakistan",
          "Panama",
          "Papua New Guinea",
          "Paraguay",
          "Peru",
          "Philippines",
          "Poland",
          "Portugal",
          "Qatar",
          "Romania",
          "Russia",
          "Rwanda",
          "Saint Kitts and Nevis",
          "Saint Lucia",
          "Saint Vincent and the Grenadines",
          "San Marino",
          "Sao Tome and Principe",
          "Saudi Arabia",
          "Senegal",
          "Serbia",
          "Seychelles",
          "Sierra Leone",
          "Singapore",
          "Slovakia",
          "Slovenia",
          "Somalia",
          "South Africa",
          "South Sudan",
          "Spain",
          "Sri Lanka",
          "Sudan",
          "Suriname",
          "Sweden",
          "Switzerland",
          "Syria",
          "Taiwan*",
          "Tanzania",
          "Thailand",
          "Timor-Leste",
          "Togo",
          "Trinidad and Tobago",
          "Tunisia",
          "Turkey",
          "USA",
          "Uganda",
          "Ukraine",
          "United Arab Emirates",
          "United Kingdom",
          "Uruguay",
          "Uzbekistan",
          "Venezuela",
          "Vietnam",
          "West Bank and Gaza",
          "Western Sahara",
          "Yemen",
          "Zambia",
          "Zimbabwe"
         ],
         "locationmode": "country names",
         "locations": [
          "Afghanistan",
          "Albania",
          "Algeria",
          "Andorra",
          "Angola",
          "Antigua and Barbuda",
          "Argentina",
          "Armenia",
          "Australia",
          "Austria",
          "Azerbaijan",
          "Bahamas",
          "Bahrain",
          "Bangladesh",
          "Barbados",
          "Belarus",
          "Belgium",
          "Belize",
          "Benin",
          "Bhutan",
          "Bolivia",
          "Bosnia and Herzegovina",
          "Botswana",
          "Brazil",
          "Brunei",
          "Bulgaria",
          "Burkina Faso",
          "Burma",
          "Burundi",
          "Cabo Verde",
          "Cambodia",
          "Cameroon",
          "Canada",
          "Central African Republic",
          "Chad",
          "Chile",
          "China",
          "Colombia",
          "Congo (Brazzaville)",
          "Congo (Kinshasa)",
          "Costa Rica",
          "Cote d'Ivoire",
          "Croatia",
          "Cuba",
          "Cyprus",
          "Czechia",
          "Denmark",
          "Diamond Princess",
          "Djibouti",
          "Dominica",
          "Dominican Republic",
          "Ecuador",
          "Egypt",
          "El Salvador",
          "Equatorial Guinea",
          "Eritrea",
          "Estonia",
          "Eswatini",
          "Ethiopia",
          "Fiji",
          "Finland",
          "France",
          "Gabon",
          "Gambia",
          "Georgia",
          "Germany",
          "Ghana",
          "Greece",
          "Grenada",
          "Guatemala",
          "Guinea",
          "Guinea-Bissau",
          "Guyana",
          "Haiti",
          "Holy See",
          "Honduras",
          "Hungary",
          "Iceland",
          "India",
          "Indonesia",
          "Iran",
          "Iraq",
          "Ireland",
          "Israel",
          "Italy",
          "Jamaica",
          "Japan",
          "Jordan",
          "Kazakhstan",
          "Kenya",
          "Korea, South",
          "Kosovo",
          "Kuwait",
          "Kyrgyzstan",
          "Laos",
          "Latvia",
          "Lebanon",
          "Liberia",
          "Libya",
          "Liechtenstein",
          "Lithuania",
          "Luxembourg",
          "MS Zaandam",
          "Madagascar",
          "Malawi",
          "Malaysia",
          "Maldives",
          "Mali",
          "Malta",
          "Mauritania",
          "Mauritius",
          "Mexico",
          "Moldova",
          "Monaco",
          "Mongolia",
          "Montenegro",
          "Morocco",
          "Mozambique",
          "Namibia",
          "Nepal",
          "Netherlands",
          "New Zealand",
          "Nicaragua",
          "Niger",
          "Nigeria",
          "North Macedonia",
          "Norway",
          "Oman",
          "Pakistan",
          "Panama",
          "Papua New Guinea",
          "Paraguay",
          "Peru",
          "Philippines",
          "Poland",
          "Portugal",
          "Qatar",
          "Romania",
          "Russia",
          "Rwanda",
          "Saint Kitts and Nevis",
          "Saint Lucia",
          "Saint Vincent and the Grenadines",
          "San Marino",
          "Sao Tome and Principe",
          "Saudi Arabia",
          "Senegal",
          "Serbia",
          "Seychelles",
          "Sierra Leone",
          "Singapore",
          "Slovakia",
          "Slovenia",
          "Somalia",
          "South Africa",
          "South Sudan",
          "Spain",
          "Sri Lanka",
          "Sudan",
          "Suriname",
          "Sweden",
          "Switzerland",
          "Syria",
          "Taiwan*",
          "Tanzania",
          "Thailand",
          "Timor-Leste",
          "Togo",
          "Trinidad and Tobago",
          "Tunisia",
          "Turkey",
          "USA",
          "Uganda",
          "Ukraine",
          "United Arab Emirates",
          "United Kingdom",
          "Uruguay",
          "Uzbekistan",
          "Venezuela",
          "Vietnam",
          "West Bank and Gaza",
          "Western Sahara",
          "Yemen",
          "Zambia",
          "Zimbabwe"
         ],
         "name": "",
         "type": "choropleth",
         "z": [
          1.7708520116421442,
          1.4913616938342726,
          2.6414741105040997,
          1.6232492903979006,
          0.47712125471966244,
          0.6020599913279624,
          2.3180633349627615,
          1.4913616938342726,
          1.954242509439325,
          2.7558748556724915,
          1.3617278360175928,
          1.0791812460476249,
          0.9542425094393249,
          2.1931245983544616,
          0.8450980400142568,
          1.9030899869919435,
          3.865222456290179,
          0.47712125471966244,
          0.3010299956639812,
          0,
          1.7323937598229686,
          1.806179973983887,
          0.3010299956639812,
          3.7062055418819706,
          0.3010299956639812,
          1.7708520116421442,
          1.6334684555795864,
          0.7781512503836436,
          0.3010299956639812,
          0.3010299956639812,
          0,
          1.7708520116421442,
          3.474798818800631,
          0,
          0.47712125471966244,
          2.3180633349627615,
          3.6663307443019684,
          2.4313637641589874,
          0.9542425094393249,
          1.4913616938342726,
          0.8450980400142568,
          1.1760912590556813,
          1.806179973983887,
          1.7708520116421442,
          1.2041199826559248,
          2.357934847000454,
          2.6384892569546374,
          1.146128035678238,
          0.47712125471966244,
          0,
          2.4578818967339924,
          2.940516484932567,
          2.5563025007672873,
          0.9542425094393249,
          0.3010299956639812,
          0,
          1.7075701760979363,
          0.3010299956639812,
          0.6020599913279624,
          0,
          2.3010299956639813,
          4.37465671303542,
          0.6020599913279624,
          0.3010299956639812,
          0.8450980400142568,
          3.8003733548913496,
          1.2304489213782739,
          2.143014800254095,
          0,
          1.2041199826559248,
          0.9030899869919435,
          0.3010299956639812,
          0.9542425094393249,
          0.8450980400142568,
          0,
          1.8129133566428555,
          2.4653828514484184,
          1.0413926851582251,
          3.0038911662369103,
          2.8887409606828927,
          3.7692295817365937,
          1.9590413923210936,
          3.0644579892269186,
          2.3242824552976926,
          4.437116093048078,
          0.9030899869919435,
          2.59659709562646,
          0.9542425094393249,
          1.414973347970818,
          1.1760912590556813,
          2.392696953259666,
          1.1139433523068367,
          1.380211241711606,
          0.9542425094393249,
          0,
          1.146128035678238,
          1.3979400086720377,
          1.2304489213782739,
          0.47712125471966244,
          0.3010299956639812,
          1.6532125137753437,
          1.954242509439325,
          0.47712125471966244,
          0,
          0.6020599913279624,
          2.0043213737826426,
          0,
          1.3979400086720377,
          0.6989700043360189,
          0.3010299956639812,
          1.0413926851582251,
          3.1958996524092336,
          2.0170333392987803,
          0.6989700043360189,
          0,
          0.9030899869919435,
          2.220108088040055,
          0,
          0,
          0,
          3.6611498572447867,
          1.3010299956639813,
          0.6020599913279624,
          1.505149978319906,
          1.6532125137753437,
          1.8573324964312685,
          2.315970345456918,
          1.0413926851582251,
          2.4955443375464483,
          2.225309281725863,
          0,
          1,
          2.931966114728173,
          2.725094521081469,
          2.775974331129369,
          2.977266212427293,
          1.0413926851582251,
          2.8221680793680175,
          2.938519725176492,
          0,
          0,
          0,
          0,
          1.6232492903979006,
          0,
          2.184691430817599,
          1,
          2.100370545117563,
          0,
          0.6989700043360189,
          1.1760912590556813,
          1.3222192947339193,
          1.9395192526186185,
          1.462397997898956,
          1.9731278535996986,
          0,
          4.376996450740673,
          0.9030899869919435,
          1.414973347970818,
          0.3010299956639812,
          3.372175286115064,
          3.230448921378274,
          0.6020599913279624,
          0.8450980400142568,
          1.0413926851582251,
          1.7403626894942439,
          0,
          0.8450980400142568,
          0.9542425094393249,
          1.6127838567197355,
          3.4761067168401913,
          5.067111790185616,
          0,
          2.380211241711606,
          1.954242509439325,
          4.337379383695819,
          1.2041199826559248,
          0.9542425094393249,
          1.0413926851582251,
          0,
          0.47712125471966244,
          0,
          0,
          0.6020599913279624,
          0.6989700043360189
         ]
        }
       ],
       "layout": {
        "coloraxis": {
         "colorbar": {
          "title": {
           "text": "Confirmed Deaths (Log Scale)"
          }
         },
         "colorscale": [
          [
           0,
           "rgb(255,245,240)"
          ],
          [
           0.125,
           "rgb(254,224,210)"
          ],
          [
           0.25,
           "rgb(252,187,161)"
          ],
          [
           0.375,
           "rgb(252,146,114)"
          ],
          [
           0.5,
           "rgb(251,106,74)"
          ],
          [
           0.625,
           "rgb(239,59,44)"
          ],
          [
           0.75,
           "rgb(203,24,29)"
          ],
          [
           0.875,
           "rgb(165,15,21)"
          ],
          [
           1,
           "rgb(103,0,13)"
          ]
         ]
        },
        "geo": {
         "center": {},
         "domain": {
          "x": [
           0,
           1
          ],
          "y": [
           0,
           1
          ]
         },
         "fitbounds": "locations",
         "visible": false
        },
        "legend": {
         "tracegroupgap": 0
        },
        "margin": {
         "t": 60
        },
        "template": {
         "data": {
          "bar": [
           {
            "error_x": {
             "color": "#2a3f5f"
            },
            "error_y": {
             "color": "#2a3f5f"
            },
            "marker": {
             "line": {
              "color": "#E5ECF6",
              "width": 0.5
             }
            },
            "type": "bar"
           }
          ],
          "barpolar": [
           {
            "marker": {
             "line": {
              "color": "#E5ECF6",
              "width": 0.5
             }
            },
            "type": "barpolar"
           }
          ],
          "carpet": [
           {
            "aaxis": {
             "endlinecolor": "#2a3f5f",
             "gridcolor": "white",
             "linecolor": "white",
             "minorgridcolor": "white",
             "startlinecolor": "#2a3f5f"
            },
            "baxis": {
             "endlinecolor": "#2a3f5f",
             "gridcolor": "white",
             "linecolor": "white",
             "minorgridcolor": "white",
             "startlinecolor": "#2a3f5f"
            },
            "type": "carpet"
           }
          ],
          "choropleth": [
           {
            "colorbar": {
             "outlinewidth": 0,
             "ticks": ""
            },
            "type": "choropleth"
           }
          ],
          "contour": [
           {
            "colorbar": {
             "outlinewidth": 0,
             "ticks": ""
            },
            "colorscale": [
             [
              0,
              "#0d0887"
             ],
             [
              0.1111111111111111,
              "#46039f"
             ],
             [
              0.2222222222222222,
              "#7201a8"
             ],
             [
              0.3333333333333333,
              "#9c179e"
             ],
             [
              0.4444444444444444,
              "#bd3786"
             ],
             [
              0.5555555555555556,
              "#d8576b"
             ],
             [
              0.6666666666666666,
              "#ed7953"
             ],
             [
              0.7777777777777778,
              "#fb9f3a"
             ],
             [
              0.8888888888888888,
              "#fdca26"
             ],
             [
              1,
              "#f0f921"
             ]
            ],
            "type": "contour"
           }
          ],
          "contourcarpet": [
           {
            "colorbar": {
             "outlinewidth": 0,
             "ticks": ""
            },
            "type": "contourcarpet"
           }
          ],
          "heatmap": [
           {
            "colorbar": {
             "outlinewidth": 0,
             "ticks": ""
            },
            "colorscale": [
             [
              0,
              "#0d0887"
             ],
             [
              0.1111111111111111,
              "#46039f"
             ],
             [
              0.2222222222222222,
              "#7201a8"
             ],
             [
              0.3333333333333333,
              "#9c179e"
             ],
             [
              0.4444444444444444,
              "#bd3786"
             ],
             [
              0.5555555555555556,
              "#d8576b"
             ],
             [
              0.6666666666666666,
              "#ed7953"
             ],
             [
              0.7777777777777778,
              "#fb9f3a"
             ],
             [
              0.8888888888888888,
              "#fdca26"
             ],
             [
              1,
              "#f0f921"
             ]
            ],
            "type": "heatmap"
           }
          ],
          "heatmapgl": [
           {
            "colorbar": {
             "outlinewidth": 0,
             "ticks": ""
            },
            "colorscale": [
             [
              0,
              "#0d0887"
             ],
             [
              0.1111111111111111,
              "#46039f"
             ],
             [
              0.2222222222222222,
              "#7201a8"
             ],
             [
              0.3333333333333333,
              "#9c179e"
             ],
             [
              0.4444444444444444,
              "#bd3786"
             ],
             [
              0.5555555555555556,
              "#d8576b"
             ],
             [
              0.6666666666666666,
              "#ed7953"
             ],
             [
              0.7777777777777778,
              "#fb9f3a"
             ],
             [
              0.8888888888888888,
              "#fdca26"
             ],
             [
              1,
              "#f0f921"
             ]
            ],
            "type": "heatmapgl"
           }
          ],
          "histogram": [
           {
            "marker": {
             "colorbar": {
              "outlinewidth": 0,
              "ticks": ""
             }
            },
            "type": "histogram"
           }
          ],
          "histogram2d": [
           {
            "colorbar": {
             "outlinewidth": 0,
             "ticks": ""
            },
            "colorscale": [
             [
              0,
              "#0d0887"
             ],
             [
              0.1111111111111111,
              "#46039f"
             ],
             [
              0.2222222222222222,
              "#7201a8"
             ],
             [
              0.3333333333333333,
              "#9c179e"
             ],
             [
              0.4444444444444444,
              "#bd3786"
             ],
             [
              0.5555555555555556,
              "#d8576b"
             ],
             [
              0.6666666666666666,
              "#ed7953"
             ],
             [
              0.7777777777777778,
              "#fb9f3a"
             ],
             [
              0.8888888888888888,
              "#fdca26"
             ],
             [
              1,
              "#f0f921"
             ]
            ],
            "type": "histogram2d"
           }
          ],
          "histogram2dcontour": [
           {
            "colorbar": {
             "outlinewidth": 0,
             "ticks": ""
            },
            "colorscale": [
             [
              0,
              "#0d0887"
             ],
             [
              0.1111111111111111,
              "#46039f"
             ],
             [
              0.2222222222222222,
              "#7201a8"
             ],
             [
              0.3333333333333333,
              "#9c179e"
             ],
             [
              0.4444444444444444,
              "#bd3786"
             ],
             [
              0.5555555555555556,
              "#d8576b"
             ],
             [
              0.6666666666666666,
              "#ed7953"
             ],
             [
              0.7777777777777778,
              "#fb9f3a"
             ],
             [
              0.8888888888888888,
              "#fdca26"
             ],
             [
              1,
              "#f0f921"
             ]
            ],
            "type": "histogram2dcontour"
           }
          ],
          "mesh3d": [
           {
            "colorbar": {
             "outlinewidth": 0,
             "ticks": ""
            },
            "type": "mesh3d"
           }
          ],
          "parcoords": [
           {
            "line": {
             "colorbar": {
              "outlinewidth": 0,
              "ticks": ""
             }
            },
            "type": "parcoords"
           }
          ],
          "pie": [
           {
            "automargin": true,
            "type": "pie"
           }
          ],
          "scatter": [
           {
            "marker": {
             "colorbar": {
              "outlinewidth": 0,
              "ticks": ""
             }
            },
            "type": "scatter"
           }
          ],
          "scatter3d": [
           {
            "line": {
             "colorbar": {
              "outlinewidth": 0,
              "ticks": ""
             }
            },
            "marker": {
             "colorbar": {
              "outlinewidth": 0,
              "ticks": ""
             }
            },
            "type": "scatter3d"
           }
          ],
          "scattercarpet": [
           {
            "marker": {
             "colorbar": {
              "outlinewidth": 0,
              "ticks": ""
             }
            },
            "type": "scattercarpet"
           }
          ],
          "scattergeo": [
           {
            "marker": {
             "colorbar": {
              "outlinewidth": 0,
              "ticks": ""
             }
            },
            "type": "scattergeo"
           }
          ],
          "scattergl": [
           {
            "marker": {
             "colorbar": {
              "outlinewidth": 0,
              "ticks": ""
             }
            },
            "type": "scattergl"
           }
          ],
          "scattermapbox": [
           {
            "marker": {
             "colorbar": {
              "outlinewidth": 0,
              "ticks": ""
             }
            },
            "type": "scattermapbox"
           }
          ],
          "scatterpolar": [
           {
            "marker": {
             "colorbar": {
              "outlinewidth": 0,
              "ticks": ""
             }
            },
            "type": "scatterpolar"
           }
          ],
          "scatterpolargl": [
           {
            "marker": {
             "colorbar": {
              "outlinewidth": 0,
              "ticks": ""
             }
            },
            "type": "scatterpolargl"
           }
          ],
          "scatterternary": [
           {
            "marker": {
             "colorbar": {
              "outlinewidth": 0,
              "ticks": ""
             }
            },
            "type": "scatterternary"
           }
          ],
          "surface": [
           {
            "colorbar": {
             "outlinewidth": 0,
             "ticks": ""
            },
            "colorscale": [
             [
              0,
              "#0d0887"
             ],
             [
              0.1111111111111111,
              "#46039f"
             ],
             [
              0.2222222222222222,
              "#7201a8"
             ],
             [
              0.3333333333333333,
              "#9c179e"
             ],
             [
              0.4444444444444444,
              "#bd3786"
             ],
             [
              0.5555555555555556,
              "#d8576b"
             ],
             [
              0.6666666666666666,
              "#ed7953"
             ],
             [
              0.7777777777777778,
              "#fb9f3a"
             ],
             [
              0.8888888888888888,
              "#fdca26"
             ],
             [
              1,
              "#f0f921"
             ]
            ],
            "type": "surface"
           }
          ],
          "table": [
           {
            "cells": {
             "fill": {
              "color": "#EBF0F8"
             },
             "line": {
              "color": "white"
             }
            },
            "header": {
             "fill": {
              "color": "#C8D4E3"
             },
             "line": {
              "color": "white"
             }
            },
            "type": "table"
           }
          ]
         },
         "layout": {
          "annotationdefaults": {
           "arrowcolor": "#2a3f5f",
           "arrowhead": 0,
           "arrowwidth": 1
          },
          "coloraxis": {
           "colorbar": {
            "outlinewidth": 0,
            "ticks": ""
           }
          },
          "colorscale": {
           "diverging": [
            [
             0,
             "#8e0152"
            ],
            [
             0.1,
             "#c51b7d"
            ],
            [
             0.2,
             "#de77ae"
            ],
            [
             0.3,
             "#f1b6da"
            ],
            [
             0.4,
             "#fde0ef"
            ],
            [
             0.5,
             "#f7f7f7"
            ],
            [
             0.6,
             "#e6f5d0"
            ],
            [
             0.7,
             "#b8e186"
            ],
            [
             0.8,
             "#7fbc41"
            ],
            [
             0.9,
             "#4d9221"
            ],
            [
             1,
             "#276419"
            ]
           ],
           "sequential": [
            [
             0,
             "#0d0887"
            ],
            [
             0.1111111111111111,
             "#46039f"
            ],
            [
             0.2222222222222222,
             "#7201a8"
            ],
            [
             0.3333333333333333,
             "#9c179e"
            ],
            [
             0.4444444444444444,
             "#bd3786"
            ],
            [
             0.5555555555555556,
             "#d8576b"
            ],
            [
             0.6666666666666666,
             "#ed7953"
            ],
            [
             0.7777777777777778,
             "#fb9f3a"
            ],
            [
             0.8888888888888888,
             "#fdca26"
            ],
            [
             1,
             "#f0f921"
            ]
           ],
           "sequentialminus": [
            [
             0,
             "#0d0887"
            ],
            [
             0.1111111111111111,
             "#46039f"
            ],
            [
             0.2222222222222222,
             "#7201a8"
            ],
            [
             0.3333333333333333,
             "#9c179e"
            ],
            [
             0.4444444444444444,
             "#bd3786"
            ],
            [
             0.5555555555555556,
             "#d8576b"
            ],
            [
             0.6666666666666666,
             "#ed7953"
            ],
            [
             0.7777777777777778,
             "#fb9f3a"
            ],
            [
             0.8888888888888888,
             "#fdca26"
            ],
            [
             1,
             "#f0f921"
            ]
           ]
          },
          "colorway": [
           "#636efa",
           "#EF553B",
           "#00cc96",
           "#ab63fa",
           "#FFA15A",
           "#19d3f3",
           "#FF6692",
           "#B6E880",
           "#FF97FF",
           "#FECB52"
          ],
          "font": {
           "color": "#2a3f5f"
          },
          "geo": {
           "bgcolor": "white",
           "lakecolor": "white",
           "landcolor": "#E5ECF6",
           "showlakes": true,
           "showland": true,
           "subunitcolor": "white"
          },
          "hoverlabel": {
           "align": "left"
          },
          "hovermode": "closest",
          "mapbox": {
           "style": "light"
          },
          "paper_bgcolor": "white",
          "plot_bgcolor": "#E5ECF6",
          "polar": {
           "angularaxis": {
            "gridcolor": "white",
            "linecolor": "white",
            "ticks": ""
           },
           "bgcolor": "#E5ECF6",
           "radialaxis": {
            "gridcolor": "white",
            "linecolor": "white",
            "ticks": ""
           }
          },
          "scene": {
           "xaxis": {
            "backgroundcolor": "#E5ECF6",
            "gridcolor": "white",
            "gridwidth": 2,
            "linecolor": "white",
            "showbackground": true,
            "ticks": "",
            "zerolinecolor": "white"
           },
           "yaxis": {
            "backgroundcolor": "#E5ECF6",
            "gridcolor": "white",
            "gridwidth": 2,
            "linecolor": "white",
            "showbackground": true,
            "ticks": "",
            "zerolinecolor": "white"
           },
           "zaxis": {
            "backgroundcolor": "#E5ECF6",
            "gridcolor": "white",
            "gridwidth": 2,
            "linecolor": "white",
            "showbackground": true,
            "ticks": "",
            "zerolinecolor": "white"
           }
          },
          "shapedefaults": {
           "line": {
            "color": "#2a3f5f"
           }
          },
          "ternary": {
           "aaxis": {
            "gridcolor": "white",
            "linecolor": "white",
            "ticks": ""
           },
           "baxis": {
            "gridcolor": "white",
            "linecolor": "white",
            "ticks": ""
           },
           "bgcolor": "#E5ECF6",
           "caxis": {
            "gridcolor": "white",
            "linecolor": "white",
            "ticks": ""
           }
          },
          "title": {
           "x": 0.05
          },
          "xaxis": {
           "automargin": true,
           "gridcolor": "white",
           "linecolor": "white",
           "ticks": "",
           "title": {
            "standoff": 15
           },
           "zerolinecolor": "white",
           "zerolinewidth": 2
          },
          "yaxis": {
           "automargin": true,
           "gridcolor": "white",
           "linecolor": "white",
           "ticks": "",
           "title": {
            "standoff": 15
           },
           "zerolinecolor": "white",
           "zerolinewidth": 2
          }
         }
        },
        "title": {
         "text": "Confirmed Deaths Heat Map (Log Scale) on 2020-04-28"
        }
       }
      },
      "text/html": [
       "<div>\n",
       "        \n",
       "        \n",
       "            <div id=\"0fd6f3f3-57cf-49b4-bc22-52f183c05ae4\" class=\"plotly-graph-div\" style=\"height:525px; width:100%;\"></div>\n",
       "            <script type=\"text/javascript\">\n",
       "                require([\"plotly\"], function(Plotly) {\n",
       "                    window.PLOTLYENV=window.PLOTLYENV || {};\n",
       "                    \n",
       "                if (document.getElementById(\"0fd6f3f3-57cf-49b4-bc22-52f183c05ae4\")) {\n",
       "                    Plotly.newPlot(\n",
       "                        '0fd6f3f3-57cf-49b4-bc22-52f183c05ae4',\n",
       "                        [{\"coloraxis\": \"coloraxis\", \"customdata\": [[58], [30], [437], [41], [2], [3], [207], [30], [89], [569], [22], [11], [8], [155], [6], [79], [7331], [2], [1], [0], [53], [63], [1], [5083], [1], [58], [42], [5], [1], [1], [0], [58], [2983], [0], [2], [207], [4637], [269], [8], [30], [6], [14], [63], [58], [15], [227], [434], [13], [2], [0], [286], [871], [359], [8], [1], [0], [50], [1], [3], [0], [199], [23694], [3], [1], [6], [6314], [16], [138], [0], [15], [7], [1], [8], [6], [0], [64], [291], [10], [1008], [773], [5877], [90], [1159], [210], [27359], [7], [394], [8], [25], [14], [246], [12], [23], [8], [0], [13], [24], [16], [2], [1], [44], [89], [2], [0], [3], [100], [0], [24], [4], [1], [10], [1569], [103], [4], [0], [7], [165], [0], [0], [0], [4582], [19], [3], [31], [44], [71], [206], [10], [312], [167], [0], [9], [854], [530], [596], [948], [10], [663], [867], [0], [0], [0], [0], [41], [0], [152], [9], [125], [0], [4], [14], [20], [86], [28], [93], [0], [23822], [7], [25], [1], [2355], [1699], [3], [6], [10], [54], [0], [6], [8], [40], [2992], [116710], [0], [239], [89], [21745], [15], [8], [10], [0], [2], [0], [0], [3], [4]], \"geo\": \"geo\", \"hovertemplate\": \"<b>%{hovertext}</b><br><br>deaths=%{customdata[0]}<br>country=%{location}<br>color=%{z}<extra></extra>\", \"hovertext\": [\"Afghanistan\", \"Albania\", \"Algeria\", \"Andorra\", \"Angola\", \"Antigua and Barbuda\", \"Argentina\", \"Armenia\", \"Australia\", \"Austria\", \"Azerbaijan\", \"Bahamas\", \"Bahrain\", \"Bangladesh\", \"Barbados\", \"Belarus\", \"Belgium\", \"Belize\", \"Benin\", \"Bhutan\", \"Bolivia\", \"Bosnia and Herzegovina\", \"Botswana\", \"Brazil\", \"Brunei\", \"Bulgaria\", \"Burkina Faso\", \"Burma\", \"Burundi\", \"Cabo Verde\", \"Cambodia\", \"Cameroon\", \"Canada\", \"Central African Republic\", \"Chad\", \"Chile\", \"China\", \"Colombia\", \"Congo (Brazzaville)\", \"Congo (Kinshasa)\", \"Costa Rica\", \"Cote d'Ivoire\", \"Croatia\", \"Cuba\", \"Cyprus\", \"Czechia\", \"Denmark\", \"Diamond Princess\", \"Djibouti\", \"Dominica\", \"Dominican Republic\", \"Ecuador\", \"Egypt\", \"El Salvador\", \"Equatorial Guinea\", \"Eritrea\", \"Estonia\", \"Eswatini\", \"Ethiopia\", \"Fiji\", \"Finland\", \"France\", \"Gabon\", \"Gambia\", \"Georgia\", \"Germany\", \"Ghana\", \"Greece\", \"Grenada\", \"Guatemala\", \"Guinea\", \"Guinea-Bissau\", \"Guyana\", \"Haiti\", \"Holy See\", \"Honduras\", \"Hungary\", \"Iceland\", \"India\", \"Indonesia\", \"Iran\", \"Iraq\", \"Ireland\", \"Israel\", \"Italy\", \"Jamaica\", \"Japan\", \"Jordan\", \"Kazakhstan\", \"Kenya\", \"Korea, South\", \"Kosovo\", \"Kuwait\", \"Kyrgyzstan\", \"Laos\", \"Latvia\", \"Lebanon\", \"Liberia\", \"Libya\", \"Liechtenstein\", \"Lithuania\", \"Luxembourg\", \"MS Zaandam\", \"Madagascar\", \"Malawi\", \"Malaysia\", \"Maldives\", \"Mali\", \"Malta\", \"Mauritania\", \"Mauritius\", \"Mexico\", \"Moldova\", \"Monaco\", \"Mongolia\", \"Montenegro\", \"Morocco\", \"Mozambique\", \"Namibia\", \"Nepal\", \"Netherlands\", \"New Zealand\", \"Nicaragua\", \"Niger\", \"Nigeria\", \"North Macedonia\", \"Norway\", \"Oman\", \"Pakistan\", \"Panama\", \"Papua New Guinea\", \"Paraguay\", \"Peru\", \"Philippines\", \"Poland\", \"Portugal\", \"Qatar\", \"Romania\", \"Russia\", \"Rwanda\", \"Saint Kitts and Nevis\", \"Saint Lucia\", \"Saint Vincent and the Grenadines\", \"San Marino\", \"Sao Tome and Principe\", \"Saudi Arabia\", \"Senegal\", \"Serbia\", \"Seychelles\", \"Sierra Leone\", \"Singapore\", \"Slovakia\", \"Slovenia\", \"Somalia\", \"South Africa\", \"South Sudan\", \"Spain\", \"Sri Lanka\", \"Sudan\", \"Suriname\", \"Sweden\", \"Switzerland\", \"Syria\", \"Taiwan*\", \"Tanzania\", \"Thailand\", \"Timor-Leste\", \"Togo\", \"Trinidad and Tobago\", \"Tunisia\", \"Turkey\", \"USA\", \"Uganda\", \"Ukraine\", \"United Arab Emirates\", \"United Kingdom\", \"Uruguay\", \"Uzbekistan\", \"Venezuela\", \"Vietnam\", \"West Bank and Gaza\", \"Western Sahara\", \"Yemen\", \"Zambia\", \"Zimbabwe\"], \"locationmode\": \"country names\", \"locations\": [\"Afghanistan\", \"Albania\", \"Algeria\", \"Andorra\", \"Angola\", \"Antigua and Barbuda\", \"Argentina\", \"Armenia\", \"Australia\", \"Austria\", \"Azerbaijan\", \"Bahamas\", \"Bahrain\", \"Bangladesh\", \"Barbados\", \"Belarus\", \"Belgium\", \"Belize\", \"Benin\", \"Bhutan\", \"Bolivia\", \"Bosnia and Herzegovina\", \"Botswana\", \"Brazil\", \"Brunei\", \"Bulgaria\", \"Burkina Faso\", \"Burma\", \"Burundi\", \"Cabo Verde\", \"Cambodia\", \"Cameroon\", \"Canada\", \"Central African Republic\", \"Chad\", \"Chile\", \"China\", \"Colombia\", \"Congo (Brazzaville)\", \"Congo (Kinshasa)\", \"Costa Rica\", \"Cote d'Ivoire\", \"Croatia\", \"Cuba\", \"Cyprus\", \"Czechia\", \"Denmark\", \"Diamond Princess\", \"Djibouti\", \"Dominica\", \"Dominican Republic\", \"Ecuador\", \"Egypt\", \"El Salvador\", \"Equatorial Guinea\", \"Eritrea\", \"Estonia\", \"Eswatini\", \"Ethiopia\", \"Fiji\", \"Finland\", \"France\", \"Gabon\", \"Gambia\", \"Georgia\", \"Germany\", \"Ghana\", \"Greece\", \"Grenada\", \"Guatemala\", \"Guinea\", \"Guinea-Bissau\", \"Guyana\", \"Haiti\", \"Holy See\", \"Honduras\", \"Hungary\", \"Iceland\", \"India\", \"Indonesia\", \"Iran\", \"Iraq\", \"Ireland\", \"Israel\", \"Italy\", \"Jamaica\", \"Japan\", \"Jordan\", \"Kazakhstan\", \"Kenya\", \"Korea, South\", \"Kosovo\", \"Kuwait\", \"Kyrgyzstan\", \"Laos\", \"Latvia\", \"Lebanon\", \"Liberia\", \"Libya\", \"Liechtenstein\", \"Lithuania\", \"Luxembourg\", \"MS Zaandam\", \"Madagascar\", \"Malawi\", \"Malaysia\", \"Maldives\", \"Mali\", \"Malta\", \"Mauritania\", \"Mauritius\", \"Mexico\", \"Moldova\", \"Monaco\", \"Mongolia\", \"Montenegro\", \"Morocco\", \"Mozambique\", \"Namibia\", \"Nepal\", \"Netherlands\", \"New Zealand\", \"Nicaragua\", \"Niger\", \"Nigeria\", \"North Macedonia\", \"Norway\", \"Oman\", \"Pakistan\", \"Panama\", \"Papua New Guinea\", \"Paraguay\", \"Peru\", \"Philippines\", \"Poland\", \"Portugal\", \"Qatar\", \"Romania\", \"Russia\", \"Rwanda\", \"Saint Kitts and Nevis\", \"Saint Lucia\", \"Saint Vincent and the Grenadines\", \"San Marino\", \"Sao Tome and Principe\", \"Saudi Arabia\", \"Senegal\", \"Serbia\", \"Seychelles\", \"Sierra Leone\", \"Singapore\", \"Slovakia\", \"Slovenia\", \"Somalia\", \"South Africa\", \"South Sudan\", \"Spain\", \"Sri Lanka\", \"Sudan\", \"Suriname\", \"Sweden\", \"Switzerland\", \"Syria\", \"Taiwan*\", \"Tanzania\", \"Thailand\", \"Timor-Leste\", \"Togo\", \"Trinidad and Tobago\", \"Tunisia\", \"Turkey\", \"USA\", \"Uganda\", \"Ukraine\", \"United Arab Emirates\", \"United Kingdom\", \"Uruguay\", \"Uzbekistan\", \"Venezuela\", \"Vietnam\", \"West Bank and Gaza\", \"Western Sahara\", \"Yemen\", \"Zambia\", \"Zimbabwe\"], \"name\": \"\", \"type\": \"choropleth\", \"z\": [1.7708520116421442, 1.4913616938342726, 2.6414741105040997, 1.6232492903979006, 0.47712125471966244, 0.6020599913279624, 2.3180633349627615, 1.4913616938342726, 1.954242509439325, 2.7558748556724915, 1.3617278360175928, 1.0791812460476249, 0.9542425094393249, 2.1931245983544616, 0.8450980400142568, 1.9030899869919435, 3.865222456290179, 0.47712125471966244, 0.3010299956639812, 0.0, 1.7323937598229686, 1.806179973983887, 0.3010299956639812, 3.7062055418819706, 0.3010299956639812, 1.7708520116421442, 1.6334684555795864, 0.7781512503836436, 0.3010299956639812, 0.3010299956639812, 0.0, 1.7708520116421442, 3.474798818800631, 0.0, 0.47712125471966244, 2.3180633349627615, 3.6663307443019684, 2.4313637641589874, 0.9542425094393249, 1.4913616938342726, 0.8450980400142568, 1.1760912590556813, 1.806179973983887, 1.7708520116421442, 1.2041199826559248, 2.357934847000454, 2.6384892569546374, 1.146128035678238, 0.47712125471966244, 0.0, 2.4578818967339924, 2.940516484932567, 2.5563025007672873, 0.9542425094393249, 0.3010299956639812, 0.0, 1.7075701760979363, 0.3010299956639812, 0.6020599913279624, 0.0, 2.3010299956639813, 4.37465671303542, 0.6020599913279624, 0.3010299956639812, 0.8450980400142568, 3.8003733548913496, 1.2304489213782739, 2.143014800254095, 0.0, 1.2041199826559248, 0.9030899869919435, 0.3010299956639812, 0.9542425094393249, 0.8450980400142568, 0.0, 1.8129133566428555, 2.4653828514484184, 1.0413926851582251, 3.0038911662369103, 2.8887409606828927, 3.7692295817365937, 1.9590413923210936, 3.0644579892269186, 2.3242824552976926, 4.437116093048078, 0.9030899869919435, 2.59659709562646, 0.9542425094393249, 1.414973347970818, 1.1760912590556813, 2.392696953259666, 1.1139433523068367, 1.380211241711606, 0.9542425094393249, 0.0, 1.146128035678238, 1.3979400086720377, 1.2304489213782739, 0.47712125471966244, 0.3010299956639812, 1.6532125137753437, 1.954242509439325, 0.47712125471966244, 0.0, 0.6020599913279624, 2.0043213737826426, 0.0, 1.3979400086720377, 0.6989700043360189, 0.3010299956639812, 1.0413926851582251, 3.1958996524092336, 2.0170333392987803, 0.6989700043360189, 0.0, 0.9030899869919435, 2.220108088040055, 0.0, 0.0, 0.0, 3.6611498572447867, 1.3010299956639813, 0.6020599913279624, 1.505149978319906, 1.6532125137753437, 1.8573324964312685, 2.315970345456918, 1.0413926851582251, 2.4955443375464483, 2.225309281725863, 0.0, 1.0, 2.931966114728173, 2.725094521081469, 2.775974331129369, 2.977266212427293, 1.0413926851582251, 2.8221680793680175, 2.938519725176492, 0.0, 0.0, 0.0, 0.0, 1.6232492903979006, 0.0, 2.184691430817599, 1.0, 2.100370545117563, 0.0, 0.6989700043360189, 1.1760912590556813, 1.3222192947339193, 1.9395192526186185, 1.462397997898956, 1.9731278535996986, 0.0, 4.376996450740673, 0.9030899869919435, 1.414973347970818, 0.3010299956639812, 3.372175286115064, 3.230448921378274, 0.6020599913279624, 0.8450980400142568, 1.0413926851582251, 1.7403626894942439, 0.0, 0.8450980400142568, 0.9542425094393249, 1.6127838567197355, 3.4761067168401913, 5.067111790185616, 0.0, 2.380211241711606, 1.954242509439325, 4.337379383695819, 1.2041199826559248, 0.9542425094393249, 1.0413926851582251, 0.0, 0.47712125471966244, 0.0, 0.0, 0.6020599913279624, 0.6989700043360189]}],\n",
       "                        {\"coloraxis\": {\"colorbar\": {\"title\": {\"text\": \"Confirmed Deaths (Log Scale)\"}}, \"colorscale\": [[0.0, \"rgb(255,245,240)\"], [0.125, \"rgb(254,224,210)\"], [0.25, \"rgb(252,187,161)\"], [0.375, \"rgb(252,146,114)\"], [0.5, \"rgb(251,106,74)\"], [0.625, \"rgb(239,59,44)\"], [0.75, \"rgb(203,24,29)\"], [0.875, \"rgb(165,15,21)\"], [1.0, \"rgb(103,0,13)\"]]}, \"geo\": {\"center\": {}, \"domain\": {\"x\": [0.0, 1.0], \"y\": [0.0, 1.0]}, \"fitbounds\": \"locations\", \"visible\": false}, \"legend\": {\"tracegroupgap\": 0}, \"margin\": {\"t\": 60}, \"template\": {\"data\": {\"bar\": [{\"error_x\": {\"color\": \"#2a3f5f\"}, \"error_y\": {\"color\": \"#2a3f5f\"}, \"marker\": {\"line\": {\"color\": \"#E5ECF6\", \"width\": 0.5}}, \"type\": \"bar\"}], \"barpolar\": [{\"marker\": {\"line\": {\"color\": \"#E5ECF6\", \"width\": 0.5}}, \"type\": \"barpolar\"}], \"carpet\": [{\"aaxis\": {\"endlinecolor\": \"#2a3f5f\", \"gridcolor\": \"white\", \"linecolor\": \"white\", \"minorgridcolor\": \"white\", \"startlinecolor\": \"#2a3f5f\"}, \"baxis\": {\"endlinecolor\": \"#2a3f5f\", \"gridcolor\": \"white\", \"linecolor\": \"white\", \"minorgridcolor\": \"white\", \"startlinecolor\": \"#2a3f5f\"}, \"type\": \"carpet\"}], \"choropleth\": [{\"colorbar\": {\"outlinewidth\": 0, \"ticks\": \"\"}, \"type\": \"choropleth\"}], \"contour\": [{\"colorbar\": {\"outlinewidth\": 0, \"ticks\": \"\"}, \"colorscale\": [[0.0, \"#0d0887\"], [0.1111111111111111, \"#46039f\"], [0.2222222222222222, \"#7201a8\"], [0.3333333333333333, \"#9c179e\"], [0.4444444444444444, \"#bd3786\"], [0.5555555555555556, \"#d8576b\"], [0.6666666666666666, \"#ed7953\"], [0.7777777777777778, \"#fb9f3a\"], [0.8888888888888888, \"#fdca26\"], [1.0, \"#f0f921\"]], \"type\": \"contour\"}], \"contourcarpet\": [{\"colorbar\": {\"outlinewidth\": 0, \"ticks\": \"\"}, \"type\": \"contourcarpet\"}], \"heatmap\": [{\"colorbar\": {\"outlinewidth\": 0, \"ticks\": \"\"}, \"colorscale\": [[0.0, \"#0d0887\"], [0.1111111111111111, \"#46039f\"], [0.2222222222222222, \"#7201a8\"], [0.3333333333333333, \"#9c179e\"], [0.4444444444444444, \"#bd3786\"], [0.5555555555555556, \"#d8576b\"], [0.6666666666666666, \"#ed7953\"], [0.7777777777777778, \"#fb9f3a\"], [0.8888888888888888, \"#fdca26\"], [1.0, \"#f0f921\"]], \"type\": \"heatmap\"}], \"heatmapgl\": [{\"colorbar\": {\"outlinewidth\": 0, \"ticks\": \"\"}, \"colorscale\": [[0.0, \"#0d0887\"], [0.1111111111111111, \"#46039f\"], [0.2222222222222222, \"#7201a8\"], [0.3333333333333333, \"#9c179e\"], [0.4444444444444444, \"#bd3786\"], [0.5555555555555556, \"#d8576b\"], [0.6666666666666666, \"#ed7953\"], [0.7777777777777778, \"#fb9f3a\"], [0.8888888888888888, \"#fdca26\"], [1.0, \"#f0f921\"]], \"type\": \"heatmapgl\"}], \"histogram\": [{\"marker\": {\"colorbar\": {\"outlinewidth\": 0, \"ticks\": \"\"}}, \"type\": \"histogram\"}], \"histogram2d\": [{\"colorbar\": {\"outlinewidth\": 0, \"ticks\": \"\"}, \"colorscale\": [[0.0, \"#0d0887\"], [0.1111111111111111, \"#46039f\"], [0.2222222222222222, \"#7201a8\"], [0.3333333333333333, \"#9c179e\"], [0.4444444444444444, \"#bd3786\"], [0.5555555555555556, \"#d8576b\"], [0.6666666666666666, \"#ed7953\"], [0.7777777777777778, \"#fb9f3a\"], [0.8888888888888888, \"#fdca26\"], [1.0, \"#f0f921\"]], \"type\": \"histogram2d\"}], \"histogram2dcontour\": [{\"colorbar\": {\"outlinewidth\": 0, \"ticks\": \"\"}, \"colorscale\": [[0.0, \"#0d0887\"], [0.1111111111111111, \"#46039f\"], [0.2222222222222222, \"#7201a8\"], [0.3333333333333333, \"#9c179e\"], [0.4444444444444444, \"#bd3786\"], [0.5555555555555556, \"#d8576b\"], [0.6666666666666666, \"#ed7953\"], [0.7777777777777778, \"#fb9f3a\"], [0.8888888888888888, \"#fdca26\"], [1.0, \"#f0f921\"]], \"type\": \"histogram2dcontour\"}], \"mesh3d\": [{\"colorbar\": {\"outlinewidth\": 0, \"ticks\": \"\"}, \"type\": \"mesh3d\"}], \"parcoords\": [{\"line\": {\"colorbar\": {\"outlinewidth\": 0, \"ticks\": \"\"}}, \"type\": \"parcoords\"}], \"pie\": [{\"automargin\": true, \"type\": \"pie\"}], \"scatter\": [{\"marker\": {\"colorbar\": {\"outlinewidth\": 0, \"ticks\": \"\"}}, \"type\": \"scatter\"}], \"scatter3d\": [{\"line\": {\"colorbar\": {\"outlinewidth\": 0, \"ticks\": \"\"}}, \"marker\": {\"colorbar\": {\"outlinewidth\": 0, \"ticks\": \"\"}}, \"type\": \"scatter3d\"}], \"scattercarpet\": [{\"marker\": {\"colorbar\": {\"outlinewidth\": 0, \"ticks\": \"\"}}, \"type\": \"scattercarpet\"}], \"scattergeo\": [{\"marker\": {\"colorbar\": {\"outlinewidth\": 0, \"ticks\": \"\"}}, \"type\": \"scattergeo\"}], \"scattergl\": [{\"marker\": {\"colorbar\": {\"outlinewidth\": 0, \"ticks\": \"\"}}, \"type\": \"scattergl\"}], \"scattermapbox\": [{\"marker\": {\"colorbar\": {\"outlinewidth\": 0, \"ticks\": \"\"}}, \"type\": \"scattermapbox\"}], \"scatterpolar\": [{\"marker\": {\"colorbar\": {\"outlinewidth\": 0, \"ticks\": \"\"}}, \"type\": \"scatterpolar\"}], \"scatterpolargl\": [{\"marker\": {\"colorbar\": {\"outlinewidth\": 0, \"ticks\": \"\"}}, \"type\": \"scatterpolargl\"}], \"scatterternary\": [{\"marker\": {\"colorbar\": {\"outlinewidth\": 0, \"ticks\": \"\"}}, \"type\": \"scatterternary\"}], \"surface\": [{\"colorbar\": {\"outlinewidth\": 0, \"ticks\": \"\"}, \"colorscale\": [[0.0, \"#0d0887\"], [0.1111111111111111, \"#46039f\"], [0.2222222222222222, \"#7201a8\"], [0.3333333333333333, \"#9c179e\"], [0.4444444444444444, \"#bd3786\"], [0.5555555555555556, \"#d8576b\"], [0.6666666666666666, \"#ed7953\"], [0.7777777777777778, \"#fb9f3a\"], [0.8888888888888888, \"#fdca26\"], [1.0, \"#f0f921\"]], \"type\": \"surface\"}], \"table\": [{\"cells\": {\"fill\": {\"color\": \"#EBF0F8\"}, \"line\": {\"color\": \"white\"}}, \"header\": {\"fill\": {\"color\": \"#C8D4E3\"}, \"line\": {\"color\": \"white\"}}, \"type\": \"table\"}]}, \"layout\": {\"annotationdefaults\": {\"arrowcolor\": \"#2a3f5f\", \"arrowhead\": 0, \"arrowwidth\": 1}, \"coloraxis\": {\"colorbar\": {\"outlinewidth\": 0, \"ticks\": \"\"}}, \"colorscale\": {\"diverging\": [[0, \"#8e0152\"], [0.1, \"#c51b7d\"], [0.2, \"#de77ae\"], [0.3, \"#f1b6da\"], [0.4, \"#fde0ef\"], [0.5, \"#f7f7f7\"], [0.6, \"#e6f5d0\"], [0.7, \"#b8e186\"], [0.8, \"#7fbc41\"], [0.9, \"#4d9221\"], [1, \"#276419\"]], \"sequential\": [[0.0, \"#0d0887\"], [0.1111111111111111, \"#46039f\"], [0.2222222222222222, \"#7201a8\"], [0.3333333333333333, \"#9c179e\"], [0.4444444444444444, \"#bd3786\"], [0.5555555555555556, \"#d8576b\"], [0.6666666666666666, \"#ed7953\"], [0.7777777777777778, \"#fb9f3a\"], [0.8888888888888888, \"#fdca26\"], [1.0, \"#f0f921\"]], \"sequentialminus\": [[0.0, \"#0d0887\"], [0.1111111111111111, \"#46039f\"], [0.2222222222222222, \"#7201a8\"], [0.3333333333333333, \"#9c179e\"], [0.4444444444444444, \"#bd3786\"], [0.5555555555555556, \"#d8576b\"], [0.6666666666666666, \"#ed7953\"], [0.7777777777777778, \"#fb9f3a\"], [0.8888888888888888, \"#fdca26\"], [1.0, \"#f0f921\"]]}, \"colorway\": [\"#636efa\", \"#EF553B\", \"#00cc96\", \"#ab63fa\", \"#FFA15A\", \"#19d3f3\", \"#FF6692\", \"#B6E880\", \"#FF97FF\", \"#FECB52\"], \"font\": {\"color\": \"#2a3f5f\"}, \"geo\": {\"bgcolor\": \"white\", \"lakecolor\": \"white\", \"landcolor\": \"#E5ECF6\", \"showlakes\": true, \"showland\": true, \"subunitcolor\": \"white\"}, \"hoverlabel\": {\"align\": \"left\"}, \"hovermode\": \"closest\", \"mapbox\": {\"style\": \"light\"}, \"paper_bgcolor\": \"white\", \"plot_bgcolor\": \"#E5ECF6\", \"polar\": {\"angularaxis\": {\"gridcolor\": \"white\", \"linecolor\": \"white\", \"ticks\": \"\"}, \"bgcolor\": \"#E5ECF6\", \"radialaxis\": {\"gridcolor\": \"white\", \"linecolor\": \"white\", \"ticks\": \"\"}}, \"scene\": {\"xaxis\": {\"backgroundcolor\": \"#E5ECF6\", \"gridcolor\": \"white\", \"gridwidth\": 2, \"linecolor\": \"white\", \"showbackground\": true, \"ticks\": \"\", \"zerolinecolor\": \"white\"}, \"yaxis\": {\"backgroundcolor\": \"#E5ECF6\", \"gridcolor\": \"white\", \"gridwidth\": 2, \"linecolor\": \"white\", \"showbackground\": true, \"ticks\": \"\", \"zerolinecolor\": \"white\"}, \"zaxis\": {\"backgroundcolor\": \"#E5ECF6\", \"gridcolor\": \"white\", \"gridwidth\": 2, \"linecolor\": \"white\", \"showbackground\": true, \"ticks\": \"\", \"zerolinecolor\": \"white\"}}, \"shapedefaults\": {\"line\": {\"color\": \"#2a3f5f\"}}, \"ternary\": {\"aaxis\": {\"gridcolor\": \"white\", \"linecolor\": \"white\", \"ticks\": \"\"}, \"baxis\": {\"gridcolor\": \"white\", \"linecolor\": \"white\", \"ticks\": \"\"}, \"bgcolor\": \"#E5ECF6\", \"caxis\": {\"gridcolor\": \"white\", \"linecolor\": \"white\", \"ticks\": \"\"}}, \"title\": {\"x\": 0.05}, \"xaxis\": {\"automargin\": true, \"gridcolor\": \"white\", \"linecolor\": \"white\", \"ticks\": \"\", \"title\": {\"standoff\": 15}, \"zerolinecolor\": \"white\", \"zerolinewidth\": 2}, \"yaxis\": {\"automargin\": true, \"gridcolor\": \"white\", \"linecolor\": \"white\", \"ticks\": \"\", \"title\": {\"standoff\": 15}, \"zerolinecolor\": \"white\", \"zerolinewidth\": 2}}}, \"title\": {\"text\": \"Confirmed Deaths Heat Map (Log Scale) on 2020-04-28\"}},\n",
       "                        {\"responsive\": true}\n",
       "                    ).then(function(){\n",
       "                            \n",
       "var gd = document.getElementById('0fd6f3f3-57cf-49b4-bc22-52f183c05ae4');\n",
       "var x = new MutationObserver(function (mutations, observer) {{\n",
       "        var display = window.getComputedStyle(gd).display;\n",
       "        if (!display || display === 'none') {{\n",
       "            console.log([gd, 'removed!']);\n",
       "            Plotly.purge(gd);\n",
       "            observer.disconnect();\n",
       "        }}\n",
       "}});\n",
       "\n",
       "// Listen for the removal of the full notebook cells\n",
       "var notebookContainer = gd.closest('#notebook-container');\n",
       "if (notebookContainer) {{\n",
       "    x.observe(notebookContainer, {childList: true});\n",
       "}}\n",
       "\n",
       "// Listen for the clearing of the current output cell\n",
       "var outputEl = gd.closest('.output');\n",
       "if (outputEl) {{\n",
       "    x.observe(outputEl, {childList: true});\n",
       "}}\n",
       "\n",
       "                        })\n",
       "                };\n",
       "                });\n",
       "            </script>\n",
       "        </div>"
      ]
     },
     "metadata": {},
     "output_type": "display_data"
    }
   ],
   "source": [
    "temp_df = pd.DataFrame(latest_cases['deaths'])\n",
    "temp_df = temp_df.reset_index()\n",
    "fig = px.choropleth(temp_df, locations=\"country\",\n",
    "                    color=np.log10(temp_df[\"deaths\"]+1), # using a log10 ratio for the map coloring\n",
    "                    hover_name=\"country\", # column to add to hover information\n",
    "                    hover_data=[\"deaths\"],\n",
    "                    color_continuous_scale=px.colors.sequential.Plasma,locationmode=\"country names\")\n",
    "fig.update_geos(fitbounds=\"locations\", visible=False)\n",
    "fig.update_layout(title_text=\"Confirmed Deaths Heat Map (Log Scale) on \" + max_date)\n",
    "fig.update_coloraxes(colorbar_title=\"Confirmed Deaths (Log Scale)\",colorscale=\"Reds\")\n",
    "fig.show()\n"
   ]
  },
  {
   "cell_type": "code",
   "execution_count": 28,
   "metadata": {},
   "outputs": [
    {
     "ename": "ValueError",
     "evalue": "cannot insert level_0, already exists",
     "output_type": "error",
     "traceback": [
      "\u001b[1;31m---------------------------------------------------------------------------\u001b[0m",
      "\u001b[1;31mValueError\u001b[0m                                Traceback (most recent call last)",
      "\u001b[1;32m<ipython-input-28-3105208d3555>\u001b[0m in \u001b[0;36m<module>\u001b[1;34m\u001b[0m\n\u001b[1;32m----> 1\u001b[1;33m \u001b[0mlatest_cases\u001b[0m \u001b[1;33m=\u001b[0m \u001b[0mlatest_cases\u001b[0m\u001b[1;33m.\u001b[0m\u001b[0mreset_index\u001b[0m\u001b[1;33m(\u001b[0m\u001b[1;33m)\u001b[0m\u001b[1;33m\u001b[0m\u001b[1;33m\u001b[0m\u001b[0m\n\u001b[0m\u001b[0;32m      2\u001b[0m \u001b[1;33m\u001b[0m\u001b[0m\n\u001b[0;32m      3\u001b[0m fig = px.scatter(latest_cases, y=latest_cases.loc[:,\"mortality_rate\"],\n\u001b[0;32m      4\u001b[0m                     \u001b[0mx\u001b[0m\u001b[1;33m=\u001b[0m \u001b[0mlatest_cases\u001b[0m\u001b[1;33m.\u001b[0m\u001b[0mloc\u001b[0m\u001b[1;33m[\u001b[0m\u001b[1;33m:\u001b[0m\u001b[1;33m,\u001b[0m\u001b[1;34m\"confirmed\"\u001b[0m\u001b[1;33m]\u001b[0m\u001b[1;33m,\u001b[0m\u001b[1;33m\u001b[0m\u001b[1;33m\u001b[0m\u001b[0m\n\u001b[0;32m      5\u001b[0m                     \u001b[0mcolor\u001b[0m\u001b[1;33m=\u001b[0m \u001b[1;34m\"country\"\u001b[0m\u001b[1;33m,\u001b[0m \u001b[0mhover_name\u001b[0m\u001b[1;33m=\u001b[0m\u001b[1;34m\"confirmed\"\u001b[0m\u001b[1;33m,\u001b[0m\u001b[1;33m\u001b[0m\u001b[1;33m\u001b[0m\u001b[0m\n",
      "\u001b[1;32m~\\Anaconda3\\lib\\site-packages\\pandas\\core\\frame.py\u001b[0m in \u001b[0;36mreset_index\u001b[1;34m(self, level, drop, inplace, col_level, col_fill)\u001b[0m\n\u001b[0;32m   4602\u001b[0m                 \u001b[1;31m# to ndarray and maybe infer different dtype\u001b[0m\u001b[1;33m\u001b[0m\u001b[1;33m\u001b[0m\u001b[1;33m\u001b[0m\u001b[0m\n\u001b[0;32m   4603\u001b[0m                 \u001b[0mlevel_values\u001b[0m \u001b[1;33m=\u001b[0m \u001b[0m_maybe_casted_values\u001b[0m\u001b[1;33m(\u001b[0m\u001b[0mlev\u001b[0m\u001b[1;33m,\u001b[0m \u001b[0mlab\u001b[0m\u001b[1;33m)\u001b[0m\u001b[1;33m\u001b[0m\u001b[1;33m\u001b[0m\u001b[0m\n\u001b[1;32m-> 4604\u001b[1;33m                 \u001b[0mnew_obj\u001b[0m\u001b[1;33m.\u001b[0m\u001b[0minsert\u001b[0m\u001b[1;33m(\u001b[0m\u001b[1;36m0\u001b[0m\u001b[1;33m,\u001b[0m \u001b[0mname\u001b[0m\u001b[1;33m,\u001b[0m \u001b[0mlevel_values\u001b[0m\u001b[1;33m)\u001b[0m\u001b[1;33m\u001b[0m\u001b[1;33m\u001b[0m\u001b[0m\n\u001b[0m\u001b[0;32m   4605\u001b[0m \u001b[1;33m\u001b[0m\u001b[0m\n\u001b[0;32m   4606\u001b[0m         \u001b[0mnew_obj\u001b[0m\u001b[1;33m.\u001b[0m\u001b[0mindex\u001b[0m \u001b[1;33m=\u001b[0m \u001b[0mnew_index\u001b[0m\u001b[1;33m\u001b[0m\u001b[1;33m\u001b[0m\u001b[0m\n",
      "\u001b[1;32m~\\Anaconda3\\lib\\site-packages\\pandas\\core\\frame.py\u001b[0m in \u001b[0;36minsert\u001b[1;34m(self, loc, column, value, allow_duplicates)\u001b[0m\n\u001b[0;32m   3494\u001b[0m         \u001b[0mself\u001b[0m\u001b[1;33m.\u001b[0m\u001b[0m_ensure_valid_index\u001b[0m\u001b[1;33m(\u001b[0m\u001b[0mvalue\u001b[0m\u001b[1;33m)\u001b[0m\u001b[1;33m\u001b[0m\u001b[1;33m\u001b[0m\u001b[0m\n\u001b[0;32m   3495\u001b[0m         \u001b[0mvalue\u001b[0m \u001b[1;33m=\u001b[0m \u001b[0mself\u001b[0m\u001b[1;33m.\u001b[0m\u001b[0m_sanitize_column\u001b[0m\u001b[1;33m(\u001b[0m\u001b[0mcolumn\u001b[0m\u001b[1;33m,\u001b[0m \u001b[0mvalue\u001b[0m\u001b[1;33m,\u001b[0m \u001b[0mbroadcast\u001b[0m\u001b[1;33m=\u001b[0m\u001b[1;32mFalse\u001b[0m\u001b[1;33m)\u001b[0m\u001b[1;33m\u001b[0m\u001b[1;33m\u001b[0m\u001b[0m\n\u001b[1;32m-> 3496\u001b[1;33m         \u001b[0mself\u001b[0m\u001b[1;33m.\u001b[0m\u001b[0m_data\u001b[0m\u001b[1;33m.\u001b[0m\u001b[0minsert\u001b[0m\u001b[1;33m(\u001b[0m\u001b[0mloc\u001b[0m\u001b[1;33m,\u001b[0m \u001b[0mcolumn\u001b[0m\u001b[1;33m,\u001b[0m \u001b[0mvalue\u001b[0m\u001b[1;33m,\u001b[0m \u001b[0mallow_duplicates\u001b[0m\u001b[1;33m=\u001b[0m\u001b[0mallow_duplicates\u001b[0m\u001b[1;33m)\u001b[0m\u001b[1;33m\u001b[0m\u001b[1;33m\u001b[0m\u001b[0m\n\u001b[0m\u001b[0;32m   3497\u001b[0m \u001b[1;33m\u001b[0m\u001b[0m\n\u001b[0;32m   3498\u001b[0m     \u001b[1;32mdef\u001b[0m \u001b[0massign\u001b[0m\u001b[1;33m(\u001b[0m\u001b[0mself\u001b[0m\u001b[1;33m,\u001b[0m \u001b[1;33m**\u001b[0m\u001b[0mkwargs\u001b[0m\u001b[1;33m)\u001b[0m \u001b[1;33m->\u001b[0m \u001b[1;34m\"DataFrame\"\u001b[0m\u001b[1;33m:\u001b[0m\u001b[1;33m\u001b[0m\u001b[1;33m\u001b[0m\u001b[0m\n",
      "\u001b[1;32m~\\Anaconda3\\lib\\site-packages\\pandas\\core\\internals\\managers.py\u001b[0m in \u001b[0;36minsert\u001b[1;34m(self, loc, item, value, allow_duplicates)\u001b[0m\n\u001b[0;32m   1171\u001b[0m         \u001b[1;32mif\u001b[0m \u001b[1;32mnot\u001b[0m \u001b[0mallow_duplicates\u001b[0m \u001b[1;32mand\u001b[0m \u001b[0mitem\u001b[0m \u001b[1;32min\u001b[0m \u001b[0mself\u001b[0m\u001b[1;33m.\u001b[0m\u001b[0mitems\u001b[0m\u001b[1;33m:\u001b[0m\u001b[1;33m\u001b[0m\u001b[1;33m\u001b[0m\u001b[0m\n\u001b[0;32m   1172\u001b[0m             \u001b[1;31m# Should this be a different kind of error??\u001b[0m\u001b[1;33m\u001b[0m\u001b[1;33m\u001b[0m\u001b[1;33m\u001b[0m\u001b[0m\n\u001b[1;32m-> 1173\u001b[1;33m             \u001b[1;32mraise\u001b[0m \u001b[0mValueError\u001b[0m\u001b[1;33m(\u001b[0m\u001b[1;34mf\"cannot insert {item}, already exists\"\u001b[0m\u001b[1;33m)\u001b[0m\u001b[1;33m\u001b[0m\u001b[1;33m\u001b[0m\u001b[0m\n\u001b[0m\u001b[0;32m   1174\u001b[0m \u001b[1;33m\u001b[0m\u001b[0m\n\u001b[0;32m   1175\u001b[0m         \u001b[1;32mif\u001b[0m \u001b[1;32mnot\u001b[0m \u001b[0misinstance\u001b[0m\u001b[1;33m(\u001b[0m\u001b[0mloc\u001b[0m\u001b[1;33m,\u001b[0m \u001b[0mint\u001b[0m\u001b[1;33m)\u001b[0m\u001b[1;33m:\u001b[0m\u001b[1;33m\u001b[0m\u001b[1;33m\u001b[0m\u001b[0m\n",
      "\u001b[1;31mValueError\u001b[0m: cannot insert level_0, already exists"
     ]
    }
   ],
   "source": [
    "latest_cases = latest_cases.reset_index()\n",
    "\n",
    "fig = px.scatter(latest_cases, y=latest_cases.loc[:,\"mortality_rate\"],\n",
    "                    x= latest_cases.loc[:,\"confirmed\"],\n",
    "                    color= \"country\", hover_name=\"confirmed\",\n",
    "                    hover_data=[\"confirmed\",\"deaths\",\"country\"],\n",
    "                    color_continuous_scale=px.colors.sequential.Plasma,\n",
    "                    title='Confirmed cases vs Mortality rate',\n",
    "                    size = np.power(latest_cases[\"confirmed\"]+1,0.3)-0.5,\n",
    "                    size_max = 30,\n",
    "                    height =600,\n",
    "                    )\n",
    "fig.update_coloraxes(colorscale=\"hot\")\n",
    "fig.update(layout_coloraxis_showscale=False)\n",
    "fig.update_yaxes(title_text=\"Mortality Rate (%)\")\n",
    "fig.update_xaxes(title_text=\"Confirmed Cases\")\n",
    "fig.show()"
   ]
  },
  {
   "cell_type": "code",
   "execution_count": 29,
   "metadata": {},
   "outputs": [
    {
     "data": {
      "application/vnd.plotly.v1+json": {
       "config": {
        "plotlyServerURL": "https://plot.ly"
       },
       "data": [
        {
         "hovertemplate": "sepal_width=%{x}<br>sepal_length=%{y}<extra></extra>",
         "legendgroup": "",
         "marker": {
          "color": "#636efa",
          "symbol": "circle"
         },
         "mode": "markers",
         "name": "",
         "showlegend": false,
         "type": "scatter",
         "x": [
          3.5,
          3,
          3.2,
          3.1,
          3.6,
          3.9,
          3.4,
          3.4,
          2.9,
          3.1,
          3.7,
          3.4,
          3,
          3,
          4,
          4.4,
          3.9,
          3.5,
          3.8,
          3.8,
          3.4,
          3.7,
          3.6,
          3.3,
          3.4,
          3,
          3.4,
          3.5,
          3.4,
          3.2,
          3.1,
          3.4,
          4.1,
          4.2,
          3.1,
          3.2,
          3.5,
          3.1,
          3,
          3.4,
          3.5,
          2.3,
          3.2,
          3.5,
          3.8,
          3,
          3.8,
          3.2,
          3.7,
          3.3,
          3.2,
          3.2,
          3.1,
          2.3,
          2.8,
          2.8,
          3.3,
          2.4,
          2.9,
          2.7,
          2,
          3,
          2.2,
          2.9,
          2.9,
          3.1,
          3,
          2.7,
          2.2,
          2.5,
          3.2,
          2.8,
          2.5,
          2.8,
          2.9,
          3,
          2.8,
          3,
          2.9,
          2.6,
          2.4,
          2.4,
          2.7,
          2.7,
          3,
          3.4,
          3.1,
          2.3,
          3,
          2.5,
          2.6,
          3,
          2.6,
          2.3,
          2.7,
          3,
          2.9,
          2.9,
          2.5,
          2.8,
          3.3,
          2.7,
          3,
          2.9,
          3,
          3,
          2.5,
          2.9,
          2.5,
          3.6,
          3.2,
          2.7,
          3,
          2.5,
          2.8,
          3.2,
          3,
          3.8,
          2.6,
          2.2,
          3.2,
          2.8,
          2.8,
          2.7,
          3.3,
          3.2,
          2.8,
          3,
          2.8,
          3,
          2.8,
          3.8,
          2.8,
          2.8,
          2.6,
          3,
          3.4,
          3.1,
          3,
          3.1,
          3.1,
          3.1,
          2.7,
          3.2,
          3.3,
          3,
          2.5,
          3,
          3.4,
          3
         ],
         "xaxis": "x",
         "y": [
          5.1,
          4.9,
          4.7,
          4.6,
          5,
          5.4,
          4.6,
          5,
          4.4,
          4.9,
          5.4,
          4.8,
          4.8,
          4.3,
          5.8,
          5.7,
          5.4,
          5.1,
          5.7,
          5.1,
          5.4,
          5.1,
          4.6,
          5.1,
          4.8,
          5,
          5,
          5.2,
          5.2,
          4.7,
          4.8,
          5.4,
          5.2,
          5.5,
          4.9,
          5,
          5.5,
          4.9,
          4.4,
          5.1,
          5,
          4.5,
          4.4,
          5,
          5.1,
          4.8,
          5.1,
          4.6,
          5.3,
          5,
          7,
          6.4,
          6.9,
          5.5,
          6.5,
          5.7,
          6.3,
          4.9,
          6.6,
          5.2,
          5,
          5.9,
          6,
          6.1,
          5.6,
          6.7,
          5.6,
          5.8,
          6.2,
          5.6,
          5.9,
          6.1,
          6.3,
          6.1,
          6.4,
          6.6,
          6.8,
          6.7,
          6,
          5.7,
          5.5,
          5.5,
          5.8,
          6,
          5.4,
          6,
          6.7,
          6.3,
          5.6,
          5.5,
          5.5,
          6.1,
          5.8,
          5,
          5.6,
          5.7,
          5.7,
          6.2,
          5.1,
          5.7,
          6.3,
          5.8,
          7.1,
          6.3,
          6.5,
          7.6,
          4.9,
          7.3,
          6.7,
          7.2,
          6.5,
          6.4,
          6.8,
          5.7,
          5.8,
          6.4,
          6.5,
          7.7,
          7.7,
          6,
          6.9,
          5.6,
          7.7,
          6.3,
          6.7,
          7.2,
          6.2,
          6.1,
          6.4,
          7.2,
          7.4,
          7.9,
          6.4,
          6.3,
          6.1,
          7.7,
          6.3,
          6.4,
          6,
          6.9,
          6.7,
          6.9,
          5.8,
          6.8,
          6.7,
          6.7,
          6.3,
          6.5,
          6.2,
          5.9
         ],
         "yaxis": "y"
        }
       ],
       "layout": {
        "legend": {
         "tracegroupgap": 0
        },
        "margin": {
         "t": 60
        },
        "template": {
         "data": {
          "bar": [
           {
            "error_x": {
             "color": "#2a3f5f"
            },
            "error_y": {
             "color": "#2a3f5f"
            },
            "marker": {
             "line": {
              "color": "#E5ECF6",
              "width": 0.5
             }
            },
            "type": "bar"
           }
          ],
          "barpolar": [
           {
            "marker": {
             "line": {
              "color": "#E5ECF6",
              "width": 0.5
             }
            },
            "type": "barpolar"
           }
          ],
          "carpet": [
           {
            "aaxis": {
             "endlinecolor": "#2a3f5f",
             "gridcolor": "white",
             "linecolor": "white",
             "minorgridcolor": "white",
             "startlinecolor": "#2a3f5f"
            },
            "baxis": {
             "endlinecolor": "#2a3f5f",
             "gridcolor": "white",
             "linecolor": "white",
             "minorgridcolor": "white",
             "startlinecolor": "#2a3f5f"
            },
            "type": "carpet"
           }
          ],
          "choropleth": [
           {
            "colorbar": {
             "outlinewidth": 0,
             "ticks": ""
            },
            "type": "choropleth"
           }
          ],
          "contour": [
           {
            "colorbar": {
             "outlinewidth": 0,
             "ticks": ""
            },
            "colorscale": [
             [
              0,
              "#0d0887"
             ],
             [
              0.1111111111111111,
              "#46039f"
             ],
             [
              0.2222222222222222,
              "#7201a8"
             ],
             [
              0.3333333333333333,
              "#9c179e"
             ],
             [
              0.4444444444444444,
              "#bd3786"
             ],
             [
              0.5555555555555556,
              "#d8576b"
             ],
             [
              0.6666666666666666,
              "#ed7953"
             ],
             [
              0.7777777777777778,
              "#fb9f3a"
             ],
             [
              0.8888888888888888,
              "#fdca26"
             ],
             [
              1,
              "#f0f921"
             ]
            ],
            "type": "contour"
           }
          ],
          "contourcarpet": [
           {
            "colorbar": {
             "outlinewidth": 0,
             "ticks": ""
            },
            "type": "contourcarpet"
           }
          ],
          "heatmap": [
           {
            "colorbar": {
             "outlinewidth": 0,
             "ticks": ""
            },
            "colorscale": [
             [
              0,
              "#0d0887"
             ],
             [
              0.1111111111111111,
              "#46039f"
             ],
             [
              0.2222222222222222,
              "#7201a8"
             ],
             [
              0.3333333333333333,
              "#9c179e"
             ],
             [
              0.4444444444444444,
              "#bd3786"
             ],
             [
              0.5555555555555556,
              "#d8576b"
             ],
             [
              0.6666666666666666,
              "#ed7953"
             ],
             [
              0.7777777777777778,
              "#fb9f3a"
             ],
             [
              0.8888888888888888,
              "#fdca26"
             ],
             [
              1,
              "#f0f921"
             ]
            ],
            "type": "heatmap"
           }
          ],
          "heatmapgl": [
           {
            "colorbar": {
             "outlinewidth": 0,
             "ticks": ""
            },
            "colorscale": [
             [
              0,
              "#0d0887"
             ],
             [
              0.1111111111111111,
              "#46039f"
             ],
             [
              0.2222222222222222,
              "#7201a8"
             ],
             [
              0.3333333333333333,
              "#9c179e"
             ],
             [
              0.4444444444444444,
              "#bd3786"
             ],
             [
              0.5555555555555556,
              "#d8576b"
             ],
             [
              0.6666666666666666,
              "#ed7953"
             ],
             [
              0.7777777777777778,
              "#fb9f3a"
             ],
             [
              0.8888888888888888,
              "#fdca26"
             ],
             [
              1,
              "#f0f921"
             ]
            ],
            "type": "heatmapgl"
           }
          ],
          "histogram": [
           {
            "marker": {
             "colorbar": {
              "outlinewidth": 0,
              "ticks": ""
             }
            },
            "type": "histogram"
           }
          ],
          "histogram2d": [
           {
            "colorbar": {
             "outlinewidth": 0,
             "ticks": ""
            },
            "colorscale": [
             [
              0,
              "#0d0887"
             ],
             [
              0.1111111111111111,
              "#46039f"
             ],
             [
              0.2222222222222222,
              "#7201a8"
             ],
             [
              0.3333333333333333,
              "#9c179e"
             ],
             [
              0.4444444444444444,
              "#bd3786"
             ],
             [
              0.5555555555555556,
              "#d8576b"
             ],
             [
              0.6666666666666666,
              "#ed7953"
             ],
             [
              0.7777777777777778,
              "#fb9f3a"
             ],
             [
              0.8888888888888888,
              "#fdca26"
             ],
             [
              1,
              "#f0f921"
             ]
            ],
            "type": "histogram2d"
           }
          ],
          "histogram2dcontour": [
           {
            "colorbar": {
             "outlinewidth": 0,
             "ticks": ""
            },
            "colorscale": [
             [
              0,
              "#0d0887"
             ],
             [
              0.1111111111111111,
              "#46039f"
             ],
             [
              0.2222222222222222,
              "#7201a8"
             ],
             [
              0.3333333333333333,
              "#9c179e"
             ],
             [
              0.4444444444444444,
              "#bd3786"
             ],
             [
              0.5555555555555556,
              "#d8576b"
             ],
             [
              0.6666666666666666,
              "#ed7953"
             ],
             [
              0.7777777777777778,
              "#fb9f3a"
             ],
             [
              0.8888888888888888,
              "#fdca26"
             ],
             [
              1,
              "#f0f921"
             ]
            ],
            "type": "histogram2dcontour"
           }
          ],
          "mesh3d": [
           {
            "colorbar": {
             "outlinewidth": 0,
             "ticks": ""
            },
            "type": "mesh3d"
           }
          ],
          "parcoords": [
           {
            "line": {
             "colorbar": {
              "outlinewidth": 0,
              "ticks": ""
             }
            },
            "type": "parcoords"
           }
          ],
          "pie": [
           {
            "automargin": true,
            "type": "pie"
           }
          ],
          "scatter": [
           {
            "marker": {
             "colorbar": {
              "outlinewidth": 0,
              "ticks": ""
             }
            },
            "type": "scatter"
           }
          ],
          "scatter3d": [
           {
            "line": {
             "colorbar": {
              "outlinewidth": 0,
              "ticks": ""
             }
            },
            "marker": {
             "colorbar": {
              "outlinewidth": 0,
              "ticks": ""
             }
            },
            "type": "scatter3d"
           }
          ],
          "scattercarpet": [
           {
            "marker": {
             "colorbar": {
              "outlinewidth": 0,
              "ticks": ""
             }
            },
            "type": "scattercarpet"
           }
          ],
          "scattergeo": [
           {
            "marker": {
             "colorbar": {
              "outlinewidth": 0,
              "ticks": ""
             }
            },
            "type": "scattergeo"
           }
          ],
          "scattergl": [
           {
            "marker": {
             "colorbar": {
              "outlinewidth": 0,
              "ticks": ""
             }
            },
            "type": "scattergl"
           }
          ],
          "scattermapbox": [
           {
            "marker": {
             "colorbar": {
              "outlinewidth": 0,
              "ticks": ""
             }
            },
            "type": "scattermapbox"
           }
          ],
          "scatterpolar": [
           {
            "marker": {
             "colorbar": {
              "outlinewidth": 0,
              "ticks": ""
             }
            },
            "type": "scatterpolar"
           }
          ],
          "scatterpolargl": [
           {
            "marker": {
             "colorbar": {
              "outlinewidth": 0,
              "ticks": ""
             }
            },
            "type": "scatterpolargl"
           }
          ],
          "scatterternary": [
           {
            "marker": {
             "colorbar": {
              "outlinewidth": 0,
              "ticks": ""
             }
            },
            "type": "scatterternary"
           }
          ],
          "surface": [
           {
            "colorbar": {
             "outlinewidth": 0,
             "ticks": ""
            },
            "colorscale": [
             [
              0,
              "#0d0887"
             ],
             [
              0.1111111111111111,
              "#46039f"
             ],
             [
              0.2222222222222222,
              "#7201a8"
             ],
             [
              0.3333333333333333,
              "#9c179e"
             ],
             [
              0.4444444444444444,
              "#bd3786"
             ],
             [
              0.5555555555555556,
              "#d8576b"
             ],
             [
              0.6666666666666666,
              "#ed7953"
             ],
             [
              0.7777777777777778,
              "#fb9f3a"
             ],
             [
              0.8888888888888888,
              "#fdca26"
             ],
             [
              1,
              "#f0f921"
             ]
            ],
            "type": "surface"
           }
          ],
          "table": [
           {
            "cells": {
             "fill": {
              "color": "#EBF0F8"
             },
             "line": {
              "color": "white"
             }
            },
            "header": {
             "fill": {
              "color": "#C8D4E3"
             },
             "line": {
              "color": "white"
             }
            },
            "type": "table"
           }
          ]
         },
         "layout": {
          "annotationdefaults": {
           "arrowcolor": "#2a3f5f",
           "arrowhead": 0,
           "arrowwidth": 1
          },
          "coloraxis": {
           "colorbar": {
            "outlinewidth": 0,
            "ticks": ""
           }
          },
          "colorscale": {
           "diverging": [
            [
             0,
             "#8e0152"
            ],
            [
             0.1,
             "#c51b7d"
            ],
            [
             0.2,
             "#de77ae"
            ],
            [
             0.3,
             "#f1b6da"
            ],
            [
             0.4,
             "#fde0ef"
            ],
            [
             0.5,
             "#f7f7f7"
            ],
            [
             0.6,
             "#e6f5d0"
            ],
            [
             0.7,
             "#b8e186"
            ],
            [
             0.8,
             "#7fbc41"
            ],
            [
             0.9,
             "#4d9221"
            ],
            [
             1,
             "#276419"
            ]
           ],
           "sequential": [
            [
             0,
             "#0d0887"
            ],
            [
             0.1111111111111111,
             "#46039f"
            ],
            [
             0.2222222222222222,
             "#7201a8"
            ],
            [
             0.3333333333333333,
             "#9c179e"
            ],
            [
             0.4444444444444444,
             "#bd3786"
            ],
            [
             0.5555555555555556,
             "#d8576b"
            ],
            [
             0.6666666666666666,
             "#ed7953"
            ],
            [
             0.7777777777777778,
             "#fb9f3a"
            ],
            [
             0.8888888888888888,
             "#fdca26"
            ],
            [
             1,
             "#f0f921"
            ]
           ],
           "sequentialminus": [
            [
             0,
             "#0d0887"
            ],
            [
             0.1111111111111111,
             "#46039f"
            ],
            [
             0.2222222222222222,
             "#7201a8"
            ],
            [
             0.3333333333333333,
             "#9c179e"
            ],
            [
             0.4444444444444444,
             "#bd3786"
            ],
            [
             0.5555555555555556,
             "#d8576b"
            ],
            [
             0.6666666666666666,
             "#ed7953"
            ],
            [
             0.7777777777777778,
             "#fb9f3a"
            ],
            [
             0.8888888888888888,
             "#fdca26"
            ],
            [
             1,
             "#f0f921"
            ]
           ]
          },
          "colorway": [
           "#636efa",
           "#EF553B",
           "#00cc96",
           "#ab63fa",
           "#FFA15A",
           "#19d3f3",
           "#FF6692",
           "#B6E880",
           "#FF97FF",
           "#FECB52"
          ],
          "font": {
           "color": "#2a3f5f"
          },
          "geo": {
           "bgcolor": "white",
           "lakecolor": "white",
           "landcolor": "#E5ECF6",
           "showlakes": true,
           "showland": true,
           "subunitcolor": "white"
          },
          "hoverlabel": {
           "align": "left"
          },
          "hovermode": "closest",
          "mapbox": {
           "style": "light"
          },
          "paper_bgcolor": "white",
          "plot_bgcolor": "#E5ECF6",
          "polar": {
           "angularaxis": {
            "gridcolor": "white",
            "linecolor": "white",
            "ticks": ""
           },
           "bgcolor": "#E5ECF6",
           "radialaxis": {
            "gridcolor": "white",
            "linecolor": "white",
            "ticks": ""
           }
          },
          "scene": {
           "xaxis": {
            "backgroundcolor": "#E5ECF6",
            "gridcolor": "white",
            "gridwidth": 2,
            "linecolor": "white",
            "showbackground": true,
            "ticks": "",
            "zerolinecolor": "white"
           },
           "yaxis": {
            "backgroundcolor": "#E5ECF6",
            "gridcolor": "white",
            "gridwidth": 2,
            "linecolor": "white",
            "showbackground": true,
            "ticks": "",
            "zerolinecolor": "white"
           },
           "zaxis": {
            "backgroundcolor": "#E5ECF6",
            "gridcolor": "white",
            "gridwidth": 2,
            "linecolor": "white",
            "showbackground": true,
            "ticks": "",
            "zerolinecolor": "white"
           }
          },
          "shapedefaults": {
           "line": {
            "color": "#2a3f5f"
           }
          },
          "ternary": {
           "aaxis": {
            "gridcolor": "white",
            "linecolor": "white",
            "ticks": ""
           },
           "baxis": {
            "gridcolor": "white",
            "linecolor": "white",
            "ticks": ""
           },
           "bgcolor": "#E5ECF6",
           "caxis": {
            "gridcolor": "white",
            "linecolor": "white",
            "ticks": ""
           }
          },
          "title": {
           "x": 0.05
          },
          "xaxis": {
           "automargin": true,
           "gridcolor": "white",
           "linecolor": "white",
           "ticks": "",
           "title": {
            "standoff": 15
           },
           "zerolinecolor": "white",
           "zerolinewidth": 2
          },
          "yaxis": {
           "automargin": true,
           "gridcolor": "white",
           "linecolor": "white",
           "ticks": "",
           "title": {
            "standoff": 15
           },
           "zerolinecolor": "white",
           "zerolinewidth": 2
          }
         }
        },
        "xaxis": {
         "anchor": "y",
         "domain": [
          0,
          1
         ],
         "title": {
          "text": "sepal_width"
         }
        },
        "yaxis": {
         "anchor": "x",
         "domain": [
          0,
          1
         ],
         "title": {
          "text": "sepal_length"
         }
        }
       }
      },
      "text/html": [
       "<div>\n",
       "        \n",
       "        \n",
       "            <div id=\"12abdd52-a7bf-4e54-ad0d-eb9882ff1022\" class=\"plotly-graph-div\" style=\"height:525px; width:100%;\"></div>\n",
       "            <script type=\"text/javascript\">\n",
       "                require([\"plotly\"], function(Plotly) {\n",
       "                    window.PLOTLYENV=window.PLOTLYENV || {};\n",
       "                    \n",
       "                if (document.getElementById(\"12abdd52-a7bf-4e54-ad0d-eb9882ff1022\")) {\n",
       "                    Plotly.newPlot(\n",
       "                        '12abdd52-a7bf-4e54-ad0d-eb9882ff1022',\n",
       "                        [{\"hovertemplate\": \"sepal_width=%{x}<br>sepal_length=%{y}<extra></extra>\", \"legendgroup\": \"\", \"marker\": {\"color\": \"#636efa\", \"symbol\": \"circle\"}, \"mode\": \"markers\", \"name\": \"\", \"showlegend\": false, \"type\": \"scatter\", \"x\": [3.5, 3.0, 3.2, 3.1, 3.6, 3.9, 3.4, 3.4, 2.9, 3.1, 3.7, 3.4, 3.0, 3.0, 4.0, 4.4, 3.9, 3.5, 3.8, 3.8, 3.4, 3.7, 3.6, 3.3, 3.4, 3.0, 3.4, 3.5, 3.4, 3.2, 3.1, 3.4, 4.1, 4.2, 3.1, 3.2, 3.5, 3.1, 3.0, 3.4, 3.5, 2.3, 3.2, 3.5, 3.8, 3.0, 3.8, 3.2, 3.7, 3.3, 3.2, 3.2, 3.1, 2.3, 2.8, 2.8, 3.3, 2.4, 2.9, 2.7, 2.0, 3.0, 2.2, 2.9, 2.9, 3.1, 3.0, 2.7, 2.2, 2.5, 3.2, 2.8, 2.5, 2.8, 2.9, 3.0, 2.8, 3.0, 2.9, 2.6, 2.4, 2.4, 2.7, 2.7, 3.0, 3.4, 3.1, 2.3, 3.0, 2.5, 2.6, 3.0, 2.6, 2.3, 2.7, 3.0, 2.9, 2.9, 2.5, 2.8, 3.3, 2.7, 3.0, 2.9, 3.0, 3.0, 2.5, 2.9, 2.5, 3.6, 3.2, 2.7, 3.0, 2.5, 2.8, 3.2, 3.0, 3.8, 2.6, 2.2, 3.2, 2.8, 2.8, 2.7, 3.3, 3.2, 2.8, 3.0, 2.8, 3.0, 2.8, 3.8, 2.8, 2.8, 2.6, 3.0, 3.4, 3.1, 3.0, 3.1, 3.1, 3.1, 2.7, 3.2, 3.3, 3.0, 2.5, 3.0, 3.4, 3.0], \"xaxis\": \"x\", \"y\": [5.1, 4.9, 4.7, 4.6, 5.0, 5.4, 4.6, 5.0, 4.4, 4.9, 5.4, 4.8, 4.8, 4.3, 5.8, 5.7, 5.4, 5.1, 5.7, 5.1, 5.4, 5.1, 4.6, 5.1, 4.8, 5.0, 5.0, 5.2, 5.2, 4.7, 4.8, 5.4, 5.2, 5.5, 4.9, 5.0, 5.5, 4.9, 4.4, 5.1, 5.0, 4.5, 4.4, 5.0, 5.1, 4.8, 5.1, 4.6, 5.3, 5.0, 7.0, 6.4, 6.9, 5.5, 6.5, 5.7, 6.3, 4.9, 6.6, 5.2, 5.0, 5.9, 6.0, 6.1, 5.6, 6.7, 5.6, 5.8, 6.2, 5.6, 5.9, 6.1, 6.3, 6.1, 6.4, 6.6, 6.8, 6.7, 6.0, 5.7, 5.5, 5.5, 5.8, 6.0, 5.4, 6.0, 6.7, 6.3, 5.6, 5.5, 5.5, 6.1, 5.8, 5.0, 5.6, 5.7, 5.7, 6.2, 5.1, 5.7, 6.3, 5.8, 7.1, 6.3, 6.5, 7.6, 4.9, 7.3, 6.7, 7.2, 6.5, 6.4, 6.8, 5.7, 5.8, 6.4, 6.5, 7.7, 7.7, 6.0, 6.9, 5.6, 7.7, 6.3, 6.7, 7.2, 6.2, 6.1, 6.4, 7.2, 7.4, 7.9, 6.4, 6.3, 6.1, 7.7, 6.3, 6.4, 6.0, 6.9, 6.7, 6.9, 5.8, 6.8, 6.7, 6.7, 6.3, 6.5, 6.2, 5.9], \"yaxis\": \"y\"}],\n",
       "                        {\"legend\": {\"tracegroupgap\": 0}, \"margin\": {\"t\": 60}, \"template\": {\"data\": {\"bar\": [{\"error_x\": {\"color\": \"#2a3f5f\"}, \"error_y\": {\"color\": \"#2a3f5f\"}, \"marker\": {\"line\": {\"color\": \"#E5ECF6\", \"width\": 0.5}}, \"type\": \"bar\"}], \"barpolar\": [{\"marker\": {\"line\": {\"color\": \"#E5ECF6\", \"width\": 0.5}}, \"type\": \"barpolar\"}], \"carpet\": [{\"aaxis\": {\"endlinecolor\": \"#2a3f5f\", \"gridcolor\": \"white\", \"linecolor\": \"white\", \"minorgridcolor\": \"white\", \"startlinecolor\": \"#2a3f5f\"}, \"baxis\": {\"endlinecolor\": \"#2a3f5f\", \"gridcolor\": \"white\", \"linecolor\": \"white\", \"minorgridcolor\": \"white\", \"startlinecolor\": \"#2a3f5f\"}, \"type\": \"carpet\"}], \"choropleth\": [{\"colorbar\": {\"outlinewidth\": 0, \"ticks\": \"\"}, \"type\": \"choropleth\"}], \"contour\": [{\"colorbar\": {\"outlinewidth\": 0, \"ticks\": \"\"}, \"colorscale\": [[0.0, \"#0d0887\"], [0.1111111111111111, \"#46039f\"], [0.2222222222222222, \"#7201a8\"], [0.3333333333333333, \"#9c179e\"], [0.4444444444444444, \"#bd3786\"], [0.5555555555555556, \"#d8576b\"], [0.6666666666666666, \"#ed7953\"], [0.7777777777777778, \"#fb9f3a\"], [0.8888888888888888, \"#fdca26\"], [1.0, \"#f0f921\"]], \"type\": \"contour\"}], \"contourcarpet\": [{\"colorbar\": {\"outlinewidth\": 0, \"ticks\": \"\"}, \"type\": \"contourcarpet\"}], \"heatmap\": [{\"colorbar\": {\"outlinewidth\": 0, \"ticks\": \"\"}, \"colorscale\": [[0.0, \"#0d0887\"], [0.1111111111111111, \"#46039f\"], [0.2222222222222222, \"#7201a8\"], [0.3333333333333333, \"#9c179e\"], [0.4444444444444444, \"#bd3786\"], [0.5555555555555556, \"#d8576b\"], [0.6666666666666666, \"#ed7953\"], [0.7777777777777778, \"#fb9f3a\"], [0.8888888888888888, \"#fdca26\"], [1.0, \"#f0f921\"]], \"type\": \"heatmap\"}], \"heatmapgl\": [{\"colorbar\": {\"outlinewidth\": 0, \"ticks\": \"\"}, \"colorscale\": [[0.0, \"#0d0887\"], [0.1111111111111111, \"#46039f\"], [0.2222222222222222, \"#7201a8\"], [0.3333333333333333, \"#9c179e\"], [0.4444444444444444, \"#bd3786\"], [0.5555555555555556, \"#d8576b\"], [0.6666666666666666, \"#ed7953\"], [0.7777777777777778, \"#fb9f3a\"], [0.8888888888888888, \"#fdca26\"], [1.0, \"#f0f921\"]], \"type\": \"heatmapgl\"}], \"histogram\": [{\"marker\": {\"colorbar\": {\"outlinewidth\": 0, \"ticks\": \"\"}}, \"type\": \"histogram\"}], \"histogram2d\": [{\"colorbar\": {\"outlinewidth\": 0, \"ticks\": \"\"}, \"colorscale\": [[0.0, \"#0d0887\"], [0.1111111111111111, \"#46039f\"], [0.2222222222222222, \"#7201a8\"], [0.3333333333333333, \"#9c179e\"], [0.4444444444444444, \"#bd3786\"], [0.5555555555555556, \"#d8576b\"], [0.6666666666666666, \"#ed7953\"], [0.7777777777777778, \"#fb9f3a\"], [0.8888888888888888, \"#fdca26\"], [1.0, \"#f0f921\"]], \"type\": \"histogram2d\"}], \"histogram2dcontour\": [{\"colorbar\": {\"outlinewidth\": 0, \"ticks\": \"\"}, \"colorscale\": [[0.0, \"#0d0887\"], [0.1111111111111111, \"#46039f\"], [0.2222222222222222, \"#7201a8\"], [0.3333333333333333, \"#9c179e\"], [0.4444444444444444, \"#bd3786\"], [0.5555555555555556, \"#d8576b\"], [0.6666666666666666, \"#ed7953\"], [0.7777777777777778, \"#fb9f3a\"], [0.8888888888888888, \"#fdca26\"], [1.0, \"#f0f921\"]], \"type\": \"histogram2dcontour\"}], \"mesh3d\": [{\"colorbar\": {\"outlinewidth\": 0, \"ticks\": \"\"}, \"type\": \"mesh3d\"}], \"parcoords\": [{\"line\": {\"colorbar\": {\"outlinewidth\": 0, \"ticks\": \"\"}}, \"type\": \"parcoords\"}], \"pie\": [{\"automargin\": true, \"type\": \"pie\"}], \"scatter\": [{\"marker\": {\"colorbar\": {\"outlinewidth\": 0, \"ticks\": \"\"}}, \"type\": \"scatter\"}], \"scatter3d\": [{\"line\": {\"colorbar\": {\"outlinewidth\": 0, \"ticks\": \"\"}}, \"marker\": {\"colorbar\": {\"outlinewidth\": 0, \"ticks\": \"\"}}, \"type\": \"scatter3d\"}], \"scattercarpet\": [{\"marker\": {\"colorbar\": {\"outlinewidth\": 0, \"ticks\": \"\"}}, \"type\": \"scattercarpet\"}], \"scattergeo\": [{\"marker\": {\"colorbar\": {\"outlinewidth\": 0, \"ticks\": \"\"}}, \"type\": \"scattergeo\"}], \"scattergl\": [{\"marker\": {\"colorbar\": {\"outlinewidth\": 0, \"ticks\": \"\"}}, \"type\": \"scattergl\"}], \"scattermapbox\": [{\"marker\": {\"colorbar\": {\"outlinewidth\": 0, \"ticks\": \"\"}}, \"type\": \"scattermapbox\"}], \"scatterpolar\": [{\"marker\": {\"colorbar\": {\"outlinewidth\": 0, \"ticks\": \"\"}}, \"type\": \"scatterpolar\"}], \"scatterpolargl\": [{\"marker\": {\"colorbar\": {\"outlinewidth\": 0, \"ticks\": \"\"}}, \"type\": \"scatterpolargl\"}], \"scatterternary\": [{\"marker\": {\"colorbar\": {\"outlinewidth\": 0, \"ticks\": \"\"}}, \"type\": \"scatterternary\"}], \"surface\": [{\"colorbar\": {\"outlinewidth\": 0, \"ticks\": \"\"}, \"colorscale\": [[0.0, \"#0d0887\"], [0.1111111111111111, \"#46039f\"], [0.2222222222222222, \"#7201a8\"], [0.3333333333333333, \"#9c179e\"], [0.4444444444444444, \"#bd3786\"], [0.5555555555555556, \"#d8576b\"], [0.6666666666666666, \"#ed7953\"], [0.7777777777777778, \"#fb9f3a\"], [0.8888888888888888, \"#fdca26\"], [1.0, \"#f0f921\"]], \"type\": \"surface\"}], \"table\": [{\"cells\": {\"fill\": {\"color\": \"#EBF0F8\"}, \"line\": {\"color\": \"white\"}}, \"header\": {\"fill\": {\"color\": \"#C8D4E3\"}, \"line\": {\"color\": \"white\"}}, \"type\": \"table\"}]}, \"layout\": {\"annotationdefaults\": {\"arrowcolor\": \"#2a3f5f\", \"arrowhead\": 0, \"arrowwidth\": 1}, \"coloraxis\": {\"colorbar\": {\"outlinewidth\": 0, \"ticks\": \"\"}}, \"colorscale\": {\"diverging\": [[0, \"#8e0152\"], [0.1, \"#c51b7d\"], [0.2, \"#de77ae\"], [0.3, \"#f1b6da\"], [0.4, \"#fde0ef\"], [0.5, \"#f7f7f7\"], [0.6, \"#e6f5d0\"], [0.7, \"#b8e186\"], [0.8, \"#7fbc41\"], [0.9, \"#4d9221\"], [1, \"#276419\"]], \"sequential\": [[0.0, \"#0d0887\"], [0.1111111111111111, \"#46039f\"], [0.2222222222222222, \"#7201a8\"], [0.3333333333333333, \"#9c179e\"], [0.4444444444444444, \"#bd3786\"], [0.5555555555555556, \"#d8576b\"], [0.6666666666666666, \"#ed7953\"], [0.7777777777777778, \"#fb9f3a\"], [0.8888888888888888, \"#fdca26\"], [1.0, \"#f0f921\"]], \"sequentialminus\": [[0.0, \"#0d0887\"], [0.1111111111111111, \"#46039f\"], [0.2222222222222222, \"#7201a8\"], [0.3333333333333333, \"#9c179e\"], [0.4444444444444444, \"#bd3786\"], [0.5555555555555556, \"#d8576b\"], [0.6666666666666666, \"#ed7953\"], [0.7777777777777778, \"#fb9f3a\"], [0.8888888888888888, \"#fdca26\"], [1.0, \"#f0f921\"]]}, \"colorway\": [\"#636efa\", \"#EF553B\", \"#00cc96\", \"#ab63fa\", \"#FFA15A\", \"#19d3f3\", \"#FF6692\", \"#B6E880\", \"#FF97FF\", \"#FECB52\"], \"font\": {\"color\": \"#2a3f5f\"}, \"geo\": {\"bgcolor\": \"white\", \"lakecolor\": \"white\", \"landcolor\": \"#E5ECF6\", \"showlakes\": true, \"showland\": true, \"subunitcolor\": \"white\"}, \"hoverlabel\": {\"align\": \"left\"}, \"hovermode\": \"closest\", \"mapbox\": {\"style\": \"light\"}, \"paper_bgcolor\": \"white\", \"plot_bgcolor\": \"#E5ECF6\", \"polar\": {\"angularaxis\": {\"gridcolor\": \"white\", \"linecolor\": \"white\", \"ticks\": \"\"}, \"bgcolor\": \"#E5ECF6\", \"radialaxis\": {\"gridcolor\": \"white\", \"linecolor\": \"white\", \"ticks\": \"\"}}, \"scene\": {\"xaxis\": {\"backgroundcolor\": \"#E5ECF6\", \"gridcolor\": \"white\", \"gridwidth\": 2, \"linecolor\": \"white\", \"showbackground\": true, \"ticks\": \"\", \"zerolinecolor\": \"white\"}, \"yaxis\": {\"backgroundcolor\": \"#E5ECF6\", \"gridcolor\": \"white\", \"gridwidth\": 2, \"linecolor\": \"white\", \"showbackground\": true, \"ticks\": \"\", \"zerolinecolor\": \"white\"}, \"zaxis\": {\"backgroundcolor\": \"#E5ECF6\", \"gridcolor\": \"white\", \"gridwidth\": 2, \"linecolor\": \"white\", \"showbackground\": true, \"ticks\": \"\", \"zerolinecolor\": \"white\"}}, \"shapedefaults\": {\"line\": {\"color\": \"#2a3f5f\"}}, \"ternary\": {\"aaxis\": {\"gridcolor\": \"white\", \"linecolor\": \"white\", \"ticks\": \"\"}, \"baxis\": {\"gridcolor\": \"white\", \"linecolor\": \"white\", \"ticks\": \"\"}, \"bgcolor\": \"#E5ECF6\", \"caxis\": {\"gridcolor\": \"white\", \"linecolor\": \"white\", \"ticks\": \"\"}}, \"title\": {\"x\": 0.05}, \"xaxis\": {\"automargin\": true, \"gridcolor\": \"white\", \"linecolor\": \"white\", \"ticks\": \"\", \"title\": {\"standoff\": 15}, \"zerolinecolor\": \"white\", \"zerolinewidth\": 2}, \"yaxis\": {\"automargin\": true, \"gridcolor\": \"white\", \"linecolor\": \"white\", \"ticks\": \"\", \"title\": {\"standoff\": 15}, \"zerolinecolor\": \"white\", \"zerolinewidth\": 2}}}, \"xaxis\": {\"anchor\": \"y\", \"domain\": [0.0, 1.0], \"title\": {\"text\": \"sepal_width\"}}, \"yaxis\": {\"anchor\": \"x\", \"domain\": [0.0, 1.0], \"title\": {\"text\": \"sepal_length\"}}},\n",
       "                        {\"responsive\": true}\n",
       "                    ).then(function(){\n",
       "                            \n",
       "var gd = document.getElementById('12abdd52-a7bf-4e54-ad0d-eb9882ff1022');\n",
       "var x = new MutationObserver(function (mutations, observer) {{\n",
       "        var display = window.getComputedStyle(gd).display;\n",
       "        if (!display || display === 'none') {{\n",
       "            console.log([gd, 'removed!']);\n",
       "            Plotly.purge(gd);\n",
       "            observer.disconnect();\n",
       "        }}\n",
       "}});\n",
       "\n",
       "// Listen for the removal of the full notebook cells\n",
       "var notebookContainer = gd.closest('#notebook-container');\n",
       "if (notebookContainer) {{\n",
       "    x.observe(notebookContainer, {childList: true});\n",
       "}}\n",
       "\n",
       "// Listen for the clearing of the current output cell\n",
       "var outputEl = gd.closest('.output');\n",
       "if (outputEl) {{\n",
       "    x.observe(outputEl, {childList: true});\n",
       "}}\n",
       "\n",
       "                        })\n",
       "                };\n",
       "                });\n",
       "            </script>\n",
       "        </div>"
      ]
     },
     "metadata": {},
     "output_type": "display_data"
    }
   ],
   "source": [
    "#Example code from documentation\n",
    "iris = px.data.iris()\n",
    "px.scatter(iris, x=\"sepal_width\", y=\"sepal_length\")\n",
    "#Enjoy the visualization, hopefully :D "
   ]
  }
 ],
 "metadata": {
  "kernelspec": {
   "display_name": "Python 3",
   "language": "python",
   "name": "python3"
  },
  "language_info": {
   "codemirror_mode": {
    "name": "ipython",
    "version": 3
   },
   "file_extension": ".py",
   "mimetype": "text/x-python",
   "name": "python",
   "nbconvert_exporter": "python",
   "pygments_lexer": "ipython3",
   "version": "3.7.6"
  }
 },
 "nbformat": 4,
 "nbformat_minor": 4
}
