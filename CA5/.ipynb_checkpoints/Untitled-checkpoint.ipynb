{
 "cells": [
  {
   "cell_type": "markdown",
   "metadata": {},
   "source": [
    "•   sl_no = Serial Number\n",
    "•   gender = Gender: Male='M', Female='F'\n",
    "•   ssc_p = Secondary Education percentage- 10th Grade\n",
    "•   ssc_b = Board of Education- Central/ Others\n",
    "•   hsc_p = Higher Secondary Education percentage- 12th Grade\n",
    "•   hsc_b = Board of Education- Central/ Others\n",
    "•   hsc_s = Specialization in Higher Secondary Education\n",
    "•   degree_p = Degree Percentage\n",
    "•   degree_t = Under Graduation(Degree type)- Field of degree education\n",
    "•   workex = Work Experience\n",
    "•   etest_p = Employability test percentage ( conducted by college)\n",
    "•   specialisation = Post Graduation(MBA)- Specialization\n",
    "•   mba_p = MBA percentage\n",
    "•   status = Status of placement- Placed/Not placed\n",
    "•   salary = Salary offered by corporate to candidates"
   ]
  },
  {
   "cell_type": "code",
   "execution_count": 133,
   "metadata": {},
   "outputs": [
    {
     "name": "stderr",
     "output_type": "stream",
     "text": [
      "Installing package into 'C:/Users/pmesquit/Documents/R/win-library/3.6'\n",
      "(as 'lib' is unspecified)\n"
     ]
    }
   ],
   "source": [
    "install.packages('Hmisc')\n",
    "install.packages('RColorBrew')"
   ]
  },
  {
   "cell_type": "code",
   "execution_count": 134,
   "metadata": {},
   "outputs": [
    {
     "ename": "ERROR",
     "evalue": "Error in library(\"RColorBrew\"): there is no package called 'RColorBrew'\n",
     "output_type": "error",
     "traceback": [
      "Error in library(\"RColorBrew\"): there is no package called 'RColorBrew'\nTraceback:\n",
      "1. library(\"RColorBrew\")"
     ]
    }
   ],
   "source": [
    "library('funModeling') \n",
    "library('tidyverse')\n",
    "library('Hmisc')\n",
    "library('dummies')\n",
    "library('ROCR')\n",
    "library('corrplot')\n",
    "library('RColorBrew')"
   ]
  },
  {
   "cell_type": "code",
   "execution_count": 7,
   "metadata": {},
   "outputs": [],
   "source": [
    "plac_class <- read.csv(('Placement_Data_Full_Class.csv'))"
   ]
  },
  {
   "cell_type": "code",
   "execution_count": 9,
   "metadata": {
    "scrolled": true
   },
   "outputs": [
    {
     "data": {
      "text/html": [
       "<table>\n",
       "<thead><tr><th scope=col>sl_no</th><th scope=col>gender</th><th scope=col>ssc_p</th><th scope=col>ssc_b</th><th scope=col>hsc_p</th><th scope=col>hsc_b</th><th scope=col>hsc_s</th><th scope=col>degree_p</th><th scope=col>degree_t</th><th scope=col>workex</th><th scope=col>etest_p</th><th scope=col>specialisation</th><th scope=col>mba_p</th><th scope=col>status</th><th scope=col>salary</th></tr></thead>\n",
       "<tbody>\n",
       "\t<tr><td>1                                                 </td><td>M                                                 </td><td>67.00                                             </td><td>Others                                            </td><td>91.00                                             </td><td>Others                                            </td><td>Commerce                                          </td><td>58.00                                             </td><td>Sci&amp;Tech                                      </td><td>No                                                </td><td>55.0                                              </td><td>Mkt&amp;HR                                        </td><td>58.80                                             </td><td><span style=white-space:pre-wrap>Placed    </span></td><td>270000                                            </td></tr>\n",
       "\t<tr><td>2                                                 </td><td>M                                                 </td><td>79.33                                             </td><td>Central                                           </td><td>78.33                                             </td><td>Others                                            </td><td>Science                                           </td><td>77.48                                             </td><td>Sci&amp;Tech                                      </td><td>Yes                                               </td><td>86.5                                              </td><td>Mkt&amp;Fin                                       </td><td>66.28                                             </td><td><span style=white-space:pre-wrap>Placed    </span></td><td>200000                                            </td></tr>\n",
       "\t<tr><td>3                                                 </td><td>M                                                 </td><td>65.00                                             </td><td>Central                                           </td><td>68.00                                             </td><td>Central                                           </td><td><span style=white-space:pre-wrap>Arts    </span>  </td><td>64.00                                             </td><td>Comm&amp;Mgmt                                     </td><td>No                                                </td><td>75.0                                              </td><td>Mkt&amp;Fin                                       </td><td>57.80                                             </td><td><span style=white-space:pre-wrap>Placed    </span></td><td>250000                                            </td></tr>\n",
       "\t<tr><td>4                                             </td><td>M                                             </td><td>56.00                                         </td><td>Central                                       </td><td>52.00                                         </td><td>Central                                       </td><td>Science                                       </td><td>52.00                                         </td><td>Sci&amp;Tech                                  </td><td>No                                            </td><td>66.0                                          </td><td>Mkt&amp;HR                                    </td><td>59.43                                         </td><td>Not Placed                                    </td><td><span style=white-space:pre-wrap>    NA</span></td></tr>\n",
       "\t<tr><td>5                                                 </td><td>M                                                 </td><td>85.80                                             </td><td>Central                                           </td><td>73.60                                             </td><td>Central                                           </td><td>Commerce                                          </td><td>73.30                                             </td><td>Comm&amp;Mgmt                                     </td><td>No                                                </td><td>96.8                                              </td><td>Mkt&amp;Fin                                       </td><td>55.50                                             </td><td><span style=white-space:pre-wrap>Placed    </span></td><td>425000                                            </td></tr>\n",
       "\t<tr><td>6                                             </td><td>M                                             </td><td>55.00                                         </td><td>Others                                        </td><td>49.80                                         </td><td>Others                                        </td><td>Science                                       </td><td>67.25                                         </td><td>Sci&amp;Tech                                  </td><td>Yes                                           </td><td>55.0                                          </td><td>Mkt&amp;Fin                                   </td><td>51.58                                         </td><td>Not Placed                                    </td><td><span style=white-space:pre-wrap>    NA</span></td></tr>\n",
       "</tbody>\n",
       "</table>\n"
      ],
      "text/latex": [
       "\\begin{tabular}{r|lllllllllllllll}\n",
       " sl\\_no & gender & ssc\\_p & ssc\\_b & hsc\\_p & hsc\\_b & hsc\\_s & degree\\_p & degree\\_t & workex & etest\\_p & specialisation & mba\\_p & status & salary\\\\\n",
       "\\hline\n",
       "\t 1           & M           & 67.00       & Others      & 91.00       & Others      & Commerce    & 58.00       & Sci\\&Tech  & No          & 55.0        & Mkt\\&HR    & 58.80       & Placed      & 270000     \\\\\n",
       "\t 2           & M           & 79.33       & Central     & 78.33       & Others      & Science     & 77.48       & Sci\\&Tech  & Yes         & 86.5        & Mkt\\&Fin   & 66.28       & Placed      & 200000     \\\\\n",
       "\t 3           & M           & 65.00       & Central     & 68.00       & Central     & Arts        & 64.00       & Comm\\&Mgmt & No          & 75.0        & Mkt\\&Fin   & 57.80       & Placed      & 250000     \\\\\n",
       "\t 4           & M           & 56.00       & Central     & 52.00       & Central     & Science     & 52.00       & Sci\\&Tech  & No          & 66.0        & Mkt\\&HR    & 59.43       & Not Placed  &     NA     \\\\\n",
       "\t 5           & M           & 85.80       & Central     & 73.60       & Central     & Commerce    & 73.30       & Comm\\&Mgmt & No          & 96.8        & Mkt\\&Fin   & 55.50       & Placed      & 425000     \\\\\n",
       "\t 6           & M           & 55.00       & Others      & 49.80       & Others      & Science     & 67.25       & Sci\\&Tech  & Yes         & 55.0        & Mkt\\&Fin   & 51.58       & Not Placed  &     NA     \\\\\n",
       "\\end{tabular}\n"
      ],
      "text/markdown": [
       "\n",
       "| sl_no | gender | ssc_p | ssc_b | hsc_p | hsc_b | hsc_s | degree_p | degree_t | workex | etest_p | specialisation | mba_p | status | salary |\n",
       "|---|---|---|---|---|---|---|---|---|---|---|---|---|---|---|\n",
       "| 1          | M          | 67.00      | Others     | 91.00      | Others     | Commerce   | 58.00      | Sci&Tech   | No         | 55.0       | Mkt&HR     | 58.80      | Placed     | 270000     |\n",
       "| 2          | M          | 79.33      | Central    | 78.33      | Others     | Science    | 77.48      | Sci&Tech   | Yes        | 86.5       | Mkt&Fin    | 66.28      | Placed     | 200000     |\n",
       "| 3          | M          | 65.00      | Central    | 68.00      | Central    | Arts       | 64.00      | Comm&Mgmt  | No         | 75.0       | Mkt&Fin    | 57.80      | Placed     | 250000     |\n",
       "| 4          | M          | 56.00      | Central    | 52.00      | Central    | Science    | 52.00      | Sci&Tech   | No         | 66.0       | Mkt&HR     | 59.43      | Not Placed |     NA     |\n",
       "| 5          | M          | 85.80      | Central    | 73.60      | Central    | Commerce   | 73.30      | Comm&Mgmt  | No         | 96.8       | Mkt&Fin    | 55.50      | Placed     | 425000     |\n",
       "| 6          | M          | 55.00      | Others     | 49.80      | Others     | Science    | 67.25      | Sci&Tech   | Yes        | 55.0       | Mkt&Fin    | 51.58      | Not Placed |     NA     |\n",
       "\n"
      ],
      "text/plain": [
       "  sl_no gender ssc_p ssc_b   hsc_p hsc_b   hsc_s    degree_p degree_t  workex\n",
       "1 1     M      67.00 Others  91.00 Others  Commerce 58.00    Sci&Tech  No    \n",
       "2 2     M      79.33 Central 78.33 Others  Science  77.48    Sci&Tech  Yes   \n",
       "3 3     M      65.00 Central 68.00 Central Arts     64.00    Comm&Mgmt No    \n",
       "4 4     M      56.00 Central 52.00 Central Science  52.00    Sci&Tech  No    \n",
       "5 5     M      85.80 Central 73.60 Central Commerce 73.30    Comm&Mgmt No    \n",
       "6 6     M      55.00 Others  49.80 Others  Science  67.25    Sci&Tech  Yes   \n",
       "  etest_p specialisation mba_p status     salary\n",
       "1 55.0    Mkt&HR         58.80 Placed     270000\n",
       "2 86.5    Mkt&Fin        66.28 Placed     200000\n",
       "3 75.0    Mkt&Fin        57.80 Placed     250000\n",
       "4 66.0    Mkt&HR         59.43 Not Placed     NA\n",
       "5 96.8    Mkt&Fin        55.50 Placed     425000\n",
       "6 55.0    Mkt&Fin        51.58 Not Placed     NA"
      ]
     },
     "metadata": {},
     "output_type": "display_data"
    }
   ],
   "source": [
    "head(plac_class)"
   ]
  },
  {
   "cell_type": "code",
   "execution_count": 11,
   "metadata": {},
   "outputs": [
    {
     "data": {
      "text/html": [
       "<ol class=list-inline>\n",
       "\t<li>'sl_no'</li>\n",
       "\t<li>'gender'</li>\n",
       "\t<li>'ssc_p'</li>\n",
       "\t<li>'ssc_b'</li>\n",
       "\t<li>'hsc_p'</li>\n",
       "\t<li>'hsc_b'</li>\n",
       "\t<li>'hsc_s'</li>\n",
       "\t<li>'degree_p'</li>\n",
       "\t<li>'degree_t'</li>\n",
       "\t<li>'workex'</li>\n",
       "\t<li>'etest_p'</li>\n",
       "\t<li>'specialisation'</li>\n",
       "\t<li>'mba_p'</li>\n",
       "\t<li>'status'</li>\n",
       "\t<li>'salary'</li>\n",
       "</ol>\n"
      ],
      "text/latex": [
       "\\begin{enumerate*}\n",
       "\\item 'sl\\_no'\n",
       "\\item 'gender'\n",
       "\\item 'ssc\\_p'\n",
       "\\item 'ssc\\_b'\n",
       "\\item 'hsc\\_p'\n",
       "\\item 'hsc\\_b'\n",
       "\\item 'hsc\\_s'\n",
       "\\item 'degree\\_p'\n",
       "\\item 'degree\\_t'\n",
       "\\item 'workex'\n",
       "\\item 'etest\\_p'\n",
       "\\item 'specialisation'\n",
       "\\item 'mba\\_p'\n",
       "\\item 'status'\n",
       "\\item 'salary'\n",
       "\\end{enumerate*}\n"
      ],
      "text/markdown": [
       "1. 'sl_no'\n",
       "2. 'gender'\n",
       "3. 'ssc_p'\n",
       "4. 'ssc_b'\n",
       "5. 'hsc_p'\n",
       "6. 'hsc_b'\n",
       "7. 'hsc_s'\n",
       "8. 'degree_p'\n",
       "9. 'degree_t'\n",
       "10. 'workex'\n",
       "11. 'etest_p'\n",
       "12. 'specialisation'\n",
       "13. 'mba_p'\n",
       "14. 'status'\n",
       "15. 'salary'\n",
       "\n",
       "\n"
      ],
      "text/plain": [
       " [1] \"sl_no\"          \"gender\"         \"ssc_p\"          \"ssc_b\"         \n",
       " [5] \"hsc_p\"          \"hsc_b\"          \"hsc_s\"          \"degree_p\"      \n",
       " [9] \"degree_t\"       \"workex\"         \"etest_p\"        \"specialisation\"\n",
       "[13] \"mba_p\"          \"status\"         \"salary\"        "
      ]
     },
     "metadata": {},
     "output_type": "display_data"
    }
   ],
   "source": [
    "names(plac_class)"
   ]
  },
  {
   "cell_type": "code",
   "execution_count": 12,
   "metadata": {
    "scrolled": true
   },
   "outputs": [
    {
     "name": "stdout",
     "output_type": "stream",
     "text": [
      "'data.frame':\t215 obs. of  15 variables:\n",
      " $ sl_no         : int  1 2 3 4 5 6 7 8 9 10 ...\n",
      " $ gender        : Factor w/ 2 levels \"F\",\"M\": 2 2 2 2 2 2 1 2 2 2 ...\n",
      " $ ssc_p         : num  67 79.3 65 56 85.8 ...\n",
      " $ ssc_b         : Factor w/ 2 levels \"Central\",\"Others\": 2 1 1 1 1 2 2 1 1 1 ...\n",
      " $ hsc_p         : num  91 78.3 68 52 73.6 ...\n",
      " $ hsc_b         : Factor w/ 2 levels \"Central\",\"Others\": 2 2 1 1 1 2 2 1 1 1 ...\n",
      " $ hsc_s         : Factor w/ 3 levels \"Arts\",\"Commerce\",..: 2 3 1 3 2 3 2 3 2 2 ...\n",
      " $ degree_p      : num  58 77.5 64 52 73.3 ...\n",
      " $ degree_t      : Factor w/ 3 levels \"Comm&Mgmt\",\"Others\",..: 3 3 1 3 1 3 1 3 1 1 ...\n",
      " $ workex        : Factor w/ 2 levels \"No\",\"Yes\": 1 2 1 1 1 2 1 2 1 1 ...\n",
      " $ etest_p       : num  55 86.5 75 66 96.8 ...\n",
      " $ specialisation: Factor w/ 2 levels \"Mkt&Fin\",\"Mkt&HR\": 2 1 1 2 1 1 1 1 1 1 ...\n",
      " $ mba_p         : num  58.8 66.3 57.8 59.4 55.5 ...\n",
      " $ status        : Factor w/ 2 levels \"Not Placed\",\"Placed\": 2 2 2 1 2 1 1 2 2 1 ...\n",
      " $ salary        : int  270000 200000 250000 NA 425000 NA NA 252000 231000 NA ...\n"
     ]
    }
   ],
   "source": [
    "str(plac_class)"
   ]
  },
  {
   "cell_type": "code",
   "execution_count": 13,
   "metadata": {},
   "outputs": [
    {
     "data": {
      "text/plain": [
       "     sl_no       gender      ssc_p           ssc_b         hsc_p      \n",
       " Min.   :  1.0   F: 76   Min.   :40.89   Central:116   Min.   :37.00  \n",
       " 1st Qu.: 54.5   M:139   1st Qu.:60.60   Others : 99   1st Qu.:60.90  \n",
       " Median :108.0           Median :67.00                 Median :65.00  \n",
       " Mean   :108.0           Mean   :67.30                 Mean   :66.33  \n",
       " 3rd Qu.:161.5           3rd Qu.:75.70                 3rd Qu.:73.00  \n",
       " Max.   :215.0           Max.   :89.40                 Max.   :97.70  \n",
       "                                                                      \n",
       "     hsc_b          hsc_s        degree_p          degree_t   workex   \n",
       " Central: 84   Arts    : 11   Min.   :50.00   Comm&Mgmt:145   No :141  \n",
       " Others :131   Commerce:113   1st Qu.:61.00   Others   : 11   Yes: 74  \n",
       "               Science : 91   Median :66.00   Sci&Tech : 59            \n",
       "                              Mean   :66.37                            \n",
       "                              3rd Qu.:72.00                            \n",
       "                              Max.   :91.00                            \n",
       "                                                                       \n",
       "    etest_p     specialisation     mba_p              status   \n",
       " Min.   :50.0   Mkt&Fin:120    Min.   :51.21   Not Placed: 67  \n",
       " 1st Qu.:60.0   Mkt&HR : 95    1st Qu.:57.95   Placed    :148  \n",
       " Median :71.0                  Median :62.00                   \n",
       " Mean   :72.1                  Mean   :62.28                   \n",
       " 3rd Qu.:83.5                  3rd Qu.:66.25                   \n",
       " Max.   :98.0                  Max.   :77.89                   \n",
       "                                                               \n",
       "     salary      \n",
       " Min.   :200000  \n",
       " 1st Qu.:240000  \n",
       " Median :265000  \n",
       " Mean   :288655  \n",
       " 3rd Qu.:300000  \n",
       " Max.   :940000  \n",
       " NA's   :67      "
      ]
     },
     "metadata": {},
     "output_type": "display_data"
    }
   ],
   "source": [
    "summary(plac_class)"
   ]
  },
  {
   "cell_type": "code",
   "execution_count": 16,
   "metadata": {},
   "outputs": [
    {
     "name": "stderr",
     "output_type": "stream",
     "text": [
      "Warning message:\n",
      "\"package 'ggvis' was built under R version 3.6.3\""
     ]
    }
   ],
   "source": [
    "library(ggvis)"
   ]
  },
  {
   "cell_type": "code",
   "execution_count": 18,
   "metadata": {},
   "outputs": [],
   "source": [
    "plac_class %>% ggvis(~gender, ~ssc_p, fill = ~status) %>% layer_points()"
   ]
  },
  {
   "cell_type": "code",
   "execution_count": 21,
   "metadata": {},
   "outputs": [],
   "source": [
    "plac_class %>% ggvis(~hsc_p, ~ssc_p, fill = ~status) %>% layer_points()"
   ]
  },
  {
   "cell_type": "code",
   "execution_count": 25,
   "metadata": {},
   "outputs": [
    {
     "data": {
      "text/html": [
       "0.511472101599773"
      ],
      "text/latex": [
       "0.511472101599773"
      ],
      "text/markdown": [
       "0.511472101599773"
      ],
      "text/plain": [
       "[1] 0.5114721"
      ]
     },
     "metadata": {},
     "output_type": "display_data"
    }
   ],
   "source": [
    "cor(plac_class$hsc_p, plac_class$ssc_p)"
   ]
  },
  {
   "cell_type": "code",
   "execution_count": 27,
   "metadata": {},
   "outputs": [
    {
     "name": "stderr",
     "output_type": "stream",
     "text": [
      "Installing package into 'C:/Users/pmesquit/Documents/R/win-library/3.6'\n",
      "(as 'lib' is unspecified)\n"
     ]
    },
    {
     "name": "stdout",
     "output_type": "stream",
     "text": [
      "package 'class' successfully unpacked and MD5 sums checked\n",
      "\n",
      "The downloaded binary packages are in\n",
      "\tC:\\Users\\pmesquit\\AppData\\Local\\Temp\\RtmpOiKdnc\\downloaded_packages\n"
     ]
    },
    {
     "name": "stderr",
     "output_type": "stream",
     "text": [
      "Warning message:\n",
      "\"package 'class' was built under R version 3.6.3\""
     ]
    }
   ],
   "source": [
    "install.packages('class')\n",
    "library(class)"
   ]
  },
  {
   "cell_type": "code",
   "execution_count": 37,
   "metadata": {
    "scrolled": false
   },
   "outputs": [
    {
     "name": "stderr",
     "output_type": "stream",
     "text": [
      "Installing package into 'C:/Users/pmesquit/Documents/R/win-library/3.6'\n",
      "(as 'lib' is unspecified)\n",
      "Warning message:\n",
      "\"package 'dummies' is in use and will not be installed\""
     ]
    }
   ],
   "source": [
    "install.packages('dummies')\n",
    "library('dummies')"
   ]
  },
  {
   "cell_type": "code",
   "execution_count": 103,
   "metadata": {},
   "outputs": [],
   "source": [
    "plac_class = plac_class[,!names(plac_class) %in% 'sl_no']\n",
    "plac_class[plac_class==''] <- NA"
   ]
  },
  {
   "cell_type": "code",
   "execution_count": 107,
   "metadata": {
    "scrolled": true
   },
   "outputs": [
    {
     "data": {
      "text/html": [
       "<ol class=list-inline>\n",
       "\t<li>'ssc_p'</li>\n",
       "\t<li>'hsc_p'</li>\n",
       "\t<li>'degree_p'</li>\n",
       "\t<li>'etest_p'</li>\n",
       "\t<li>'mba_p'</li>\n",
       "</ol>\n"
      ],
      "text/latex": [
       "\\begin{enumerate*}\n",
       "\\item 'ssc\\_p'\n",
       "\\item 'hsc\\_p'\n",
       "\\item 'degree\\_p'\n",
       "\\item 'etest\\_p'\n",
       "\\item 'mba\\_p'\n",
       "\\end{enumerate*}\n"
      ],
      "text/markdown": [
       "1. 'ssc_p'\n",
       "2. 'hsc_p'\n",
       "3. 'degree_p'\n",
       "4. 'etest_p'\n",
       "5. 'mba_p'\n",
       "\n",
       "\n"
      ],
      "text/plain": [
       "[1] \"ssc_p\"    \"hsc_p\"    \"degree_p\" \"etest_p\"  \"mba_p\"   "
      ]
     },
     "metadata": {},
     "output_type": "display_data"
    }
   ],
   "source": [
    "plac = subset(plac_class, select = c(2,4,7,10,12))\n",
    "names(plac)"
   ]
  },
  {
   "cell_type": "code",
   "execution_count": 108,
   "metadata": {},
   "outputs": [
    {
     "data": {
      "text/html": [
       "<ol class=list-inline>\n",
       "\t<li>'ssc_p'</li>\n",
       "\t<li>'hsc_p'</li>\n",
       "\t<li>'degree_p'</li>\n",
       "\t<li>'etest_p'</li>\n",
       "\t<li>'mba_p'</li>\n",
       "\t<li>'gender'</li>\n",
       "\t<li>'ssc_b'</li>\n",
       "\t<li>'hsc_b'</li>\n",
       "\t<li>'ssc_s'</li>\n",
       "\t<li>'degree_t'</li>\n",
       "\t<li>'workex'</li>\n",
       "\t<li>'specialisation'</li>\n",
       "\t<li>'status'</li>\n",
       "</ol>\n"
      ],
      "text/latex": [
       "\\begin{enumerate*}\n",
       "\\item 'ssc\\_p'\n",
       "\\item 'hsc\\_p'\n",
       "\\item 'degree\\_p'\n",
       "\\item 'etest\\_p'\n",
       "\\item 'mba\\_p'\n",
       "\\item 'gender'\n",
       "\\item 'ssc\\_b'\n",
       "\\item 'hsc\\_b'\n",
       "\\item 'ssc\\_s'\n",
       "\\item 'degree\\_t'\n",
       "\\item 'workex'\n",
       "\\item 'specialisation'\n",
       "\\item 'status'\n",
       "\\end{enumerate*}\n"
      ],
      "text/markdown": [
       "1. 'ssc_p'\n",
       "2. 'hsc_p'\n",
       "3. 'degree_p'\n",
       "4. 'etest_p'\n",
       "5. 'mba_p'\n",
       "6. 'gender'\n",
       "7. 'ssc_b'\n",
       "8. 'hsc_b'\n",
       "9. 'ssc_s'\n",
       "10. 'degree_t'\n",
       "11. 'workex'\n",
       "12. 'specialisation'\n",
       "13. 'status'\n",
       "\n",
       "\n"
      ],
      "text/plain": [
       " [1] \"ssc_p\"          \"hsc_p\"          \"degree_p\"       \"etest_p\"       \n",
       " [5] \"mba_p\"          \"gender\"         \"ssc_b\"          \"hsc_b\"         \n",
       " [9] \"ssc_s\"          \"degree_t\"       \"workex\"         \"specialisation\"\n",
       "[13] \"status\"        "
      ]
     },
     "metadata": {},
     "output_type": "display_data"
    },
    {
     "data": {
      "text/html": [
       "FALSE"
      ],
      "text/latex": [
       "FALSE"
      ],
      "text/markdown": [
       "FALSE"
      ],
      "text/plain": [
       "[1] FALSE"
      ]
     },
     "metadata": {},
     "output_type": "display_data"
    }
   ],
   "source": [
    "options(warn = -1)\n",
    "plac$gender = dummy(plac_class$gender)\n",
    "plac$ssc_b = dummy(plac_class$ssc_b)\n",
    "plac$hsc_b = dummy(plac_class$hsc_b)\n",
    "plac$ssc_s = dummy(plac_class$hsc_s)\n",
    "plac$degree_t = dummy(plac_class$degree_t)\n",
    "plac$workex = dummy(plac_class$workex)\n",
    "plac$specialisation = dummy(plac_class$specialisation)\n",
    "plac$status = dummy(plac_class$status)\n",
    "\n",
    "names(plac)\n",
    "length(names(plac_class)) == length(names(plac))"
   ]
  },
  {
   "cell_type": "code",
   "execution_count": 111,
   "metadata": {},
   "outputs": [
    {
     "data": {
      "text/html": [
       "<table>\n",
       "<thead><tr><th></th><th scope=col>ssc_p</th><th scope=col>hsc_p</th><th scope=col>degree_p</th><th scope=col>etest_p</th><th scope=col>mba_p</th><th scope=col>gender.NAF</th><th scope=col>gender.NAM</th><th scope=col>ssc_b.NACentral</th><th scope=col>ssc_b.NAOthers</th><th scope=col>hsc_b.NACentral</th><th scope=col>...</th><th scope=col>ssc_s.NAScience</th><th scope=col>degree_t.NAComm&amp;Mgmt</th><th scope=col>degree_t.NAOthers</th><th scope=col>degree_t.NASci&amp;Tech</th><th scope=col>workex.NANo</th><th scope=col>workex.NAYes</th><th scope=col>specialisation.NAMkt&amp;Fin</th><th scope=col>specialisation.NAMkt&amp;HR</th><th scope=col>status.NANot Placed</th><th scope=col>status.NAPlaced</th></tr></thead>\n",
       "<tbody>\n",
       "\t<tr><th scope=row>ssc_p</th><td> 1.00000000 </td><td> 0.51147210 </td><td> 0.53840400 </td><td> 0.261992695</td><td> 0.388477552</td><td> 0.068968614</td><td>-0.068968614</td><td>-0.116194113</td><td> 0.116194113</td><td>-0.066996092</td><td>...         </td><td> 0.189847157</td><td>-0.17958057 </td><td>-0.066127312</td><td> 0.221235225</td><td>-0.175675476</td><td> 0.175675476</td><td> 0.172536259</td><td>-0.172536259</td><td>-0.607888734</td><td> 0.607888734</td></tr>\n",
       "\t<tr><th scope=row>hsc_p</th><td> 0.51147210 </td><td> 1.00000000 </td><td> 0.43420581 </td><td> 0.245112928</td><td> 0.354822595</td><td> 0.021333906</td><td>-0.021333906</td><td> 0.137012913</td><td>-0.137012913</td><td> 0.019548082</td><td>...         </td><td>-0.226674668</td><td> 0.11281583 </td><td>-0.131382166</td><td>-0.053599398</td><td>-0.141024862</td><td> 0.141024862</td><td> 0.241629958</td><td>-0.241629958</td><td>-0.491227944</td><td> 0.491227944</td></tr>\n",
       "\t<tr><th scope=row>degree_p</th><td> 0.53840400 </td><td> 0.43420581 </td><td> 1.00000000 </td><td> 0.224470171</td><td> 0.402363771</td><td> 0.173216618</td><td>-0.173216618</td><td>-0.038069911</td><td> 0.038069911</td><td>-0.067229329</td><td>...         </td><td> 0.092006315</td><td>-0.03275480 </td><td>-0.180408063</td><td> 0.123476690</td><td>-0.122647554</td><td> 0.122647554</td><td> 0.218285935</td><td>-0.218285935</td><td>-0.479860993</td><td> 0.479860993</td></tr>\n",
       "\t<tr><th scope=row>etest_p</th><td> 0.26199269 </td><td> 0.24511293 </td><td> 0.22447017 </td><td> 1.000000000</td><td> 0.218054671</td><td>-0.084293518</td><td> 0.084293518</td><td> 0.018990806</td><td>-0.018990806</td><td>-0.039108032</td><td>...         </td><td> 0.055352408</td><td>-0.01253066 </td><td> 0.006907327</td><td> 0.009748253</td><td>-0.056734693</td><td> 0.056734693</td><td> 0.236315103</td><td>-0.236315103</td><td>-0.127639375</td><td> 0.127639375</td></tr>\n",
       "\t<tr><th scope=row>mba_p</th><td> 0.38847755 </td><td> 0.35482260 </td><td> 0.40236377 </td><td> 0.218054671</td><td> 1.000000000</td><td> 0.300531215</td><td>-0.300531215</td><td>-0.083120209</td><td> 0.083120209</td><td>-0.090201303</td><td>...         </td><td> 0.048049710</td><td>-0.10208772 </td><td>-0.036055268</td><td> 0.125008726</td><td>-0.168811493</td><td> 0.168811493</td><td> 0.105727827</td><td>-0.105727827</td><td>-0.076921649</td><td> 0.076921649</td></tr>\n",
       "\t<tr><th scope=row>gender.NAF</th><td> 0.06896861 </td><td> 0.02133391 </td><td> 0.17321662 </td><td>-0.084293518</td><td> 0.300531215</td><td> 1.000000000</td><td>-1.000000000</td><td> 0.019429113</td><td>-0.019429113</td><td> 0.065944733</td><td>...         </td><td>-0.042681550</td><td> 0.03621463 </td><td> 0.093246004</td><td>-0.084072126</td><td> 0.085152599</td><td>-0.085152599</td><td>-0.106159607</td><td> 0.106159607</td><td> 0.090670398</td><td>-0.090670398</td></tr>\n",
       "\t<tr><th scope=row>gender.NAM</th><td>-0.06896861 </td><td>-0.02133391 </td><td>-0.17321662 </td><td> 0.084293518</td><td>-0.300531215</td><td>-1.000000000</td><td> 1.000000000</td><td>-0.019429113</td><td> 0.019429113</td><td>-0.065944733</td><td>...         </td><td> 0.042681550</td><td>-0.03621463 </td><td>-0.093246004</td><td> 0.084072126</td><td>-0.085152599</td><td> 0.085152599</td><td> 0.106159607</td><td>-0.106159607</td><td>-0.090670398</td><td> 0.090670398</td></tr>\n",
       "\t<tr><th scope=row>ssc_b.NACentral</th><td>-0.11619411 </td><td> 0.13701291 </td><td>-0.03806991 </td><td> 0.018990806</td><td>-0.083120209</td><td> 0.019429113</td><td>-0.019429113</td><td> 1.000000000</td><td>-1.000000000</td><td> 0.605883321</td><td>...         </td><td>-0.058505420</td><td> 0.09493891 </td><td> 0.002757846</td><td>-0.101060316</td><td>-0.040743924</td><td> 0.040743924</td><td>-0.051564759</td><td> 0.051564759</td><td> 0.037296512</td><td>-0.037296512</td></tr>\n",
       "\t<tr><th scope=row>ssc_b.NAOthers</th><td> 0.11619411 </td><td>-0.13701291 </td><td> 0.03806991 </td><td>-0.018990806</td><td> 0.083120209</td><td>-0.019429113</td><td> 0.019429113</td><td>-1.000000000</td><td> 1.000000000</td><td>-0.605883321</td><td>...         </td><td> 0.058505420</td><td>-0.09493891 </td><td>-0.002757846</td><td> 0.101060316</td><td> 0.040743924</td><td>-0.040743924</td><td> 0.051564759</td><td>-0.051564759</td><td>-0.037296512</td><td> 0.037296512</td></tr>\n",
       "\t<tr><th scope=row>hsc_b.NACentral</th><td>-0.06699609 </td><td> 0.01954808 </td><td>-0.06722933 </td><td>-0.039108032</td><td>-0.090201303</td><td> 0.065944733</td><td>-0.065944733</td><td> 0.605883321</td><td>-0.605883321</td><td> 1.000000000</td><td>...         </td><td>-0.126445729</td><td> 0.02744035 </td><td> 0.116920164</td><td>-0.086547506</td><td> 0.038356689</td><td>-0.038356689</td><td> 0.002232093</td><td>-0.002232093</td><td> 0.016944537</td><td>-0.016944537</td></tr>\n",
       "\t<tr><th scope=row>hsc_b.NAOthers</th><td> 0.06699609 </td><td>-0.01954808 </td><td> 0.06722933 </td><td> 0.039108032</td><td> 0.090201303</td><td>-0.065944733</td><td> 0.065944733</td><td>-0.605883321</td><td> 0.605883321</td><td>-1.000000000</td><td>...         </td><td> 0.126445729</td><td>-0.02744035 </td><td>-0.116920164</td><td> 0.086547506</td><td>-0.038356689</td><td> 0.038356689</td><td>-0.002232093</td><td> 0.002232093</td><td>-0.016944537</td><td> 0.016944537</td></tr>\n",
       "\t<tr><th scope=row>ssc_s.NAArts</th><td>-0.19608626 </td><td>-0.07662729 </td><td>-0.15481706 </td><td>-0.074870791</td><td> 0.004243741</td><td> 0.093246004</td><td>-0.093246004</td><td> 0.002757846</td><td>-0.002757846</td><td> 0.116920164</td><td>...         </td><td>-0.198925800</td><td>-0.01885811 </td><td> 0.329322638</td><td>-0.142805510</td><td>-0.053939096</td><td> 0.053939096</td><td> 0.079085368</td><td>-0.079085368</td><td> 0.071653435</td><td>-0.071653435</td></tr>\n",
       "\t<tr><th scope=row>ssc_s.NACommerce</th><td>-0.10132302 </td><td> 0.25809322 </td><td>-0.02272426 </td><td>-0.021732458</td><td>-0.049415105</td><td> 0.001087496</td><td>-0.001087496</td><td> 0.056671107</td><td>-0.056671107</td><td> 0.073521733</td><td>...         </td><td>-0.901672843</td><td> 0.65180365 </td><td>-0.202135401</td><td>-0.584673134</td><td> 0.056718621</td><td>-0.056718621</td><td> 0.129985388</td><td>-0.129985388</td><td>-0.024413663</td><td> 0.024413663</td></tr>\n",
       "\t<tr><th scope=row>ssc_s.NAScience</th><td> 0.18984716 </td><td>-0.22667467 </td><td> 0.09200632 </td><td> 0.055352408</td><td> 0.048049710</td><td>-0.042681550</td><td> 0.042681550</td><td>-0.058505420</td><td> 0.058505420</td><td>-0.126445729</td><td>...         </td><td> 1.000000000</td><td>-0.65034631 </td><td> 0.057432124</td><td> 0.654592608</td><td>-0.033269804</td><td> 0.033269804</td><td>-0.166639456</td><td> 0.166639456</td><td>-0.007279322</td><td> 0.007279322</td></tr>\n",
       "\t<tr><th scope=row>degree_t.NAComm&amp;Mgmt</th><td>-0.17958057 </td><td> 0.11281583 </td><td>-0.03275480 </td><td>-0.012530660</td><td>-0.102087717</td><td> 0.036214630</td><td>-0.036214630</td><td> 0.094938912</td><td>-0.094938912</td><td> 0.027440352</td><td>...         </td><td>-0.650346309</td><td> 1.00000000 </td><td>-0.334207537</td><td>-0.885112935</td><td> 0.102516559</td><td>-0.102516559</td><td> 0.101330702</td><td>-0.101330702</td><td>-0.046848596</td><td> 0.046848596</td></tr>\n",
       "\t<tr><th scope=row>degree_t.NAOthers</th><td>-0.06612731 </td><td>-0.13138217 </td><td>-0.18040806 </td><td> 0.006907327</td><td>-0.036055268</td><td> 0.093246004</td><td>-0.093246004</td><td> 0.002757846</td><td>-0.002757846</td><td> 0.116920164</td><td>...         </td><td> 0.057432124</td><td>-0.33420754 </td><td> 1.000000000</td><td>-0.142805510</td><td>-0.009506507</td><td> 0.009506507</td><td>-0.090948173</td><td> 0.090948173</td><td> 0.117231803</td><td>-0.117231803</td></tr>\n",
       "\t<tr><th scope=row>degree_t.NASci&amp;Tech</th><td> 0.22123523 </td><td>-0.05359940 </td><td> 0.12347669 </td><td> 0.009748253</td><td> 0.125008726</td><td>-0.084072126</td><td> 0.084072126</td><td>-0.101060316</td><td> 0.101060316</td><td>-0.086547506</td><td>...         </td><td> 0.654592608</td><td>-0.88511294 </td><td>-0.142805510</td><td> 1.000000000</td><td>-0.102962113</td><td> 0.102962113</td><td>-0.061503498</td><td> 0.061503498</td><td>-0.008688034</td><td> 0.008688034</td></tr>\n",
       "\t<tr><th scope=row>workex.NANo</th><td>-0.17567548 </td><td>-0.14102486 </td><td>-0.12264755 </td><td>-0.056734693</td><td>-0.168811493</td><td> 0.085152599</td><td>-0.085152599</td><td>-0.040743924</td><td> 0.040743924</td><td> 0.038356689</td><td>...         </td><td>-0.033269804</td><td> 0.10251656 </td><td>-0.009506507</td><td>-0.102962113</td><td> 1.000000000</td><td>-1.000000000</td><td>-0.191173732</td><td> 0.191173732</td><td> 0.276059965</td><td>-0.276059965</td></tr>\n",
       "\t<tr><th scope=row>workex.NAYes</th><td> 0.17567548 </td><td> 0.14102486 </td><td> 0.12264755 </td><td> 0.056734693</td><td> 0.168811493</td><td>-0.085152599</td><td> 0.085152599</td><td> 0.040743924</td><td>-0.040743924</td><td>-0.038356689</td><td>...         </td><td> 0.033269804</td><td>-0.10251656 </td><td> 0.009506507</td><td> 0.102962113</td><td>-1.000000000</td><td> 1.000000000</td><td> 0.191173732</td><td>-0.191173732</td><td>-0.276059965</td><td> 0.276059965</td></tr>\n",
       "\t<tr><th scope=row>specialisation.NAMkt&amp;Fin</th><td> 0.17253626 </td><td> 0.24162996 </td><td> 0.21828594 </td><td> 0.236315103</td><td> 0.105727827</td><td>-0.106159607</td><td> 0.106159607</td><td>-0.051564759</td><td> 0.051564759</td><td> 0.002232093</td><td>...         </td><td>-0.166639456</td><td> 0.10133070 </td><td>-0.090948173</td><td>-0.061503498</td><td>-0.191173732</td><td> 0.191173732</td><td> 1.000000000</td><td>-1.000000000</td><td>-0.250655090</td><td> 0.250655090</td></tr>\n",
       "\t<tr><th scope=row>specialisation.NAMkt&amp;HR</th><td>-0.17253626 </td><td>-0.24162996 </td><td>-0.21828594 </td><td>-0.236315103</td><td>-0.105727827</td><td> 0.106159607</td><td>-0.106159607</td><td> 0.051564759</td><td>-0.051564759</td><td>-0.002232093</td><td>...         </td><td> 0.166639456</td><td>-0.10133070 </td><td> 0.090948173</td><td> 0.061503498</td><td> 0.191173732</td><td>-0.191173732</td><td>-1.000000000</td><td> 1.000000000</td><td> 0.250655090</td><td>-0.250655090</td></tr>\n",
       "\t<tr><th scope=row>status.NANot Placed</th><td>-0.60788873 </td><td>-0.49122794 </td><td>-0.47986099 </td><td>-0.127639375</td><td>-0.076921649</td><td> 0.090670398</td><td>-0.090670398</td><td> 0.037296512</td><td>-0.037296512</td><td> 0.016944537</td><td>...         </td><td>-0.007279322</td><td>-0.04684860 </td><td> 0.117231803</td><td>-0.008688034</td><td> 0.276059965</td><td>-0.276059965</td><td>-0.250655090</td><td> 0.250655090</td><td> 1.000000000</td><td>-1.000000000</td></tr>\n",
       "\t<tr><th scope=row>status.NAPlaced</th><td> 0.60788873 </td><td> 0.49122794 </td><td> 0.47986099 </td><td> 0.127639375</td><td> 0.076921649</td><td>-0.090670398</td><td> 0.090670398</td><td>-0.037296512</td><td> 0.037296512</td><td>-0.016944537</td><td>...         </td><td> 0.007279322</td><td> 0.04684860 </td><td>-0.117231803</td><td> 0.008688034</td><td>-0.276059965</td><td> 0.276059965</td><td> 0.250655090</td><td>-0.250655090</td><td>-1.000000000</td><td> 1.000000000</td></tr>\n",
       "</tbody>\n",
       "</table>\n"
      ],
      "text/latex": [
       "\\begin{tabular}{r|lllllllllllllllllllllll}\n",
       "  & ssc\\_p & hsc\\_p & degree\\_p & etest\\_p & mba\\_p & gender.NAF & gender.NAM & ssc\\_b.NACentral & ssc\\_b.NAOthers & hsc\\_b.NACentral & ... & ssc\\_s.NAScience & degree\\_t.NAComm\\&Mgmt & degree\\_t.NAOthers & degree\\_t.NASci\\&Tech & workex.NANo & workex.NAYes & specialisation.NAMkt\\&Fin & specialisation.NAMkt\\&HR & status.NANot Placed & status.NAPlaced\\\\\n",
       "\\hline\n",
       "\tssc\\_p &  1.00000000  &  0.51147210  &  0.53840400  &  0.261992695 &  0.388477552 &  0.068968614 & -0.068968614 & -0.116194113 &  0.116194113 & -0.066996092 & ...          &  0.189847157 & -0.17958057  & -0.066127312 &  0.221235225 & -0.175675476 &  0.175675476 &  0.172536259 & -0.172536259 & -0.607888734 &  0.607888734\\\\\n",
       "\thsc\\_p &  0.51147210  &  1.00000000  &  0.43420581  &  0.245112928 &  0.354822595 &  0.021333906 & -0.021333906 &  0.137012913 & -0.137012913 &  0.019548082 & ...          & -0.226674668 &  0.11281583  & -0.131382166 & -0.053599398 & -0.141024862 &  0.141024862 &  0.241629958 & -0.241629958 & -0.491227944 &  0.491227944\\\\\n",
       "\tdegree\\_p &  0.53840400  &  0.43420581  &  1.00000000  &  0.224470171 &  0.402363771 &  0.173216618 & -0.173216618 & -0.038069911 &  0.038069911 & -0.067229329 & ...          &  0.092006315 & -0.03275480  & -0.180408063 &  0.123476690 & -0.122647554 &  0.122647554 &  0.218285935 & -0.218285935 & -0.479860993 &  0.479860993\\\\\n",
       "\tetest\\_p &  0.26199269  &  0.24511293  &  0.22447017  &  1.000000000 &  0.218054671 & -0.084293518 &  0.084293518 &  0.018990806 & -0.018990806 & -0.039108032 & ...          &  0.055352408 & -0.01253066  &  0.006907327 &  0.009748253 & -0.056734693 &  0.056734693 &  0.236315103 & -0.236315103 & -0.127639375 &  0.127639375\\\\\n",
       "\tmba\\_p &  0.38847755  &  0.35482260  &  0.40236377  &  0.218054671 &  1.000000000 &  0.300531215 & -0.300531215 & -0.083120209 &  0.083120209 & -0.090201303 & ...          &  0.048049710 & -0.10208772  & -0.036055268 &  0.125008726 & -0.168811493 &  0.168811493 &  0.105727827 & -0.105727827 & -0.076921649 &  0.076921649\\\\\n",
       "\tgender.NAF &  0.06896861  &  0.02133391  &  0.17321662  & -0.084293518 &  0.300531215 &  1.000000000 & -1.000000000 &  0.019429113 & -0.019429113 &  0.065944733 & ...          & -0.042681550 &  0.03621463  &  0.093246004 & -0.084072126 &  0.085152599 & -0.085152599 & -0.106159607 &  0.106159607 &  0.090670398 & -0.090670398\\\\\n",
       "\tgender.NAM & -0.06896861  & -0.02133391  & -0.17321662  &  0.084293518 & -0.300531215 & -1.000000000 &  1.000000000 & -0.019429113 &  0.019429113 & -0.065944733 & ...          &  0.042681550 & -0.03621463  & -0.093246004 &  0.084072126 & -0.085152599 &  0.085152599 &  0.106159607 & -0.106159607 & -0.090670398 &  0.090670398\\\\\n",
       "\tssc\\_b.NACentral & -0.11619411  &  0.13701291  & -0.03806991  &  0.018990806 & -0.083120209 &  0.019429113 & -0.019429113 &  1.000000000 & -1.000000000 &  0.605883321 & ...          & -0.058505420 &  0.09493891  &  0.002757846 & -0.101060316 & -0.040743924 &  0.040743924 & -0.051564759 &  0.051564759 &  0.037296512 & -0.037296512\\\\\n",
       "\tssc\\_b.NAOthers &  0.11619411  & -0.13701291  &  0.03806991  & -0.018990806 &  0.083120209 & -0.019429113 &  0.019429113 & -1.000000000 &  1.000000000 & -0.605883321 & ...          &  0.058505420 & -0.09493891  & -0.002757846 &  0.101060316 &  0.040743924 & -0.040743924 &  0.051564759 & -0.051564759 & -0.037296512 &  0.037296512\\\\\n",
       "\thsc\\_b.NACentral & -0.06699609  &  0.01954808  & -0.06722933  & -0.039108032 & -0.090201303 &  0.065944733 & -0.065944733 &  0.605883321 & -0.605883321 &  1.000000000 & ...          & -0.126445729 &  0.02744035  &  0.116920164 & -0.086547506 &  0.038356689 & -0.038356689 &  0.002232093 & -0.002232093 &  0.016944537 & -0.016944537\\\\\n",
       "\thsc\\_b.NAOthers &  0.06699609  & -0.01954808  &  0.06722933  &  0.039108032 &  0.090201303 & -0.065944733 &  0.065944733 & -0.605883321 &  0.605883321 & -1.000000000 & ...          &  0.126445729 & -0.02744035  & -0.116920164 &  0.086547506 & -0.038356689 &  0.038356689 & -0.002232093 &  0.002232093 & -0.016944537 &  0.016944537\\\\\n",
       "\tssc\\_s.NAArts & -0.19608626  & -0.07662729  & -0.15481706  & -0.074870791 &  0.004243741 &  0.093246004 & -0.093246004 &  0.002757846 & -0.002757846 &  0.116920164 & ...          & -0.198925800 & -0.01885811  &  0.329322638 & -0.142805510 & -0.053939096 &  0.053939096 &  0.079085368 & -0.079085368 &  0.071653435 & -0.071653435\\\\\n",
       "\tssc\\_s.NACommerce & -0.10132302  &  0.25809322  & -0.02272426  & -0.021732458 & -0.049415105 &  0.001087496 & -0.001087496 &  0.056671107 & -0.056671107 &  0.073521733 & ...          & -0.901672843 &  0.65180365  & -0.202135401 & -0.584673134 &  0.056718621 & -0.056718621 &  0.129985388 & -0.129985388 & -0.024413663 &  0.024413663\\\\\n",
       "\tssc\\_s.NAScience &  0.18984716  & -0.22667467  &  0.09200632  &  0.055352408 &  0.048049710 & -0.042681550 &  0.042681550 & -0.058505420 &  0.058505420 & -0.126445729 & ...          &  1.000000000 & -0.65034631  &  0.057432124 &  0.654592608 & -0.033269804 &  0.033269804 & -0.166639456 &  0.166639456 & -0.007279322 &  0.007279322\\\\\n",
       "\tdegree\\_t.NAComm\\&Mgmt & -0.17958057  &  0.11281583  & -0.03275480  & -0.012530660 & -0.102087717 &  0.036214630 & -0.036214630 &  0.094938912 & -0.094938912 &  0.027440352 & ...          & -0.650346309 &  1.00000000  & -0.334207537 & -0.885112935 &  0.102516559 & -0.102516559 &  0.101330702 & -0.101330702 & -0.046848596 &  0.046848596\\\\\n",
       "\tdegree\\_t.NAOthers & -0.06612731  & -0.13138217  & -0.18040806  &  0.006907327 & -0.036055268 &  0.093246004 & -0.093246004 &  0.002757846 & -0.002757846 &  0.116920164 & ...          &  0.057432124 & -0.33420754  &  1.000000000 & -0.142805510 & -0.009506507 &  0.009506507 & -0.090948173 &  0.090948173 &  0.117231803 & -0.117231803\\\\\n",
       "\tdegree\\_t.NASci\\&Tech &  0.22123523  & -0.05359940  &  0.12347669  &  0.009748253 &  0.125008726 & -0.084072126 &  0.084072126 & -0.101060316 &  0.101060316 & -0.086547506 & ...          &  0.654592608 & -0.88511294  & -0.142805510 &  1.000000000 & -0.102962113 &  0.102962113 & -0.061503498 &  0.061503498 & -0.008688034 &  0.008688034\\\\\n",
       "\tworkex.NANo & -0.17567548  & -0.14102486  & -0.12264755  & -0.056734693 & -0.168811493 &  0.085152599 & -0.085152599 & -0.040743924 &  0.040743924 &  0.038356689 & ...          & -0.033269804 &  0.10251656  & -0.009506507 & -0.102962113 &  1.000000000 & -1.000000000 & -0.191173732 &  0.191173732 &  0.276059965 & -0.276059965\\\\\n",
       "\tworkex.NAYes &  0.17567548  &  0.14102486  &  0.12264755  &  0.056734693 &  0.168811493 & -0.085152599 &  0.085152599 &  0.040743924 & -0.040743924 & -0.038356689 & ...          &  0.033269804 & -0.10251656  &  0.009506507 &  0.102962113 & -1.000000000 &  1.000000000 &  0.191173732 & -0.191173732 & -0.276059965 &  0.276059965\\\\\n",
       "\tspecialisation.NAMkt\\&Fin &  0.17253626  &  0.24162996  &  0.21828594  &  0.236315103 &  0.105727827 & -0.106159607 &  0.106159607 & -0.051564759 &  0.051564759 &  0.002232093 & ...          & -0.166639456 &  0.10133070  & -0.090948173 & -0.061503498 & -0.191173732 &  0.191173732 &  1.000000000 & -1.000000000 & -0.250655090 &  0.250655090\\\\\n",
       "\tspecialisation.NAMkt\\&HR & -0.17253626  & -0.24162996  & -0.21828594  & -0.236315103 & -0.105727827 &  0.106159607 & -0.106159607 &  0.051564759 & -0.051564759 & -0.002232093 & ...          &  0.166639456 & -0.10133070  &  0.090948173 &  0.061503498 &  0.191173732 & -0.191173732 & -1.000000000 &  1.000000000 &  0.250655090 & -0.250655090\\\\\n",
       "\tstatus.NANot Placed & -0.60788873  & -0.49122794  & -0.47986099  & -0.127639375 & -0.076921649 &  0.090670398 & -0.090670398 &  0.037296512 & -0.037296512 &  0.016944537 & ...          & -0.007279322 & -0.04684860  &  0.117231803 & -0.008688034 &  0.276059965 & -0.276059965 & -0.250655090 &  0.250655090 &  1.000000000 & -1.000000000\\\\\n",
       "\tstatus.NAPlaced &  0.60788873  &  0.49122794  &  0.47986099  &  0.127639375 &  0.076921649 & -0.090670398 &  0.090670398 & -0.037296512 &  0.037296512 & -0.016944537 & ...          &  0.007279322 &  0.04684860  & -0.117231803 &  0.008688034 & -0.276059965 &  0.276059965 &  0.250655090 & -0.250655090 & -1.000000000 &  1.000000000\\\\\n",
       "\\end{tabular}\n"
      ],
      "text/markdown": [
       "\n",
       "| <!--/--> | ssc_p | hsc_p | degree_p | etest_p | mba_p | gender.NAF | gender.NAM | ssc_b.NACentral | ssc_b.NAOthers | hsc_b.NACentral | ... | ssc_s.NAScience | degree_t.NAComm&Mgmt | degree_t.NAOthers | degree_t.NASci&Tech | workex.NANo | workex.NAYes | specialisation.NAMkt&Fin | specialisation.NAMkt&HR | status.NANot Placed | status.NAPlaced |\n",
       "|---|---|---|---|---|---|---|---|---|---|---|---|---|---|---|---|---|---|---|---|---|---|\n",
       "| ssc_p |  1.00000000  |  0.51147210  |  0.53840400  |  0.261992695 |  0.388477552 |  0.068968614 | -0.068968614 | -0.116194113 |  0.116194113 | -0.066996092 | ...          |  0.189847157 | -0.17958057  | -0.066127312 |  0.221235225 | -0.175675476 |  0.175675476 |  0.172536259 | -0.172536259 | -0.607888734 |  0.607888734 |\n",
       "| hsc_p |  0.51147210  |  1.00000000  |  0.43420581  |  0.245112928 |  0.354822595 |  0.021333906 | -0.021333906 |  0.137012913 | -0.137012913 |  0.019548082 | ...          | -0.226674668 |  0.11281583  | -0.131382166 | -0.053599398 | -0.141024862 |  0.141024862 |  0.241629958 | -0.241629958 | -0.491227944 |  0.491227944 |\n",
       "| degree_p |  0.53840400  |  0.43420581  |  1.00000000  |  0.224470171 |  0.402363771 |  0.173216618 | -0.173216618 | -0.038069911 |  0.038069911 | -0.067229329 | ...          |  0.092006315 | -0.03275480  | -0.180408063 |  0.123476690 | -0.122647554 |  0.122647554 |  0.218285935 | -0.218285935 | -0.479860993 |  0.479860993 |\n",
       "| etest_p |  0.26199269  |  0.24511293  |  0.22447017  |  1.000000000 |  0.218054671 | -0.084293518 |  0.084293518 |  0.018990806 | -0.018990806 | -0.039108032 | ...          |  0.055352408 | -0.01253066  |  0.006907327 |  0.009748253 | -0.056734693 |  0.056734693 |  0.236315103 | -0.236315103 | -0.127639375 |  0.127639375 |\n",
       "| mba_p |  0.38847755  |  0.35482260  |  0.40236377  |  0.218054671 |  1.000000000 |  0.300531215 | -0.300531215 | -0.083120209 |  0.083120209 | -0.090201303 | ...          |  0.048049710 | -0.10208772  | -0.036055268 |  0.125008726 | -0.168811493 |  0.168811493 |  0.105727827 | -0.105727827 | -0.076921649 |  0.076921649 |\n",
       "| gender.NAF |  0.06896861  |  0.02133391  |  0.17321662  | -0.084293518 |  0.300531215 |  1.000000000 | -1.000000000 |  0.019429113 | -0.019429113 |  0.065944733 | ...          | -0.042681550 |  0.03621463  |  0.093246004 | -0.084072126 |  0.085152599 | -0.085152599 | -0.106159607 |  0.106159607 |  0.090670398 | -0.090670398 |\n",
       "| gender.NAM | -0.06896861  | -0.02133391  | -0.17321662  |  0.084293518 | -0.300531215 | -1.000000000 |  1.000000000 | -0.019429113 |  0.019429113 | -0.065944733 | ...          |  0.042681550 | -0.03621463  | -0.093246004 |  0.084072126 | -0.085152599 |  0.085152599 |  0.106159607 | -0.106159607 | -0.090670398 |  0.090670398 |\n",
       "| ssc_b.NACentral | -0.11619411  |  0.13701291  | -0.03806991  |  0.018990806 | -0.083120209 |  0.019429113 | -0.019429113 |  1.000000000 | -1.000000000 |  0.605883321 | ...          | -0.058505420 |  0.09493891  |  0.002757846 | -0.101060316 | -0.040743924 |  0.040743924 | -0.051564759 |  0.051564759 |  0.037296512 | -0.037296512 |\n",
       "| ssc_b.NAOthers |  0.11619411  | -0.13701291  |  0.03806991  | -0.018990806 |  0.083120209 | -0.019429113 |  0.019429113 | -1.000000000 |  1.000000000 | -0.605883321 | ...          |  0.058505420 | -0.09493891  | -0.002757846 |  0.101060316 |  0.040743924 | -0.040743924 |  0.051564759 | -0.051564759 | -0.037296512 |  0.037296512 |\n",
       "| hsc_b.NACentral | -0.06699609  |  0.01954808  | -0.06722933  | -0.039108032 | -0.090201303 |  0.065944733 | -0.065944733 |  0.605883321 | -0.605883321 |  1.000000000 | ...          | -0.126445729 |  0.02744035  |  0.116920164 | -0.086547506 |  0.038356689 | -0.038356689 |  0.002232093 | -0.002232093 |  0.016944537 | -0.016944537 |\n",
       "| hsc_b.NAOthers |  0.06699609  | -0.01954808  |  0.06722933  |  0.039108032 |  0.090201303 | -0.065944733 |  0.065944733 | -0.605883321 |  0.605883321 | -1.000000000 | ...          |  0.126445729 | -0.02744035  | -0.116920164 |  0.086547506 | -0.038356689 |  0.038356689 | -0.002232093 |  0.002232093 | -0.016944537 |  0.016944537 |\n",
       "| ssc_s.NAArts | -0.19608626  | -0.07662729  | -0.15481706  | -0.074870791 |  0.004243741 |  0.093246004 | -0.093246004 |  0.002757846 | -0.002757846 |  0.116920164 | ...          | -0.198925800 | -0.01885811  |  0.329322638 | -0.142805510 | -0.053939096 |  0.053939096 |  0.079085368 | -0.079085368 |  0.071653435 | -0.071653435 |\n",
       "| ssc_s.NACommerce | -0.10132302  |  0.25809322  | -0.02272426  | -0.021732458 | -0.049415105 |  0.001087496 | -0.001087496 |  0.056671107 | -0.056671107 |  0.073521733 | ...          | -0.901672843 |  0.65180365  | -0.202135401 | -0.584673134 |  0.056718621 | -0.056718621 |  0.129985388 | -0.129985388 | -0.024413663 |  0.024413663 |\n",
       "| ssc_s.NAScience |  0.18984716  | -0.22667467  |  0.09200632  |  0.055352408 |  0.048049710 | -0.042681550 |  0.042681550 | -0.058505420 |  0.058505420 | -0.126445729 | ...          |  1.000000000 | -0.65034631  |  0.057432124 |  0.654592608 | -0.033269804 |  0.033269804 | -0.166639456 |  0.166639456 | -0.007279322 |  0.007279322 |\n",
       "| degree_t.NAComm&Mgmt | -0.17958057  |  0.11281583  | -0.03275480  | -0.012530660 | -0.102087717 |  0.036214630 | -0.036214630 |  0.094938912 | -0.094938912 |  0.027440352 | ...          | -0.650346309 |  1.00000000  | -0.334207537 | -0.885112935 |  0.102516559 | -0.102516559 |  0.101330702 | -0.101330702 | -0.046848596 |  0.046848596 |\n",
       "| degree_t.NAOthers | -0.06612731  | -0.13138217  | -0.18040806  |  0.006907327 | -0.036055268 |  0.093246004 | -0.093246004 |  0.002757846 | -0.002757846 |  0.116920164 | ...          |  0.057432124 | -0.33420754  |  1.000000000 | -0.142805510 | -0.009506507 |  0.009506507 | -0.090948173 |  0.090948173 |  0.117231803 | -0.117231803 |\n",
       "| degree_t.NASci&Tech |  0.22123523  | -0.05359940  |  0.12347669  |  0.009748253 |  0.125008726 | -0.084072126 |  0.084072126 | -0.101060316 |  0.101060316 | -0.086547506 | ...          |  0.654592608 | -0.88511294  | -0.142805510 |  1.000000000 | -0.102962113 |  0.102962113 | -0.061503498 |  0.061503498 | -0.008688034 |  0.008688034 |\n",
       "| workex.NANo | -0.17567548  | -0.14102486  | -0.12264755  | -0.056734693 | -0.168811493 |  0.085152599 | -0.085152599 | -0.040743924 |  0.040743924 |  0.038356689 | ...          | -0.033269804 |  0.10251656  | -0.009506507 | -0.102962113 |  1.000000000 | -1.000000000 | -0.191173732 |  0.191173732 |  0.276059965 | -0.276059965 |\n",
       "| workex.NAYes |  0.17567548  |  0.14102486  |  0.12264755  |  0.056734693 |  0.168811493 | -0.085152599 |  0.085152599 |  0.040743924 | -0.040743924 | -0.038356689 | ...          |  0.033269804 | -0.10251656  |  0.009506507 |  0.102962113 | -1.000000000 |  1.000000000 |  0.191173732 | -0.191173732 | -0.276059965 |  0.276059965 |\n",
       "| specialisation.NAMkt&Fin |  0.17253626  |  0.24162996  |  0.21828594  |  0.236315103 |  0.105727827 | -0.106159607 |  0.106159607 | -0.051564759 |  0.051564759 |  0.002232093 | ...          | -0.166639456 |  0.10133070  | -0.090948173 | -0.061503498 | -0.191173732 |  0.191173732 |  1.000000000 | -1.000000000 | -0.250655090 |  0.250655090 |\n",
       "| specialisation.NAMkt&HR | -0.17253626  | -0.24162996  | -0.21828594  | -0.236315103 | -0.105727827 |  0.106159607 | -0.106159607 |  0.051564759 | -0.051564759 | -0.002232093 | ...          |  0.166639456 | -0.10133070  |  0.090948173 |  0.061503498 |  0.191173732 | -0.191173732 | -1.000000000 |  1.000000000 |  0.250655090 | -0.250655090 |\n",
       "| status.NANot Placed | -0.60788873  | -0.49122794  | -0.47986099  | -0.127639375 | -0.076921649 |  0.090670398 | -0.090670398 |  0.037296512 | -0.037296512 |  0.016944537 | ...          | -0.007279322 | -0.04684860  |  0.117231803 | -0.008688034 |  0.276059965 | -0.276059965 | -0.250655090 |  0.250655090 |  1.000000000 | -1.000000000 |\n",
       "| status.NAPlaced |  0.60788873  |  0.49122794  |  0.47986099  |  0.127639375 |  0.076921649 | -0.090670398 |  0.090670398 | -0.037296512 |  0.037296512 | -0.016944537 | ...          |  0.007279322 |  0.04684860  | -0.117231803 |  0.008688034 | -0.276059965 |  0.276059965 |  0.250655090 | -0.250655090 | -1.000000000 |  1.000000000 |\n",
       "\n"
      ],
      "text/plain": [
       "                         ssc_p       hsc_p       degree_p    etest_p     \n",
       "ssc_p                     1.00000000  0.51147210  0.53840400  0.261992695\n",
       "hsc_p                     0.51147210  1.00000000  0.43420581  0.245112928\n",
       "degree_p                  0.53840400  0.43420581  1.00000000  0.224470171\n",
       "etest_p                   0.26199269  0.24511293  0.22447017  1.000000000\n",
       "mba_p                     0.38847755  0.35482260  0.40236377  0.218054671\n",
       "gender.NAF                0.06896861  0.02133391  0.17321662 -0.084293518\n",
       "gender.NAM               -0.06896861 -0.02133391 -0.17321662  0.084293518\n",
       "ssc_b.NACentral          -0.11619411  0.13701291 -0.03806991  0.018990806\n",
       "ssc_b.NAOthers            0.11619411 -0.13701291  0.03806991 -0.018990806\n",
       "hsc_b.NACentral          -0.06699609  0.01954808 -0.06722933 -0.039108032\n",
       "hsc_b.NAOthers            0.06699609 -0.01954808  0.06722933  0.039108032\n",
       "ssc_s.NAArts             -0.19608626 -0.07662729 -0.15481706 -0.074870791\n",
       "ssc_s.NACommerce         -0.10132302  0.25809322 -0.02272426 -0.021732458\n",
       "ssc_s.NAScience           0.18984716 -0.22667467  0.09200632  0.055352408\n",
       "degree_t.NAComm&Mgmt     -0.17958057  0.11281583 -0.03275480 -0.012530660\n",
       "degree_t.NAOthers        -0.06612731 -0.13138217 -0.18040806  0.006907327\n",
       "degree_t.NASci&Tech       0.22123523 -0.05359940  0.12347669  0.009748253\n",
       "workex.NANo              -0.17567548 -0.14102486 -0.12264755 -0.056734693\n",
       "workex.NAYes              0.17567548  0.14102486  0.12264755  0.056734693\n",
       "specialisation.NAMkt&Fin  0.17253626  0.24162996  0.21828594  0.236315103\n",
       "specialisation.NAMkt&HR  -0.17253626 -0.24162996 -0.21828594 -0.236315103\n",
       "status.NANot Placed      -0.60788873 -0.49122794 -0.47986099 -0.127639375\n",
       "status.NAPlaced           0.60788873  0.49122794  0.47986099  0.127639375\n",
       "                         mba_p        gender.NAF   gender.NAM   ssc_b.NACentral\n",
       "ssc_p                     0.388477552  0.068968614 -0.068968614 -0.116194113   \n",
       "hsc_p                     0.354822595  0.021333906 -0.021333906  0.137012913   \n",
       "degree_p                  0.402363771  0.173216618 -0.173216618 -0.038069911   \n",
       "etest_p                   0.218054671 -0.084293518  0.084293518  0.018990806   \n",
       "mba_p                     1.000000000  0.300531215 -0.300531215 -0.083120209   \n",
       "gender.NAF                0.300531215  1.000000000 -1.000000000  0.019429113   \n",
       "gender.NAM               -0.300531215 -1.000000000  1.000000000 -0.019429113   \n",
       "ssc_b.NACentral          -0.083120209  0.019429113 -0.019429113  1.000000000   \n",
       "ssc_b.NAOthers            0.083120209 -0.019429113  0.019429113 -1.000000000   \n",
       "hsc_b.NACentral          -0.090201303  0.065944733 -0.065944733  0.605883321   \n",
       "hsc_b.NAOthers            0.090201303 -0.065944733  0.065944733 -0.605883321   \n",
       "ssc_s.NAArts              0.004243741  0.093246004 -0.093246004  0.002757846   \n",
       "ssc_s.NACommerce         -0.049415105  0.001087496 -0.001087496  0.056671107   \n",
       "ssc_s.NAScience           0.048049710 -0.042681550  0.042681550 -0.058505420   \n",
       "degree_t.NAComm&Mgmt     -0.102087717  0.036214630 -0.036214630  0.094938912   \n",
       "degree_t.NAOthers        -0.036055268  0.093246004 -0.093246004  0.002757846   \n",
       "degree_t.NASci&Tech       0.125008726 -0.084072126  0.084072126 -0.101060316   \n",
       "workex.NANo              -0.168811493  0.085152599 -0.085152599 -0.040743924   \n",
       "workex.NAYes              0.168811493 -0.085152599  0.085152599  0.040743924   \n",
       "specialisation.NAMkt&Fin  0.105727827 -0.106159607  0.106159607 -0.051564759   \n",
       "specialisation.NAMkt&HR  -0.105727827  0.106159607 -0.106159607  0.051564759   \n",
       "status.NANot Placed      -0.076921649  0.090670398 -0.090670398  0.037296512   \n",
       "status.NAPlaced           0.076921649 -0.090670398  0.090670398 -0.037296512   \n",
       "                         ssc_b.NAOthers hsc_b.NACentral ... ssc_s.NAScience\n",
       "ssc_p                     0.116194113   -0.066996092    ...  0.189847157   \n",
       "hsc_p                    -0.137012913    0.019548082    ... -0.226674668   \n",
       "degree_p                  0.038069911   -0.067229329    ...  0.092006315   \n",
       "etest_p                  -0.018990806   -0.039108032    ...  0.055352408   \n",
       "mba_p                     0.083120209   -0.090201303    ...  0.048049710   \n",
       "gender.NAF               -0.019429113    0.065944733    ... -0.042681550   \n",
       "gender.NAM                0.019429113   -0.065944733    ...  0.042681550   \n",
       "ssc_b.NACentral          -1.000000000    0.605883321    ... -0.058505420   \n",
       "ssc_b.NAOthers            1.000000000   -0.605883321    ...  0.058505420   \n",
       "hsc_b.NACentral          -0.605883321    1.000000000    ... -0.126445729   \n",
       "hsc_b.NAOthers            0.605883321   -1.000000000    ...  0.126445729   \n",
       "ssc_s.NAArts             -0.002757846    0.116920164    ... -0.198925800   \n",
       "ssc_s.NACommerce         -0.056671107    0.073521733    ... -0.901672843   \n",
       "ssc_s.NAScience           0.058505420   -0.126445729    ...  1.000000000   \n",
       "degree_t.NAComm&Mgmt     -0.094938912    0.027440352    ... -0.650346309   \n",
       "degree_t.NAOthers        -0.002757846    0.116920164    ...  0.057432124   \n",
       "degree_t.NASci&Tech       0.101060316   -0.086547506    ...  0.654592608   \n",
       "workex.NANo               0.040743924    0.038356689    ... -0.033269804   \n",
       "workex.NAYes             -0.040743924   -0.038356689    ...  0.033269804   \n",
       "specialisation.NAMkt&Fin  0.051564759    0.002232093    ... -0.166639456   \n",
       "specialisation.NAMkt&HR  -0.051564759   -0.002232093    ...  0.166639456   \n",
       "status.NANot Placed      -0.037296512    0.016944537    ... -0.007279322   \n",
       "status.NAPlaced           0.037296512   -0.016944537    ...  0.007279322   \n",
       "                         degree_t.NAComm&Mgmt degree_t.NAOthers\n",
       "ssc_p                    -0.17958057          -0.066127312     \n",
       "hsc_p                     0.11281583          -0.131382166     \n",
       "degree_p                 -0.03275480          -0.180408063     \n",
       "etest_p                  -0.01253066           0.006907327     \n",
       "mba_p                    -0.10208772          -0.036055268     \n",
       "gender.NAF                0.03621463           0.093246004     \n",
       "gender.NAM               -0.03621463          -0.093246004     \n",
       "ssc_b.NACentral           0.09493891           0.002757846     \n",
       "ssc_b.NAOthers           -0.09493891          -0.002757846     \n",
       "hsc_b.NACentral           0.02744035           0.116920164     \n",
       "hsc_b.NAOthers           -0.02744035          -0.116920164     \n",
       "ssc_s.NAArts             -0.01885811           0.329322638     \n",
       "ssc_s.NACommerce          0.65180365          -0.202135401     \n",
       "ssc_s.NAScience          -0.65034631           0.057432124     \n",
       "degree_t.NAComm&Mgmt      1.00000000          -0.334207537     \n",
       "degree_t.NAOthers        -0.33420754           1.000000000     \n",
       "degree_t.NASci&Tech      -0.88511294          -0.142805510     \n",
       "workex.NANo               0.10251656          -0.009506507     \n",
       "workex.NAYes             -0.10251656           0.009506507     \n",
       "specialisation.NAMkt&Fin  0.10133070          -0.090948173     \n",
       "specialisation.NAMkt&HR  -0.10133070           0.090948173     \n",
       "status.NANot Placed      -0.04684860           0.117231803     \n",
       "status.NAPlaced           0.04684860          -0.117231803     \n",
       "                         degree_t.NASci&Tech workex.NANo  workex.NAYes\n",
       "ssc_p                     0.221235225        -0.175675476  0.175675476\n",
       "hsc_p                    -0.053599398        -0.141024862  0.141024862\n",
       "degree_p                  0.123476690        -0.122647554  0.122647554\n",
       "etest_p                   0.009748253        -0.056734693  0.056734693\n",
       "mba_p                     0.125008726        -0.168811493  0.168811493\n",
       "gender.NAF               -0.084072126         0.085152599 -0.085152599\n",
       "gender.NAM                0.084072126        -0.085152599  0.085152599\n",
       "ssc_b.NACentral          -0.101060316        -0.040743924  0.040743924\n",
       "ssc_b.NAOthers            0.101060316         0.040743924 -0.040743924\n",
       "hsc_b.NACentral          -0.086547506         0.038356689 -0.038356689\n",
       "hsc_b.NAOthers            0.086547506        -0.038356689  0.038356689\n",
       "ssc_s.NAArts             -0.142805510        -0.053939096  0.053939096\n",
       "ssc_s.NACommerce         -0.584673134         0.056718621 -0.056718621\n",
       "ssc_s.NAScience           0.654592608        -0.033269804  0.033269804\n",
       "degree_t.NAComm&Mgmt     -0.885112935         0.102516559 -0.102516559\n",
       "degree_t.NAOthers        -0.142805510        -0.009506507  0.009506507\n",
       "degree_t.NASci&Tech       1.000000000        -0.102962113  0.102962113\n",
       "workex.NANo              -0.102962113         1.000000000 -1.000000000\n",
       "workex.NAYes              0.102962113        -1.000000000  1.000000000\n",
       "specialisation.NAMkt&Fin -0.061503498        -0.191173732  0.191173732\n",
       "specialisation.NAMkt&HR   0.061503498         0.191173732 -0.191173732\n",
       "status.NANot Placed      -0.008688034         0.276059965 -0.276059965\n",
       "status.NAPlaced           0.008688034        -0.276059965  0.276059965\n",
       "                         specialisation.NAMkt&Fin specialisation.NAMkt&HR\n",
       "ssc_p                     0.172536259             -0.172536259           \n",
       "hsc_p                     0.241629958             -0.241629958           \n",
       "degree_p                  0.218285935             -0.218285935           \n",
       "etest_p                   0.236315103             -0.236315103           \n",
       "mba_p                     0.105727827             -0.105727827           \n",
       "gender.NAF               -0.106159607              0.106159607           \n",
       "gender.NAM                0.106159607             -0.106159607           \n",
       "ssc_b.NACentral          -0.051564759              0.051564759           \n",
       "ssc_b.NAOthers            0.051564759             -0.051564759           \n",
       "hsc_b.NACentral           0.002232093             -0.002232093           \n",
       "hsc_b.NAOthers           -0.002232093              0.002232093           \n",
       "ssc_s.NAArts              0.079085368             -0.079085368           \n",
       "ssc_s.NACommerce          0.129985388             -0.129985388           \n",
       "ssc_s.NAScience          -0.166639456              0.166639456           \n",
       "degree_t.NAComm&Mgmt      0.101330702             -0.101330702           \n",
       "degree_t.NAOthers        -0.090948173              0.090948173           \n",
       "degree_t.NASci&Tech      -0.061503498              0.061503498           \n",
       "workex.NANo              -0.191173732              0.191173732           \n",
       "workex.NAYes              0.191173732             -0.191173732           \n",
       "specialisation.NAMkt&Fin  1.000000000             -1.000000000           \n",
       "specialisation.NAMkt&HR  -1.000000000              1.000000000           \n",
       "status.NANot Placed      -0.250655090              0.250655090           \n",
       "status.NAPlaced           0.250655090             -0.250655090           \n",
       "                         status.NANot Placed status.NAPlaced\n",
       "ssc_p                    -0.607888734         0.607888734   \n",
       "hsc_p                    -0.491227944         0.491227944   \n",
       "degree_p                 -0.479860993         0.479860993   \n",
       "etest_p                  -0.127639375         0.127639375   \n",
       "mba_p                    -0.076921649         0.076921649   \n",
       "gender.NAF                0.090670398        -0.090670398   \n",
       "gender.NAM               -0.090670398         0.090670398   \n",
       "ssc_b.NACentral           0.037296512        -0.037296512   \n",
       "ssc_b.NAOthers           -0.037296512         0.037296512   \n",
       "hsc_b.NACentral           0.016944537        -0.016944537   \n",
       "hsc_b.NAOthers           -0.016944537         0.016944537   \n",
       "ssc_s.NAArts              0.071653435        -0.071653435   \n",
       "ssc_s.NACommerce         -0.024413663         0.024413663   \n",
       "ssc_s.NAScience          -0.007279322         0.007279322   \n",
       "degree_t.NAComm&Mgmt     -0.046848596         0.046848596   \n",
       "degree_t.NAOthers         0.117231803        -0.117231803   \n",
       "degree_t.NASci&Tech      -0.008688034         0.008688034   \n",
       "workex.NANo               0.276059965        -0.276059965   \n",
       "workex.NAYes             -0.276059965         0.276059965   \n",
       "specialisation.NAMkt&Fin -0.250655090         0.250655090   \n",
       "specialisation.NAMkt&HR   0.250655090        -0.250655090   \n",
       "status.NANot Placed       1.000000000        -1.000000000   \n",
       "status.NAPlaced          -1.000000000         1.000000000   "
      ]
     },
     "metadata": {},
     "output_type": "display_data"
    },
    {
     "data": {
      "text/html": [
       "<table>\n",
       "<thead><tr><th></th><th scope=col>ssc_p</th><th scope=col>hsc_p</th><th scope=col>degree_p</th><th scope=col>etest_p</th><th scope=col>mba_p</th><th scope=col>gender.NAF</th><th scope=col>gender.NAM</th><th scope=col>ssc_b.NACentral</th><th scope=col>ssc_b.NAOthers</th><th scope=col>hsc_b.NACentral</th><th scope=col>...</th><th scope=col>ssc_s.NAScience</th><th scope=col>degree_t.NAComm&amp;Mgmt</th><th scope=col>degree_t.NAOthers</th><th scope=col>degree_t.NASci&amp;Tech</th><th scope=col>workex.NANo</th><th scope=col>workex.NAYes</th><th scope=col>specialisation.NAMkt&amp;Fin</th><th scope=col>specialisation.NAMkt&amp;HR</th><th scope=col>status.NANot Placed</th><th scope=col>status.NAPlaced</th></tr></thead>\n",
       "<tbody>\n",
       "\t<tr><th scope=row>ssc_p</th><td>          NA</td><td>8.881784e-16</td><td>0.000000e+00</td><td>0.0001013688</td><td>3.719424e-09</td><td>3.141356e-01</td><td>3.141356e-01</td><td>0.08921192  </td><td>0.08921192  </td><td>0.32820896  </td><td>...         </td><td>0.005223408 </td><td>8.307528e-03</td><td>3.345343e-01</td><td>0.001092344 </td><td>9.851589e-03</td><td>9.851589e-03</td><td>0.0112716081</td><td>0.0112716081</td><td>0.000000e+00</td><td>0.000000e+00</td></tr>\n",
       "\t<tr><th scope=row>hsc_p</th><td>8.881784e-16</td><td>          NA</td><td>2.682210e-11</td><td>0.0002849401</td><td>8.922546e-08</td><td>7.557791e-01</td><td>7.557791e-01</td><td>0.04477460  </td><td>0.04477460  </td><td>0.77565376  </td><td>...         </td><td>0.000813930 </td><td>9.897717e-02</td><td>5.441019e-02</td><td>0.434272091 </td><td>3.881783e-02</td><td>3.881783e-02</td><td>0.0003496082</td><td>0.0003496082</td><td>1.865175e-14</td><td>1.865175e-14</td></tr>\n",
       "\t<tr><th scope=row>degree_p</th><td>0.000000e+00</td><td>2.682210e-11</td><td>          NA</td><td>0.0009177706</td><td>8.993304e-10</td><td>1.094938e-02</td><td>1.094938e-02</td><td>0.57878411  </td><td>0.57878411  </td><td>0.32652403  </td><td>...         </td><td>0.178927221 </td><td>6.329293e-01</td><td>8.009394e-03</td><td>0.070779454 </td><td>7.270725e-02</td><td>7.270725e-02</td><td>0.0012775631</td><td>0.0012775631</td><td>8.792966e-14</td><td>8.792966e-14</td></tr>\n",
       "\t<tr><th scope=row>etest_p</th><td>1.013688e-04</td><td>2.849401e-04</td><td>9.177706e-04</td><td>          NA</td><td>1.293240e-03</td><td>2.183332e-01</td><td>2.183332e-01</td><td>0.78188642  </td><td>0.78188642  </td><td>0.56846633  </td><td>...         </td><td>0.419370688 </td><td>8.550557e-01</td><td>9.197949e-01</td><td>0.886995044 </td><td>4.078340e-01</td><td>4.078340e-01</td><td>0.0004749760</td><td>0.0004749760</td><td>6.172038e-02</td><td>6.172038e-02</td></tr>\n",
       "\t<tr><th scope=row>mba_p</th><td>3.719424e-09</td><td>8.922546e-08</td><td>8.993304e-10</td><td>0.0012932400</td><td>          NA</td><td>7.288608e-06</td><td>7.288608e-06</td><td>0.22483248  </td><td>0.22483248  </td><td>0.18764161  </td><td>...         </td><td>0.483399880 </td><td>1.356796e-01</td><td>5.990528e-01</td><td>0.067326942 </td><td>1.318816e-02</td><td>1.318816e-02</td><td>0.1222079867</td><td>0.1222079867</td><td>2.614450e-01</td><td>2.614450e-01</td></tr>\n",
       "\t<tr><th scope=row>gender.NAF</th><td>3.141356e-01</td><td>7.557791e-01</td><td>1.094938e-02</td><td>0.2183332019</td><td>7.288608e-06</td><td>          NA</td><td>0.000000e+00</td><td>0.77698313  </td><td>0.77698313  </td><td>0.33587345  </td><td>...         </td><td>0.533633013 </td><td>5.974380e-01</td><td>1.731177e-01</td><td>0.219549176 </td><td>2.136603e-01</td><td>2.136603e-01</td><td>0.1206814361</td><td>0.1206814361</td><td>1.853475e-01</td><td>1.853475e-01</td></tr>\n",
       "\t<tr><th scope=row>gender.NAM</th><td>3.141356e-01</td><td>7.557791e-01</td><td>1.094938e-02</td><td>0.2183332019</td><td>7.288608e-06</td><td>0.000000e+00</td><td>          NA</td><td>0.77698313  </td><td>0.77698313  </td><td>0.33587345  </td><td>...         </td><td>0.533633013 </td><td>5.974380e-01</td><td>1.731177e-01</td><td>0.219549176 </td><td>2.136603e-01</td><td>2.136603e-01</td><td>0.1206814361</td><td>0.1206814361</td><td>1.853475e-01</td><td>1.853475e-01</td></tr>\n",
       "\t<tr><th scope=row>ssc_b.NACentral</th><td>8.921192e-02</td><td>4.477460e-02</td><td>5.787841e-01</td><td>0.7818864213</td><td>2.248325e-01</td><td>7.769831e-01</td><td>7.769831e-01</td><td>        NA  </td><td>0.00000000  </td><td>0.00000000  </td><td>...         </td><td>0.393333116 </td><td>1.654120e-01</td><td>9.679318e-01</td><td>0.139680841 </td><td>5.523869e-01</td><td>5.523869e-01</td><td>0.4519423992</td><td>0.4519423992</td><td>5.865272e-01</td><td>5.865272e-01</td></tr>\n",
       "\t<tr><th scope=row>ssc_b.NAOthers</th><td>8.921192e-02</td><td>4.477460e-02</td><td>5.787841e-01</td><td>0.7818864213</td><td>2.248325e-01</td><td>7.769831e-01</td><td>7.769831e-01</td><td>0.00000000  </td><td>        NA  </td><td>0.00000000  </td><td>...         </td><td>0.393333116 </td><td>1.654120e-01</td><td>9.679318e-01</td><td>0.139680841 </td><td>5.523869e-01</td><td>5.523869e-01</td><td>0.4519423992</td><td>0.4519423992</td><td>5.865272e-01</td><td>5.865272e-01</td></tr>\n",
       "\t<tr><th scope=row>hsc_b.NACentral</th><td>3.282090e-01</td><td>7.756538e-01</td><td>3.265240e-01</td><td>0.5684663271</td><td>1.876416e-01</td><td>3.358735e-01</td><td>3.358735e-01</td><td>0.00000000  </td><td>0.00000000  </td><td>        NA  </td><td>...         </td><td>0.064214870 </td><td>6.890944e-01</td><td>8.721730e-02</td><td>0.206226171 </td><td>5.759251e-01</td><td>5.759251e-01</td><td>0.9740428902</td><td>0.9740428902</td><td>8.048888e-01</td><td>8.048888e-01</td></tr>\n",
       "\t<tr><th scope=row>hsc_b.NAOthers</th><td>3.282090e-01</td><td>7.756538e-01</td><td>3.265240e-01</td><td>0.5684663271</td><td>1.876416e-01</td><td>3.358735e-01</td><td>3.358735e-01</td><td>0.00000000  </td><td>0.00000000  </td><td>0.00000000  </td><td>...         </td><td>0.064214870 </td><td>6.890944e-01</td><td>8.721730e-02</td><td>0.206226171 </td><td>5.759251e-01</td><td>5.759251e-01</td><td>0.9740428902</td><td>0.9740428902</td><td>8.048888e-01</td><td>8.048888e-01</td></tr>\n",
       "\t<tr><th scope=row>ssc_s.NAArts</th><td>3.895491e-03</td><td>2.632800e-01</td><td>2.317501e-02</td><td>0.2744130052</td><td>9.506719e-01</td><td>1.731177e-01</td><td>1.731177e-01</td><td>0.96793184  </td><td>0.96793184  </td><td>0.08721730  </td><td>...         </td><td>0.003398883 </td><td>7.833726e-01</td><td>7.846800e-07</td><td>0.036396533 </td><td>4.313610e-01</td><td>4.313610e-01</td><td>0.2482261969</td><td>0.2482261969</td><td>2.956230e-01</td><td>2.956230e-01</td></tr>\n",
       "\t<tr><th scope=row>ssc_s.NACommerce</th><td>1.386493e-01</td><td>1.295169e-04</td><td>7.404153e-01</td><td>0.7513648928</td><td>4.710423e-01</td><td>9.873518e-01</td><td>9.873518e-01</td><td>0.40836058  </td><td>0.40836058  </td><td>0.28317741  </td><td>...         </td><td>0.000000000 </td><td>0.000000e+00</td><td>2.907002e-03</td><td>0.000000000 </td><td>4.079671e-01</td><td>4.079671e-01</td><td>0.0570496540</td><td>0.0570496540</td><td>7.218849e-01</td><td>7.218849e-01</td></tr>\n",
       "\t<tr><th scope=row>ssc_s.NAScience</th><td>5.223408e-03</td><td>8.139300e-04</td><td>1.789272e-01</td><td>0.4193706882</td><td>4.833999e-01</td><td>5.336330e-01</td><td>5.336330e-01</td><td>0.39333312  </td><td>0.39333312  </td><td>0.06421487  </td><td>...         </td><td>         NA </td><td>0.000000e+00</td><td>4.020852e-01</td><td>0.000000000 </td><td>6.275901e-01</td><td>6.275901e-01</td><td>0.0144331261</td><td>0.0144331261</td><td>9.154911e-01</td><td>9.154911e-01</td></tr>\n",
       "\t<tr><th scope=row>degree_t.NAComm&amp;Mgmt</th><td>8.307528e-03</td><td>9.897717e-02</td><td>6.329293e-01</td><td>0.8550556905</td><td>1.356796e-01</td><td>5.974380e-01</td><td>5.974380e-01</td><td>0.16541201  </td><td>0.16541201  </td><td>0.68909439  </td><td>...         </td><td>0.000000000 </td><td>          NA</td><td>5.251683e-07</td><td>0.000000000 </td><td>1.340357e-01</td><td>1.340357e-01</td><td>0.1386191833</td><td>0.1386191833</td><td>4.944135e-01</td><td>4.944135e-01</td></tr>\n",
       "\t<tr><th scope=row>degree_t.NAOthers</th><td>3.345343e-01</td><td>5.441019e-02</td><td>8.009394e-03</td><td>0.9197949056</td><td>5.990528e-01</td><td>1.731177e-01</td><td>1.731177e-01</td><td>0.96793184  </td><td>0.96793184  </td><td>0.08721730  </td><td>...         </td><td>0.402085228 </td><td>5.251683e-07</td><td>          NA</td><td>0.036396533 </td><td>8.897794e-01</td><td>8.897794e-01</td><td>0.1839988172</td><td>0.1839988172</td><td>8.637220e-02</td><td>8.637220e-02</td></tr>\n",
       "\t<tr><th scope=row>degree_t.NASci&amp;Tech</th><td>1.092344e-03</td><td>4.342721e-01</td><td>7.077945e-02</td><td>0.8869950436</td><td>6.732694e-02</td><td>2.195492e-01</td><td>2.195492e-01</td><td>0.13968084  </td><td>0.13968084  </td><td>0.20622617  </td><td>...         </td><td>0.000000000 </td><td>0.000000e+00</td><td>3.639653e-02</td><td>         NA </td><td>1.323440e-01</td><td>1.323440e-01</td><td>0.3694996363</td><td>0.3694996363</td><td>8.992164e-01</td><td>8.992164e-01</td></tr>\n",
       "\t<tr><th scope=row>workex.NANo</th><td>9.851589e-03</td><td>3.881783e-02</td><td>7.270725e-02</td><td>0.4078340422</td><td>1.318816e-02</td><td>2.136603e-01</td><td>2.136603e-01</td><td>0.55238686  </td><td>0.55238686  </td><td>0.57592513  </td><td>...         </td><td>0.627590104 </td><td>1.340357e-01</td><td>8.897794e-01</td><td>0.132344040 </td><td>          NA</td><td>         NaN</td><td>0.0049111310</td><td>0.0049111310</td><td>4.055823e-05</td><td>4.055823e-05</td></tr>\n",
       "\t<tr><th scope=row>workex.NAYes</th><td>9.851589e-03</td><td>3.881783e-02</td><td>7.270725e-02</td><td>0.4078340422</td><td>1.318816e-02</td><td>2.136603e-01</td><td>2.136603e-01</td><td>0.55238686  </td><td>0.55238686  </td><td>0.57592513  </td><td>...         </td><td>0.627590104 </td><td>1.340357e-01</td><td>8.897794e-01</td><td>0.132344040 </td><td>         NaN</td><td>          NA</td><td>0.0049111310</td><td>0.0049111310</td><td>4.055823e-05</td><td>4.055823e-05</td></tr>\n",
       "\t<tr><th scope=row>specialisation.NAMkt&amp;Fin</th><td>1.127161e-02</td><td>3.496082e-04</td><td>1.277563e-03</td><td>0.0004749760</td><td>1.222080e-01</td><td>1.206814e-01</td><td>1.206814e-01</td><td>0.45194240  </td><td>0.45194240  </td><td>0.97404289  </td><td>...         </td><td>0.014433126 </td><td>1.386192e-01</td><td>1.839988e-01</td><td>0.369499636 </td><td>4.911131e-03</td><td>4.911131e-03</td><td>          NA</td><td>         NaN</td><td>2.045299e-04</td><td>2.045299e-04</td></tr>\n",
       "\t<tr><th scope=row>specialisation.NAMkt&amp;HR</th><td>1.127161e-02</td><td>3.496082e-04</td><td>1.277563e-03</td><td>0.0004749760</td><td>1.222080e-01</td><td>1.206814e-01</td><td>1.206814e-01</td><td>0.45194240  </td><td>0.45194240  </td><td>0.97404289  </td><td>...         </td><td>0.014433126 </td><td>1.386192e-01</td><td>1.839988e-01</td><td>0.369499636 </td><td>4.911131e-03</td><td>4.911131e-03</td><td>         NaN</td><td>          NA</td><td>2.045299e-04</td><td>2.045299e-04</td></tr>\n",
       "\t<tr><th scope=row>status.NANot Placed</th><td>0.000000e+00</td><td>1.865175e-14</td><td>8.792966e-14</td><td>0.0617203811</td><td>2.614450e-01</td><td>1.853475e-01</td><td>1.853475e-01</td><td>0.58652718  </td><td>0.58652718  </td><td>0.80488885  </td><td>...         </td><td>0.915491115 </td><td>4.944135e-01</td><td>8.637220e-02</td><td>0.899216359 </td><td>4.055823e-05</td><td>4.055823e-05</td><td>0.0002045299</td><td>0.0002045299</td><td>          NA</td><td>0.000000e+00</td></tr>\n",
       "\t<tr><th scope=row>status.NAPlaced</th><td>0.000000e+00</td><td>1.865175e-14</td><td>8.792966e-14</td><td>0.0617203811</td><td>2.614450e-01</td><td>1.853475e-01</td><td>1.853475e-01</td><td>0.58652718  </td><td>0.58652718  </td><td>0.80488885  </td><td>...         </td><td>0.915491115 </td><td>4.944135e-01</td><td>8.637220e-02</td><td>0.899216359 </td><td>4.055823e-05</td><td>4.055823e-05</td><td>0.0002045299</td><td>0.0002045299</td><td>0.000000e+00</td><td>          NA</td></tr>\n",
       "</tbody>\n",
       "</table>\n"
      ],
      "text/latex": [
       "\\begin{tabular}{r|lllllllllllllllllllllll}\n",
       "  & ssc\\_p & hsc\\_p & degree\\_p & etest\\_p & mba\\_p & gender.NAF & gender.NAM & ssc\\_b.NACentral & ssc\\_b.NAOthers & hsc\\_b.NACentral & ... & ssc\\_s.NAScience & degree\\_t.NAComm\\&Mgmt & degree\\_t.NAOthers & degree\\_t.NASci\\&Tech & workex.NANo & workex.NAYes & specialisation.NAMkt\\&Fin & specialisation.NAMkt\\&HR & status.NANot Placed & status.NAPlaced\\\\\n",
       "\\hline\n",
       "\tssc\\_p &           NA & 8.881784e-16 & 0.000000e+00 & 0.0001013688 & 3.719424e-09 & 3.141356e-01 & 3.141356e-01 & 0.08921192   & 0.08921192   & 0.32820896   & ...          & 0.005223408  & 8.307528e-03 & 3.345343e-01 & 0.001092344  & 9.851589e-03 & 9.851589e-03 & 0.0112716081 & 0.0112716081 & 0.000000e+00 & 0.000000e+00\\\\\n",
       "\thsc\\_p & 8.881784e-16 &           NA & 2.682210e-11 & 0.0002849401 & 8.922546e-08 & 7.557791e-01 & 7.557791e-01 & 0.04477460   & 0.04477460   & 0.77565376   & ...          & 0.000813930  & 9.897717e-02 & 5.441019e-02 & 0.434272091  & 3.881783e-02 & 3.881783e-02 & 0.0003496082 & 0.0003496082 & 1.865175e-14 & 1.865175e-14\\\\\n",
       "\tdegree\\_p & 0.000000e+00 & 2.682210e-11 &           NA & 0.0009177706 & 8.993304e-10 & 1.094938e-02 & 1.094938e-02 & 0.57878411   & 0.57878411   & 0.32652403   & ...          & 0.178927221  & 6.329293e-01 & 8.009394e-03 & 0.070779454  & 7.270725e-02 & 7.270725e-02 & 0.0012775631 & 0.0012775631 & 8.792966e-14 & 8.792966e-14\\\\\n",
       "\tetest\\_p & 1.013688e-04 & 2.849401e-04 & 9.177706e-04 &           NA & 1.293240e-03 & 2.183332e-01 & 2.183332e-01 & 0.78188642   & 0.78188642   & 0.56846633   & ...          & 0.419370688  & 8.550557e-01 & 9.197949e-01 & 0.886995044  & 4.078340e-01 & 4.078340e-01 & 0.0004749760 & 0.0004749760 & 6.172038e-02 & 6.172038e-02\\\\\n",
       "\tmba\\_p & 3.719424e-09 & 8.922546e-08 & 8.993304e-10 & 0.0012932400 &           NA & 7.288608e-06 & 7.288608e-06 & 0.22483248   & 0.22483248   & 0.18764161   & ...          & 0.483399880  & 1.356796e-01 & 5.990528e-01 & 0.067326942  & 1.318816e-02 & 1.318816e-02 & 0.1222079867 & 0.1222079867 & 2.614450e-01 & 2.614450e-01\\\\\n",
       "\tgender.NAF & 3.141356e-01 & 7.557791e-01 & 1.094938e-02 & 0.2183332019 & 7.288608e-06 &           NA & 0.000000e+00 & 0.77698313   & 0.77698313   & 0.33587345   & ...          & 0.533633013  & 5.974380e-01 & 1.731177e-01 & 0.219549176  & 2.136603e-01 & 2.136603e-01 & 0.1206814361 & 0.1206814361 & 1.853475e-01 & 1.853475e-01\\\\\n",
       "\tgender.NAM & 3.141356e-01 & 7.557791e-01 & 1.094938e-02 & 0.2183332019 & 7.288608e-06 & 0.000000e+00 &           NA & 0.77698313   & 0.77698313   & 0.33587345   & ...          & 0.533633013  & 5.974380e-01 & 1.731177e-01 & 0.219549176  & 2.136603e-01 & 2.136603e-01 & 0.1206814361 & 0.1206814361 & 1.853475e-01 & 1.853475e-01\\\\\n",
       "\tssc\\_b.NACentral & 8.921192e-02 & 4.477460e-02 & 5.787841e-01 & 0.7818864213 & 2.248325e-01 & 7.769831e-01 & 7.769831e-01 &         NA   & 0.00000000   & 0.00000000   & ...          & 0.393333116  & 1.654120e-01 & 9.679318e-01 & 0.139680841  & 5.523869e-01 & 5.523869e-01 & 0.4519423992 & 0.4519423992 & 5.865272e-01 & 5.865272e-01\\\\\n",
       "\tssc\\_b.NAOthers & 8.921192e-02 & 4.477460e-02 & 5.787841e-01 & 0.7818864213 & 2.248325e-01 & 7.769831e-01 & 7.769831e-01 & 0.00000000   &         NA   & 0.00000000   & ...          & 0.393333116  & 1.654120e-01 & 9.679318e-01 & 0.139680841  & 5.523869e-01 & 5.523869e-01 & 0.4519423992 & 0.4519423992 & 5.865272e-01 & 5.865272e-01\\\\\n",
       "\thsc\\_b.NACentral & 3.282090e-01 & 7.756538e-01 & 3.265240e-01 & 0.5684663271 & 1.876416e-01 & 3.358735e-01 & 3.358735e-01 & 0.00000000   & 0.00000000   &         NA   & ...          & 0.064214870  & 6.890944e-01 & 8.721730e-02 & 0.206226171  & 5.759251e-01 & 5.759251e-01 & 0.9740428902 & 0.9740428902 & 8.048888e-01 & 8.048888e-01\\\\\n",
       "\thsc\\_b.NAOthers & 3.282090e-01 & 7.756538e-01 & 3.265240e-01 & 0.5684663271 & 1.876416e-01 & 3.358735e-01 & 3.358735e-01 & 0.00000000   & 0.00000000   & 0.00000000   & ...          & 0.064214870  & 6.890944e-01 & 8.721730e-02 & 0.206226171  & 5.759251e-01 & 5.759251e-01 & 0.9740428902 & 0.9740428902 & 8.048888e-01 & 8.048888e-01\\\\\n",
       "\tssc\\_s.NAArts & 3.895491e-03 & 2.632800e-01 & 2.317501e-02 & 0.2744130052 & 9.506719e-01 & 1.731177e-01 & 1.731177e-01 & 0.96793184   & 0.96793184   & 0.08721730   & ...          & 0.003398883  & 7.833726e-01 & 7.846800e-07 & 0.036396533  & 4.313610e-01 & 4.313610e-01 & 0.2482261969 & 0.2482261969 & 2.956230e-01 & 2.956230e-01\\\\\n",
       "\tssc\\_s.NACommerce & 1.386493e-01 & 1.295169e-04 & 7.404153e-01 & 0.7513648928 & 4.710423e-01 & 9.873518e-01 & 9.873518e-01 & 0.40836058   & 0.40836058   & 0.28317741   & ...          & 0.000000000  & 0.000000e+00 & 2.907002e-03 & 0.000000000  & 4.079671e-01 & 4.079671e-01 & 0.0570496540 & 0.0570496540 & 7.218849e-01 & 7.218849e-01\\\\\n",
       "\tssc\\_s.NAScience & 5.223408e-03 & 8.139300e-04 & 1.789272e-01 & 0.4193706882 & 4.833999e-01 & 5.336330e-01 & 5.336330e-01 & 0.39333312   & 0.39333312   & 0.06421487   & ...          &          NA  & 0.000000e+00 & 4.020852e-01 & 0.000000000  & 6.275901e-01 & 6.275901e-01 & 0.0144331261 & 0.0144331261 & 9.154911e-01 & 9.154911e-01\\\\\n",
       "\tdegree\\_t.NAComm\\&Mgmt & 8.307528e-03 & 9.897717e-02 & 6.329293e-01 & 0.8550556905 & 1.356796e-01 & 5.974380e-01 & 5.974380e-01 & 0.16541201   & 0.16541201   & 0.68909439   & ...          & 0.000000000  &           NA & 5.251683e-07 & 0.000000000  & 1.340357e-01 & 1.340357e-01 & 0.1386191833 & 0.1386191833 & 4.944135e-01 & 4.944135e-01\\\\\n",
       "\tdegree\\_t.NAOthers & 3.345343e-01 & 5.441019e-02 & 8.009394e-03 & 0.9197949056 & 5.990528e-01 & 1.731177e-01 & 1.731177e-01 & 0.96793184   & 0.96793184   & 0.08721730   & ...          & 0.402085228  & 5.251683e-07 &           NA & 0.036396533  & 8.897794e-01 & 8.897794e-01 & 0.1839988172 & 0.1839988172 & 8.637220e-02 & 8.637220e-02\\\\\n",
       "\tdegree\\_t.NASci\\&Tech & 1.092344e-03 & 4.342721e-01 & 7.077945e-02 & 0.8869950436 & 6.732694e-02 & 2.195492e-01 & 2.195492e-01 & 0.13968084   & 0.13968084   & 0.20622617   & ...          & 0.000000000  & 0.000000e+00 & 3.639653e-02 &          NA  & 1.323440e-01 & 1.323440e-01 & 0.3694996363 & 0.3694996363 & 8.992164e-01 & 8.992164e-01\\\\\n",
       "\tworkex.NANo & 9.851589e-03 & 3.881783e-02 & 7.270725e-02 & 0.4078340422 & 1.318816e-02 & 2.136603e-01 & 2.136603e-01 & 0.55238686   & 0.55238686   & 0.57592513   & ...          & 0.627590104  & 1.340357e-01 & 8.897794e-01 & 0.132344040  &           NA &          NaN & 0.0049111310 & 0.0049111310 & 4.055823e-05 & 4.055823e-05\\\\\n",
       "\tworkex.NAYes & 9.851589e-03 & 3.881783e-02 & 7.270725e-02 & 0.4078340422 & 1.318816e-02 & 2.136603e-01 & 2.136603e-01 & 0.55238686   & 0.55238686   & 0.57592513   & ...          & 0.627590104  & 1.340357e-01 & 8.897794e-01 & 0.132344040  &          NaN &           NA & 0.0049111310 & 0.0049111310 & 4.055823e-05 & 4.055823e-05\\\\\n",
       "\tspecialisation.NAMkt\\&Fin & 1.127161e-02 & 3.496082e-04 & 1.277563e-03 & 0.0004749760 & 1.222080e-01 & 1.206814e-01 & 1.206814e-01 & 0.45194240   & 0.45194240   & 0.97404289   & ...          & 0.014433126  & 1.386192e-01 & 1.839988e-01 & 0.369499636  & 4.911131e-03 & 4.911131e-03 &           NA &          NaN & 2.045299e-04 & 2.045299e-04\\\\\n",
       "\tspecialisation.NAMkt\\&HR & 1.127161e-02 & 3.496082e-04 & 1.277563e-03 & 0.0004749760 & 1.222080e-01 & 1.206814e-01 & 1.206814e-01 & 0.45194240   & 0.45194240   & 0.97404289   & ...          & 0.014433126  & 1.386192e-01 & 1.839988e-01 & 0.369499636  & 4.911131e-03 & 4.911131e-03 &          NaN &           NA & 2.045299e-04 & 2.045299e-04\\\\\n",
       "\tstatus.NANot Placed & 0.000000e+00 & 1.865175e-14 & 8.792966e-14 & 0.0617203811 & 2.614450e-01 & 1.853475e-01 & 1.853475e-01 & 0.58652718   & 0.58652718   & 0.80488885   & ...          & 0.915491115  & 4.944135e-01 & 8.637220e-02 & 0.899216359  & 4.055823e-05 & 4.055823e-05 & 0.0002045299 & 0.0002045299 &           NA & 0.000000e+00\\\\\n",
       "\tstatus.NAPlaced & 0.000000e+00 & 1.865175e-14 & 8.792966e-14 & 0.0617203811 & 2.614450e-01 & 1.853475e-01 & 1.853475e-01 & 0.58652718   & 0.58652718   & 0.80488885   & ...          & 0.915491115  & 4.944135e-01 & 8.637220e-02 & 0.899216359  & 4.055823e-05 & 4.055823e-05 & 0.0002045299 & 0.0002045299 & 0.000000e+00 &           NA\\\\\n",
       "\\end{tabular}\n"
      ],
      "text/markdown": [
       "\n",
       "| <!--/--> | ssc_p | hsc_p | degree_p | etest_p | mba_p | gender.NAF | gender.NAM | ssc_b.NACentral | ssc_b.NAOthers | hsc_b.NACentral | ... | ssc_s.NAScience | degree_t.NAComm&Mgmt | degree_t.NAOthers | degree_t.NASci&Tech | workex.NANo | workex.NAYes | specialisation.NAMkt&Fin | specialisation.NAMkt&HR | status.NANot Placed | status.NAPlaced |\n",
       "|---|---|---|---|---|---|---|---|---|---|---|---|---|---|---|---|---|---|---|---|---|---|\n",
       "| ssc_p |           NA | 8.881784e-16 | 0.000000e+00 | 0.0001013688 | 3.719424e-09 | 3.141356e-01 | 3.141356e-01 | 0.08921192   | 0.08921192   | 0.32820896   | ...          | 0.005223408  | 8.307528e-03 | 3.345343e-01 | 0.001092344  | 9.851589e-03 | 9.851589e-03 | 0.0112716081 | 0.0112716081 | 0.000000e+00 | 0.000000e+00 |\n",
       "| hsc_p | 8.881784e-16 |           NA | 2.682210e-11 | 0.0002849401 | 8.922546e-08 | 7.557791e-01 | 7.557791e-01 | 0.04477460   | 0.04477460   | 0.77565376   | ...          | 0.000813930  | 9.897717e-02 | 5.441019e-02 | 0.434272091  | 3.881783e-02 | 3.881783e-02 | 0.0003496082 | 0.0003496082 | 1.865175e-14 | 1.865175e-14 |\n",
       "| degree_p | 0.000000e+00 | 2.682210e-11 |           NA | 0.0009177706 | 8.993304e-10 | 1.094938e-02 | 1.094938e-02 | 0.57878411   | 0.57878411   | 0.32652403   | ...          | 0.178927221  | 6.329293e-01 | 8.009394e-03 | 0.070779454  | 7.270725e-02 | 7.270725e-02 | 0.0012775631 | 0.0012775631 | 8.792966e-14 | 8.792966e-14 |\n",
       "| etest_p | 1.013688e-04 | 2.849401e-04 | 9.177706e-04 |           NA | 1.293240e-03 | 2.183332e-01 | 2.183332e-01 | 0.78188642   | 0.78188642   | 0.56846633   | ...          | 0.419370688  | 8.550557e-01 | 9.197949e-01 | 0.886995044  | 4.078340e-01 | 4.078340e-01 | 0.0004749760 | 0.0004749760 | 6.172038e-02 | 6.172038e-02 |\n",
       "| mba_p | 3.719424e-09 | 8.922546e-08 | 8.993304e-10 | 0.0012932400 |           NA | 7.288608e-06 | 7.288608e-06 | 0.22483248   | 0.22483248   | 0.18764161   | ...          | 0.483399880  | 1.356796e-01 | 5.990528e-01 | 0.067326942  | 1.318816e-02 | 1.318816e-02 | 0.1222079867 | 0.1222079867 | 2.614450e-01 | 2.614450e-01 |\n",
       "| gender.NAF | 3.141356e-01 | 7.557791e-01 | 1.094938e-02 | 0.2183332019 | 7.288608e-06 |           NA | 0.000000e+00 | 0.77698313   | 0.77698313   | 0.33587345   | ...          | 0.533633013  | 5.974380e-01 | 1.731177e-01 | 0.219549176  | 2.136603e-01 | 2.136603e-01 | 0.1206814361 | 0.1206814361 | 1.853475e-01 | 1.853475e-01 |\n",
       "| gender.NAM | 3.141356e-01 | 7.557791e-01 | 1.094938e-02 | 0.2183332019 | 7.288608e-06 | 0.000000e+00 |           NA | 0.77698313   | 0.77698313   | 0.33587345   | ...          | 0.533633013  | 5.974380e-01 | 1.731177e-01 | 0.219549176  | 2.136603e-01 | 2.136603e-01 | 0.1206814361 | 0.1206814361 | 1.853475e-01 | 1.853475e-01 |\n",
       "| ssc_b.NACentral | 8.921192e-02 | 4.477460e-02 | 5.787841e-01 | 0.7818864213 | 2.248325e-01 | 7.769831e-01 | 7.769831e-01 |         NA   | 0.00000000   | 0.00000000   | ...          | 0.393333116  | 1.654120e-01 | 9.679318e-01 | 0.139680841  | 5.523869e-01 | 5.523869e-01 | 0.4519423992 | 0.4519423992 | 5.865272e-01 | 5.865272e-01 |\n",
       "| ssc_b.NAOthers | 8.921192e-02 | 4.477460e-02 | 5.787841e-01 | 0.7818864213 | 2.248325e-01 | 7.769831e-01 | 7.769831e-01 | 0.00000000   |         NA   | 0.00000000   | ...          | 0.393333116  | 1.654120e-01 | 9.679318e-01 | 0.139680841  | 5.523869e-01 | 5.523869e-01 | 0.4519423992 | 0.4519423992 | 5.865272e-01 | 5.865272e-01 |\n",
       "| hsc_b.NACentral | 3.282090e-01 | 7.756538e-01 | 3.265240e-01 | 0.5684663271 | 1.876416e-01 | 3.358735e-01 | 3.358735e-01 | 0.00000000   | 0.00000000   |         NA   | ...          | 0.064214870  | 6.890944e-01 | 8.721730e-02 | 0.206226171  | 5.759251e-01 | 5.759251e-01 | 0.9740428902 | 0.9740428902 | 8.048888e-01 | 8.048888e-01 |\n",
       "| hsc_b.NAOthers | 3.282090e-01 | 7.756538e-01 | 3.265240e-01 | 0.5684663271 | 1.876416e-01 | 3.358735e-01 | 3.358735e-01 | 0.00000000   | 0.00000000   | 0.00000000   | ...          | 0.064214870  | 6.890944e-01 | 8.721730e-02 | 0.206226171  | 5.759251e-01 | 5.759251e-01 | 0.9740428902 | 0.9740428902 | 8.048888e-01 | 8.048888e-01 |\n",
       "| ssc_s.NAArts | 3.895491e-03 | 2.632800e-01 | 2.317501e-02 | 0.2744130052 | 9.506719e-01 | 1.731177e-01 | 1.731177e-01 | 0.96793184   | 0.96793184   | 0.08721730   | ...          | 0.003398883  | 7.833726e-01 | 7.846800e-07 | 0.036396533  | 4.313610e-01 | 4.313610e-01 | 0.2482261969 | 0.2482261969 | 2.956230e-01 | 2.956230e-01 |\n",
       "| ssc_s.NACommerce | 1.386493e-01 | 1.295169e-04 | 7.404153e-01 | 0.7513648928 | 4.710423e-01 | 9.873518e-01 | 9.873518e-01 | 0.40836058   | 0.40836058   | 0.28317741   | ...          | 0.000000000  | 0.000000e+00 | 2.907002e-03 | 0.000000000  | 4.079671e-01 | 4.079671e-01 | 0.0570496540 | 0.0570496540 | 7.218849e-01 | 7.218849e-01 |\n",
       "| ssc_s.NAScience | 5.223408e-03 | 8.139300e-04 | 1.789272e-01 | 0.4193706882 | 4.833999e-01 | 5.336330e-01 | 5.336330e-01 | 0.39333312   | 0.39333312   | 0.06421487   | ...          |          NA  | 0.000000e+00 | 4.020852e-01 | 0.000000000  | 6.275901e-01 | 6.275901e-01 | 0.0144331261 | 0.0144331261 | 9.154911e-01 | 9.154911e-01 |\n",
       "| degree_t.NAComm&Mgmt | 8.307528e-03 | 9.897717e-02 | 6.329293e-01 | 0.8550556905 | 1.356796e-01 | 5.974380e-01 | 5.974380e-01 | 0.16541201   | 0.16541201   | 0.68909439   | ...          | 0.000000000  |           NA | 5.251683e-07 | 0.000000000  | 1.340357e-01 | 1.340357e-01 | 0.1386191833 | 0.1386191833 | 4.944135e-01 | 4.944135e-01 |\n",
       "| degree_t.NAOthers | 3.345343e-01 | 5.441019e-02 | 8.009394e-03 | 0.9197949056 | 5.990528e-01 | 1.731177e-01 | 1.731177e-01 | 0.96793184   | 0.96793184   | 0.08721730   | ...          | 0.402085228  | 5.251683e-07 |           NA | 0.036396533  | 8.897794e-01 | 8.897794e-01 | 0.1839988172 | 0.1839988172 | 8.637220e-02 | 8.637220e-02 |\n",
       "| degree_t.NASci&Tech | 1.092344e-03 | 4.342721e-01 | 7.077945e-02 | 0.8869950436 | 6.732694e-02 | 2.195492e-01 | 2.195492e-01 | 0.13968084   | 0.13968084   | 0.20622617   | ...          | 0.000000000  | 0.000000e+00 | 3.639653e-02 |          NA  | 1.323440e-01 | 1.323440e-01 | 0.3694996363 | 0.3694996363 | 8.992164e-01 | 8.992164e-01 |\n",
       "| workex.NANo | 9.851589e-03 | 3.881783e-02 | 7.270725e-02 | 0.4078340422 | 1.318816e-02 | 2.136603e-01 | 2.136603e-01 | 0.55238686   | 0.55238686   | 0.57592513   | ...          | 0.627590104  | 1.340357e-01 | 8.897794e-01 | 0.132344040  |           NA |          NaN | 0.0049111310 | 0.0049111310 | 4.055823e-05 | 4.055823e-05 |\n",
       "| workex.NAYes | 9.851589e-03 | 3.881783e-02 | 7.270725e-02 | 0.4078340422 | 1.318816e-02 | 2.136603e-01 | 2.136603e-01 | 0.55238686   | 0.55238686   | 0.57592513   | ...          | 0.627590104  | 1.340357e-01 | 8.897794e-01 | 0.132344040  |          NaN |           NA | 0.0049111310 | 0.0049111310 | 4.055823e-05 | 4.055823e-05 |\n",
       "| specialisation.NAMkt&Fin | 1.127161e-02 | 3.496082e-04 | 1.277563e-03 | 0.0004749760 | 1.222080e-01 | 1.206814e-01 | 1.206814e-01 | 0.45194240   | 0.45194240   | 0.97404289   | ...          | 0.014433126  | 1.386192e-01 | 1.839988e-01 | 0.369499636  | 4.911131e-03 | 4.911131e-03 |           NA |          NaN | 2.045299e-04 | 2.045299e-04 |\n",
       "| specialisation.NAMkt&HR | 1.127161e-02 | 3.496082e-04 | 1.277563e-03 | 0.0004749760 | 1.222080e-01 | 1.206814e-01 | 1.206814e-01 | 0.45194240   | 0.45194240   | 0.97404289   | ...          | 0.014433126  | 1.386192e-01 | 1.839988e-01 | 0.369499636  | 4.911131e-03 | 4.911131e-03 |          NaN |           NA | 2.045299e-04 | 2.045299e-04 |\n",
       "| status.NANot Placed | 0.000000e+00 | 1.865175e-14 | 8.792966e-14 | 0.0617203811 | 2.614450e-01 | 1.853475e-01 | 1.853475e-01 | 0.58652718   | 0.58652718   | 0.80488885   | ...          | 0.915491115  | 4.944135e-01 | 8.637220e-02 | 0.899216359  | 4.055823e-05 | 4.055823e-05 | 0.0002045299 | 0.0002045299 |           NA | 0.000000e+00 |\n",
       "| status.NAPlaced | 0.000000e+00 | 1.865175e-14 | 8.792966e-14 | 0.0617203811 | 2.614450e-01 | 1.853475e-01 | 1.853475e-01 | 0.58652718   | 0.58652718   | 0.80488885   | ...          | 0.915491115  | 4.944135e-01 | 8.637220e-02 | 0.899216359  | 4.055823e-05 | 4.055823e-05 | 0.0002045299 | 0.0002045299 | 0.000000e+00 |           NA |\n",
       "\n"
      ],
      "text/plain": [
       "                         ssc_p        hsc_p        degree_p     etest_p     \n",
       "ssc_p                              NA 8.881784e-16 0.000000e+00 0.0001013688\n",
       "hsc_p                    8.881784e-16           NA 2.682210e-11 0.0002849401\n",
       "degree_p                 0.000000e+00 2.682210e-11           NA 0.0009177706\n",
       "etest_p                  1.013688e-04 2.849401e-04 9.177706e-04           NA\n",
       "mba_p                    3.719424e-09 8.922546e-08 8.993304e-10 0.0012932400\n",
       "gender.NAF               3.141356e-01 7.557791e-01 1.094938e-02 0.2183332019\n",
       "gender.NAM               3.141356e-01 7.557791e-01 1.094938e-02 0.2183332019\n",
       "ssc_b.NACentral          8.921192e-02 4.477460e-02 5.787841e-01 0.7818864213\n",
       "ssc_b.NAOthers           8.921192e-02 4.477460e-02 5.787841e-01 0.7818864213\n",
       "hsc_b.NACentral          3.282090e-01 7.756538e-01 3.265240e-01 0.5684663271\n",
       "hsc_b.NAOthers           3.282090e-01 7.756538e-01 3.265240e-01 0.5684663271\n",
       "ssc_s.NAArts             3.895491e-03 2.632800e-01 2.317501e-02 0.2744130052\n",
       "ssc_s.NACommerce         1.386493e-01 1.295169e-04 7.404153e-01 0.7513648928\n",
       "ssc_s.NAScience          5.223408e-03 8.139300e-04 1.789272e-01 0.4193706882\n",
       "degree_t.NAComm&Mgmt     8.307528e-03 9.897717e-02 6.329293e-01 0.8550556905\n",
       "degree_t.NAOthers        3.345343e-01 5.441019e-02 8.009394e-03 0.9197949056\n",
       "degree_t.NASci&Tech      1.092344e-03 4.342721e-01 7.077945e-02 0.8869950436\n",
       "workex.NANo              9.851589e-03 3.881783e-02 7.270725e-02 0.4078340422\n",
       "workex.NAYes             9.851589e-03 3.881783e-02 7.270725e-02 0.4078340422\n",
       "specialisation.NAMkt&Fin 1.127161e-02 3.496082e-04 1.277563e-03 0.0004749760\n",
       "specialisation.NAMkt&HR  1.127161e-02 3.496082e-04 1.277563e-03 0.0004749760\n",
       "status.NANot Placed      0.000000e+00 1.865175e-14 8.792966e-14 0.0617203811\n",
       "status.NAPlaced          0.000000e+00 1.865175e-14 8.792966e-14 0.0617203811\n",
       "                         mba_p        gender.NAF   gender.NAM   ssc_b.NACentral\n",
       "ssc_p                    3.719424e-09 3.141356e-01 3.141356e-01 0.08921192     \n",
       "hsc_p                    8.922546e-08 7.557791e-01 7.557791e-01 0.04477460     \n",
       "degree_p                 8.993304e-10 1.094938e-02 1.094938e-02 0.57878411     \n",
       "etest_p                  1.293240e-03 2.183332e-01 2.183332e-01 0.78188642     \n",
       "mba_p                              NA 7.288608e-06 7.288608e-06 0.22483248     \n",
       "gender.NAF               7.288608e-06           NA 0.000000e+00 0.77698313     \n",
       "gender.NAM               7.288608e-06 0.000000e+00           NA 0.77698313     \n",
       "ssc_b.NACentral          2.248325e-01 7.769831e-01 7.769831e-01         NA     \n",
       "ssc_b.NAOthers           2.248325e-01 7.769831e-01 7.769831e-01 0.00000000     \n",
       "hsc_b.NACentral          1.876416e-01 3.358735e-01 3.358735e-01 0.00000000     \n",
       "hsc_b.NAOthers           1.876416e-01 3.358735e-01 3.358735e-01 0.00000000     \n",
       "ssc_s.NAArts             9.506719e-01 1.731177e-01 1.731177e-01 0.96793184     \n",
       "ssc_s.NACommerce         4.710423e-01 9.873518e-01 9.873518e-01 0.40836058     \n",
       "ssc_s.NAScience          4.833999e-01 5.336330e-01 5.336330e-01 0.39333312     \n",
       "degree_t.NAComm&Mgmt     1.356796e-01 5.974380e-01 5.974380e-01 0.16541201     \n",
       "degree_t.NAOthers        5.990528e-01 1.731177e-01 1.731177e-01 0.96793184     \n",
       "degree_t.NASci&Tech      6.732694e-02 2.195492e-01 2.195492e-01 0.13968084     \n",
       "workex.NANo              1.318816e-02 2.136603e-01 2.136603e-01 0.55238686     \n",
       "workex.NAYes             1.318816e-02 2.136603e-01 2.136603e-01 0.55238686     \n",
       "specialisation.NAMkt&Fin 1.222080e-01 1.206814e-01 1.206814e-01 0.45194240     \n",
       "specialisation.NAMkt&HR  1.222080e-01 1.206814e-01 1.206814e-01 0.45194240     \n",
       "status.NANot Placed      2.614450e-01 1.853475e-01 1.853475e-01 0.58652718     \n",
       "status.NAPlaced          2.614450e-01 1.853475e-01 1.853475e-01 0.58652718     \n",
       "                         ssc_b.NAOthers hsc_b.NACentral ... ssc_s.NAScience\n",
       "ssc_p                    0.08921192     0.32820896      ... 0.005223408    \n",
       "hsc_p                    0.04477460     0.77565376      ... 0.000813930    \n",
       "degree_p                 0.57878411     0.32652403      ... 0.178927221    \n",
       "etest_p                  0.78188642     0.56846633      ... 0.419370688    \n",
       "mba_p                    0.22483248     0.18764161      ... 0.483399880    \n",
       "gender.NAF               0.77698313     0.33587345      ... 0.533633013    \n",
       "gender.NAM               0.77698313     0.33587345      ... 0.533633013    \n",
       "ssc_b.NACentral          0.00000000     0.00000000      ... 0.393333116    \n",
       "ssc_b.NAOthers                   NA     0.00000000      ... 0.393333116    \n",
       "hsc_b.NACentral          0.00000000             NA      ... 0.064214870    \n",
       "hsc_b.NAOthers           0.00000000     0.00000000      ... 0.064214870    \n",
       "ssc_s.NAArts             0.96793184     0.08721730      ... 0.003398883    \n",
       "ssc_s.NACommerce         0.40836058     0.28317741      ... 0.000000000    \n",
       "ssc_s.NAScience          0.39333312     0.06421487      ...          NA    \n",
       "degree_t.NAComm&Mgmt     0.16541201     0.68909439      ... 0.000000000    \n",
       "degree_t.NAOthers        0.96793184     0.08721730      ... 0.402085228    \n",
       "degree_t.NASci&Tech      0.13968084     0.20622617      ... 0.000000000    \n",
       "workex.NANo              0.55238686     0.57592513      ... 0.627590104    \n",
       "workex.NAYes             0.55238686     0.57592513      ... 0.627590104    \n",
       "specialisation.NAMkt&Fin 0.45194240     0.97404289      ... 0.014433126    \n",
       "specialisation.NAMkt&HR  0.45194240     0.97404289      ... 0.014433126    \n",
       "status.NANot Placed      0.58652718     0.80488885      ... 0.915491115    \n",
       "status.NAPlaced          0.58652718     0.80488885      ... 0.915491115    \n",
       "                         degree_t.NAComm&Mgmt degree_t.NAOthers\n",
       "ssc_p                    8.307528e-03         3.345343e-01     \n",
       "hsc_p                    9.897717e-02         5.441019e-02     \n",
       "degree_p                 6.329293e-01         8.009394e-03     \n",
       "etest_p                  8.550557e-01         9.197949e-01     \n",
       "mba_p                    1.356796e-01         5.990528e-01     \n",
       "gender.NAF               5.974380e-01         1.731177e-01     \n",
       "gender.NAM               5.974380e-01         1.731177e-01     \n",
       "ssc_b.NACentral          1.654120e-01         9.679318e-01     \n",
       "ssc_b.NAOthers           1.654120e-01         9.679318e-01     \n",
       "hsc_b.NACentral          6.890944e-01         8.721730e-02     \n",
       "hsc_b.NAOthers           6.890944e-01         8.721730e-02     \n",
       "ssc_s.NAArts             7.833726e-01         7.846800e-07     \n",
       "ssc_s.NACommerce         0.000000e+00         2.907002e-03     \n",
       "ssc_s.NAScience          0.000000e+00         4.020852e-01     \n",
       "degree_t.NAComm&Mgmt               NA         5.251683e-07     \n",
       "degree_t.NAOthers        5.251683e-07                   NA     \n",
       "degree_t.NASci&Tech      0.000000e+00         3.639653e-02     \n",
       "workex.NANo              1.340357e-01         8.897794e-01     \n",
       "workex.NAYes             1.340357e-01         8.897794e-01     \n",
       "specialisation.NAMkt&Fin 1.386192e-01         1.839988e-01     \n",
       "specialisation.NAMkt&HR  1.386192e-01         1.839988e-01     \n",
       "status.NANot Placed      4.944135e-01         8.637220e-02     \n",
       "status.NAPlaced          4.944135e-01         8.637220e-02     \n",
       "                         degree_t.NASci&Tech workex.NANo  workex.NAYes\n",
       "ssc_p                    0.001092344         9.851589e-03 9.851589e-03\n",
       "hsc_p                    0.434272091         3.881783e-02 3.881783e-02\n",
       "degree_p                 0.070779454         7.270725e-02 7.270725e-02\n",
       "etest_p                  0.886995044         4.078340e-01 4.078340e-01\n",
       "mba_p                    0.067326942         1.318816e-02 1.318816e-02\n",
       "gender.NAF               0.219549176         2.136603e-01 2.136603e-01\n",
       "gender.NAM               0.219549176         2.136603e-01 2.136603e-01\n",
       "ssc_b.NACentral          0.139680841         5.523869e-01 5.523869e-01\n",
       "ssc_b.NAOthers           0.139680841         5.523869e-01 5.523869e-01\n",
       "hsc_b.NACentral          0.206226171         5.759251e-01 5.759251e-01\n",
       "hsc_b.NAOthers           0.206226171         5.759251e-01 5.759251e-01\n",
       "ssc_s.NAArts             0.036396533         4.313610e-01 4.313610e-01\n",
       "ssc_s.NACommerce         0.000000000         4.079671e-01 4.079671e-01\n",
       "ssc_s.NAScience          0.000000000         6.275901e-01 6.275901e-01\n",
       "degree_t.NAComm&Mgmt     0.000000000         1.340357e-01 1.340357e-01\n",
       "degree_t.NAOthers        0.036396533         8.897794e-01 8.897794e-01\n",
       "degree_t.NASci&Tech               NA         1.323440e-01 1.323440e-01\n",
       "workex.NANo              0.132344040                   NA          NaN\n",
       "workex.NAYes             0.132344040                  NaN           NA\n",
       "specialisation.NAMkt&Fin 0.369499636         4.911131e-03 4.911131e-03\n",
       "specialisation.NAMkt&HR  0.369499636         4.911131e-03 4.911131e-03\n",
       "status.NANot Placed      0.899216359         4.055823e-05 4.055823e-05\n",
       "status.NAPlaced          0.899216359         4.055823e-05 4.055823e-05\n",
       "                         specialisation.NAMkt&Fin specialisation.NAMkt&HR\n",
       "ssc_p                    0.0112716081             0.0112716081           \n",
       "hsc_p                    0.0003496082             0.0003496082           \n",
       "degree_p                 0.0012775631             0.0012775631           \n",
       "etest_p                  0.0004749760             0.0004749760           \n",
       "mba_p                    0.1222079867             0.1222079867           \n",
       "gender.NAF               0.1206814361             0.1206814361           \n",
       "gender.NAM               0.1206814361             0.1206814361           \n",
       "ssc_b.NACentral          0.4519423992             0.4519423992           \n",
       "ssc_b.NAOthers           0.4519423992             0.4519423992           \n",
       "hsc_b.NACentral          0.9740428902             0.9740428902           \n",
       "hsc_b.NAOthers           0.9740428902             0.9740428902           \n",
       "ssc_s.NAArts             0.2482261969             0.2482261969           \n",
       "ssc_s.NACommerce         0.0570496540             0.0570496540           \n",
       "ssc_s.NAScience          0.0144331261             0.0144331261           \n",
       "degree_t.NAComm&Mgmt     0.1386191833             0.1386191833           \n",
       "degree_t.NAOthers        0.1839988172             0.1839988172           \n",
       "degree_t.NASci&Tech      0.3694996363             0.3694996363           \n",
       "workex.NANo              0.0049111310             0.0049111310           \n",
       "workex.NAYes             0.0049111310             0.0049111310           \n",
       "specialisation.NAMkt&Fin           NA                      NaN           \n",
       "specialisation.NAMkt&HR           NaN                       NA           \n",
       "status.NANot Placed      0.0002045299             0.0002045299           \n",
       "status.NAPlaced          0.0002045299             0.0002045299           \n",
       "                         status.NANot Placed status.NAPlaced\n",
       "ssc_p                    0.000000e+00        0.000000e+00   \n",
       "hsc_p                    1.865175e-14        1.865175e-14   \n",
       "degree_p                 8.792966e-14        8.792966e-14   \n",
       "etest_p                  6.172038e-02        6.172038e-02   \n",
       "mba_p                    2.614450e-01        2.614450e-01   \n",
       "gender.NAF               1.853475e-01        1.853475e-01   \n",
       "gender.NAM               1.853475e-01        1.853475e-01   \n",
       "ssc_b.NACentral          5.865272e-01        5.865272e-01   \n",
       "ssc_b.NAOthers           5.865272e-01        5.865272e-01   \n",
       "hsc_b.NACentral          8.048888e-01        8.048888e-01   \n",
       "hsc_b.NAOthers           8.048888e-01        8.048888e-01   \n",
       "ssc_s.NAArts             2.956230e-01        2.956230e-01   \n",
       "ssc_s.NACommerce         7.218849e-01        7.218849e-01   \n",
       "ssc_s.NAScience          9.154911e-01        9.154911e-01   \n",
       "degree_t.NAComm&Mgmt     4.944135e-01        4.944135e-01   \n",
       "degree_t.NAOthers        8.637220e-02        8.637220e-02   \n",
       "degree_t.NASci&Tech      8.992164e-01        8.992164e-01   \n",
       "workex.NANo              4.055823e-05        4.055823e-05   \n",
       "workex.NAYes             4.055823e-05        4.055823e-05   \n",
       "specialisation.NAMkt&Fin 2.045299e-04        2.045299e-04   \n",
       "specialisation.NAMkt&HR  2.045299e-04        2.045299e-04   \n",
       "status.NANot Placed                NA        0.000000e+00   \n",
       "status.NAPlaced          0.000000e+00                  NA   "
      ]
     },
     "metadata": {},
     "output_type": "display_data"
    }
   ],
   "source": [
    "cor(plac)\n",
    "res <- rcorr(as.matrix(plac))\n",
    "res$P"
   ]
  },
  {
   "cell_type": "code",
   "execution_count": 148,
   "metadata": {},
   "outputs": [
    {
     "data": {
      "image/png": "[encoded data removed]",
      "text/plain": [
       "Plot with title \"\""
      ]
     },
     "metadata": {},
     "output_type": "display_data"
    }
   ],
   "source": [
    "corrplot(cor(plac), type = 'upper', method = 'circle',  tl.col = 'black',  p.mat = res$P, sig.leve = 0.05)"
   ]
  },
  {
   "cell_type": "code",
   "execution_count": 147,
   "metadata": {},
   "outputs": [
    {
     "data": {
      "text/plain": [
       "     ssc_p           hsc_p          degree_p        etest_p         mba_p      \n",
       " Min.   :40.89   Min.   :37.00   Min.   :50.00   Min.   :50.0   Min.   :51.21  \n",
       " 1st Qu.:60.60   1st Qu.:60.90   1st Qu.:61.00   1st Qu.:60.0   1st Qu.:57.95  \n",
       " Median :67.00   Median :65.00   Median :66.00   Median :71.0   Median :62.00  \n",
       " Mean   :67.30   Mean   :66.33   Mean   :66.37   Mean   :72.1   Mean   :62.28  \n",
       " 3rd Qu.:75.70   3rd Qu.:73.00   3rd Qu.:72.00   3rd Qu.:83.5   3rd Qu.:66.25  \n",
       " Max.   :89.40   Max.   :97.70   Max.   :91.00   Max.   :98.0   Max.   :77.89  \n",
       "     gender.NAF           gender.NAM     \n",
       " Min.   :0.0000000    Min.   :0.0000000  \n",
       " 1st Qu.:0.0000000    1st Qu.:0.0000000  \n",
       " Median :0.0000000    Median :1.0000000  \n",
       " Mean   :0.3534884    Mean   :0.6465116  \n",
       " 3rd Qu.:1.0000000    3rd Qu.:1.0000000  \n",
       " Max.   :1.0000000    Max.   :1.0000000  \n",
       "   ssc_b.NACentral      ssc_b.NAOthers   \n",
       " Min.   :0.0000000    Min.   :0.0000000  \n",
       " 1st Qu.:0.0000000    1st Qu.:0.0000000  \n",
       " Median :1.0000000    Median :0.0000000  \n",
       " Mean   :0.5395349    Mean   :0.4604651  \n",
       " 3rd Qu.:1.0000000    3rd Qu.:1.0000000  \n",
       " Max.   :1.0000000    Max.   :1.0000000  \n",
       "   hsc_b.NACentral      hsc_b.NAOthers   \n",
       " Min.   :0.0000000    Min.   :0.0000000  \n",
       " 1st Qu.:0.0000000    1st Qu.:0.0000000  \n",
       " Median :0.0000000    Median :1.0000000  \n",
       " Mean   :0.3906977    Mean   :0.6093023  \n",
       " 3rd Qu.:1.0000000    3rd Qu.:1.0000000  \n",
       " Max.   :1.0000000    Max.   :1.0000000  \n",
       "    ssc_s.NAArts       ssc_s.NACommerce      ssc_s.NAScience  \n",
       " Min.   :0.0000000    Min.   :0.0000000    Min.   :0.0000000  \n",
       " 1st Qu.:0.0000000    1st Qu.:0.0000000    1st Qu.:0.0000000  \n",
       " Median :0.0000000    Median :1.0000000    Median :0.0000000  \n",
       " Mean   :0.0511628    Mean   :0.5255814    Mean   :0.4232558  \n",
       " 3rd Qu.:0.0000000    3rd Qu.:1.0000000    3rd Qu.:1.0000000  \n",
       " Max.   :1.0000000    Max.   :1.0000000    Max.   :1.0000000  \n",
       " degree_t.NAComm&Mgmt   degree_t.NAOthers   degree_t.NASci&Tech\n",
       " Min.   :0.0000000    Min.   :0.0000000    Min.   :0.0000000   \n",
       " 1st Qu.:0.0000000    1st Qu.:0.0000000    1st Qu.:0.0000000   \n",
       " Median :1.0000000    Median :0.0000000    Median :0.0000000   \n",
       " Mean   :0.6744186    Mean   :0.0511628    Mean   :0.2744186   \n",
       " 3rd Qu.:1.0000000    3rd Qu.:0.0000000    3rd Qu.:1.0000000   \n",
       " Max.   :1.0000000    Max.   :1.0000000    Max.   :1.0000000   \n",
       "    workex.NANo         workex.NAYes   \n",
       " Min.   :0.000000    Min.   :0.000000  \n",
       " 1st Qu.:0.000000    1st Qu.:0.000000  \n",
       " Median :1.000000    Median :0.000000  \n",
       " Mean   :0.655814    Mean   :0.344186  \n",
       " 3rd Qu.:1.000000    3rd Qu.:1.000000  \n",
       " Max.   :1.000000    Max.   :1.000000  \n",
       " specialisation.NAMkt&Fin  specialisation.NAMkt&HR\n",
       " Min.   :0.0000000    Min.   :0.0000000           \n",
       " 1st Qu.:0.0000000    1st Qu.:0.0000000           \n",
       " Median :1.0000000    Median :0.0000000           \n",
       " Mean   :0.5581395    Mean   :0.4418605           \n",
       " 3rd Qu.:1.0000000    3rd Qu.:1.0000000           \n",
       " Max.   :1.0000000    Max.   :1.0000000           \n",
       " status.NANot Placed    status.NAPlaced  \n",
       " Min.   :0.0000000    Min.   :0.0000000  \n",
       " 1st Qu.:0.0000000    1st Qu.:0.0000000  \n",
       " Median :0.0000000    Median :1.0000000  \n",
       " Mean   :0.3116279    Mean   :0.6883721  \n",
       " 3rd Qu.:1.0000000    3rd Qu.:1.0000000  \n",
       " Max.   :1.0000000    Max.   :1.0000000  "
      ]
     },
     "metadata": {},
     "output_type": "display_data"
    }
   ],
   "source": [
    "# Build your own `normalize()` function\n",
    "normalize <- function(x) {\n",
    "num <- x - min(x)\n",
    "denom <- max(x) - min(x)\n",
    "return (num/denom)\n",
    "}\n",
    "\n",
    "# Normalize the `iris` data\n",
    "plac_norm <- as.data.frame(lapply(plac, normalize))\n",
    "\n",
    "# Summarize `iris_norm`\n",
    "summary(plac)"
   ]
  },
  {
   "cell_type": "code",
   "execution_count": 157,
   "metadata": {},
   "outputs": [
    {
     "data": {
      "text/html": [
       "13"
      ],
      "text/latex": [
       "13"
      ],
      "text/markdown": [
       "13"
      ],
      "text/plain": [
       "[1] 13"
      ]
     },
     "metadata": {},
     "output_type": "display_data"
    }
   ],
   "source": [
    "set.seed(1234)\n",
    "length(names(plac))"
   ]
  },
  {
   "cell_type": "code",
   "execution_count": 167,
   "metadata": {},
   "outputs": [],
   "source": [
    "ind <- sample(2, nrow(plac), replace=TRUE, prob=c(0.67, 0.33))\n",
    "\n",
    "plac.training <- plac[ind == 1, 1:12]\n",
    "plac.test <- plac[ind == 2, 1:12]"
   ]
  },
  {
   "cell_type": "code",
   "execution_count": 168,
   "metadata": {},
   "outputs": [
    {
     "data": {
      "text/html": [
       "<table>\n",
       "<thead><tr><th scope=col>NANot Placed</th><th scope=col>NAPlaced</th></tr></thead>\n",
       "<tbody>\n",
       "\t<tr><td>0</td><td>1</td></tr>\n",
       "\t<tr><td>0</td><td>1</td></tr>\n",
       "\t<tr><td>0</td><td>1</td></tr>\n",
       "\t<tr><td>1</td><td>0</td></tr>\n",
       "\t<tr><td>1</td><td>0</td></tr>\n",
       "\t<tr><td>1</td><td>0</td></tr>\n",
       "\t<tr><td>0</td><td>1</td></tr>\n",
       "\t<tr><td>0</td><td>1</td></tr>\n",
       "\t<tr><td>1</td><td>0</td></tr>\n",
       "\t<tr><td>1</td><td>0</td></tr>\n",
       "\t<tr><td>0</td><td>1</td></tr>\n",
       "\t<tr><td>0</td><td>1</td></tr>\n",
       "\t<tr><td>0</td><td>1</td></tr>\n",
       "\t<tr><td>0</td><td>1</td></tr>\n",
       "\t<tr><td>0</td><td>1</td></tr>\n",
       "\t<tr><td>1</td><td>0</td></tr>\n",
       "\t<tr><td>0</td><td>1</td></tr>\n",
       "\t<tr><td>0</td><td>1</td></tr>\n",
       "\t<tr><td>0</td><td>1</td></tr>\n",
       "\t<tr><td>1</td><td>0</td></tr>\n",
       "\t<tr><td>0</td><td>1</td></tr>\n",
       "\t<tr><td>1</td><td>0</td></tr>\n",
       "\t<tr><td>0</td><td>1</td></tr>\n",
       "\t<tr><td>0</td><td>1</td></tr>\n",
       "\t<tr><td>0</td><td>1</td></tr>\n",
       "\t<tr><td>0</td><td>1</td></tr>\n",
       "\t<tr><td>1</td><td>0</td></tr>\n",
       "\t<tr><td>1</td><td>0</td></tr>\n",
       "\t<tr><td>0</td><td>1</td></tr>\n",
       "\t<tr><td>1</td><td>0</td></tr>\n",
       "\t<tr><td>...</td><td>...</td></tr>\n",
       "\t<tr><td>0</td><td>1</td></tr>\n",
       "\t<tr><td>0</td><td>1</td></tr>\n",
       "\t<tr><td>1</td><td>0</td></tr>\n",
       "\t<tr><td>0</td><td>1</td></tr>\n",
       "\t<tr><td>1</td><td>0</td></tr>\n",
       "\t<tr><td>0</td><td>1</td></tr>\n",
       "\t<tr><td>0</td><td>1</td></tr>\n",
       "\t<tr><td>1</td><td>0</td></tr>\n",
       "\t<tr><td>0</td><td>1</td></tr>\n",
       "\t<tr><td>1</td><td>0</td></tr>\n",
       "\t<tr><td>0</td><td>1</td></tr>\n",
       "\t<tr><td>0</td><td>1</td></tr>\n",
       "\t<tr><td>1</td><td>0</td></tr>\n",
       "\t<tr><td>0</td><td>1</td></tr>\n",
       "\t<tr><td>1</td><td>0</td></tr>\n",
       "\t<tr><td>0</td><td>1</td></tr>\n",
       "\t<tr><td>1</td><td>0</td></tr>\n",
       "\t<tr><td>0</td><td>1</td></tr>\n",
       "\t<tr><td>1</td><td>0</td></tr>\n",
       "\t<tr><td>0</td><td>1</td></tr>\n",
       "\t<tr><td>1</td><td>0</td></tr>\n",
       "\t<tr><td>0</td><td>1</td></tr>\n",
       "\t<tr><td>0</td><td>1</td></tr>\n",
       "\t<tr><td>1</td><td>0</td></tr>\n",
       "\t<tr><td>1</td><td>0</td></tr>\n",
       "\t<tr><td>0</td><td>1</td></tr>\n",
       "\t<tr><td>0</td><td>1</td></tr>\n",
       "\t<tr><td>0</td><td>1</td></tr>\n",
       "\t<tr><td>0</td><td>1</td></tr>\n",
       "\t<tr><td>1</td><td>0</td></tr>\n",
       "</tbody>\n",
       "</table>\n"
      ],
      "text/latex": [
       "\\begin{tabular}{ll}\n",
       " NANot Placed & NAPlaced\\\\\n",
       "\\hline\n",
       "\t 0 & 1\\\\\n",
       "\t 0 & 1\\\\\n",
       "\t 0 & 1\\\\\n",
       "\t 1 & 0\\\\\n",
       "\t 1 & 0\\\\\n",
       "\t 1 & 0\\\\\n",
       "\t 0 & 1\\\\\n",
       "\t 0 & 1\\\\\n",
       "\t 1 & 0\\\\\n",
       "\t 1 & 0\\\\\n",
       "\t 0 & 1\\\\\n",
       "\t 0 & 1\\\\\n",
       "\t 0 & 1\\\\\n",
       "\t 0 & 1\\\\\n",
       "\t 0 & 1\\\\\n",
       "\t 1 & 0\\\\\n",
       "\t 0 & 1\\\\\n",
       "\t 0 & 1\\\\\n",
       "\t 0 & 1\\\\\n",
       "\t 1 & 0\\\\\n",
       "\t 0 & 1\\\\\n",
       "\t 1 & 0\\\\\n",
       "\t 0 & 1\\\\\n",
       "\t 0 & 1\\\\\n",
       "\t 0 & 1\\\\\n",
       "\t 0 & 1\\\\\n",
       "\t 1 & 0\\\\\n",
       "\t 1 & 0\\\\\n",
       "\t 0 & 1\\\\\n",
       "\t 1 & 0\\\\\n",
       "\t ... & ...\\\\\n",
       "\t 0 & 1\\\\\n",
       "\t 0 & 1\\\\\n",
       "\t 1 & 0\\\\\n",
       "\t 0 & 1\\\\\n",
       "\t 1 & 0\\\\\n",
       "\t 0 & 1\\\\\n",
       "\t 0 & 1\\\\\n",
       "\t 1 & 0\\\\\n",
       "\t 0 & 1\\\\\n",
       "\t 1 & 0\\\\\n",
       "\t 0 & 1\\\\\n",
       "\t 0 & 1\\\\\n",
       "\t 1 & 0\\\\\n",
       "\t 0 & 1\\\\\n",
       "\t 1 & 0\\\\\n",
       "\t 0 & 1\\\\\n",
       "\t 1 & 0\\\\\n",
       "\t 0 & 1\\\\\n",
       "\t 1 & 0\\\\\n",
       "\t 0 & 1\\\\\n",
       "\t 1 & 0\\\\\n",
       "\t 0 & 1\\\\\n",
       "\t 0 & 1\\\\\n",
       "\t 1 & 0\\\\\n",
       "\t 1 & 0\\\\\n",
       "\t 0 & 1\\\\\n",
       "\t 0 & 1\\\\\n",
       "\t 0 & 1\\\\\n",
       "\t 0 & 1\\\\\n",
       "\t 1 & 0\\\\\n",
       "\\end{tabular}\n"
      ],
      "text/markdown": [
       "\n",
       "| NANot Placed | NAPlaced |\n",
       "|---|---|\n",
       "| 0 | 1 |\n",
       "| 0 | 1 |\n",
       "| 0 | 1 |\n",
       "| 1 | 0 |\n",
       "| 1 | 0 |\n",
       "| 1 | 0 |\n",
       "| 0 | 1 |\n",
       "| 0 | 1 |\n",
       "| 1 | 0 |\n",
       "| 1 | 0 |\n",
       "| 0 | 1 |\n",
       "| 0 | 1 |\n",
       "| 0 | 1 |\n",
       "| 0 | 1 |\n",
       "| 0 | 1 |\n",
       "| 1 | 0 |\n",
       "| 0 | 1 |\n",
       "| 0 | 1 |\n",
       "| 0 | 1 |\n",
       "| 1 | 0 |\n",
       "| 0 | 1 |\n",
       "| 1 | 0 |\n",
       "| 0 | 1 |\n",
       "| 0 | 1 |\n",
       "| 0 | 1 |\n",
       "| 0 | 1 |\n",
       "| 1 | 0 |\n",
       "| 1 | 0 |\n",
       "| 0 | 1 |\n",
       "| 1 | 0 |\n",
       "| ... | ... |\n",
       "| 0 | 1 |\n",
       "| 0 | 1 |\n",
       "| 1 | 0 |\n",
       "| 0 | 1 |\n",
       "| 1 | 0 |\n",
       "| 0 | 1 |\n",
       "| 0 | 1 |\n",
       "| 1 | 0 |\n",
       "| 0 | 1 |\n",
       "| 1 | 0 |\n",
       "| 0 | 1 |\n",
       "| 0 | 1 |\n",
       "| 1 | 0 |\n",
       "| 0 | 1 |\n",
       "| 1 | 0 |\n",
       "| 0 | 1 |\n",
       "| 1 | 0 |\n",
       "| 0 | 1 |\n",
       "| 1 | 0 |\n",
       "| 0 | 1 |\n",
       "| 1 | 0 |\n",
       "| 0 | 1 |\n",
       "| 0 | 1 |\n",
       "| 1 | 0 |\n",
       "| 1 | 0 |\n",
       "| 0 | 1 |\n",
       "| 0 | 1 |\n",
       "| 0 | 1 |\n",
       "| 0 | 1 |\n",
       "| 1 | 0 |\n",
       "\n"
      ],
      "text/plain": [
       "      NANot Placed NAPlaced\n",
       " [1,] 0            1       \n",
       " [2,] 0            1       \n",
       " [3,] 0            1       \n",
       " [4,] 1            0       \n",
       " [5,] 1            0       \n",
       " [6,] 1            0       \n",
       " [7,] 0            1       \n",
       " [8,] 0            1       \n",
       " [9,] 1            0       \n",
       "[10,] 1            0       \n",
       "[11,] 0            1       \n",
       "[12,] 0            1       \n",
       "[13,] 0            1       \n",
       "[14,] 0            1       \n",
       "[15,] 0            1       \n",
       "[16,] 1            0       \n",
       "[17,] 0            1       \n",
       "[18,] 0            1       \n",
       "[19,] 0            1       \n",
       "[20,] 1            0       \n",
       "[21,] 0            1       \n",
       "[22,] 1            0       \n",
       "[23,] 0            1       \n",
       "[24,] 0            1       \n",
       "[25,] 0            1       \n",
       "[26,] 0            1       \n",
       "[27,] 1            0       \n",
       "[28,] 1            0       \n",
       "[29,] 0            1       \n",
       "[30,] 1            0       \n",
       "[31,] ...          ...     \n",
       "[32,] 0            1       \n",
       "[33,] 0            1       \n",
       "[34,] 1            0       \n",
       "[35,] 0            1       \n",
       "[36,] 1            0       \n",
       "[37,] 0            1       \n",
       "[38,] 0            1       \n",
       "[39,] 1            0       \n",
       "[40,] 0            1       \n",
       "[41,] 1            0       \n",
       "[42,] 0            1       \n",
       "[43,] 0            1       \n",
       "[44,] 1            0       \n",
       "[45,] 0            1       \n",
       "[46,] 1            0       \n",
       "[47,] 0            1       \n",
       "[48,] 1            0       \n",
       "[49,] 0            1       \n",
       "[50,] 1            0       \n",
       "[51,] 0            1       \n",
       "[52,] 1            0       \n",
       "[53,] 0            1       \n",
       "[54,] 0            1       \n",
       "[55,] 1            0       \n",
       "[56,] 1            0       \n",
       "[57,] 0            1       \n",
       "[58,] 0            1       \n",
       "[59,] 0            1       \n",
       "[60,] 0            1       \n",
       "[61,] 1            0       "
      ]
     },
     "metadata": {},
     "output_type": "display_data"
    }
   ],
   "source": [
    "plac.trainLabels <- plac[ind==1,13]\n",
    "plac.trainLabels"
   ]
  },
  {
   "cell_type": "code",
   "execution_count": 170,
   "metadata": {},
   "outputs": [
    {
     "ename": "ERROR",
     "evalue": "Error in knn(train = plac.training, test = plac.test, cl = plac.trainLabels, : 'train' and 'class' have different lengths\n",
     "output_type": "error",
     "traceback": [
      "Error in knn(train = plac.training, test = plac.test, cl = plac.trainLabels, : 'train' and 'class' have different lengths\nTraceback:\n",
      "1. knn(train = plac.training, test = plac.test, cl = plac.trainLabels, \n .     k = 3)",
      "2. stop(\"'train' and 'class' have different lengths\")"
     ]
    }
   ],
   "source": [
    "# Build the model\n",
    "plac_pred <- knn(train = plac.training, test = plac.test, cl = plac.trainLabels, k=3)\n",
    "\n",
    "# Inspect `iris_pred`\n",
    "plac_pred"
   ]
  }
 ],
 "metadata": {
  "kernelspec": {
   "display_name": "R",
   "language": "R",
   "name": "ir"
  },
  "language_info": {
   "codemirror_mode": "r",
   "file_extension": ".r",
   "mimetype": "text/x-r-source",
   "name": "R",
   "pygments_lexer": "r",
   "version": "3.6.1"
  }
 },
 "nbformat": 4,
 "nbformat_minor": 4
}
