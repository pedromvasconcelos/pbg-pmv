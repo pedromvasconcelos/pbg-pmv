{
 "cells": [
  {
   "cell_type": "markdown",
   "metadata": {},
   "source": [
    "# k - Nearest Neighbors Algorithm (kNN) - Campus Recruitment"
   ]
  },
  {
   "cell_type": "markdown",
   "metadata": {},
   "source": [
    "Pedro Mesquita Vasconcelos\n",
    "\n",
    "06/06/2020\n",
    "\n",
    "Database Source: https://www.kaggle.com/benroshan/factors-affecting-campus-placement\n",
    "\n",
    "kaggle: https://www.kaggle.com/pedromv/knn-to-predict-campus-placement?scriptVersionId=35753025\n",
    "\n",
    "\n",
    "\n",
    "\n",
    "\n",
    "\n",
    "<ol>\n",
    "<li><a href='#Introduction'>Introduction</a></li>\n",
    "<li><a href='#Loading Data'>Loading Data</a></li>\n",
    "<li><a href='#Data Analysis'>Data Analysis</a></li>\n",
    "<li><a href='#Data Preparation'>Data Preparation</a></li>\n",
    "<li><a href='#kNN'>k-NN Execution</a></li>\n",
    "<li><a href='#Evaluation'>Evaluation</a></li>\n",
    "<li><a href='#Summary'>Summary</a></li>\n",
    "</ol>"
   ]
  },
  {
   "cell_type": "markdown",
   "metadata": {},
   "source": [
    "## 1. Introduction <a id = \"Introduction\"></a>\n",
    "\n",
    "I'm going to explore the dataset from \"Campus Recruitment - Academic and Employability Factors influencing placement\" provided by Ben Roshan D, MBA in Business Analytics at Jain University and Bangalore. I will work with the supervised machile learning algorithm called k-NN or <a href=\"https://en.wikipedia.org/wiki/K-nearest_neighbors_algorithm\">k-Nearest Neighbors</a>.\n",
    "\n",
    "\n",
    "\"This data set consists of Placement data of students in our campus. It includes secondary and higher secondary school percentage and specialization. It also includes degree specialization, type and Work experience and salary offers to the placed students\"\n",
    "\n",
    "The dataset contains the following data:\n",
    "<ul>\n",
    "<li><b>sl_no</b> = Serial Number</li>\n",
    "<li><b>gender</b> = Gender: Male='M', Female='F'</li>\n",
    "<li><b>ssc_p</b> = Secondary Education percentage - 10th Grade</li>\n",
    "<li><b>ssc_b</b> = Board of Education- Central/ Others</li>\n",
    "<li><b>hsc_p</b> = Higher Secondary Education percentage - 12th Grade</li>\n",
    "<li><b>hsc_b</b> = Board of Education - Central/ Others</li>\n",
    "<li><b>hsc_s</b> = Specialization in Higher Secondary Education</li>\n",
    "<li><b>degree_p</b> = Degree Percentage</li>\n",
    "<li><b>degree_t</b> = Under Graduation(Degree type) - Field of degree education</li>\n",
    "<li><b>workex</b> = Work Experience</li>\n",
    "<li><b>etest_p</b> = Employability test percentage ( conducted by college)</li>\n",
    "<li><b>specialisation</b> = Post Graduation(MBA)- Specialization</li>\n",
    "<li><b>mba_p</b> = MBA percentage</li>\n",
    "<li><b>status</b> = Status of placement- Placed/Not placed</li>\n",
    "<li><b>salary</b> = Salary offered by corporate to candidates</li>\n",
    "</ul>\n",
    "\n"
   ]
  },
  {
   "cell_type": "markdown",
   "metadata": {},
   "source": [
    "## 2. Loading Data <a id = \"Loading Data\"></a>"
   ]
  },
  {
   "cell_type": "markdown",
   "metadata": {},
   "source": [
    "First we need to load some libraries and the dataset."
   ]
  },
  {
   "cell_type": "code",
   "execution_count": 1,
   "metadata": {},
   "outputs": [
    {
     "name": "stderr",
     "output_type": "stream",
     "text": [
      "Warning message:\n",
      "\"package 'funModeling' was built under R version 3.6.3\"Loading required package: Hmisc\n",
      "Warning message:\n",
      "\"package 'Hmisc' was built under R version 3.6.3\"Loading required package: lattice\n",
      "Loading required package: survival\n",
      "Warning message:\n",
      "\"package 'survival' was built under R version 3.6.3\"Loading required package: Formula\n",
      "Loading required package: ggplot2\n",
      "Warning message:\n",
      "\"package 'ggplot2' was built under R version 3.6.3\"\n",
      "Attaching package: 'Hmisc'\n",
      "\n",
      "The following objects are masked from 'package:base':\n",
      "\n",
      "    format.pval, units\n",
      "\n",
      "funModeling v.1.9.3 :)\n",
      "Examples and tutorials at livebook.datascienceheroes.com\n",
      " / Now in Spanish: librovivodecienciadedatos.ai\n",
      "dummies-1.5.6 provided by Decision Patterns\n",
      "\n",
      "Warning message:\n",
      "\"package 'corrplot' was built under R version 3.6.3\"corrplot 0.84 loaded\n",
      "Warning message:\n",
      "\"package 'gmodels' was built under R version 3.6.3\"Warning message:\n",
      "\"package 'class' was built under R version 3.6.3\"Warning message:\n",
      "\"package 'tidyr' was built under R version 3.6.2\""
     ]
    }
   ],
   "source": [
    "library('funModeling') \n",
    "library('Hmisc')\n",
    "library('dummies')\n",
    "library('corrplot')\n",
    "library('gmodels')\n",
    "library('class')\n",
    "library('dummies')\n",
    "library('tidyr')"
   ]
  },
  {
   "cell_type": "code",
   "execution_count": 2,
   "metadata": {},
   "outputs": [],
   "source": [
    "data <- read.csv(('Placement_Data_Full_Class.csv'))"
   ]
  },
  {
   "cell_type": "markdown",
   "metadata": {},
   "source": [
    "Let's explore the dataset."
   ]
  },
  {
   "cell_type": "code",
   "execution_count": 3,
   "metadata": {
    "scrolled": false
   },
   "outputs": [
    {
     "data": {
      "text/html": [
       "<table>\n",
       "<thead><tr><th scope=col>sl_no</th><th scope=col>gender</th><th scope=col>ssc_p</th><th scope=col>ssc_b</th><th scope=col>hsc_p</th><th scope=col>hsc_b</th><th scope=col>hsc_s</th><th scope=col>degree_p</th><th scope=col>degree_t</th><th scope=col>workex</th><th scope=col>etest_p</th><th scope=col>specialisation</th><th scope=col>mba_p</th><th scope=col>status</th><th scope=col>salary</th></tr></thead>\n",
       "<tbody>\n",
       "\t<tr><td>1                                                 </td><td>M                                                 </td><td>67.00                                             </td><td>Others                                            </td><td>91.00                                             </td><td>Others                                            </td><td>Commerce                                          </td><td>58.00                                             </td><td>Sci&amp;Tech                                      </td><td>No                                                </td><td>55.0                                              </td><td>Mkt&amp;HR                                        </td><td>58.80                                             </td><td><span style=white-space:pre-wrap>Placed    </span></td><td>270000                                            </td></tr>\n",
       "\t<tr><td>2                                                 </td><td>M                                                 </td><td>79.33                                             </td><td>Central                                           </td><td>78.33                                             </td><td>Others                                            </td><td>Science                                           </td><td>77.48                                             </td><td>Sci&amp;Tech                                      </td><td>Yes                                               </td><td>86.5                                              </td><td>Mkt&amp;Fin                                       </td><td>66.28                                             </td><td><span style=white-space:pre-wrap>Placed    </span></td><td>200000                                            </td></tr>\n",
       "\t<tr><td>3                                                 </td><td>M                                                 </td><td>65.00                                             </td><td>Central                                           </td><td>68.00                                             </td><td>Central                                           </td><td><span style=white-space:pre-wrap>Arts    </span>  </td><td>64.00                                             </td><td>Comm&amp;Mgmt                                     </td><td>No                                                </td><td>75.0                                              </td><td>Mkt&amp;Fin                                       </td><td>57.80                                             </td><td><span style=white-space:pre-wrap>Placed    </span></td><td>250000                                            </td></tr>\n",
       "\t<tr><td>4                                             </td><td>M                                             </td><td>56.00                                         </td><td>Central                                       </td><td>52.00                                         </td><td>Central                                       </td><td>Science                                       </td><td>52.00                                         </td><td>Sci&amp;Tech                                  </td><td>No                                            </td><td>66.0                                          </td><td>Mkt&amp;HR                                    </td><td>59.43                                         </td><td>Not Placed                                    </td><td><span style=white-space:pre-wrap>    NA</span></td></tr>\n",
       "\t<tr><td>5                                                 </td><td>M                                                 </td><td>85.80                                             </td><td>Central                                           </td><td>73.60                                             </td><td>Central                                           </td><td>Commerce                                          </td><td>73.30                                             </td><td>Comm&amp;Mgmt                                     </td><td>No                                                </td><td>96.8                                              </td><td>Mkt&amp;Fin                                       </td><td>55.50                                             </td><td><span style=white-space:pre-wrap>Placed    </span></td><td>425000                                            </td></tr>\n",
       "\t<tr><td>6                                             </td><td>M                                             </td><td>55.00                                         </td><td>Others                                        </td><td>49.80                                         </td><td>Others                                        </td><td>Science                                       </td><td>67.25                                         </td><td>Sci&amp;Tech                                  </td><td>Yes                                           </td><td>55.0                                          </td><td>Mkt&amp;Fin                                   </td><td>51.58                                         </td><td>Not Placed                                    </td><td><span style=white-space:pre-wrap>    NA</span></td></tr>\n",
       "</tbody>\n",
       "</table>\n"
      ],
      "text/latex": [
       "\\begin{tabular}{r|lllllllllllllll}\n",
       " sl\\_no & gender & ssc\\_p & ssc\\_b & hsc\\_p & hsc\\_b & hsc\\_s & degree\\_p & degree\\_t & workex & etest\\_p & specialisation & mba\\_p & status & salary\\\\\n",
       "\\hline\n",
       "\t 1           & M           & 67.00       & Others      & 91.00       & Others      & Commerce    & 58.00       & Sci\\&Tech  & No          & 55.0        & Mkt\\&HR    & 58.80       & Placed      & 270000     \\\\\n",
       "\t 2           & M           & 79.33       & Central     & 78.33       & Others      & Science     & 77.48       & Sci\\&Tech  & Yes         & 86.5        & Mkt\\&Fin   & 66.28       & Placed      & 200000     \\\\\n",
       "\t 3           & M           & 65.00       & Central     & 68.00       & Central     & Arts        & 64.00       & Comm\\&Mgmt & No          & 75.0        & Mkt\\&Fin   & 57.80       & Placed      & 250000     \\\\\n",
       "\t 4           & M           & 56.00       & Central     & 52.00       & Central     & Science     & 52.00       & Sci\\&Tech  & No          & 66.0        & Mkt\\&HR    & 59.43       & Not Placed  &     NA     \\\\\n",
       "\t 5           & M           & 85.80       & Central     & 73.60       & Central     & Commerce    & 73.30       & Comm\\&Mgmt & No          & 96.8        & Mkt\\&Fin   & 55.50       & Placed      & 425000     \\\\\n",
       "\t 6           & M           & 55.00       & Others      & 49.80       & Others      & Science     & 67.25       & Sci\\&Tech  & Yes         & 55.0        & Mkt\\&Fin   & 51.58       & Not Placed  &     NA     \\\\\n",
       "\\end{tabular}\n"
      ],
      "text/markdown": [
       "\n",
       "| sl_no | gender | ssc_p | ssc_b | hsc_p | hsc_b | hsc_s | degree_p | degree_t | workex | etest_p | specialisation | mba_p | status | salary |\n",
       "|---|---|---|---|---|---|---|---|---|---|---|---|---|---|---|\n",
       "| 1          | M          | 67.00      | Others     | 91.00      | Others     | Commerce   | 58.00      | Sci&Tech   | No         | 55.0       | Mkt&HR     | 58.80      | Placed     | 270000     |\n",
       "| 2          | M          | 79.33      | Central    | 78.33      | Others     | Science    | 77.48      | Sci&Tech   | Yes        | 86.5       | Mkt&Fin    | 66.28      | Placed     | 200000     |\n",
       "| 3          | M          | 65.00      | Central    | 68.00      | Central    | Arts       | 64.00      | Comm&Mgmt  | No         | 75.0       | Mkt&Fin    | 57.80      | Placed     | 250000     |\n",
       "| 4          | M          | 56.00      | Central    | 52.00      | Central    | Science    | 52.00      | Sci&Tech   | No         | 66.0       | Mkt&HR     | 59.43      | Not Placed |     NA     |\n",
       "| 5          | M          | 85.80      | Central    | 73.60      | Central    | Commerce   | 73.30      | Comm&Mgmt  | No         | 96.8       | Mkt&Fin    | 55.50      | Placed     | 425000     |\n",
       "| 6          | M          | 55.00      | Others     | 49.80      | Others     | Science    | 67.25      | Sci&Tech   | Yes        | 55.0       | Mkt&Fin    | 51.58      | Not Placed |     NA     |\n",
       "\n"
      ],
      "text/plain": [
       "  sl_no gender ssc_p ssc_b   hsc_p hsc_b   hsc_s    degree_p degree_t  workex\n",
       "1 1     M      67.00 Others  91.00 Others  Commerce 58.00    Sci&Tech  No    \n",
       "2 2     M      79.33 Central 78.33 Others  Science  77.48    Sci&Tech  Yes   \n",
       "3 3     M      65.00 Central 68.00 Central Arts     64.00    Comm&Mgmt No    \n",
       "4 4     M      56.00 Central 52.00 Central Science  52.00    Sci&Tech  No    \n",
       "5 5     M      85.80 Central 73.60 Central Commerce 73.30    Comm&Mgmt No    \n",
       "6 6     M      55.00 Others  49.80 Others  Science  67.25    Sci&Tech  Yes   \n",
       "  etest_p specialisation mba_p status     salary\n",
       "1 55.0    Mkt&HR         58.80 Placed     270000\n",
       "2 86.5    Mkt&Fin        66.28 Placed     200000\n",
       "3 75.0    Mkt&Fin        57.80 Placed     250000\n",
       "4 66.0    Mkt&HR         59.43 Not Placed     NA\n",
       "5 96.8    Mkt&Fin        55.50 Placed     425000\n",
       "6 55.0    Mkt&Fin        51.58 Not Placed     NA"
      ]
     },
     "metadata": {},
     "output_type": "display_data"
    },
    {
     "data": {
      "text/html": [
       "<table>\n",
       "<thead><tr><th></th><th scope=col>sl_no</th><th scope=col>gender</th><th scope=col>ssc_p</th><th scope=col>ssc_b</th><th scope=col>hsc_p</th><th scope=col>hsc_b</th><th scope=col>hsc_s</th><th scope=col>degree_p</th><th scope=col>degree_t</th><th scope=col>workex</th><th scope=col>etest_p</th><th scope=col>specialisation</th><th scope=col>mba_p</th><th scope=col>status</th><th scope=col>salary</th></tr></thead>\n",
       "<tbody>\n",
       "\t<tr><th scope=row>210</th><td>210                                               </td><td>M                                                 </td><td>62.0                                              </td><td>Central                                           </td><td>72                                                </td><td>Central                                           </td><td>Commerce                                          </td><td>65.0                                              </td><td>Comm&amp;Mgmt                                     </td><td>No                                                </td><td>67                                                </td><td>Mkt&amp;Fin                                       </td><td>56.49                                             </td><td><span style=white-space:pre-wrap>Placed    </span></td><td>216000                                            </td></tr>\n",
       "\t<tr><th scope=row>211</th><td>211                                               </td><td>M                                                 </td><td>80.6                                              </td><td>Others                                            </td><td>82                                                </td><td>Others                                            </td><td>Commerce                                          </td><td>77.6                                              </td><td>Comm&amp;Mgmt                                     </td><td>No                                                </td><td>91                                                </td><td>Mkt&amp;Fin                                       </td><td>74.49                                             </td><td><span style=white-space:pre-wrap>Placed    </span></td><td>400000                                            </td></tr>\n",
       "\t<tr><th scope=row>212</th><td>212                                               </td><td>M                                                 </td><td>58.0                                              </td><td>Others                                            </td><td>60                                                </td><td>Others                                            </td><td>Science                                           </td><td>72.0                                              </td><td>Sci&amp;Tech                                      </td><td>No                                                </td><td>74                                                </td><td>Mkt&amp;Fin                                       </td><td>53.62                                             </td><td><span style=white-space:pre-wrap>Placed    </span></td><td>275000                                            </td></tr>\n",
       "\t<tr><th scope=row>213</th><td>213                                               </td><td>M                                                 </td><td>67.0                                              </td><td>Others                                            </td><td>67                                                </td><td>Others                                            </td><td>Commerce                                          </td><td>73.0                                              </td><td>Comm&amp;Mgmt                                     </td><td>Yes                                               </td><td>59                                                </td><td>Mkt&amp;Fin                                       </td><td>69.72                                             </td><td><span style=white-space:pre-wrap>Placed    </span></td><td>295000                                            </td></tr>\n",
       "\t<tr><th scope=row>214</th><td>214                                               </td><td>F                                                 </td><td>74.0                                              </td><td>Others                                            </td><td>66                                                </td><td>Others                                            </td><td>Commerce                                          </td><td>58.0                                              </td><td>Comm&amp;Mgmt                                     </td><td>No                                                </td><td>70                                                </td><td>Mkt&amp;HR                                        </td><td>60.23                                             </td><td><span style=white-space:pre-wrap>Placed    </span></td><td>204000                                            </td></tr>\n",
       "\t<tr><th scope=row>215</th><td>215                                           </td><td>M                                             </td><td>62.0                                          </td><td>Central                                       </td><td>58                                            </td><td>Others                                        </td><td>Science                                       </td><td>53.0                                          </td><td>Comm&amp;Mgmt                                 </td><td>No                                            </td><td>89                                            </td><td>Mkt&amp;HR                                    </td><td>60.22                                         </td><td>Not Placed                                    </td><td><span style=white-space:pre-wrap>    NA</span></td></tr>\n",
       "</tbody>\n",
       "</table>\n"
      ],
      "text/latex": [
       "\\begin{tabular}{r|lllllllllllllll}\n",
       "  & sl\\_no & gender & ssc\\_p & ssc\\_b & hsc\\_p & hsc\\_b & hsc\\_s & degree\\_p & degree\\_t & workex & etest\\_p & specialisation & mba\\_p & status & salary\\\\\n",
       "\\hline\n",
       "\t210 & 210         & M           & 62.0        & Central     & 72          & Central     & Commerce    & 65.0        & Comm\\&Mgmt & No          & 67          & Mkt\\&Fin   & 56.49       & Placed      & 216000     \\\\\n",
       "\t211 & 211         & M           & 80.6        & Others      & 82          & Others      & Commerce    & 77.6        & Comm\\&Mgmt & No          & 91          & Mkt\\&Fin   & 74.49       & Placed      & 400000     \\\\\n",
       "\t212 & 212         & M           & 58.0        & Others      & 60          & Others      & Science     & 72.0        & Sci\\&Tech  & No          & 74          & Mkt\\&Fin   & 53.62       & Placed      & 275000     \\\\\n",
       "\t213 & 213         & M           & 67.0        & Others      & 67          & Others      & Commerce    & 73.0        & Comm\\&Mgmt & Yes         & 59          & Mkt\\&Fin   & 69.72       & Placed      & 295000     \\\\\n",
       "\t214 & 214         & F           & 74.0        & Others      & 66          & Others      & Commerce    & 58.0        & Comm\\&Mgmt & No          & 70          & Mkt\\&HR    & 60.23       & Placed      & 204000     \\\\\n",
       "\t215 & 215         & M           & 62.0        & Central     & 58          & Others      & Science     & 53.0        & Comm\\&Mgmt & No          & 89          & Mkt\\&HR    & 60.22       & Not Placed  &     NA     \\\\\n",
       "\\end{tabular}\n"
      ],
      "text/markdown": [
       "\n",
       "| <!--/--> | sl_no | gender | ssc_p | ssc_b | hsc_p | hsc_b | hsc_s | degree_p | degree_t | workex | etest_p | specialisation | mba_p | status | salary |\n",
       "|---|---|---|---|---|---|---|---|---|---|---|---|---|---|---|---|\n",
       "| 210 | 210        | M          | 62.0       | Central    | 72         | Central    | Commerce   | 65.0       | Comm&Mgmt  | No         | 67         | Mkt&Fin    | 56.49      | Placed     | 216000     |\n",
       "| 211 | 211        | M          | 80.6       | Others     | 82         | Others     | Commerce   | 77.6       | Comm&Mgmt  | No         | 91         | Mkt&Fin    | 74.49      | Placed     | 400000     |\n",
       "| 212 | 212        | M          | 58.0       | Others     | 60         | Others     | Science    | 72.0       | Sci&Tech   | No         | 74         | Mkt&Fin    | 53.62      | Placed     | 275000     |\n",
       "| 213 | 213        | M          | 67.0       | Others     | 67         | Others     | Commerce   | 73.0       | Comm&Mgmt  | Yes        | 59         | Mkt&Fin    | 69.72      | Placed     | 295000     |\n",
       "| 214 | 214        | F          | 74.0       | Others     | 66         | Others     | Commerce   | 58.0       | Comm&Mgmt  | No         | 70         | Mkt&HR     | 60.23      | Placed     | 204000     |\n",
       "| 215 | 215        | M          | 62.0       | Central    | 58         | Others     | Science    | 53.0       | Comm&Mgmt  | No         | 89         | Mkt&HR     | 60.22      | Not Placed |     NA     |\n",
       "\n"
      ],
      "text/plain": [
       "    sl_no gender ssc_p ssc_b   hsc_p hsc_b   hsc_s    degree_p degree_t  workex\n",
       "210 210   M      62.0  Central 72    Central Commerce 65.0     Comm&Mgmt No    \n",
       "211 211   M      80.6  Others  82    Others  Commerce 77.6     Comm&Mgmt No    \n",
       "212 212   M      58.0  Others  60    Others  Science  72.0     Sci&Tech  No    \n",
       "213 213   M      67.0  Others  67    Others  Commerce 73.0     Comm&Mgmt Yes   \n",
       "214 214   F      74.0  Others  66    Others  Commerce 58.0     Comm&Mgmt No    \n",
       "215 215   M      62.0  Central 58    Others  Science  53.0     Comm&Mgmt No    \n",
       "    etest_p specialisation mba_p status     salary\n",
       "210 67      Mkt&Fin        56.49 Placed     216000\n",
       "211 91      Mkt&Fin        74.49 Placed     400000\n",
       "212 74      Mkt&Fin        53.62 Placed     275000\n",
       "213 59      Mkt&Fin        69.72 Placed     295000\n",
       "214 70      Mkt&HR         60.23 Placed     204000\n",
       "215 89      Mkt&HR         60.22 Not Placed     NA"
      ]
     },
     "metadata": {},
     "output_type": "display_data"
    }
   ],
   "source": [
    "head(data)\n",
    "tail(data)"
   ]
  },
  {
   "cell_type": "code",
   "execution_count": 4,
   "metadata": {
    "scrolled": true
   },
   "outputs": [
    {
     "data": {
      "text/plain": [
       "     sl_no       gender      ssc_p           ssc_b         hsc_p      \n",
       " Min.   :  1.0   F: 76   Min.   :40.89   Central:116   Min.   :37.00  \n",
       " 1st Qu.: 54.5   M:139   1st Qu.:60.60   Others : 99   1st Qu.:60.90  \n",
       " Median :108.0           Median :67.00                 Median :65.00  \n",
       " Mean   :108.0           Mean   :67.30                 Mean   :66.33  \n",
       " 3rd Qu.:161.5           3rd Qu.:75.70                 3rd Qu.:73.00  \n",
       " Max.   :215.0           Max.   :89.40                 Max.   :97.70  \n",
       "                                                                      \n",
       "     hsc_b          hsc_s        degree_p          degree_t   workex   \n",
       " Central: 84   Arts    : 11   Min.   :50.00   Comm&Mgmt:145   No :141  \n",
       " Others :131   Commerce:113   1st Qu.:61.00   Others   : 11   Yes: 74  \n",
       "               Science : 91   Median :66.00   Sci&Tech : 59            \n",
       "                              Mean   :66.37                            \n",
       "                              3rd Qu.:72.00                            \n",
       "                              Max.   :91.00                            \n",
       "                                                                       \n",
       "    etest_p     specialisation     mba_p              status   \n",
       " Min.   :50.0   Mkt&Fin:120    Min.   :51.21   Not Placed: 67  \n",
       " 1st Qu.:60.0   Mkt&HR : 95    1st Qu.:57.95   Placed    :148  \n",
       " Median :71.0                  Median :62.00                   \n",
       " Mean   :72.1                  Mean   :62.28                   \n",
       " 3rd Qu.:83.5                  3rd Qu.:66.25                   \n",
       " Max.   :98.0                  Max.   :77.89                   \n",
       "                                                               \n",
       "     salary      \n",
       " Min.   :200000  \n",
       " 1st Qu.:240000  \n",
       " Median :265000  \n",
       " Mean   :288655  \n",
       " 3rd Qu.:300000  \n",
       " Max.   :940000  \n",
       " NA's   :67      "
      ]
     },
     "metadata": {},
     "output_type": "display_data"
    }
   ],
   "source": [
    "summary(data)"
   ]
  },
  {
   "cell_type": "code",
   "execution_count": 5,
   "metadata": {
    "scrolled": true
   },
   "outputs": [
    {
     "name": "stdout",
     "output_type": "stream",
     "text": [
      "'data.frame':\t215 obs. of  15 variables:\n",
      " $ sl_no         : int  1 2 3 4 5 6 7 8 9 10 ...\n",
      " $ gender        : Factor w/ 2 levels \"F\",\"M\": 2 2 2 2 2 2 1 2 2 2 ...\n",
      " $ ssc_p         : num  67 79.3 65 56 85.8 ...\n",
      " $ ssc_b         : Factor w/ 2 levels \"Central\",\"Others\": 2 1 1 1 1 2 2 1 1 1 ...\n",
      " $ hsc_p         : num  91 78.3 68 52 73.6 ...\n",
      " $ hsc_b         : Factor w/ 2 levels \"Central\",\"Others\": 2 2 1 1 1 2 2 1 1 1 ...\n",
      " $ hsc_s         : Factor w/ 3 levels \"Arts\",\"Commerce\",..: 2 3 1 3 2 3 2 3 2 2 ...\n",
      " $ degree_p      : num  58 77.5 64 52 73.3 ...\n",
      " $ degree_t      : Factor w/ 3 levels \"Comm&Mgmt\",\"Others\",..: 3 3 1 3 1 3 1 3 1 1 ...\n",
      " $ workex        : Factor w/ 2 levels \"No\",\"Yes\": 1 2 1 1 1 2 1 2 1 1 ...\n",
      " $ etest_p       : num  55 86.5 75 66 96.8 ...\n",
      " $ specialisation: Factor w/ 2 levels \"Mkt&Fin\",\"Mkt&HR\": 2 1 1 2 1 1 1 1 1 1 ...\n",
      " $ mba_p         : num  58.8 66.3 57.8 59.4 55.5 ...\n",
      " $ status        : Factor w/ 2 levels \"Not Placed\",\"Placed\": 2 2 2 1 2 1 1 2 2 1 ...\n",
      " $ salary        : int  270000 200000 250000 NA 425000 NA NA 252000 231000 NA ...\n"
     ]
    }
   ],
   "source": [
    "str(data)"
   ]
  },
  {
   "cell_type": "code",
   "execution_count": 6,
   "metadata": {
    "scrolled": false
   },
   "outputs": [
    {
     "data": {
      "text/plain": [
       "     sl_no       gender      ssc_p           ssc_b         hsc_p      \n",
       " Min.   :  1.0   F: 76   Min.   :40.89   Central:116   Min.   :37.00  \n",
       " 1st Qu.: 54.5   M:139   1st Qu.:60.60   Others : 99   1st Qu.:60.90  \n",
       " Median :108.0           Median :67.00                 Median :65.00  \n",
       " Mean   :108.0           Mean   :67.30                 Mean   :66.33  \n",
       " 3rd Qu.:161.5           3rd Qu.:75.70                 3rd Qu.:73.00  \n",
       " Max.   :215.0           Max.   :89.40                 Max.   :97.70  \n",
       "                                                                      \n",
       "     hsc_b          hsc_s        degree_p          degree_t   workex   \n",
       " Central: 84   Arts    : 11   Min.   :50.00   Comm&Mgmt:145   No :141  \n",
       " Others :131   Commerce:113   1st Qu.:61.00   Others   : 11   Yes: 74  \n",
       "               Science : 91   Median :66.00   Sci&Tech : 59            \n",
       "                              Mean   :66.37                            \n",
       "                              3rd Qu.:72.00                            \n",
       "                              Max.   :91.00                            \n",
       "                                                                       \n",
       "    etest_p     specialisation     mba_p              status   \n",
       " Min.   :50.0   Mkt&Fin:120    Min.   :51.21   Not Placed: 67  \n",
       " 1st Qu.:60.0   Mkt&HR : 95    1st Qu.:57.95   Placed    :148  \n",
       " Median :71.0                  Median :62.00                   \n",
       " Mean   :72.1                  Mean   :62.28                   \n",
       " 3rd Qu.:83.5                  3rd Qu.:66.25                   \n",
       " Max.   :98.0                  Max.   :77.89                   \n",
       "                                                               \n",
       "     salary      \n",
       " Min.   :200000  \n",
       " 1st Qu.:240000  \n",
       " Median :265000  \n",
       " Mean   :288655  \n",
       " 3rd Qu.:300000  \n",
       " Max.   :940000  \n",
       " NA's   :67      "
      ]
     },
     "metadata": {},
     "output_type": "display_data"
    }
   ],
   "source": [
    "summary(data)"
   ]
  },
  {
   "cell_type": "markdown",
   "metadata": {},
   "source": [
    "Dropping sl_no column and salary columns, since they don't give us useful information for predicting the student placement."
   ]
  },
  {
   "cell_type": "code",
   "execution_count": 7,
   "metadata": {},
   "outputs": [
    {
     "data": {
      "text/html": [
       "<table>\n",
       "<thead><tr><th scope=col>gender</th><th scope=col>ssc_p</th><th scope=col>ssc_b</th><th scope=col>hsc_p</th><th scope=col>hsc_b</th><th scope=col>hsc_s</th><th scope=col>degree_p</th><th scope=col>degree_t</th><th scope=col>workex</th><th scope=col>etest_p</th><th scope=col>specialisation</th><th scope=col>mba_p</th><th scope=col>status</th></tr></thead>\n",
       "<tbody>\n",
       "\t<tr><td>M                                                 </td><td>67.00                                             </td><td>Others                                            </td><td>91.00                                             </td><td>Others                                            </td><td>Commerce                                          </td><td>58.00                                             </td><td>Sci&amp;Tech                                      </td><td>No                                                </td><td>55.0                                              </td><td>Mkt&amp;HR                                        </td><td>58.80                                             </td><td><span style=white-space:pre-wrap>Placed    </span></td></tr>\n",
       "\t<tr><td>M                                                 </td><td>79.33                                             </td><td>Central                                           </td><td>78.33                                             </td><td>Others                                            </td><td>Science                                           </td><td>77.48                                             </td><td>Sci&amp;Tech                                      </td><td>Yes                                               </td><td>86.5                                              </td><td>Mkt&amp;Fin                                       </td><td>66.28                                             </td><td><span style=white-space:pre-wrap>Placed    </span></td></tr>\n",
       "\t<tr><td>M                                                 </td><td>65.00                                             </td><td>Central                                           </td><td>68.00                                             </td><td>Central                                           </td><td><span style=white-space:pre-wrap>Arts    </span>  </td><td>64.00                                             </td><td>Comm&amp;Mgmt                                     </td><td>No                                                </td><td>75.0                                              </td><td>Mkt&amp;Fin                                       </td><td>57.80                                             </td><td><span style=white-space:pre-wrap>Placed    </span></td></tr>\n",
       "\t<tr><td>M            </td><td>56.00        </td><td>Central      </td><td>52.00        </td><td>Central      </td><td>Science      </td><td>52.00        </td><td>Sci&amp;Tech </td><td>No           </td><td>66.0         </td><td>Mkt&amp;HR   </td><td>59.43        </td><td>Not Placed   </td></tr>\n",
       "\t<tr><td>M                                                 </td><td>85.80                                             </td><td>Central                                           </td><td>73.60                                             </td><td>Central                                           </td><td>Commerce                                          </td><td>73.30                                             </td><td>Comm&amp;Mgmt                                     </td><td>No                                                </td><td>96.8                                              </td><td>Mkt&amp;Fin                                       </td><td>55.50                                             </td><td><span style=white-space:pre-wrap>Placed    </span></td></tr>\n",
       "\t<tr><td>M            </td><td>55.00        </td><td>Others       </td><td>49.80        </td><td>Others       </td><td>Science      </td><td>67.25        </td><td>Sci&amp;Tech </td><td>Yes          </td><td>55.0         </td><td>Mkt&amp;Fin  </td><td>51.58        </td><td>Not Placed   </td></tr>\n",
       "</tbody>\n",
       "</table>\n"
      ],
      "text/latex": [
       "\\begin{tabular}{r|lllllllllllll}\n",
       " gender & ssc\\_p & ssc\\_b & hsc\\_p & hsc\\_b & hsc\\_s & degree\\_p & degree\\_t & workex & etest\\_p & specialisation & mba\\_p & status\\\\\n",
       "\\hline\n",
       "\t M           & 67.00       & Others      & 91.00       & Others      & Commerce    & 58.00       & Sci\\&Tech  & No          & 55.0        & Mkt\\&HR    & 58.80       & Placed     \\\\\n",
       "\t M           & 79.33       & Central     & 78.33       & Others      & Science     & 77.48       & Sci\\&Tech  & Yes         & 86.5        & Mkt\\&Fin   & 66.28       & Placed     \\\\\n",
       "\t M           & 65.00       & Central     & 68.00       & Central     & Arts        & 64.00       & Comm\\&Mgmt & No          & 75.0        & Mkt\\&Fin   & 57.80       & Placed     \\\\\n",
       "\t M           & 56.00       & Central     & 52.00       & Central     & Science     & 52.00       & Sci\\&Tech  & No          & 66.0        & Mkt\\&HR    & 59.43       & Not Placed \\\\\n",
       "\t M           & 85.80       & Central     & 73.60       & Central     & Commerce    & 73.30       & Comm\\&Mgmt & No          & 96.8        & Mkt\\&Fin   & 55.50       & Placed     \\\\\n",
       "\t M           & 55.00       & Others      & 49.80       & Others      & Science     & 67.25       & Sci\\&Tech  & Yes         & 55.0        & Mkt\\&Fin   & 51.58       & Not Placed \\\\\n",
       "\\end{tabular}\n"
      ],
      "text/markdown": [
       "\n",
       "| gender | ssc_p | ssc_b | hsc_p | hsc_b | hsc_s | degree_p | degree_t | workex | etest_p | specialisation | mba_p | status |\n",
       "|---|---|---|---|---|---|---|---|---|---|---|---|---|\n",
       "| M          | 67.00      | Others     | 91.00      | Others     | Commerce   | 58.00      | Sci&Tech   | No         | 55.0       | Mkt&HR     | 58.80      | Placed     |\n",
       "| M          | 79.33      | Central    | 78.33      | Others     | Science    | 77.48      | Sci&Tech   | Yes        | 86.5       | Mkt&Fin    | 66.28      | Placed     |\n",
       "| M          | 65.00      | Central    | 68.00      | Central    | Arts       | 64.00      | Comm&Mgmt  | No         | 75.0       | Mkt&Fin    | 57.80      | Placed     |\n",
       "| M          | 56.00      | Central    | 52.00      | Central    | Science    | 52.00      | Sci&Tech   | No         | 66.0       | Mkt&HR     | 59.43      | Not Placed |\n",
       "| M          | 85.80      | Central    | 73.60      | Central    | Commerce   | 73.30      | Comm&Mgmt  | No         | 96.8       | Mkt&Fin    | 55.50      | Placed     |\n",
       "| M          | 55.00      | Others     | 49.80      | Others     | Science    | 67.25      | Sci&Tech   | Yes        | 55.0       | Mkt&Fin    | 51.58      | Not Placed |\n",
       "\n"
      ],
      "text/plain": [
       "  gender ssc_p ssc_b   hsc_p hsc_b   hsc_s    degree_p degree_t  workex etest_p\n",
       "1 M      67.00 Others  91.00 Others  Commerce 58.00    Sci&Tech  No     55.0   \n",
       "2 M      79.33 Central 78.33 Others  Science  77.48    Sci&Tech  Yes    86.5   \n",
       "3 M      65.00 Central 68.00 Central Arts     64.00    Comm&Mgmt No     75.0   \n",
       "4 M      56.00 Central 52.00 Central Science  52.00    Sci&Tech  No     66.0   \n",
       "5 M      85.80 Central 73.60 Central Commerce 73.30    Comm&Mgmt No     96.8   \n",
       "6 M      55.00 Others  49.80 Others  Science  67.25    Sci&Tech  Yes    55.0   \n",
       "  specialisation mba_p status    \n",
       "1 Mkt&HR         58.80 Placed    \n",
       "2 Mkt&Fin        66.28 Placed    \n",
       "3 Mkt&Fin        57.80 Placed    \n",
       "4 Mkt&HR         59.43 Not Placed\n",
       "5 Mkt&Fin        55.50 Placed    \n",
       "6 Mkt&Fin        51.58 Not Placed"
      ]
     },
     "metadata": {},
     "output_type": "display_data"
    }
   ],
   "source": [
    "data = data[,!names(data) %in% 'sl_no']\n",
    "data = data[,!names(data) %in% 'salary']\n",
    "data[data==''] <- NA #To make sure missing data is NA\n",
    "\n",
    "head(data)"
   ]
  },
  {
   "cell_type": "markdown",
   "metadata": {},
   "source": [
    "## 3. Data Analysis <a id = \"Data Analysis\"></a>"
   ]
  },
  {
   "cell_type": "code",
   "execution_count": 8,
   "metadata": {
    "scrolled": false
   },
   "outputs": [
    {
     "data": {
      "image/png": "[encoded data removed]",
      "text/plain": [
       "plot without title"
      ]
     },
     "metadata": {},
     "output_type": "display_data"
    }
   ],
   "source": [
    "theme_set(theme_bw())\n",
    "ggplot(data, aes(x = status, fill = status)) +  \n",
    "  geom_bar(aes(y = ((..count..)/sum(..count..)) * 100)) +\n",
    "  ylab(\"Percent\")"
   ]
  },
  {
   "cell_type": "markdown",
   "metadata": {},
   "source": [
    "Around 64% of the students in our dataset got \"Placed\"."
   ]
  },
  {
   "cell_type": "code",
   "execution_count": 9,
   "metadata": {
    "scrolled": false
   },
   "outputs": [
    {
     "data": {
      "image/png": "[encoded data removed]",
      "text/plain": [
       "plot without title"
      ]
     },
     "metadata": {},
     "output_type": "display_data"
    }
   ],
   "source": [
    "#Selecting only the numerical data\n",
    "num_data = subset(data, select = c(2,4,7,10,12)) \n",
    "\n",
    "num_data %>%\n",
    "  gather() %>% \n",
    "  ggplot(aes(value)) +\n",
    "    facet_wrap(~ key, scales = \"free\") +\n",
    "    geom_histogram(bins = 30) +\n",
    "    geom_vline(aes(xintercept=mean(value)), color=\"blue\", linetype=\"dashed\", size=1)+\n",
    "    ggtitle(\"Numerical Variables Histograms\")\n"
   ]
  },
  {
   "cell_type": "code",
   "execution_count": 10,
   "metadata": {
    "scrolled": false
   },
   "outputs": [
    {
     "name": "stderr",
     "output_type": "stream",
     "text": [
      "Warning message:\n",
      "\"attributes are not identical across measure variables;\n",
      "they will be dropped\""
     ]
    },
    {
     "data": {
      "image/png": "[encoded data removed]",
      "text/plain": [
       "plot without title"
      ]
     },
     "metadata": {},
     "output_type": "display_data"
    }
   ],
   "source": [
    "#Subsetting the categorical variables\n",
    "cat_data = subset(data, select = c(1,3,5,6,8,9,11))\n",
    "\n",
    "cat_data %>%\n",
    "  gather() %>% \n",
    "  ggplot(aes(value)) +\n",
    "    facet_wrap(~ key, scales = \"free\") +\n",
    "    geom_bar(stat='count', width = 0.5) + \n",
    "    geom_text(stat = 'count', aes(label=..count..), vjust = 1, size = 3.5, color =\"white\")+\n",
    "    ggtitle(\"Categorical Variables Distribution\")\n",
    "    \n"
   ]
  },
  {
   "cell_type": "code",
   "execution_count": 11,
   "metadata": {
    "scrolled": false
   },
   "outputs": [
    {
     "data": {
      "image/png": "[encoded data removed]",
      "text/plain": [
       "plot without title"
      ]
     },
     "metadata": {},
     "output_type": "display_data"
    }
   ],
   "source": [
    "ggplot(data, aes(x=gender, y=ssc_p,shape=status, color=status))+\n",
    "    geom_point(size=5)"
   ]
  },
  {
   "cell_type": "code",
   "execution_count": 12,
   "metadata": {
    "scrolled": false
   },
   "outputs": [
    {
     "data": {
      "image/png": "[encoded data removed]",
      "text/plain": [
       "plot without title"
      ]
     },
     "metadata": {},
     "output_type": "display_data"
    }
   ],
   "source": [
    "ggplot(data, aes(x=hsc_p, y=ssc_p,shape=status, color=status)) +\n",
    "    geom_point(size=3) "
   ]
  },
  {
   "cell_type": "markdown",
   "metadata": {},
   "source": [
    "As expected we can see a high correlation between the <b>High Secondary Education percentage</b> and the <b> Secondary Educatio Percentage </b> on the students placement."
   ]
  },
  {
   "cell_type": "markdown",
   "metadata": {},
   "source": [
    "Let's have a look to the variables correlation matrix."
   ]
  },
  {
   "cell_type": "code",
   "execution_count": 14,
   "metadata": {},
   "outputs": [
    {
     "name": "stderr",
     "output_type": "stream",
     "text": [
      "Warning message in fastDummies::dummy_cols(data, select_columns = categorical_s):\n",
      "\"NOTE: The following select_columns input(s) is not a column in data.\n",
      "\t\""
     ]
    }
   ],
   "source": [
    "categorical_s = c('gender','hsc_s','ssc_b','hsc_b','ssc_s','degree_t','workex','specialisation','status')#List of all categorical variables\n",
    "results_s <- fastDummies::dummy_cols(data, select_columns = categorical_s) #creating the dummy columns\n",
    "res_s <- results_s[, !(names(results_s) %in% categorical_s)] #deleting initial columns\n"
   ]
  },
  {
   "cell_type": "code",
   "execution_count": 16,
   "metadata": {
    "scrolled": false
   },
   "outputs": [
    {
     "data": {
      "image/png": "[encoded data removed]",
      "text/plain": [
       "Plot with title \"\""
      ]
     },
     "metadata": {},
     "output_type": "display_data"
    }
   ],
   "source": [
    "corrplot(cor(res_s), type = 'upper', method = 'circle',  tl.col = 'black',  p.mat = res_s$P, sig.leve = 0.05)"
   ]
  },
  {
   "cell_type": "markdown",
   "metadata": {},
   "source": [
    "## 4. Data Preparation <a id = \"Data Preparation\"></a>"
   ]
  },
  {
   "cell_type": "markdown",
   "metadata": {
    "scrolled": true
   },
   "source": [
    "First we need to transform all our categorical variables (apart from our target variable: <b>status</b>) into numerical by creating dummy bolooen columns."
   ]
  },
  {
   "cell_type": "code",
   "execution_count": 17,
   "metadata": {},
   "outputs": [
    {
     "name": "stderr",
     "output_type": "stream",
     "text": [
      "Warning message in fastDummies::dummy_cols(data, select_columns = categorical):\n",
      "\"NOTE: The following select_columns input(s) is not a column in data.\n",
      "\t\""
     ]
    }
   ],
   "source": [
    "categorical = c('gender','hsc_s','ssc_b','hsc_b','ssc_s','degree_t','workex','specialisation')\n",
    "results <- fastDummies::dummy_cols(data, select_columns = categorical) #creating the dummy columns\n",
    "res <- results[, !(names(results) %in% categorical)] #deleting initial columns\n"
   ]
  },
  {
   "cell_type": "markdown",
   "metadata": {},
   "source": [
    "Afterwards we need to normalize the quantitative variables to express them in the same range of values."
   ]
  },
  {
   "cell_type": "code",
   "execution_count": 18,
   "metadata": {},
   "outputs": [],
   "source": [
    "#Normalize() funciton\n",
    "normalize <- function(x) {\n",
    "num <- x - min(x)\n",
    "denom <- max(x) - min(x)\n",
    "return (num/denom)\n",
    "}\n",
    "\n",
    "# Normalize our placement dataset\n",
    "plac_norm <- as.data.frame(lapply(res[,c(1:5,7:22)], normalize)) #all columns apart from status (column 6)\n"
   ]
  },
  {
   "cell_type": "markdown",
   "metadata": {},
   "source": [
    "Then we split the data set into two: a training set and a test set. \n",
    "The first is used to train the model, while the second is used to evaluate the trained model."
   ]
  },
  {
   "cell_type": "code",
   "execution_count": 19,
   "metadata": {},
   "outputs": [],
   "source": [
    "set.seed(1234)\n",
    "#Training set will be 2/3 of original data set\n",
    "ind <- sample(2, nrow(plac_norm), replace=TRUE, prob=c(0.666, 0.334))\n",
    "\n",
    "plac.training <- plac_norm[ind == 1,]\n",
    "plac.test <- plac_norm[ind == 2,]\n"
   ]
  },
  {
   "cell_type": "markdown",
   "metadata": {},
   "source": [
    "Creating a vector for each train/test dataset with our target variable \"status\"."
   ]
  },
  {
   "cell_type": "code",
   "execution_count": 20,
   "metadata": {},
   "outputs": [],
   "source": [
    "plac.trainLabels <- res[ind==1,6] #column 6 is our target.\n",
    "plac.testLabels <- res[ind==2,6]"
   ]
  },
  {
   "cell_type": "markdown",
   "metadata": {},
   "source": [
    "## 5. k-NN Execution<a id = \"kNN\"></a>"
   ]
  },
  {
   "cell_type": "markdown",
   "metadata": {},
   "source": [
    "Now we want to find the k nearest neighbors of our training set.\n",
    "\n",
    "We will be using the `knn()` function, which uses the Euclidian distance measure in order to find the k-nearest neighbors to our new, unknown instance. Here, <i>k</i> parameter needs to be set.\n"
   ]
  },
  {
   "cell_type": "code",
   "execution_count": 21,
   "metadata": {},
   "outputs": [],
   "source": [
    "# Execution of k-NN with k = 1\n",
    "knn_1 <- knn(plac.training, plac.test, plac.trainLabels, k=1, prob = TRUE)\n",
    "\n",
    "# Execution of k-NN with k = 2\n",
    "knn_2 <- knn(plac.training, plac.test, plac.trainLabels, k=2, prob = TRUE)"
   ]
  },
  {
   "cell_type": "markdown",
   "metadata": {},
   "source": [
    "## 6. Evaluation<a id = \"Evaluation\"></a>"
   ]
  },
  {
   "cell_type": "markdown",
   "metadata": {},
   "source": [
    "To evaluate our model we will use a confusion matrix and the calculated model accuracy with different values of <i>k</i> to study which one offers the best result."
   ]
  },
  {
   "cell_type": "code",
   "execution_count": 22,
   "metadata": {
    "scrolled": true
   },
   "outputs": [
    {
     "data": {
      "text/html": [
       "65.08"
      ],
      "text/latex": [
       "65.08"
      ],
      "text/markdown": [
       "65.08"
      ],
      "text/plain": [
       "[1] 65.08"
      ]
     },
     "metadata": {},
     "output_type": "display_data"
    },
    {
     "data": {
      "text/plain": [
       "               knn_1\n",
       "plac.testLabels Not Placed Placed\n",
       "     Not Placed         10     11\n",
       "     Placed             11     31"
      ]
     },
     "metadata": {},
     "output_type": "display_data"
    }
   ],
   "source": [
    "# Accuracy of KnnTestPrediction for k = 1\n",
    "round(sum(knn_1==plac.testLabels)/length(plac.testLabels)*100,2)\n",
    "\n",
    "# Confusion matrix of KnnTestPrediction for k = 1\n",
    "table(plac.testLabels, knn_1)"
   ]
  },
  {
   "cell_type": "markdown",
   "metadata": {},
   "source": [
    "We can interpret the matrix:\n",
    "<ul>\n",
    "    <li>10 of the 21 students in the test data are correctly predicted as \"Not Placed\", whereas the reamining 11 are misclassified;</li>\n",
    "    <li>31 of the 42 students in the test data are correctly predicted as \"Placed\" and 11 are misclassfied.</li>\n",
    "    <li>giving an accuracy of 65.08%</li>\n",
    "</ul>\n",
    "\n",
    "The model is doing a decent job predicting students to be placed (which is what we are most interested on) but doing a bad job on identifying students that weren't placed. \n",
    "\n",
    "On the run below with a k = 2 the model accuracy is the same, but it is doing a worse job since it decreased the number predicted \"Placed\" students, meaning that is increasing the \"False Positives\".\n",
    "\n",
    "Our goal is to correctly predict the students that will be placed."
   ]
  },
  {
   "cell_type": "code",
   "execution_count": 23,
   "metadata": {
    "scrolled": true
   },
   "outputs": [
    {
     "data": {
      "text/html": [
       "65.08"
      ],
      "text/latex": [
       "65.08"
      ],
      "text/markdown": [
       "65.08"
      ],
      "text/plain": [
       "[1] 65.08"
      ]
     },
     "metadata": {},
     "output_type": "display_data"
    },
    {
     "data": {
      "text/plain": [
       "               knn_2\n",
       "plac.testLabels Not Placed Placed\n",
       "     Not Placed         11     10\n",
       "     Placed             12     30"
      ]
     },
     "metadata": {},
     "output_type": "display_data"
    }
   ],
   "source": [
    "# Accuracy of KnnTestPrediction for k = 2\n",
    "round(sum(plac.testLabels==knn_2)/length(plac.testLabels)*100,2)\n",
    "\n",
    "# Confusion matrix of KnnTestPrediction for k = 2\n",
    "table(plac.testLabels, knn_2)"
   ]
  },
  {
   "cell_type": "markdown",
   "metadata": {},
   "source": [
    "To graphically show which values of `k` give us the best classification, we can plot <b>\"Accuracy vs k number of Neighbors\" </b>"
   ]
  },
  {
   "cell_type": "code",
   "execution_count": 31,
   "metadata": {
    "scrolled": false
   },
   "outputs": [
    {
     "data": {
      "image/png": "[encoded data removed]",
      "text/plain": [
       "Plot with title \"Accuracy vs Neighbors\""
      ]
     },
     "metadata": {},
     "output_type": "display_data"
    }
   ],
   "source": [
    "# Creating the variables\n",
    "KnnTestPrediction <- list()\n",
    "accuracy <- numeric()\n",
    "\n",
    "# Simulating from k=1 to k=100...\n",
    "for(k in 1:100){\n",
    "\n",
    "  # KnnTestPrediction for each k\n",
    "  KnnTestPrediction[[k]] <- knn(plac.training, plac.test, plac.trainLabels, k, prob=TRUE)\n",
    "    \n",
    "  # Accuracy for each k   \n",
    "  accuracy[k] <- sum(KnnTestPrediction[[k]]==plac.testLabels)/length(plac.testLabels)*100\n",
    "\n",
    "}\n",
    "\n",
    "# Accuracy vs number of k\n",
    "plot(accuracy, type=\"b\", col=\"dodgerblue\", cex=1, pch=20,\n",
    "     xlab=\"k, number of neighbors\", ylab=\"Classification accuracy\", \n",
    "     main=\"Accuracy vs Neighbors\")\n",
    "\n",
    "# line for k with best accuracy\n",
    "abline(v=which(accuracy==max(accuracy)), col=\"darkorange\", lwd=1.5)\n",
    "\n",
    "# line for max accuracy seen\n",
    "abline(h=max(accuracy), col=\"grey\", lty=2)\n",
    "\n",
    "# line for min accuracy seen\n",
    "abline(h=min(accuracy), col=\"grey\", lty=2)\n"
   ]
  },
  {
   "cell_type": "code",
   "execution_count": 42,
   "metadata": {},
   "outputs": [
    {
     "data": {
      "text/html": [
       "80.95"
      ],
      "text/latex": [
       "80.95"
      ],
      "text/markdown": [
       "80.95"
      ],
      "text/plain": [
       "[1] 80.95"
      ]
     },
     "metadata": {},
     "output_type": "display_data"
    },
    {
     "data": {
      "text/plain": [
       "               knn\n",
       "plac.testLabels Not Placed Placed\n",
       "     Not Placed         10     11\n",
       "     Placed              1     41"
      ]
     },
     "metadata": {},
     "output_type": "display_data"
    }
   ],
   "source": [
    "# Execution of k-NN with k = 6\n",
    "knn <- knn(plac.training, plac.test, plac.trainLabels, k=6, prob = TRUE)\n",
    "\n",
    "# Accuracy of KnnTestPrediction for k = 6\n",
    "round(sum(plac.testLabels==knn)/length(plac.testLabels)*100,2)\n",
    "\n",
    "# Confusion matrix of KnnTestPrediction for k = 6\n",
    "table(plac.testLabels, knn)"
   ]
  },
  {
   "cell_type": "markdown",
   "metadata": {},
   "source": [
    "To reach the maximum accuracy with this model the `k` value is <b>6</b>. The model is doing a great job with an accuracy of 81% and only mispredicting 1 \"Placed\" student."
   ]
  },
  {
   "cell_type": "markdown",
   "metadata": {},
   "source": [
    "## 7. Summary<a id = \"Summary\"></a>"
   ]
  },
  {
   "cell_type": "markdown",
   "metadata": {},
   "source": [
    "The found k-NN model is doing a good job on the prediction of the students placed with an accuarcy of <b>81%</b>, where the max accuracy is obtained with `k = 6`.\n",
    "\n",
    "In order to try to further improve the model we could do further analysis on variable reduction to see how it performs. "
   ]
  }
 ],
 "metadata": {
  "kernelspec": {
   "display_name": "R",
   "language": "R",
   "name": "ir"
  },
  "language_info": {
   "codemirror_mode": "r",
   "file_extension": ".r",
   "mimetype": "text/x-r-source",
   "name": "R",
   "pygments_lexer": "r",
   "version": "3.6.1"
  }
 },
 "nbformat": 4,
 "nbformat_minor": 4
}
